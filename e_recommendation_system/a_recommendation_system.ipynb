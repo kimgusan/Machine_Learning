{
 "cells": [
  {
   "cell_type": "code",
   "execution_count": 22,
   "id": "f402fdf4-3f4b-48f4-9bce-7e6c375e62ea",
   "metadata": {},
   "outputs": [],
   "source": [
    "import numpy as np\n",
    "\n",
    "v1 = np.array([0, 0, 2])\n",
    "v2 = np.array([0, 1, 1])"
   ]
  },
  {
   "cell_type": "code",
   "execution_count": 8,
   "id": "ea1a328a-d80f-4b34-a1df-73bc952590a5",
   "metadata": {},
   "outputs": [],
   "source": [
    "from numpy import dot\n",
    "from numpy.linalg import norm\n",
    "\n",
    "# 실제 사용 시 def get_cosine_similarity(features):\n",
    "def get_cosine_similarity(A, B):\n",
    "    return dot(A, B) / (norm(A) * norm(B))"
   ]
  },
  {
   "cell_type": "code",
   "execution_count": 23,
   "id": "4e12b275-78ad-473b-9f7c-0cdde300d3e4",
   "metadata": {},
   "outputs": [
    {
     "data": {
      "text/plain": [
       "0.7071067811865475"
      ]
     },
     "execution_count": 23,
     "metadata": {},
     "output_type": "execute_result"
    }
   ],
   "source": [
    "get_cosine_similarity(v1, v2)"
   ]
  },
  {
   "cell_type": "code",
   "execution_count": 24,
   "id": "efe100fa-4ceb-4af2-b538-c94f8ca08f88",
   "metadata": {},
   "outputs": [
    {
     "data": {
      "text/plain": [
       "array([[0.70710678]])"
      ]
     },
     "execution_count": 24,
     "metadata": {},
     "output_type": "execute_result"
    }
   ],
   "source": [
    "from sklearn.metrics.pairwise import cosine_similarity\n",
    "\n",
    "v1 = np.array([[0, 0, 2]])\n",
    "v2 = np.array([[0, 1, 1]])\n",
    "cosine_similarity(v1, v2)"
   ]
  },
  {
   "cell_type": "code",
   "execution_count": 26,
   "id": "8efeed73-5a62-490b-a6d3-5207b16d542b",
   "metadata": {},
   "outputs": [
    {
     "name": "stdout",
     "output_type": "stream",
     "text": [
      "<class 'pandas.core.frame.DataFrame'>\n",
      "RangeIndex: 4803 entries, 0 to 4802\n",
      "Data columns (total 24 columns):\n",
      " #   Column                Non-Null Count  Dtype  \n",
      "---  ------                --------------  -----  \n",
      " 0   index                 4803 non-null   int64  \n",
      " 1   budget                4803 non-null   int64  \n",
      " 2   genres                4775 non-null   object \n",
      " 3   homepage              1712 non-null   object \n",
      " 4   id                    4803 non-null   int64  \n",
      " 5   keywords              4391 non-null   object \n",
      " 6   original_language     4803 non-null   object \n",
      " 7   original_title        4803 non-null   object \n",
      " 8   overview              4800 non-null   object \n",
      " 9   popularity            4803 non-null   float64\n",
      " 10  production_companies  4803 non-null   object \n",
      " 11  production_countries  4803 non-null   object \n",
      " 12  release_date          4802 non-null   object \n",
      " 13  revenue               4803 non-null   int64  \n",
      " 14  runtime               4801 non-null   float64\n",
      " 15  spoken_languages      4803 non-null   object \n",
      " 16  status                4803 non-null   object \n",
      " 17  tagline               3959 non-null   object \n",
      " 18  title                 4803 non-null   object \n",
      " 19  vote_average          4803 non-null   float64\n",
      " 20  vote_count            4803 non-null   int64  \n",
      " 21  cast                  4760 non-null   object \n",
      " 22  crew                  4803 non-null   object \n",
      " 23  director              4773 non-null   object \n",
      "dtypes: float64(3), int64(5), object(16)\n",
      "memory usage: 900.7+ KB\n"
     ]
    }
   ],
   "source": [
    "import numpy as np \n",
    "import pandas as pd\n",
    "\n",
    "# 텍스트 분석이기 때문에 텍스트와 관련된 컬럼은 있어야 함\n",
    "m_df = pd.read_csv('./datasets/movie_dataset.csv')\n",
    "m_df.info()"
   ]
  },
  {
   "cell_type": "code",
   "execution_count": 27,
   "id": "67352ae5-77dc-4e8d-af41-1900404c47ec",
   "metadata": {},
   "outputs": [
    {
     "data": {
      "text/plain": [
       "0       In the 22nd century, a paraplegic Marine is di...\n",
       "1       Captain Barbossa, long believed to be dead, ha...\n",
       "2       A cryptic message from Bond’s past sends him o...\n",
       "3       Following the death of District Attorney Harve...\n",
       "4       John Carter is a war-weary, former military ca...\n",
       "                              ...                        \n",
       "4798    El Mariachi just wants to play his guitar and ...\n",
       "4799    A newlywed couple's honeymoon is upended by th...\n",
       "4800    \"Signed, Sealed, Delivered\" introduces a dedic...\n",
       "4801    When ambitious New York attorney Sam is sent t...\n",
       "4802    Ever since the second grade when he first saw ...\n",
       "Name: overview, Length: 4803, dtype: object"
      ]
     },
     "execution_count": 27,
     "metadata": {},
     "output_type": "execute_result"
    }
   ],
   "source": [
    "m_df.overview"
   ]
  },
  {
   "cell_type": "code",
   "execution_count": 29,
   "id": "23304426-df10-4103-a987-2dabc7e8742d",
   "metadata": {},
   "outputs": [
    {
     "data": {
      "text/plain": [
       "index                      0\n",
       "budget                     0\n",
       "genres                    28\n",
       "homepage                3091\n",
       "id                         0\n",
       "keywords                 412\n",
       "original_language          0\n",
       "original_title             0\n",
       "overview                   3\n",
       "popularity                 0\n",
       "production_companies       0\n",
       "production_countries       0\n",
       "release_date               1\n",
       "revenue                    0\n",
       "runtime                    2\n",
       "spoken_languages           0\n",
       "status                     0\n",
       "tagline                  844\n",
       "title                      0\n",
       "vote_average               0\n",
       "vote_count                 0\n",
       "cast                      43\n",
       "crew                       0\n",
       "director                  30\n",
       "dtype: int64"
      ]
     },
     "execution_count": 29,
     "metadata": {},
     "output_type": "execute_result"
    }
   ],
   "source": [
    "m_df.isna().sum()"
   ]
  },
  {
   "cell_type": "code",
   "execution_count": 31,
   "id": "1f9f1b3d-4cb2-43ae-935e-7b123e2c572e",
   "metadata": {},
   "outputs": [
    {
     "data": {
      "text/plain": [
       "genres      0\n",
       "keywords    0\n",
       "overview    0\n",
       "tagline     0\n",
       "cast        0\n",
       "director    0\n",
       "dtype: int64"
      ]
     },
     "execution_count": 31,
     "metadata": {},
     "output_type": "execute_result"
    }
   ],
   "source": [
    "# genres, keywords, overview, tagline, cast, director\n",
    "\n",
    "columns = ['genres', 'keywords', 'overview', 'tagline', 'cast', 'director']\n",
    "\n",
    "pre_m_df =m_df[columns].fillna('')\n",
    "pre_m_df.isna().sum()"
   ]
  },
  {
   "cell_type": "code",
   "execution_count": 34,
   "id": "806f71fb-35d7-4fe0-af24-cfadfddb92aa",
   "metadata": {},
   "outputs": [],
   "source": [
    "columns = ['genres', 'keywords', 'overview', 'tagline', 'cast', 'director']\n",
    "features = pre_m_df.loc[:, columns]\n",
    "\n",
    "def concatenate(features):\n",
    "    return features.genres + ' ' + features.keywords + ' ' + \\\n",
    "    features.overview + ' ' + features.tagline + ' ' + \\\n",
    "    features.cast + features.director\n",
    "\n",
    "concatenate(features)\n",
    "\n",
    "result_df = concatenate(features)"
   ]
  },
  {
   "cell_type": "code",
   "execution_count": 38,
   "id": "b32ea5de-9209-4aa4-9110-e8affe2d15ad",
   "metadata": {
    "scrolled": true
   },
   "outputs": [
    {
     "name": "stdout",
     "output_type": "stream",
     "text": [
      "  (0, 569)\t1\n",
      "  (0, 719)\t1\n",
      "  (0, 10758)\t1\n",
      "  (0, 26821)\t1\n",
      "  (0, 11063)\t1\n",
      "  (0, 7309)\t1\n",
      "  (0, 5852)\t1\n",
      "  (0, 11924)\t1\n",
      "  (0, 28402)\t2\n",
      "  (0, 32785)\t1\n",
      "  (0, 6198)\t1\n",
      "  (0, 28213)\t1\n",
      "  (0, 15084)\t1\n",
      "  (0, 30242)\t3\n",
      "  (0, 239)\t1\n",
      "  (0, 5280)\t1\n",
      "  (0, 22547)\t1\n",
      "  (0, 19116)\t1\n",
      "  (0, 15642)\t1\n",
      "  (0, 8653)\t1\n",
      "  (0, 30558)\t1\n",
      "  (0, 20520)\t1\n",
      "  (0, 22473)\t2\n",
      "  (0, 21951)\t1\n",
      "  (0, 31856)\t1\n",
      "  :\t:\n",
      "  (4802, 10575)\t1\n",
      "  (4802, 23989)\t1\n",
      "  (4802, 10130)\t1\n",
      "  (4802, 26968)\t1\n",
      "  (4802, 6784)\t1\n",
      "  (4802, 15994)\t1\n",
      "  (4802, 4231)\t1\n",
      "  (4802, 9121)\t3\n",
      "  (4802, 2679)\t3\n",
      "  (4802, 25798)\t1\n",
      "  (4802, 11136)\t1\n",
      "  (4802, 11859)\t1\n",
      "  (4802, 12968)\t1\n",
      "  (4802, 1929)\t1\n",
      "  (4802, 7830)\t1\n",
      "  (4802, 26617)\t1\n",
      "  (4802, 1914)\t1\n",
      "  (4802, 8793)\t1\n",
      "  (4802, 250)\t1\n",
      "  (4802, 7240)\t2\n",
      "  (4802, 10934)\t1\n",
      "  (4802, 12768)\t1\n",
      "  (4802, 4728)\t1\n",
      "  (4802, 14044)\t4\n",
      "  (4802, 9294)\t1\n",
      "[[1.         0.3633256  0.23428783 ... 0.29563906 0.21788191 0.12302219]\n",
      " [0.3633256  1.         0.33596842 ... 0.39413729 0.29508445 0.17039954]\n",
      " [0.23428783 0.33596842 1.         ... 0.24591855 0.18433668 0.16029682]\n",
      " ...\n",
      " [0.29563906 0.39413729 0.24591855 ... 1.         0.28245205 0.16886148]\n",
      " [0.21788191 0.29508445 0.18433668 ... 0.28245205 1.         0.21118547]\n",
      " [0.12302219 0.17039954 0.16029682 ... 0.16886148 0.21118547 1.        ]]\n"
     ]
    },
    {
     "data": {
      "text/plain": [
       "(4803, 4803)"
      ]
     },
     "execution_count": 38,
     "metadata": {},
     "output_type": "execute_result"
    }
   ],
   "source": [
    "from sklearn.feature_extraction.text import CountVectorizer\n",
    "from sklearn.metrics.pairwise import cosine_similarity\n",
    "\n",
    "count_v = CountVectorizer()\n",
    "count_metrix = count_v.fit_transform(result_df)\n",
    "print(count_metrix)\n",
    "\n",
    "c_s = cosine_similarity(count_metrix)\n",
    "print(c_s)\n",
    "c_s.shape"
   ]
  },
  {
   "cell_type": "code",
   "execution_count": 49,
   "id": "2df023cb-0e0b-480b-ab69-59c2b2539500",
   "metadata": {},
   "outputs": [
    {
     "name": "stdout",
     "output_type": "stream",
     "text": [
      "Men in Black II\n",
      "Space Battleship Yamato\n",
      "The Hobbit: The Battle of the Five Armies\n",
      "The Work and the Glory II: American Zion\n",
      "The Andromeda Strain\n"
     ]
    }
   ],
   "source": [
    "def get_index_from_title(title):\n",
    "    return m_df[m_df.title == title].index[0]\n",
    "\n",
    "\n",
    "def get_title_from_index(index):\n",
    "    return m_df[m_df.index == index]['title'].values[0]\n",
    "\n",
    "\n",
    "movie_title = \"Men in Black\"\n",
    "movie_index = get_index_from_title(movie_title)\n",
    "recommended_movie = sorted(list(enumerate(c_s[movie_index])),key = lambda x: x[1], reverse=True)\n",
    "recommended_movie\n",
    "\n",
    "for movie in recommended_movie[1:6]:\n",
    "    print(get_title_from_index(movie[0]))\n",
    "\n",
    "# get_index_from_title(\"Pirates of the Caribbean: At World's End\")"
   ]
  }
 ],
 "metadata": {
  "kernelspec": {
   "display_name": "Python 3 (ipykernel)",
   "language": "python",
   "name": "python3"
  },
  "language_info": {
   "codemirror_mode": {
    "name": "ipython",
    "version": 3
   },
   "file_extension": ".py",
   "mimetype": "text/x-python",
   "name": "python",
   "nbconvert_exporter": "python",
   "pygments_lexer": "ipython3",
   "version": "3.11.7"
  }
 },
 "nbformat": 4,
 "nbformat_minor": 5
}
