{
 "cells": [
  {
   "cell_type": "markdown",
   "id": "a911eac4-edc8-4879-bf7b-f76b5362bf6f",
   "metadata": {},
   "source": [
    "### 데이터 전처리\n",
    "\n",
    "#### StandardScaler()\n",
    "- 데이터의 평균을 0, 분산을 1이 되도록, 표준 정규분포를 따르게 하는 스케일링\n",
    "- ± 1.96을 벗어나면 이상치로 판단한다.\n",
    "- <code>from sklearn.preprocessing import StandardScaler</code>\n",
    "\n",
    "#### MinMaxScaler()\n",
    "- 데이터가 0~1 사이에 위치하도록 최소값은 0, 최대값을 1로 변환한다.\n",
    "- 서로 다른 단위의 feature 끼리 비교가 가능해진다.\n",
    "- <code>from sklearn.preprocessing import MinMaxScaler</code>\n",
    "\n",
    "#### MaxAbsScaler()\n",
    "- 모든 값을 -1~1 사이에 위치하도록, 절대값의 최소값은 0, 최대값은 1이 되도록 변환한다.\n",
    "- 양의 방향에 대한 단위뿐 아니라 음의 방향에 대한 단위까지 스케일링하고자 할 때 사용한다.\n",
    "- <code>from sklearn.preprocessing import MaxAbsScaler</code>"
   ]
  },
  {
   "cell_type": "code",
   "execution_count": null,
   "id": "c1b4cc77-97c8-4cb3-abad-1736721cde8b",
   "metadata": {},
   "outputs": [],
   "source": []
  },
  {
   "cell_type": "code",
   "execution_count": null,
   "id": "e1b2cebe-a25f-4d7c-a430-91b3153b9157",
   "metadata": {},
   "outputs": [],
   "source": []
  },
  {
   "cell_type": "code",
   "execution_count": null,
   "id": "980bb87b-0bb9-4ea3-8e9c-d5caa45227fc",
   "metadata": {},
   "outputs": [],
   "source": []
  },
  {
   "cell_type": "code",
   "execution_count": null,
   "id": "ed6b858e-346f-4a7e-a98f-7a671c52b5bb",
   "metadata": {},
   "outputs": [],
   "source": []
  },
  {
   "cell_type": "code",
   "execution_count": null,
   "id": "e46a675f-4c54-42f1-95c8-983b7a1f9318",
   "metadata": {},
   "outputs": [],
   "source": []
  },
  {
   "cell_type": "code",
   "execution_count": null,
   "id": "f25f27ba-895d-43c0-bd06-662491828bd0",
   "metadata": {},
   "outputs": [],
   "source": []
  },
  {
   "cell_type": "code",
   "execution_count": null,
   "id": "b82cfb4e-0d97-4432-b081-ee58aa54634d",
   "metadata": {},
   "outputs": [],
   "source": []
  }
 ],
 "metadata": {
  "kernelspec": {
   "display_name": "Python 3 (ipykernel)",
   "language": "python",
   "name": "python3"
  },
  "language_info": {
   "codemirror_mode": {
    "name": "ipython",
    "version": 3
   },
   "file_extension": ".py",
   "mimetype": "text/x-python",
   "name": "python",
   "nbconvert_exporter": "python",
   "pygments_lexer": "ipython3",
   "version": "3.11.7"
  }
 },
 "nbformat": 4,
 "nbformat_minor": 5
}
