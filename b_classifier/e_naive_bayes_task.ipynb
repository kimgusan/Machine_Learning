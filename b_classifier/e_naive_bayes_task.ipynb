{
 "cells": [
  {
   "cell_type": "markdown",
   "id": "8730d66f-9f8a-495d-a61f-46e6b4b3de5b",
   "metadata": {},
   "source": [
    "### Naive Bayes Classifier Task\r\n",
    "### 문장에서 느껴지는 감정 예측\r\n",
    "##### 다중 분류(Multiclass Classification)\r\n",
    "- 비대면 심리 상담사로서 메세지를 전달한 환자에 대한 감정 데이터를 수집했다.\r\n",
    "- 각 메세지 별로 감정이 표시되어 있다.\r\n",
    "- 미래에 동일한 메세지를 보내는 환자에게 어떤 심리 치료가 적합할 수 있는지 알아보기 위한 모델을 구축한다"
   ]
  },
  {
   "cell_type": "code",
   "execution_count": 1,
   "id": "1afcac58-5120-4f60-b6ec-ff1fe2389337",
   "metadata": {},
   "outputs": [
    {
     "data": {
      "text/html": [
       "<div>\n",
       "<style scoped>\n",
       "    .dataframe tbody tr th:only-of-type {\n",
       "        vertical-align: middle;\n",
       "    }\n",
       "\n",
       "    .dataframe tbody tr th {\n",
       "        vertical-align: top;\n",
       "    }\n",
       "\n",
       "    .dataframe thead th {\n",
       "        text-align: right;\n",
       "    }\n",
       "</style>\n",
       "<table border=\"1\" class=\"dataframe\">\n",
       "  <thead>\n",
       "    <tr style=\"text-align: right;\">\n",
       "      <th></th>\n",
       "      <th>message;feeling</th>\n",
       "    </tr>\n",
       "  </thead>\n",
       "  <tbody>\n",
       "    <tr>\n",
       "      <th>0</th>\n",
       "      <td>im feeling quite sad and sorry for myself but ...</td>\n",
       "    </tr>\n",
       "    <tr>\n",
       "      <th>1</th>\n",
       "      <td>i feel like i am still looking at a blank canv...</td>\n",
       "    </tr>\n",
       "    <tr>\n",
       "      <th>2</th>\n",
       "      <td>i feel like a faithful servant;love</td>\n",
       "    </tr>\n",
       "    <tr>\n",
       "      <th>3</th>\n",
       "      <td>i am just feeling cranky and blue;anger</td>\n",
       "    </tr>\n",
       "    <tr>\n",
       "      <th>4</th>\n",
       "      <td>i can have for a treat or if i am feeling fest...</td>\n",
       "    </tr>\n",
       "    <tr>\n",
       "      <th>...</th>\n",
       "      <td>...</td>\n",
       "    </tr>\n",
       "    <tr>\n",
       "      <th>17995</th>\n",
       "      <td>i just had a very brief time in the beanbag an...</td>\n",
       "    </tr>\n",
       "    <tr>\n",
       "      <th>17996</th>\n",
       "      <td>i am now turning and i feel pathetic that i am...</td>\n",
       "    </tr>\n",
       "    <tr>\n",
       "      <th>17997</th>\n",
       "      <td>i feel strong and good overall;joy</td>\n",
       "    </tr>\n",
       "    <tr>\n",
       "      <th>17998</th>\n",
       "      <td>i feel like this was such a rude comment and i...</td>\n",
       "    </tr>\n",
       "    <tr>\n",
       "      <th>17999</th>\n",
       "      <td>i know a lot but i feel so stupid because i ca...</td>\n",
       "    </tr>\n",
       "  </tbody>\n",
       "</table>\n",
       "<p>18000 rows × 1 columns</p>\n",
       "</div>"
      ],
      "text/plain": [
       "                                         message;feeling\n",
       "0      im feeling quite sad and sorry for myself but ...\n",
       "1      i feel like i am still looking at a blank canv...\n",
       "2                    i feel like a faithful servant;love\n",
       "3                i am just feeling cranky and blue;anger\n",
       "4      i can have for a treat or if i am feeling fest...\n",
       "...                                                  ...\n",
       "17995  i just had a very brief time in the beanbag an...\n",
       "17996  i am now turning and i feel pathetic that i am...\n",
       "17997                 i feel strong and good overall;joy\n",
       "17998  i feel like this was such a rude comment and i...\n",
       "17999  i know a lot but i feel so stupid because i ca...\n",
       "\n",
       "[18000 rows x 1 columns]"
      ]
     },
     "execution_count": 1,
     "metadata": {},
     "output_type": "execute_result"
    }
   ],
   "source": [
    "import pandas as pd\n",
    "\n",
    "path = './datasets/feeling.csv'\n",
    "f_df = pd.read_csv(path)\n",
    "# f_df = pd.read_csv(path, sep = ';')\n",
    "f_df"
   ]
  },
  {
   "cell_type": "code",
   "execution_count": 2,
   "id": "5e751511-6202-47d6-8c8b-d5c1290d8c4c",
   "metadata": {},
   "outputs": [],
   "source": [
    "# 데이터 복사\n",
    "f_need_df = f_df.copy()"
   ]
  },
  {
   "cell_type": "code",
   "execution_count": 3,
   "id": "f2c75bcc-24f6-44d1-a16b-9a393018a818",
   "metadata": {},
   "outputs": [
    {
     "data": {
      "text/html": [
       "<div>\n",
       "<style scoped>\n",
       "    .dataframe tbody tr th:only-of-type {\n",
       "        vertical-align: middle;\n",
       "    }\n",
       "\n",
       "    .dataframe tbody tr th {\n",
       "        vertical-align: top;\n",
       "    }\n",
       "\n",
       "    .dataframe thead th {\n",
       "        text-align: right;\n",
       "    }\n",
       "</style>\n",
       "<table border=\"1\" class=\"dataframe\">\n",
       "  <thead>\n",
       "    <tr style=\"text-align: right;\">\n",
       "      <th></th>\n",
       "      <th>message</th>\n",
       "      <th>feeling</th>\n",
       "    </tr>\n",
       "  </thead>\n",
       "  <tbody>\n",
       "    <tr>\n",
       "      <th>0</th>\n",
       "      <td>im feeling quite sad and sorry for myself but ...</td>\n",
       "      <td>sadness</td>\n",
       "    </tr>\n",
       "    <tr>\n",
       "      <th>1</th>\n",
       "      <td>i feel like i am still looking at a blank canv...</td>\n",
       "      <td>sadness</td>\n",
       "    </tr>\n",
       "    <tr>\n",
       "      <th>2</th>\n",
       "      <td>i feel like a faithful servant</td>\n",
       "      <td>love</td>\n",
       "    </tr>\n",
       "    <tr>\n",
       "      <th>3</th>\n",
       "      <td>i am just feeling cranky and blue</td>\n",
       "      <td>anger</td>\n",
       "    </tr>\n",
       "    <tr>\n",
       "      <th>4</th>\n",
       "      <td>i can have for a treat or if i am feeling festive</td>\n",
       "      <td>joy</td>\n",
       "    </tr>\n",
       "    <tr>\n",
       "      <th>...</th>\n",
       "      <td>...</td>\n",
       "      <td>...</td>\n",
       "    </tr>\n",
       "    <tr>\n",
       "      <th>17995</th>\n",
       "      <td>i just had a very brief time in the beanbag an...</td>\n",
       "      <td>sadness</td>\n",
       "    </tr>\n",
       "    <tr>\n",
       "      <th>17996</th>\n",
       "      <td>i am now turning and i feel pathetic that i am...</td>\n",
       "      <td>sadness</td>\n",
       "    </tr>\n",
       "    <tr>\n",
       "      <th>17997</th>\n",
       "      <td>i feel strong and good overall</td>\n",
       "      <td>joy</td>\n",
       "    </tr>\n",
       "    <tr>\n",
       "      <th>17998</th>\n",
       "      <td>i feel like this was such a rude comment and i...</td>\n",
       "      <td>anger</td>\n",
       "    </tr>\n",
       "    <tr>\n",
       "      <th>17999</th>\n",
       "      <td>i know a lot but i feel so stupid because i ca...</td>\n",
       "      <td>sadness</td>\n",
       "    </tr>\n",
       "  </tbody>\n",
       "</table>\n",
       "<p>18000 rows × 2 columns</p>\n",
       "</div>"
      ],
      "text/plain": [
       "                                                 message  feeling\n",
       "0      im feeling quite sad and sorry for myself but ...  sadness\n",
       "1      i feel like i am still looking at a blank canv...  sadness\n",
       "2                         i feel like a faithful servant     love\n",
       "3                      i am just feeling cranky and blue    anger\n",
       "4      i can have for a treat or if i am feeling festive      joy\n",
       "...                                                  ...      ...\n",
       "17995  i just had a very brief time in the beanbag an...  sadness\n",
       "17996  i am now turning and i feel pathetic that i am...  sadness\n",
       "17997                     i feel strong and good overall      joy\n",
       "17998  i feel like this was such a rude comment and i...    anger\n",
       "17999  i know a lot but i feel so stupid because i ca...  sadness\n",
       "\n",
       "[18000 rows x 2 columns]"
      ]
     },
     "execution_count": 3,
     "metadata": {},
     "output_type": "execute_result"
    }
   ],
   "source": [
    "# message ; feeling 으로 되어있기 떄문에 ; 기준으로 데이터 셋 분리\n",
    "f_need_df['message'] = f_need_df['message;feeling'].apply(lambda x: x.split(';')[0])\n",
    "f_need_df['feeling'] = f_need_df['message;feeling'].apply(lambda x: x.split(';')[1])\n",
    "f_need_df = f_need_df.drop(labels='message;feeling', axis =1).reset_index(drop=True)\n",
    "f_need_df\n"
   ]
  },
  {
   "cell_type": "code",
   "execution_count": 4,
   "id": "5525edd4-9dfe-48f5-94e8-79870beaea9d",
   "metadata": {},
   "outputs": [
    {
     "name": "stdout",
     "output_type": "stream",
     "text": [
      "<class 'pandas.core.frame.DataFrame'>\n",
      "RangeIndex: 18000 entries, 0 to 17999\n",
      "Data columns (total 2 columns):\n",
      " #   Column   Non-Null Count  Dtype \n",
      "---  ------   --------------  ----- \n",
      " 0   message  18000 non-null  object\n",
      " 1   feeling  18000 non-null  object\n",
      "dtypes: object(2)\n",
      "memory usage: 281.4+ KB\n"
     ]
    }
   ],
   "source": [
    "# 데이터 정보 확인\n",
    "f_need_df.info()"
   ]
  },
  {
   "cell_type": "code",
   "execution_count": 5,
   "id": "12eeee1a-0a23-4d48-93fc-a0304abcbe3c",
   "metadata": {},
   "outputs": [],
   "source": [
    "# Targets 의 값에 대하여 LabelEncoder 를 사용하여 범주형 데이터로 변환\n",
    "from sklearn.preprocessing import LabelEncoder\n",
    "\n",
    "feeling_encoder = LabelEncoder()\n",
    "targets = feeling_encoder.fit_transform(f_need_df.loc[:, 'feeling'])\n",
    "f_need_df['Targets'] = targets\n"
   ]
  },
  {
   "cell_type": "code",
   "execution_count": 6,
   "id": "116768c4-7f0a-4e9e-a893-5d1b20d5c13b",
   "metadata": {},
   "outputs": [
    {
     "data": {
      "text/html": [
       "<div>\n",
       "<style scoped>\n",
       "    .dataframe tbody tr th:only-of-type {\n",
       "        vertical-align: middle;\n",
       "    }\n",
       "\n",
       "    .dataframe tbody tr th {\n",
       "        vertical-align: top;\n",
       "    }\n",
       "\n",
       "    .dataframe thead th {\n",
       "        text-align: right;\n",
       "    }\n",
       "</style>\n",
       "<table border=\"1\" class=\"dataframe\">\n",
       "  <thead>\n",
       "    <tr style=\"text-align: right;\">\n",
       "      <th></th>\n",
       "      <th>message</th>\n",
       "      <th>feeling</th>\n",
       "      <th>Targets</th>\n",
       "    </tr>\n",
       "  </thead>\n",
       "  <tbody>\n",
       "    <tr>\n",
       "      <th>0</th>\n",
       "      <td>im feeling quite sad and sorry for myself but ...</td>\n",
       "      <td>sadness</td>\n",
       "      <td>4</td>\n",
       "    </tr>\n",
       "    <tr>\n",
       "      <th>1</th>\n",
       "      <td>i feel like i am still looking at a blank canv...</td>\n",
       "      <td>sadness</td>\n",
       "      <td>4</td>\n",
       "    </tr>\n",
       "    <tr>\n",
       "      <th>2</th>\n",
       "      <td>i feel like a faithful servant</td>\n",
       "      <td>love</td>\n",
       "      <td>3</td>\n",
       "    </tr>\n",
       "    <tr>\n",
       "      <th>3</th>\n",
       "      <td>i am just feeling cranky and blue</td>\n",
       "      <td>anger</td>\n",
       "      <td>0</td>\n",
       "    </tr>\n",
       "    <tr>\n",
       "      <th>4</th>\n",
       "      <td>i can have for a treat or if i am feeling festive</td>\n",
       "      <td>joy</td>\n",
       "      <td>2</td>\n",
       "    </tr>\n",
       "    <tr>\n",
       "      <th>...</th>\n",
       "      <td>...</td>\n",
       "      <td>...</td>\n",
       "      <td>...</td>\n",
       "    </tr>\n",
       "    <tr>\n",
       "      <th>17995</th>\n",
       "      <td>i just had a very brief time in the beanbag an...</td>\n",
       "      <td>sadness</td>\n",
       "      <td>4</td>\n",
       "    </tr>\n",
       "    <tr>\n",
       "      <th>17996</th>\n",
       "      <td>i am now turning and i feel pathetic that i am...</td>\n",
       "      <td>sadness</td>\n",
       "      <td>4</td>\n",
       "    </tr>\n",
       "    <tr>\n",
       "      <th>17997</th>\n",
       "      <td>i feel strong and good overall</td>\n",
       "      <td>joy</td>\n",
       "      <td>2</td>\n",
       "    </tr>\n",
       "    <tr>\n",
       "      <th>17998</th>\n",
       "      <td>i feel like this was such a rude comment and i...</td>\n",
       "      <td>anger</td>\n",
       "      <td>0</td>\n",
       "    </tr>\n",
       "    <tr>\n",
       "      <th>17999</th>\n",
       "      <td>i know a lot but i feel so stupid because i ca...</td>\n",
       "      <td>sadness</td>\n",
       "      <td>4</td>\n",
       "    </tr>\n",
       "  </tbody>\n",
       "</table>\n",
       "<p>18000 rows × 3 columns</p>\n",
       "</div>"
      ],
      "text/plain": [
       "                                                 message  feeling  Targets\n",
       "0      im feeling quite sad and sorry for myself but ...  sadness        4\n",
       "1      i feel like i am still looking at a blank canv...  sadness        4\n",
       "2                         i feel like a faithful servant     love        3\n",
       "3                      i am just feeling cranky and blue    anger        0\n",
       "4      i can have for a treat or if i am feeling festive      joy        2\n",
       "...                                                  ...      ...      ...\n",
       "17995  i just had a very brief time in the beanbag an...  sadness        4\n",
       "17996  i am now turning and i feel pathetic that i am...  sadness        4\n",
       "17997                     i feel strong and good overall      joy        2\n",
       "17998  i feel like this was such a rude comment and i...    anger        0\n",
       "17999  i know a lot but i feel so stupid because i ca...  sadness        4\n",
       "\n",
       "[18000 rows x 3 columns]"
      ]
     },
     "execution_count": 6,
     "metadata": {},
     "output_type": "execute_result"
    }
   ],
   "source": [
    "f_need_df"
   ]
  },
  {
   "cell_type": "code",
   "execution_count": 7,
   "id": "a8744841-c50e-49fa-84b1-88ff3c03efe7",
   "metadata": {},
   "outputs": [
    {
     "data": {
      "text/plain": [
       "Targets\n",
       "2    6066\n",
       "4    5216\n",
       "0    2434\n",
       "1    2149\n",
       "3    1482\n",
       "5     653\n",
       "Name: count, dtype: int64"
      ]
     },
     "execution_count": 7,
     "metadata": {},
     "output_type": "execute_result"
    }
   ],
   "source": [
    "# 불균형\n",
    "f_need_df['Targets'].value_counts()"
   ]
  },
  {
   "cell_type": "code",
   "execution_count": 8,
   "id": "578e34c1-9ca0-4797-a3b2-f8ed4be02234",
   "metadata": {},
   "outputs": [
    {
     "name": "stdout",
     "output_type": "stream",
     "text": [
      "{0: 'anger', 1: 'fear', 2: 'joy', 3: 'love', 4: 'sadness', 5: 'surprise'}\n"
     ]
    }
   ],
   "source": [
    "# Labelencoer 를 사용 후 각각의 범주형 값에 대하여 어떤 value 값이였는지 확인 \n",
    "label_dict = dict(zip(feeling_encoder.transform(feeling_encoder.classes_), feeling_encoder.classes_))\n",
    "print(label_dict)"
   ]
  },
  {
   "cell_type": "code",
   "execution_count": 9,
   "id": "96d2ec32-31f7-4e69-88f2-5976f19b4abc",
   "metadata": {},
   "outputs": [],
   "source": [
    "# 불필요 feature drop\n",
    "f_need_df = f_need_df.drop(labels='feeling', axis =1)"
   ]
  },
  {
   "cell_type": "code",
   "execution_count": 10,
   "id": "746813ae-47a7-4a34-962b-fa35aa83e3a9",
   "metadata": {},
   "outputs": [
    {
     "data": {
      "text/html": [
       "<div>\n",
       "<style scoped>\n",
       "    .dataframe tbody tr th:only-of-type {\n",
       "        vertical-align: middle;\n",
       "    }\n",
       "\n",
       "    .dataframe tbody tr th {\n",
       "        vertical-align: top;\n",
       "    }\n",
       "\n",
       "    .dataframe thead th {\n",
       "        text-align: right;\n",
       "    }\n",
       "</style>\n",
       "<table border=\"1\" class=\"dataframe\">\n",
       "  <thead>\n",
       "    <tr style=\"text-align: right;\">\n",
       "      <th></th>\n",
       "      <th>message</th>\n",
       "      <th>Targets</th>\n",
       "    </tr>\n",
       "  </thead>\n",
       "  <tbody>\n",
       "    <tr>\n",
       "      <th>0</th>\n",
       "      <td>im feeling quite sad and sorry for myself but ...</td>\n",
       "      <td>4</td>\n",
       "    </tr>\n",
       "    <tr>\n",
       "      <th>1</th>\n",
       "      <td>i feel like i am still looking at a blank canv...</td>\n",
       "      <td>4</td>\n",
       "    </tr>\n",
       "    <tr>\n",
       "      <th>2</th>\n",
       "      <td>i feel like a faithful servant</td>\n",
       "      <td>3</td>\n",
       "    </tr>\n",
       "    <tr>\n",
       "      <th>3</th>\n",
       "      <td>i am just feeling cranky and blue</td>\n",
       "      <td>0</td>\n",
       "    </tr>\n",
       "    <tr>\n",
       "      <th>4</th>\n",
       "      <td>i can have for a treat or if i am feeling festive</td>\n",
       "      <td>2</td>\n",
       "    </tr>\n",
       "    <tr>\n",
       "      <th>...</th>\n",
       "      <td>...</td>\n",
       "      <td>...</td>\n",
       "    </tr>\n",
       "    <tr>\n",
       "      <th>17995</th>\n",
       "      <td>i just had a very brief time in the beanbag an...</td>\n",
       "      <td>4</td>\n",
       "    </tr>\n",
       "    <tr>\n",
       "      <th>17996</th>\n",
       "      <td>i am now turning and i feel pathetic that i am...</td>\n",
       "      <td>4</td>\n",
       "    </tr>\n",
       "    <tr>\n",
       "      <th>17997</th>\n",
       "      <td>i feel strong and good overall</td>\n",
       "      <td>2</td>\n",
       "    </tr>\n",
       "    <tr>\n",
       "      <th>17998</th>\n",
       "      <td>i feel like this was such a rude comment and i...</td>\n",
       "      <td>0</td>\n",
       "    </tr>\n",
       "    <tr>\n",
       "      <th>17999</th>\n",
       "      <td>i know a lot but i feel so stupid because i ca...</td>\n",
       "      <td>4</td>\n",
       "    </tr>\n",
       "  </tbody>\n",
       "</table>\n",
       "<p>18000 rows × 2 columns</p>\n",
       "</div>"
      ],
      "text/plain": [
       "                                                 message  Targets\n",
       "0      im feeling quite sad and sorry for myself but ...        4\n",
       "1      i feel like i am still looking at a blank canv...        4\n",
       "2                         i feel like a faithful servant        3\n",
       "3                      i am just feeling cranky and blue        0\n",
       "4      i can have for a treat or if i am feeling festive        2\n",
       "...                                                  ...      ...\n",
       "17995  i just had a very brief time in the beanbag an...        4\n",
       "17996  i am now turning and i feel pathetic that i am...        4\n",
       "17997                     i feel strong and good overall        2\n",
       "17998  i feel like this was such a rude comment and i...        0\n",
       "17999  i know a lot but i feel so stupid because i ca...        4\n",
       "\n",
       "[18000 rows x 2 columns]"
      ]
     },
     "execution_count": 10,
     "metadata": {},
     "output_type": "execute_result"
    }
   ],
   "source": [
    "f_need_df"
   ]
  },
  {
   "cell_type": "code",
   "execution_count": 11,
   "id": "a0b2d154-c964-458c-9a2b-debd6c2b6667",
   "metadata": {},
   "outputs": [],
   "source": [
    "f_need_df.drop_duplicates(inplace=True)"
   ]
  },
  {
   "cell_type": "code",
   "execution_count": 12,
   "id": "4e5c8653-874e-4120-9bd1-92446d367615",
   "metadata": {},
   "outputs": [
    {
     "data": {
      "text/plain": [
       "0"
      ]
     },
     "execution_count": 12,
     "metadata": {},
     "output_type": "execute_result"
    }
   ],
   "source": [
    "f_need_df.duplicated().sum()"
   ]
  },
  {
   "cell_type": "code",
   "execution_count": 13,
   "id": "c05f8a53-fe8a-45f7-a281-8437c7c54b7b",
   "metadata": {},
   "outputs": [],
   "source": [
    "# 데이터 분리\n",
    "from sklearn.model_selection import train_test_split\n",
    "\n",
    "X_train, X_test, y_train, y_test = \\\n",
    "train_test_split(f_need_df.message, f_need_df.Targets, stratify=f_need_df.Targets, test_size=0.2, random_state=124)"
   ]
  },
  {
   "cell_type": "code",
   "execution_count": 14,
   "id": "0079333a-9e4b-407f-86af-261eae735c54",
   "metadata": {},
   "outputs": [],
   "source": [
    "# CountVenctorizer 를 이용해 각 문장에 대하여 target의 값이 포함되어 있는지 전체 변환 확인\n",
    "# 시각화를 위해서 표기\n",
    "# from sklearn.feature_extraction.text import CountVectorizer\n",
    "\n",
    "# c_vct = CountVectorizer()\n",
    "# freq = c_vct.fit_transform(f_need_df.message)\n",
    "# print(freq.toarray())\n",
    "# print(c_vct.vocabulary_)"
   ]
  },
  {
   "cell_type": "code",
   "execution_count": 15,
   "id": "ee591434-241e-4388-8caf-7b8cb4b7c64b",
   "metadata": {},
   "outputs": [
    {
     "data": {
      "text/html": [
       "<style>#sk-container-id-1 {color: black;background-color: white;}#sk-container-id-1 pre{padding: 0;}#sk-container-id-1 div.sk-toggleable {background-color: white;}#sk-container-id-1 label.sk-toggleable__label {cursor: pointer;display: block;width: 100%;margin-bottom: 0;padding: 0.3em;box-sizing: border-box;text-align: center;}#sk-container-id-1 label.sk-toggleable__label-arrow:before {content: \"▸\";float: left;margin-right: 0.25em;color: #696969;}#sk-container-id-1 label.sk-toggleable__label-arrow:hover:before {color: black;}#sk-container-id-1 div.sk-estimator:hover label.sk-toggleable__label-arrow:before {color: black;}#sk-container-id-1 div.sk-toggleable__content {max-height: 0;max-width: 0;overflow: hidden;text-align: left;background-color: #f0f8ff;}#sk-container-id-1 div.sk-toggleable__content pre {margin: 0.2em;color: black;border-radius: 0.25em;background-color: #f0f8ff;}#sk-container-id-1 input.sk-toggleable__control:checked~div.sk-toggleable__content {max-height: 200px;max-width: 100%;overflow: auto;}#sk-container-id-1 input.sk-toggleable__control:checked~label.sk-toggleable__label-arrow:before {content: \"▾\";}#sk-container-id-1 div.sk-estimator input.sk-toggleable__control:checked~label.sk-toggleable__label {background-color: #d4ebff;}#sk-container-id-1 div.sk-label input.sk-toggleable__control:checked~label.sk-toggleable__label {background-color: #d4ebff;}#sk-container-id-1 input.sk-hidden--visually {border: 0;clip: rect(1px 1px 1px 1px);clip: rect(1px, 1px, 1px, 1px);height: 1px;margin: -1px;overflow: hidden;padding: 0;position: absolute;width: 1px;}#sk-container-id-1 div.sk-estimator {font-family: monospace;background-color: #f0f8ff;border: 1px dotted black;border-radius: 0.25em;box-sizing: border-box;margin-bottom: 0.5em;}#sk-container-id-1 div.sk-estimator:hover {background-color: #d4ebff;}#sk-container-id-1 div.sk-parallel-item::after {content: \"\";width: 100%;border-bottom: 1px solid gray;flex-grow: 1;}#sk-container-id-1 div.sk-label:hover label.sk-toggleable__label {background-color: #d4ebff;}#sk-container-id-1 div.sk-serial::before {content: \"\";position: absolute;border-left: 1px solid gray;box-sizing: border-box;top: 0;bottom: 0;left: 50%;z-index: 0;}#sk-container-id-1 div.sk-serial {display: flex;flex-direction: column;align-items: center;background-color: white;padding-right: 0.2em;padding-left: 0.2em;position: relative;}#sk-container-id-1 div.sk-item {position: relative;z-index: 1;}#sk-container-id-1 div.sk-parallel {display: flex;align-items: stretch;justify-content: center;background-color: white;position: relative;}#sk-container-id-1 div.sk-item::before, #sk-container-id-1 div.sk-parallel-item::before {content: \"\";position: absolute;border-left: 1px solid gray;box-sizing: border-box;top: 0;bottom: 0;left: 50%;z-index: -1;}#sk-container-id-1 div.sk-parallel-item {display: flex;flex-direction: column;z-index: 1;position: relative;background-color: white;}#sk-container-id-1 div.sk-parallel-item:first-child::after {align-self: flex-end;width: 50%;}#sk-container-id-1 div.sk-parallel-item:last-child::after {align-self: flex-start;width: 50%;}#sk-container-id-1 div.sk-parallel-item:only-child::after {width: 0;}#sk-container-id-1 div.sk-dashed-wrapped {border: 1px dashed gray;margin: 0 0.4em 0.5em 0.4em;box-sizing: border-box;padding-bottom: 0.4em;background-color: white;}#sk-container-id-1 div.sk-label label {font-family: monospace;font-weight: bold;display: inline-block;line-height: 1.2em;}#sk-container-id-1 div.sk-label-container {text-align: center;}#sk-container-id-1 div.sk-container {/* jupyter's `normalize.less` sets `[hidden] { display: none; }` but bootstrap.min.css set `[hidden] { display: none !important; }` so we also need the `!important` here to be able to override the default hidden behavior on the sphinx rendered scikit-learn.org. See: https://github.com/scikit-learn/scikit-learn/issues/21755 */display: inline-block !important;position: relative;}#sk-container-id-1 div.sk-text-repr-fallback {display: none;}</style><div id=\"sk-container-id-1\" class=\"sk-top-container\"><div class=\"sk-text-repr-fallback\"><pre>Pipeline(steps=[(&#x27;count_vectorizer&#x27;, CountVectorizer()),\n",
       "                (&#x27;multinomial_NB&#x27;, MultinomialNB())])</pre><b>In a Jupyter environment, please rerun this cell to show the HTML representation or trust the notebook. <br />On GitHub, the HTML representation is unable to render, please try loading this page with nbviewer.org.</b></div><div class=\"sk-container\" hidden><div class=\"sk-item sk-dashed-wrapped\"><div class=\"sk-label-container\"><div class=\"sk-label sk-toggleable\"><input class=\"sk-toggleable__control sk-hidden--visually\" id=\"sk-estimator-id-1\" type=\"checkbox\" ><label for=\"sk-estimator-id-1\" class=\"sk-toggleable__label sk-toggleable__label-arrow\">Pipeline</label><div class=\"sk-toggleable__content\"><pre>Pipeline(steps=[(&#x27;count_vectorizer&#x27;, CountVectorizer()),\n",
       "                (&#x27;multinomial_NB&#x27;, MultinomialNB())])</pre></div></div></div><div class=\"sk-serial\"><div class=\"sk-item\"><div class=\"sk-estimator sk-toggleable\"><input class=\"sk-toggleable__control sk-hidden--visually\" id=\"sk-estimator-id-2\" type=\"checkbox\" ><label for=\"sk-estimator-id-2\" class=\"sk-toggleable__label sk-toggleable__label-arrow\">CountVectorizer</label><div class=\"sk-toggleable__content\"><pre>CountVectorizer()</pre></div></div></div><div class=\"sk-item\"><div class=\"sk-estimator sk-toggleable\"><input class=\"sk-toggleable__control sk-hidden--visually\" id=\"sk-estimator-id-3\" type=\"checkbox\" ><label for=\"sk-estimator-id-3\" class=\"sk-toggleable__label sk-toggleable__label-arrow\">MultinomialNB</label><div class=\"sk-toggleable__content\"><pre>MultinomialNB()</pre></div></div></div></div></div></div></div>"
      ],
      "text/plain": [
       "Pipeline(steps=[('count_vectorizer', CountVectorizer()),\n",
       "                ('multinomial_NB', MultinomialNB())])"
      ]
     },
     "execution_count": 15,
     "metadata": {},
     "output_type": "execute_result"
    }
   ],
   "source": [
    "# CountVectorizer 와 MulinomialNB 를 파이프라인으로 구축하여 매번 분석 시 반복된 훈련을 피하는 용도\n",
    "from sklearn.feature_extraction.text import CountVectorizer\n",
    "from sklearn.naive_bayes import MultinomialNB\n",
    "from sklearn.pipeline import Pipeline\n",
    "\n",
    "# PipeLline 안에는 리스트로 담는다 ('key':객체)\n",
    "# 매번 작업 시, Vectorizer를 사용해야 하지만, \n",
    "# 파이프라인으로 구축 시 직접 할 필요 없다.\n",
    "m_nb_pipe = Pipeline([('count_vectorizer', CountVectorizer()), ('multinomial_NB', MultinomialNB())])\n",
    "\n",
    "# 훈련 데이터 전달\n",
    "m_nb_pipe.fit(X_train, y_train)"
   ]
  },
  {
   "cell_type": "code",
   "execution_count": 16,
   "id": "79c91228-5be3-4cf7-8745-477a3179223d",
   "metadata": {},
   "outputs": [],
   "source": [
    "# 테스트 데이터 훈련\n",
    "prediction = m_nb_pipe.predict(X_test)"
   ]
  },
  {
   "cell_type": "code",
   "execution_count": 17,
   "id": "370f3eaf-6347-4cd5-8926-8da12442bbd4",
   "metadata": {},
   "outputs": [
    {
     "name": "stdout",
     "output_type": "stream",
     "text": [
      "14477    4\n",
      "2660     2\n",
      "14567    0\n",
      "3658     2\n",
      "662      3\n",
      "        ..\n",
      "15218    0\n",
      "8734     4\n",
      "11995    1\n",
      "16625    2\n",
      "7963     4\n",
      "Name: Targets, Length: 3600, dtype: int32\n",
      "[4 2 4 ... 4 2 4]\n"
     ]
    }
   ],
   "source": [
    "# 내가 입력한 데이터에 대하여 테스트 진행\n",
    "# m_nb_pipe.predict(['i love you'])\n",
    "print(y_test)\n",
    "print(m_nb_pipe.predict(X_test))"
   ]
  },
  {
   "cell_type": "code",
   "execution_count": 18,
   "id": "cc686c6f-9569-4727-8ec9-0c2866465c9a",
   "metadata": {},
   "outputs": [
    {
     "data": {
      "text/plain": [
       "0.7519444444444444"
      ]
     },
     "execution_count": 18,
     "metadata": {},
     "output_type": "execute_result"
    }
   ],
   "source": [
    "# 테스트 데이터에 대하여 정확도 확인\n",
    "m_nb_pipe.score(X_test, y_test)"
   ]
  },
  {
   "cell_type": "code",
   "execution_count": 19,
   "id": "0bdfadb7-1f85-4442-8e7b-626a58d832a1",
   "metadata": {},
   "outputs": [
    {
     "data": {
      "text/plain": [
       "array(['sadness', 'joy', 'sadness', ..., 'sadness', 'joy', 'sadness'],\n",
       "      dtype=object)"
      ]
     },
     "execution_count": 19,
     "metadata": {},
     "output_type": "execute_result"
    }
   ],
   "source": [
    "feeling_encoder.classes_[m_nb_pipe.predict(X_test)]"
   ]
  },
  {
   "cell_type": "code",
   "execution_count": 20,
   "id": "30bf2de8-a843-4406-b76f-54f2f785a0cc",
   "metadata": {},
   "outputs": [
    {
     "name": "stdout",
     "output_type": "stream",
     "text": [
      "{0: 'anger', 1: 'fear', 2: 'joy', 3: 'love', 4: 'sadness', 5: 'surprise'}\n"
     ]
    }
   ],
   "source": [
    "# 실제 내가 입력한 데이터에 대하여 나온 인덱스 번호아 어떤 Targets 을 가지고 있는지 확인\n",
    "label_dict = dict(zip(feeling_encoder.transform(feeling_encoder.classes_), feeling_encoder.classes_))\n",
    "print(label_dict)"
   ]
  },
  {
   "cell_type": "code",
   "execution_count": 21,
   "id": "cc8ca436-95a8-43db-8701-5611f846b3b4",
   "metadata": {},
   "outputs": [],
   "source": [
    "import matplotlib.pyplot as plt\n",
    "from sklearn.metrics import accuracy_score, precision_score, recall_score, f1_score, roc_auc_score, confusion_matrix, ConfusionMatrixDisplay\n",
    "\n",
    "# 타겟 데이터와 예측 객체를 전달받는다.\n",
    "# 정밀도, 재현율, F1 score는 다중 분류에서 각각의 확률값의 평균을 구해서 나타내야 한다.\n",
    "# 이 때, macro 방식과, micro 방식이 대표적이다.\n",
    "# macro: 평균을 낸 뒤, 그 평균의 다시 평균을 구하는 방식 (샘플 수는 신경쓰지 않는다).\n",
    "# micro: 샘플 수를 전체 합하고 전체 개수도 전체 합해서 나눠주는 방식(샘플 수를 신경쓴다).\n",
    "# 카겟 데이터의 비중이 많이 차이난다면, micro방식을 사용하는것이 바람직하다.\n",
    "def get_evaluation(y_test, prediction, classifier=None, X_test=None):\n",
    "#     오차 행렬\n",
    "    confusion = confusion_matrix(y_test, prediction)\n",
    "#     정확도\n",
    "    accuracy = accuracy_score(y_test , prediction)\n",
    "#     정밀도\n",
    "    precision = precision_score(y_test , prediction, average='micro')\n",
    "#     재현율\n",
    "    recall = recall_score(y_test , prediction, average='micro')\n",
    "#     F1 score\n",
    "    f1 = f1_score(y_test, prediction, average='micro')\n",
    "\n",
    "\n",
    "    \n",
    "    print('오차 행렬')\n",
    "    print(confusion)\n",
    "    print('정확도: {0:.4f}, 정밀도: {1:.4f}, 재현율: {2:.4f}, , F1: {3:.4f},'.format(accuracy, precision, recall, f1))\n",
    "    print(\"#\" * 80)\n",
    "    \n",
    "    if classifier is not None and  X_test is not None:\n",
    "        fig, axes = plt.subplots(nrows=1, ncols=2, figsize=(8,4))\n",
    "        titles_options = [(\"Confusion matrix\", None), (\"Normalized confusion matrix\", \"true\")]\n",
    "\n",
    "        for (title, normalize), ax in zip(titles_options, axes.flatten()):\n",
    "            disp = ConfusionMatrixDisplay.from_estimator(classifier, X_test, y_test, ax=ax, cmap=plt.cm.Blues, normalize=normalize)\n",
    "            disp.ax_.set_title(title)\n",
    "        plt.show()"
   ]
  },
  {
   "cell_type": "code",
   "execution_count": 22,
   "id": "52c1cf6c-9a20-42c2-9caa-761f3218cc0d",
   "metadata": {},
   "outputs": [],
   "source": [
    "prediction = m_nb_pipe.predict(X_test)"
   ]
  },
  {
   "cell_type": "code",
   "execution_count": 23,
   "id": "7456cb37-75f4-42b3-9b01-3cf84214d412",
   "metadata": {},
   "outputs": [
    {
     "name": "stdout",
     "output_type": "stream",
     "text": [
      "오차 행렬\n",
      "[[ 287    5   74    1  120    0]\n",
      " [  18  224   81    1  106    0]\n",
      " [   4    2 1146    6   55    0]\n",
      " [   5    3  168   72   48    0]\n",
      " [   7    3   62    1  970    0]\n",
      " [   2   16   68    0   37    8]]\n",
      "정확도: 0.7519, 정밀도: 0.7519, 재현율: 0.7519, , F1: 0.7519,\n",
      "################################################################################\n"
     ]
    },
    {
     "data": {
      "image/png": "[encoded data removed]",
      "text/plain": [
       "<Figure size 800x400 with 4 Axes>"
      ]
     },
     "metadata": {},
     "output_type": "display_data"
    }
   ],
   "source": [
    "get_evaluation(y_test, prediction, m_nb_pipe, X_test)"
   ]
  },
  {
   "cell_type": "markdown",
   "id": "5277d2ce-52e5-4458-8c8a-67c452ba864d",
   "metadata": {},
   "source": [
    "#### 정리 \n",
    "위의 오차 행렬을 보면, 3과, 5에 대한 예측률이 좋지 않다. 이는 타켓 데이터의 불균형 문제로 판단된다.  \n",
    "언더 샘플링을 통해 타켓 데이터의 비중을 맞춰주면 T<sub>n</sub>이 높아질 것으로 보인다."
   ]
  },
  {
   "cell_type": "markdown",
   "id": "199556d5-bcba-4ce8-adbc-7399430c0b2a",
   "metadata": {},
   "source": [
    "# 언더샘플링"
   ]
  },
  {
   "cell_type": "code",
   "execution_count": 24,
   "id": "378ad54a-823f-498c-8de5-c042947d2659",
   "metadata": {},
   "outputs": [
    {
     "data": {
      "text/html": [
       "<div>\n",
       "<style scoped>\n",
       "    .dataframe tbody tr th:only-of-type {\n",
       "        vertical-align: middle;\n",
       "    }\n",
       "\n",
       "    .dataframe tbody tr th {\n",
       "        vertical-align: top;\n",
       "    }\n",
       "\n",
       "    .dataframe thead th {\n",
       "        text-align: right;\n",
       "    }\n",
       "</style>\n",
       "<table border=\"1\" class=\"dataframe\">\n",
       "  <thead>\n",
       "    <tr style=\"text-align: right;\">\n",
       "      <th></th>\n",
       "      <th>message</th>\n",
       "      <th>feeling</th>\n",
       "    </tr>\n",
       "  </thead>\n",
       "  <tbody>\n",
       "    <tr>\n",
       "      <th>0</th>\n",
       "      <td>im feeling quite sad and sorry for myself but ...</td>\n",
       "      <td>sadness</td>\n",
       "    </tr>\n",
       "    <tr>\n",
       "      <th>1</th>\n",
       "      <td>i feel like i am still looking at a blank canv...</td>\n",
       "      <td>sadness</td>\n",
       "    </tr>\n",
       "    <tr>\n",
       "      <th>2</th>\n",
       "      <td>i feel like a faithful servant</td>\n",
       "      <td>love</td>\n",
       "    </tr>\n",
       "    <tr>\n",
       "      <th>3</th>\n",
       "      <td>i am just feeling cranky and blue</td>\n",
       "      <td>anger</td>\n",
       "    </tr>\n",
       "    <tr>\n",
       "      <th>4</th>\n",
       "      <td>i can have for a treat or if i am feeling festive</td>\n",
       "      <td>joy</td>\n",
       "    </tr>\n",
       "    <tr>\n",
       "      <th>...</th>\n",
       "      <td>...</td>\n",
       "      <td>...</td>\n",
       "    </tr>\n",
       "    <tr>\n",
       "      <th>17995</th>\n",
       "      <td>i just had a very brief time in the beanbag an...</td>\n",
       "      <td>sadness</td>\n",
       "    </tr>\n",
       "    <tr>\n",
       "      <th>17996</th>\n",
       "      <td>i am now turning and i feel pathetic that i am...</td>\n",
       "      <td>sadness</td>\n",
       "    </tr>\n",
       "    <tr>\n",
       "      <th>17997</th>\n",
       "      <td>i feel strong and good overall</td>\n",
       "      <td>joy</td>\n",
       "    </tr>\n",
       "    <tr>\n",
       "      <th>17998</th>\n",
       "      <td>i feel like this was such a rude comment and i...</td>\n",
       "      <td>anger</td>\n",
       "    </tr>\n",
       "    <tr>\n",
       "      <th>17999</th>\n",
       "      <td>i know a lot but i feel so stupid because i ca...</td>\n",
       "      <td>sadness</td>\n",
       "    </tr>\n",
       "  </tbody>\n",
       "</table>\n",
       "<p>18000 rows × 2 columns</p>\n",
       "</div>"
      ],
      "text/plain": [
       "                                                 message  feeling\n",
       "0      im feeling quite sad and sorry for myself but ...  sadness\n",
       "1      i feel like i am still looking at a blank canv...  sadness\n",
       "2                         i feel like a faithful servant     love\n",
       "3                      i am just feeling cranky and blue    anger\n",
       "4      i can have for a treat or if i am feeling festive      joy\n",
       "...                                                  ...      ...\n",
       "17995  i just had a very brief time in the beanbag an...  sadness\n",
       "17996  i am now turning and i feel pathetic that i am...  sadness\n",
       "17997                     i feel strong and good overall      joy\n",
       "17998  i feel like this was such a rude comment and i...    anger\n",
       "17999  i know a lot but i feel so stupid because i ca...  sadness\n",
       "\n",
       "[18000 rows x 2 columns]"
      ]
     },
     "execution_count": 24,
     "metadata": {},
     "output_type": "execute_result"
    }
   ],
   "source": [
    "import pandas as pd\n",
    "\n",
    "path = './datasets/feeling.csv'\n",
    "# f_df = pd.read_csv(path)\n",
    "f_df = pd.read_csv(path, sep = ';')\n",
    "f_df"
   ]
  },
  {
   "cell_type": "code",
   "execution_count": 25,
   "id": "f7eee28a-ba41-435c-b00a-ca6821bc0714",
   "metadata": {},
   "outputs": [],
   "source": [
    "# 'anger', 'fear', 'joy', 'love', 'sadneed', 'surprise'\n",
    "anger = f_need_df[f_need_df.Targets == 0].sample(653, random_state=124)\n",
    "fear = f_need_df[f_need_df.Targets == 1].sample(653, random_state=124)\n",
    "joy = f_need_df[f_need_df.Targets == 2].sample(653, random_state =124)\n",
    "love = f_need_df[f_need_df.Targets == 3].sample(653, random_state =124)\n",
    "sadness = f_need_df[f_need_df.Targets == 4].sample(653, random_state =124)\n",
    "surprise = f_need_df[f_need_df.Targets == 5]\n",
    "\n",
    "\n",
    "under_f_df = pd.concat([anger, fear, joy, love, sadness, surprise]).reset_index(drop=True)"
   ]
  },
  {
   "cell_type": "code",
   "execution_count": 26,
   "id": "9143eb9e-efac-482f-9436-b422a1d76c04",
   "metadata": {},
   "outputs": [
    {
     "data": {
      "text/plain": [
       "Targets\n",
       "0    653\n",
       "1    653\n",
       "2    653\n",
       "3    653\n",
       "4    653\n",
       "5    653\n",
       "Name: count, dtype: int64"
      ]
     },
     "execution_count": 26,
     "metadata": {},
     "output_type": "execute_result"
    }
   ],
   "source": [
    "under_f_df.Targets.value_counts()"
   ]
  },
  {
   "cell_type": "code",
   "execution_count": 27,
   "id": "fe5ff5a6-d10d-4132-8673-00d89b284e18",
   "metadata": {},
   "outputs": [],
   "source": [
    "# 데이터 분리\n",
    "from sklearn.model_selection import train_test_split\n",
    "\n",
    "X_train, X_test, y_train, y_test = \\\n",
    "train_test_split(under_f_df.message, under_f_df.Targets, stratify=under_f_df.Targets, test_size=0.2, random_state=124)"
   ]
  },
  {
   "cell_type": "code",
   "execution_count": 28,
   "id": "8a75e87b-a019-477d-bc0d-d40a1dc73e3b",
   "metadata": {},
   "outputs": [
    {
     "data": {
      "text/html": [
       "<style>#sk-container-id-2 {color: black;background-color: white;}#sk-container-id-2 pre{padding: 0;}#sk-container-id-2 div.sk-toggleable {background-color: white;}#sk-container-id-2 label.sk-toggleable__label {cursor: pointer;display: block;width: 100%;margin-bottom: 0;padding: 0.3em;box-sizing: border-box;text-align: center;}#sk-container-id-2 label.sk-toggleable__label-arrow:before {content: \"▸\";float: left;margin-right: 0.25em;color: #696969;}#sk-container-id-2 label.sk-toggleable__label-arrow:hover:before {color: black;}#sk-container-id-2 div.sk-estimator:hover label.sk-toggleable__label-arrow:before {color: black;}#sk-container-id-2 div.sk-toggleable__content {max-height: 0;max-width: 0;overflow: hidden;text-align: left;background-color: #f0f8ff;}#sk-container-id-2 div.sk-toggleable__content pre {margin: 0.2em;color: black;border-radius: 0.25em;background-color: #f0f8ff;}#sk-container-id-2 input.sk-toggleable__control:checked~div.sk-toggleable__content {max-height: 200px;max-width: 100%;overflow: auto;}#sk-container-id-2 input.sk-toggleable__control:checked~label.sk-toggleable__label-arrow:before {content: \"▾\";}#sk-container-id-2 div.sk-estimator input.sk-toggleable__control:checked~label.sk-toggleable__label {background-color: #d4ebff;}#sk-container-id-2 div.sk-label input.sk-toggleable__control:checked~label.sk-toggleable__label {background-color: #d4ebff;}#sk-container-id-2 input.sk-hidden--visually {border: 0;clip: rect(1px 1px 1px 1px);clip: rect(1px, 1px, 1px, 1px);height: 1px;margin: -1px;overflow: hidden;padding: 0;position: absolute;width: 1px;}#sk-container-id-2 div.sk-estimator {font-family: monospace;background-color: #f0f8ff;border: 1px dotted black;border-radius: 0.25em;box-sizing: border-box;margin-bottom: 0.5em;}#sk-container-id-2 div.sk-estimator:hover {background-color: #d4ebff;}#sk-container-id-2 div.sk-parallel-item::after {content: \"\";width: 100%;border-bottom: 1px solid gray;flex-grow: 1;}#sk-container-id-2 div.sk-label:hover label.sk-toggleable__label {background-color: #d4ebff;}#sk-container-id-2 div.sk-serial::before {content: \"\";position: absolute;border-left: 1px solid gray;box-sizing: border-box;top: 0;bottom: 0;left: 50%;z-index: 0;}#sk-container-id-2 div.sk-serial {display: flex;flex-direction: column;align-items: center;background-color: white;padding-right: 0.2em;padding-left: 0.2em;position: relative;}#sk-container-id-2 div.sk-item {position: relative;z-index: 1;}#sk-container-id-2 div.sk-parallel {display: flex;align-items: stretch;justify-content: center;background-color: white;position: relative;}#sk-container-id-2 div.sk-item::before, #sk-container-id-2 div.sk-parallel-item::before {content: \"\";position: absolute;border-left: 1px solid gray;box-sizing: border-box;top: 0;bottom: 0;left: 50%;z-index: -1;}#sk-container-id-2 div.sk-parallel-item {display: flex;flex-direction: column;z-index: 1;position: relative;background-color: white;}#sk-container-id-2 div.sk-parallel-item:first-child::after {align-self: flex-end;width: 50%;}#sk-container-id-2 div.sk-parallel-item:last-child::after {align-self: flex-start;width: 50%;}#sk-container-id-2 div.sk-parallel-item:only-child::after {width: 0;}#sk-container-id-2 div.sk-dashed-wrapped {border: 1px dashed gray;margin: 0 0.4em 0.5em 0.4em;box-sizing: border-box;padding-bottom: 0.4em;background-color: white;}#sk-container-id-2 div.sk-label label {font-family: monospace;font-weight: bold;display: inline-block;line-height: 1.2em;}#sk-container-id-2 div.sk-label-container {text-align: center;}#sk-container-id-2 div.sk-container {/* jupyter's `normalize.less` sets `[hidden] { display: none; }` but bootstrap.min.css set `[hidden] { display: none !important; }` so we also need the `!important` here to be able to override the default hidden behavior on the sphinx rendered scikit-learn.org. See: https://github.com/scikit-learn/scikit-learn/issues/21755 */display: inline-block !important;position: relative;}#sk-container-id-2 div.sk-text-repr-fallback {display: none;}</style><div id=\"sk-container-id-2\" class=\"sk-top-container\"><div class=\"sk-text-repr-fallback\"><pre>Pipeline(steps=[(&#x27;count_vectorizer&#x27;, CountVectorizer()),\n",
       "                (&#x27;multinomial_NB&#x27;, MultinomialNB())])</pre><b>In a Jupyter environment, please rerun this cell to show the HTML representation or trust the notebook. <br />On GitHub, the HTML representation is unable to render, please try loading this page with nbviewer.org.</b></div><div class=\"sk-container\" hidden><div class=\"sk-item sk-dashed-wrapped\"><div class=\"sk-label-container\"><div class=\"sk-label sk-toggleable\"><input class=\"sk-toggleable__control sk-hidden--visually\" id=\"sk-estimator-id-4\" type=\"checkbox\" ><label for=\"sk-estimator-id-4\" class=\"sk-toggleable__label sk-toggleable__label-arrow\">Pipeline</label><div class=\"sk-toggleable__content\"><pre>Pipeline(steps=[(&#x27;count_vectorizer&#x27;, CountVectorizer()),\n",
       "                (&#x27;multinomial_NB&#x27;, MultinomialNB())])</pre></div></div></div><div class=\"sk-serial\"><div class=\"sk-item\"><div class=\"sk-estimator sk-toggleable\"><input class=\"sk-toggleable__control sk-hidden--visually\" id=\"sk-estimator-id-5\" type=\"checkbox\" ><label for=\"sk-estimator-id-5\" class=\"sk-toggleable__label sk-toggleable__label-arrow\">CountVectorizer</label><div class=\"sk-toggleable__content\"><pre>CountVectorizer()</pre></div></div></div><div class=\"sk-item\"><div class=\"sk-estimator sk-toggleable\"><input class=\"sk-toggleable__control sk-hidden--visually\" id=\"sk-estimator-id-6\" type=\"checkbox\" ><label for=\"sk-estimator-id-6\" class=\"sk-toggleable__label sk-toggleable__label-arrow\">MultinomialNB</label><div class=\"sk-toggleable__content\"><pre>MultinomialNB()</pre></div></div></div></div></div></div></div>"
      ],
      "text/plain": [
       "Pipeline(steps=[('count_vectorizer', CountVectorizer()),\n",
       "                ('multinomial_NB', MultinomialNB())])"
      ]
     },
     "execution_count": 28,
     "metadata": {},
     "output_type": "execute_result"
    }
   ],
   "source": [
    "# CountVectorizer 와 MulinomialNB 를 파이프라인으로 구축하여 매번 분석 시 반복된 훈련을 피하는 용도\n",
    "from sklearn.feature_extraction.text import CountVectorizer\n",
    "from sklearn.naive_bayes import MultinomialNB\n",
    "from sklearn.pipeline import Pipeline\n",
    "\n",
    "# PipeLline 안에는 리스트로 담는다 ('key':객체)\n",
    "# 매번 작업 시, Vectorizer를 사용해야 하지만, \n",
    "# 파이프라인으로 구축 시 직접 할 필요 없다.\n",
    "m_nb_pipe = Pipeline([('count_vectorizer', CountVectorizer()), ('multinomial_NB', MultinomialNB())])\n",
    "\n",
    "# 훈련 데이터 전달\n",
    "m_nb_pipe.fit(X_train, y_train)"
   ]
  },
  {
   "cell_type": "code",
   "execution_count": 29,
   "id": "fc780aad-dff4-4f95-96a3-2518a4cacc40",
   "metadata": {},
   "outputs": [],
   "source": [
    "# 테스트 데이터 훈련\n",
    "prediction = m_nb_pipe.predict(X_test)"
   ]
  },
  {
   "cell_type": "code",
   "execution_count": 30,
   "id": "d899d16d-25bb-4f02-b2cb-73f542f171f5",
   "metadata": {},
   "outputs": [
    {
     "name": "stdout",
     "output_type": "stream",
     "text": [
      "3589    5\n",
      "655     1\n",
      "1814    2\n",
      "4       0\n",
      "3813    5\n",
      "       ..\n",
      "393     0\n",
      "1957    2\n",
      "1292    1\n",
      "2054    3\n",
      "1015    1\n",
      "Name: Targets, Length: 784, dtype: int32\n",
      "[5 5 2 0 5 5 4 1 3 1 2 2 2 3 1 1 0 1 4 0 5 0 3 5 4 4 2 3 1 5 2 4 2 5 2 3 3\n",
      " 1 5 1 3 2 0 4 3 4 3 5 2 3 4 5 4 3 0 5 1 4 1 4 3 4 3 3 5 3 4 2 3 4 2 2 0 5\n",
      " 2 0 0 1 1 4 4 2 2 4 1 3 0 1 5 5 0 5 3 3 2 2 0 1 2 5 2 3 1 1 3 4 4 3 4 3 4\n",
      " 0 5 1 2 0 0 5 3 5 2 2 5 2 0 2 3 3 2 2 3 0 1 3 4 5 0 0 0 0 0 0 2 1 1 2 0 0\n",
      " 2 4 2 2 5 2 3 4 1 1 3 1 5 4 0 1 5 2 2 3 1 0 3 2 1 1 3 1 1 2 4 1 1 1 5 5 3\n",
      " 1 4 5 4 3 5 3 3 3 1 5 5 1 2 5 5 2 3 5 3 0 1 2 2 3 5 3 2 4 2 3 3 0 1 4 5 1\n",
      " 4 5 3 2 0 3 0 0 5 0 1 1 5 1 3 5 1 5 3 1 5 1 0 0 1 5 2 4 4 1 4 5 2 0 2 0 0\n",
      " 1 0 2 0 3 5 2 5 4 4 3 2 5 5 3 5 0 1 2 1 3 0 0 2 1 0 3 3 1 5 0 5 1 0 4 5 0\n",
      " 3 4 1 1 0 4 3 2 0 5 5 5 3 2 0 2 1 0 5 3 2 1 5 3 5 3 0 0 5 2 2 4 0 5 5 5 0\n",
      " 3 5 2 2 5 5 2 1 5 4 1 5 1 5 5 0 4 5 0 3 3 2 4 5 5 5 3 3 3 2 2 5 2 0 1 5 2\n",
      " 1 0 5 2 5 3 5 4 3 1 5 4 5 5 0 1 3 5 0 4 2 4 0 5 5 3 4 1 0 2 3 3 0 3 5 5 1\n",
      " 0 5 4 2 5 5 1 0 5 2 0 4 0 2 5 0 0 2 4 0 1 0 3 2 3 1 2 3 0 1 5 4 1 1 5 3 5\n",
      " 0 0 4 3 1 0 3 2 5 2 1 3 5 0 4 2 5 2 3 0 1 5 0 1 5 5 0 5 3 1 0 3 3 3 3 2 5\n",
      " 2 1 1 3 1 5 2 1 5 4 4 5 4 2 3 2 0 2 3 0 2 0 5 2 5 2 3 0 4 5 0 3 1 5 2 2 2\n",
      " 5 3 1 0 0 1 5 4 4 4 1 3 1 3 0 2 5 5 2 1 3 3 4 5 1 4 5 3 0 3 5 1 1 0 5 0 0\n",
      " 2 3 3 3 4 3 3 2 4 0 0 5 0 5 1 0 1 2 0 3 3 3 2 2 4 0 4 5 5 4 3 5 4 2 4 1 2\n",
      " 3 1 5 5 2 3 3 1 5 3 1 0 5 1 5 3 1 5 1 2 5 2 3 4 1 3 5 4 3 4 2 1 4 4 2 3 3\n",
      " 2 5 2 4 0 2 4 5 1 1 3 2 1 3 0 2 0 0 0 3 0 2 5 1 3 2 1 4 4 5 5 1 1 1 1 3 5\n",
      " 5 4 2 5 5 1 1 0 5 5 2 5 0 5 1 0 3 2 3 0 3 4 5 1 1 2 2 5 2 0 5 1 1 2 5 0 5\n",
      " 2 3 1 2 3 1 4 5 2 3 5 4 3 0 4 5 5 4 0 4 4 1 5 2 2 3 1 1 3 4 2 5 2 5 4 3 3\n",
      " 2 0 2 5 2 2 0 0 0 3 2 5 5 5 5 0 1 4 3 3 2 1 1 4 4 5 2 3 2 0 4 5 1 2 3 1 2\n",
      " 0 4 1 2 1 3 1]\n"
     ]
    }
   ],
   "source": [
    "# 내가 입력한 데이터에 대하여 테스트 진행\n",
    "# m_nb_pipe.predict(['i love you'])\n",
    "print(y_test)\n",
    "print(m_nb_pipe.predict(X_test))"
   ]
  },
  {
   "cell_type": "code",
   "execution_count": 31,
   "id": "0c52df20-a0fe-48ed-b0ea-457d33a0edab",
   "metadata": {},
   "outputs": [
    {
     "data": {
      "text/plain": [
       "0.7104591836734694"
      ]
     },
     "execution_count": 31,
     "metadata": {},
     "output_type": "execute_result"
    }
   ],
   "source": [
    "# 언더샘플링 이후 데이터에 대하여 정확도 확인\n",
    "m_nb_pipe.score(X_test, y_test)"
   ]
  },
  {
   "cell_type": "code",
   "execution_count": 32,
   "id": "e1b4b9ca-b456-4785-8a0f-ff0c2272d4e1",
   "metadata": {},
   "outputs": [],
   "source": [
    "import matplotlib.pyplot as plt\n",
    "from sklearn.metrics import accuracy_score, precision_score, recall_score, f1_score, roc_auc_score, confusion_matrix, ConfusionMatrixDisplay\n",
    "\n",
    "# 정밀도, 재현율, F1 score는 다중 분류에서 각각의 확률값의 평균을 구해서 나타내야 한다.\n",
    "# 이 때, macro 방식과, micro 방식이 대표적이다.\n",
    "# macro: 평균을 낸 뒤, 그 평균의 다시 평균을 구하는 방식(샘플 수는 신경쓰지 않는다).\n",
    "# micro: 샘플 수를 전체 합하고 전체 개수도 전체 합해서 나눠주는 방식(샘플 수를 신경쓴다).\n",
    "# 타겟 데이터의 비중이 많이 차이난다면, micro방식을 사용하는 것이 바람직하다.\n",
    "def get_evaluation(y_test, prediction, classifier=None, X_test=None):\n",
    "#     오차 행렬\n",
    "    confusion = confusion_matrix(y_test, prediction)\n",
    "#     정확도\n",
    "    accuracy = accuracy_score(y_test , prediction)\n",
    "#     정밀도\n",
    "    precision = precision_score(y_test , prediction, average='macro')\n",
    "#     재현율\n",
    "    recall = recall_score(y_test , prediction, average='macro')\n",
    "#     F1 score\n",
    "    f1 = f1_score(y_test, prediction, average='macro')\n",
    "    \n",
    "    print('오차 행렬')\n",
    "    print(confusion)\n",
    "    print('정확도: {0:.4f}, 정밀도: {1:.4f}, 재현율: {2:.4f}, F1: {3:.4f}'.format(accuracy, precision, recall, f1))\n",
    "    print(\"#\" * 80)\n",
    "    \n",
    "    if classifier is not None and  X_test is not None:\n",
    "        fig, axes = plt.subplots(nrows=1, ncols=2, figsize=(12,4))\n",
    "        titles_options = [(\"Confusion matrix\", None), (\"Normalized confusion matrix\", \"true\")]\n",
    "\n",
    "        for (title, normalize), ax in zip(titles_options, axes.flatten()):\n",
    "            disp = ConfusionMatrixDisplay.from_estimator(classifier, X_test, y_test, ax=ax, cmap=plt.cm.Blues, normalize=normalize)\n",
    "            disp.ax_.set_title(title)\n",
    "        plt.show()"
   ]
  },
  {
   "cell_type": "code",
   "execution_count": 33,
   "id": "4d8e0976-6684-4cad-a247-0d64d2eb771c",
   "metadata": {},
   "outputs": [],
   "source": [
    "prediction = m_nb_pipe.predict(X_test)"
   ]
  },
  {
   "cell_type": "code",
   "execution_count": 34,
   "id": "78557935-1510-4006-916d-7b6e357645c3",
   "metadata": {},
   "outputs": [
    {
     "name": "stdout",
     "output_type": "stream",
     "text": [
      "오차 행렬\n",
      "[[ 93   8   7   0  11  11]\n",
      " [  8  92   8   5   3  15]\n",
      " [  4   8  89  16   4  10]\n",
      " [  3   5  18 101   0   4]\n",
      " [ 12  12   9  11  73  14]\n",
      " [  1   5   6   6   3 109]]\n",
      "정확도: 0.7105, 정밀도: 0.7163, 재현율: 0.7106, F1: 0.7085\n",
      "################################################################################\n"
     ]
    },
    {
     "data": {
      "image/png": "[encoded data removed]",
      "text/plain": [
       "<Figure size 1200x400 with 4 Axes>"
      ]
     },
     "metadata": {},
     "output_type": "display_data"
    }
   ],
   "source": [
    "get_evaluation(y_test, prediction, m_nb_pipe, X_test)"
   ]
  },
  {
   "cell_type": "code",
   "execution_count": null,
   "id": "c5f72156-9069-43a1-98fc-2b3afcb913dc",
   "metadata": {},
   "outputs": [],
   "source": []
  },
  {
   "cell_type": "code",
   "execution_count": null,
   "id": "b427ff1d-e28e-418d-b7ee-359c84b2df22",
   "metadata": {},
   "outputs": [],
   "source": []
  },
  {
   "cell_type": "code",
   "execution_count": null,
   "id": "07ce752c-7eef-432f-9b6d-bc5d9f29b827",
   "metadata": {},
   "outputs": [],
   "source": []
  }
 ],
 "metadata": {
  "kernelspec": {
   "display_name": "Python 3 (ipykernel)",
   "language": "python",
   "name": "python3"
  },
  "language_info": {
   "codemirror_mode": {
    "name": "ipython",
    "version": 3
   },
   "file_extension": ".py",
   "mimetype": "text/x-python",
   "name": "python",
   "nbconvert_exporter": "python",
   "pygments_lexer": "ipython3",
   "version": "3.11.8"
  }
 },
 "nbformat": 4,
 "nbformat_minor": 5
}
