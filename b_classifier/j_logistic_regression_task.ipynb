{
 "cells": [
  {
   "cell_type": "markdown",
   "id": "94de1043-052e-4eed-982f-5a08effb442d",
   "metadata": {},
   "source": [
    "### Logistic Regression Task\n",
    "\n",
    "- 기계 센서 데이터를 통해 고장 여부를 예측하는 분류기를 모델화한다."
   ]
  },
  {
   "cell_type": "code",
   "execution_count": 1,
   "id": "235c3286-b3e3-4265-96fd-282927b7df79",
   "metadata": {},
   "outputs": [
    {
     "data": {
      "text/html": [
       "<div>\n",
       "<style scoped>\n",
       "    .dataframe tbody tr th:only-of-type {\n",
       "        vertical-align: middle;\n",
       "    }\n",
       "\n",
       "    .dataframe tbody tr th {\n",
       "        vertical-align: top;\n",
       "    }\n",
       "\n",
       "    .dataframe thead th {\n",
       "        text-align: right;\n",
       "    }\n",
       "</style>\n",
       "<table border=\"1\" class=\"dataframe\">\n",
       "  <thead>\n",
       "    <tr style=\"text-align: right;\">\n",
       "      <th></th>\n",
       "      <th>Rotational speed [rpm]</th>\n",
       "      <th>Torque [Nm]</th>\n",
       "      <th>Tool wear [min]</th>\n",
       "      <th>TWF</th>\n",
       "      <th>HDF</th>\n",
       "      <th>PWF</th>\n",
       "      <th>OSF</th>\n",
       "      <th>Machine failure</th>\n",
       "    </tr>\n",
       "  </thead>\n",
       "  <tbody>\n",
       "    <tr>\n",
       "      <th>0</th>\n",
       "      <td>1551</td>\n",
       "      <td>42.8</td>\n",
       "      <td>0</td>\n",
       "      <td>0</td>\n",
       "      <td>0</td>\n",
       "      <td>0</td>\n",
       "      <td>0</td>\n",
       "      <td>0</td>\n",
       "    </tr>\n",
       "    <tr>\n",
       "      <th>1</th>\n",
       "      <td>1408</td>\n",
       "      <td>46.3</td>\n",
       "      <td>3</td>\n",
       "      <td>0</td>\n",
       "      <td>0</td>\n",
       "      <td>0</td>\n",
       "      <td>0</td>\n",
       "      <td>0</td>\n",
       "    </tr>\n",
       "    <tr>\n",
       "      <th>2</th>\n",
       "      <td>1498</td>\n",
       "      <td>49.4</td>\n",
       "      <td>5</td>\n",
       "      <td>0</td>\n",
       "      <td>0</td>\n",
       "      <td>0</td>\n",
       "      <td>0</td>\n",
       "      <td>0</td>\n",
       "    </tr>\n",
       "    <tr>\n",
       "      <th>3</th>\n",
       "      <td>1433</td>\n",
       "      <td>39.5</td>\n",
       "      <td>7</td>\n",
       "      <td>0</td>\n",
       "      <td>0</td>\n",
       "      <td>0</td>\n",
       "      <td>0</td>\n",
       "      <td>0</td>\n",
       "    </tr>\n",
       "    <tr>\n",
       "      <th>4</th>\n",
       "      <td>1408</td>\n",
       "      <td>40.0</td>\n",
       "      <td>9</td>\n",
       "      <td>0</td>\n",
       "      <td>0</td>\n",
       "      <td>0</td>\n",
       "      <td>0</td>\n",
       "      <td>0</td>\n",
       "    </tr>\n",
       "    <tr>\n",
       "      <th>...</th>\n",
       "      <td>...</td>\n",
       "      <td>...</td>\n",
       "      <td>...</td>\n",
       "      <td>...</td>\n",
       "      <td>...</td>\n",
       "      <td>...</td>\n",
       "      <td>...</td>\n",
       "      <td>...</td>\n",
       "    </tr>\n",
       "    <tr>\n",
       "      <th>9810</th>\n",
       "      <td>1604</td>\n",
       "      <td>29.5</td>\n",
       "      <td>14</td>\n",
       "      <td>0</td>\n",
       "      <td>0</td>\n",
       "      <td>0</td>\n",
       "      <td>0</td>\n",
       "      <td>0</td>\n",
       "    </tr>\n",
       "    <tr>\n",
       "      <th>9811</th>\n",
       "      <td>1632</td>\n",
       "      <td>31.8</td>\n",
       "      <td>17</td>\n",
       "      <td>0</td>\n",
       "      <td>0</td>\n",
       "      <td>0</td>\n",
       "      <td>0</td>\n",
       "      <td>0</td>\n",
       "    </tr>\n",
       "    <tr>\n",
       "      <th>9812</th>\n",
       "      <td>1645</td>\n",
       "      <td>33.4</td>\n",
       "      <td>22</td>\n",
       "      <td>0</td>\n",
       "      <td>0</td>\n",
       "      <td>0</td>\n",
       "      <td>0</td>\n",
       "      <td>0</td>\n",
       "    </tr>\n",
       "    <tr>\n",
       "      <th>9813</th>\n",
       "      <td>1408</td>\n",
       "      <td>48.5</td>\n",
       "      <td>25</td>\n",
       "      <td>0</td>\n",
       "      <td>0</td>\n",
       "      <td>0</td>\n",
       "      <td>0</td>\n",
       "      <td>0</td>\n",
       "    </tr>\n",
       "    <tr>\n",
       "      <th>9814</th>\n",
       "      <td>1500</td>\n",
       "      <td>40.2</td>\n",
       "      <td>30</td>\n",
       "      <td>0</td>\n",
       "      <td>0</td>\n",
       "      <td>0</td>\n",
       "      <td>0</td>\n",
       "      <td>0</td>\n",
       "    </tr>\n",
       "  </tbody>\n",
       "</table>\n",
       "<p>9815 rows × 8 columns</p>\n",
       "</div>"
      ],
      "text/plain": [
       "      Rotational speed [rpm]  Torque [Nm]  Tool wear [min]  TWF  HDF  PWF  \\\n",
       "0                       1551         42.8                0    0    0    0   \n",
       "1                       1408         46.3                3    0    0    0   \n",
       "2                       1498         49.4                5    0    0    0   \n",
       "3                       1433         39.5                7    0    0    0   \n",
       "4                       1408         40.0                9    0    0    0   \n",
       "...                      ...          ...              ...  ...  ...  ...   \n",
       "9810                    1604         29.5               14    0    0    0   \n",
       "9811                    1632         31.8               17    0    0    0   \n",
       "9812                    1645         33.4               22    0    0    0   \n",
       "9813                    1408         48.5               25    0    0    0   \n",
       "9814                    1500         40.2               30    0    0    0   \n",
       "\n",
       "      OSF  Machine failure  \n",
       "0       0                0  \n",
       "1       0                0  \n",
       "2       0                0  \n",
       "3       0                0  \n",
       "4       0                0  \n",
       "...   ...              ...  \n",
       "9810    0                0  \n",
       "9811    0                0  \n",
       "9812    0                0  \n",
       "9813    0                0  \n",
       "9814    0                0  \n",
       "\n",
       "[9815 rows x 8 columns]"
      ]
     },
     "execution_count": 1,
     "metadata": {},
     "output_type": "execute_result"
    }
   ],
   "source": [
    "import pandas as pd \n",
    "\n",
    "m_df = pd.read_csv('./datasets/machine.csv')\n",
    "m_df"
   ]
  },
  {
   "cell_type": "code",
   "execution_count": 2,
   "id": "a938e74a-797c-4604-a127-97b456709880",
   "metadata": {},
   "outputs": [
    {
     "data": {
      "text/plain": [
       "Rotational speed [rpm]    0\n",
       "Torque [Nm]               0\n",
       "Tool wear [min]           0\n",
       "TWF                       0\n",
       "HDF                       0\n",
       "PWF                       0\n",
       "OSF                       0\n",
       "Machine failure           0\n",
       "dtype: int64"
      ]
     },
     "execution_count": 2,
     "metadata": {},
     "output_type": "execute_result"
    }
   ],
   "source": [
    "# 결측치 확인\n",
    "m_df.isna().sum()"
   ]
  },
  {
   "cell_type": "code",
   "execution_count": 3,
   "id": "67a442c6-0f58-4294-b9cd-e5b207d3257f",
   "metadata": {},
   "outputs": [
    {
     "data": {
      "text/plain": [
       "6"
      ]
     },
     "execution_count": 3,
     "metadata": {},
     "output_type": "execute_result"
    }
   ],
   "source": [
    "# 중복값 확인\n",
    "m_df.duplicated().sum()"
   ]
  },
  {
   "cell_type": "code",
   "execution_count": 4,
   "id": "bf35dee1-94ce-4d95-b63b-a00f37991c98",
   "metadata": {},
   "outputs": [
    {
     "data": {
      "text/html": [
       "<div>\n",
       "<style scoped>\n",
       "    .dataframe tbody tr th:only-of-type {\n",
       "        vertical-align: middle;\n",
       "    }\n",
       "\n",
       "    .dataframe tbody tr th {\n",
       "        vertical-align: top;\n",
       "    }\n",
       "\n",
       "    .dataframe thead th {\n",
       "        text-align: right;\n",
       "    }\n",
       "</style>\n",
       "<table border=\"1\" class=\"dataframe\">\n",
       "  <thead>\n",
       "    <tr style=\"text-align: right;\">\n",
       "      <th></th>\n",
       "      <th>Rotational speed [rpm]</th>\n",
       "      <th>Torque [Nm]</th>\n",
       "      <th>Tool wear [min]</th>\n",
       "      <th>TWF</th>\n",
       "      <th>HDF</th>\n",
       "      <th>PWF</th>\n",
       "      <th>OSF</th>\n",
       "      <th>Machine failure</th>\n",
       "    </tr>\n",
       "  </thead>\n",
       "  <tbody>\n",
       "    <tr>\n",
       "      <th>0</th>\n",
       "      <td>1551</td>\n",
       "      <td>42.8</td>\n",
       "      <td>0</td>\n",
       "      <td>0</td>\n",
       "      <td>0</td>\n",
       "      <td>0</td>\n",
       "      <td>0</td>\n",
       "      <td>0</td>\n",
       "    </tr>\n",
       "    <tr>\n",
       "      <th>1</th>\n",
       "      <td>1408</td>\n",
       "      <td>46.3</td>\n",
       "      <td>3</td>\n",
       "      <td>0</td>\n",
       "      <td>0</td>\n",
       "      <td>0</td>\n",
       "      <td>0</td>\n",
       "      <td>0</td>\n",
       "    </tr>\n",
       "    <tr>\n",
       "      <th>2</th>\n",
       "      <td>1498</td>\n",
       "      <td>49.4</td>\n",
       "      <td>5</td>\n",
       "      <td>0</td>\n",
       "      <td>0</td>\n",
       "      <td>0</td>\n",
       "      <td>0</td>\n",
       "      <td>0</td>\n",
       "    </tr>\n",
       "    <tr>\n",
       "      <th>3</th>\n",
       "      <td>1433</td>\n",
       "      <td>39.5</td>\n",
       "      <td>7</td>\n",
       "      <td>0</td>\n",
       "      <td>0</td>\n",
       "      <td>0</td>\n",
       "      <td>0</td>\n",
       "      <td>0</td>\n",
       "    </tr>\n",
       "    <tr>\n",
       "      <th>4</th>\n",
       "      <td>1408</td>\n",
       "      <td>40.0</td>\n",
       "      <td>9</td>\n",
       "      <td>0</td>\n",
       "      <td>0</td>\n",
       "      <td>0</td>\n",
       "      <td>0</td>\n",
       "      <td>0</td>\n",
       "    </tr>\n",
       "    <tr>\n",
       "      <th>...</th>\n",
       "      <td>...</td>\n",
       "      <td>...</td>\n",
       "      <td>...</td>\n",
       "      <td>...</td>\n",
       "      <td>...</td>\n",
       "      <td>...</td>\n",
       "      <td>...</td>\n",
       "      <td>...</td>\n",
       "    </tr>\n",
       "    <tr>\n",
       "      <th>9809</th>\n",
       "      <td>1634</td>\n",
       "      <td>27.9</td>\n",
       "      <td>12</td>\n",
       "      <td>0</td>\n",
       "      <td>0</td>\n",
       "      <td>0</td>\n",
       "      <td>0</td>\n",
       "      <td>0</td>\n",
       "    </tr>\n",
       "    <tr>\n",
       "      <th>9810</th>\n",
       "      <td>1604</td>\n",
       "      <td>29.5</td>\n",
       "      <td>14</td>\n",
       "      <td>0</td>\n",
       "      <td>0</td>\n",
       "      <td>0</td>\n",
       "      <td>0</td>\n",
       "      <td>0</td>\n",
       "    </tr>\n",
       "    <tr>\n",
       "      <th>9811</th>\n",
       "      <td>1632</td>\n",
       "      <td>31.8</td>\n",
       "      <td>17</td>\n",
       "      <td>0</td>\n",
       "      <td>0</td>\n",
       "      <td>0</td>\n",
       "      <td>0</td>\n",
       "      <td>0</td>\n",
       "    </tr>\n",
       "    <tr>\n",
       "      <th>9812</th>\n",
       "      <td>1645</td>\n",
       "      <td>33.4</td>\n",
       "      <td>22</td>\n",
       "      <td>0</td>\n",
       "      <td>0</td>\n",
       "      <td>0</td>\n",
       "      <td>0</td>\n",
       "      <td>0</td>\n",
       "    </tr>\n",
       "    <tr>\n",
       "      <th>9813</th>\n",
       "      <td>1408</td>\n",
       "      <td>48.5</td>\n",
       "      <td>25</td>\n",
       "      <td>0</td>\n",
       "      <td>0</td>\n",
       "      <td>0</td>\n",
       "      <td>0</td>\n",
       "      <td>0</td>\n",
       "    </tr>\n",
       "  </tbody>\n",
       "</table>\n",
       "<p>9809 rows × 8 columns</p>\n",
       "</div>"
      ],
      "text/plain": [
       "      Rotational speed [rpm]  Torque [Nm]  Tool wear [min]  TWF  HDF  PWF  \\\n",
       "0                       1551         42.8                0    0    0    0   \n",
       "1                       1408         46.3                3    0    0    0   \n",
       "2                       1498         49.4                5    0    0    0   \n",
       "3                       1433         39.5                7    0    0    0   \n",
       "4                       1408         40.0                9    0    0    0   \n",
       "...                      ...          ...              ...  ...  ...  ...   \n",
       "9809                    1634         27.9               12    0    0    0   \n",
       "9810                    1604         29.5               14    0    0    0   \n",
       "9811                    1632         31.8               17    0    0    0   \n",
       "9812                    1645         33.4               22    0    0    0   \n",
       "9813                    1408         48.5               25    0    0    0   \n",
       "\n",
       "      OSF  Machine failure  \n",
       "0       0                0  \n",
       "1       0                0  \n",
       "2       0                0  \n",
       "3       0                0  \n",
       "4       0                0  \n",
       "...   ...              ...  \n",
       "9809    0                0  \n",
       "9810    0                0  \n",
       "9811    0                0  \n",
       "9812    0                0  \n",
       "9813    0                0  \n",
       "\n",
       "[9809 rows x 8 columns]"
      ]
     },
     "execution_count": 4,
     "metadata": {},
     "output_type": "execute_result"
    }
   ],
   "source": [
    "pre_m_df = m_df.drop_duplicates()\n",
    "pre_m_df.reset_index(drop= True)\n",
    "pre_m_df"
   ]
  },
  {
   "cell_type": "code",
   "execution_count": 5,
   "id": "df8a6c6d-dbe3-4121-b636-1d93c087150b",
   "metadata": {},
   "outputs": [
    {
     "data": {
      "text/plain": [
       "Machine failure\n",
       "0    9523\n",
       "1     286\n",
       "Name: count, dtype: int64"
      ]
     },
     "execution_count": 5,
     "metadata": {},
     "output_type": "execute_result"
    }
   ],
   "source": [
    "pre_m_df['Machine failure'].value_counts()"
   ]
  },
  {
   "cell_type": "code",
   "execution_count": 6,
   "id": "44e07df8-31f1-4e1c-bc74-ee46bdd38ab7",
   "metadata": {},
   "outputs": [
    {
     "data": {
      "text/html": [
       "<div>\n",
       "<style scoped>\n",
       "    .dataframe tbody tr th:only-of-type {\n",
       "        vertical-align: middle;\n",
       "    }\n",
       "\n",
       "    .dataframe tbody tr th {\n",
       "        vertical-align: top;\n",
       "    }\n",
       "\n",
       "    .dataframe thead th {\n",
       "        text-align: right;\n",
       "    }\n",
       "</style>\n",
       "<table border=\"1\" class=\"dataframe\">\n",
       "  <thead>\n",
       "    <tr style=\"text-align: right;\">\n",
       "      <th></th>\n",
       "      <th>Rotational speed [rpm]</th>\n",
       "      <th>Torque [Nm]</th>\n",
       "      <th>Tool wear [min]</th>\n",
       "      <th>TWF</th>\n",
       "      <th>HDF</th>\n",
       "      <th>PWF</th>\n",
       "      <th>OSF</th>\n",
       "      <th>Machine failure</th>\n",
       "    </tr>\n",
       "  </thead>\n",
       "  <tbody>\n",
       "    <tr>\n",
       "      <th>0</th>\n",
       "      <td>1548</td>\n",
       "      <td>32.4</td>\n",
       "      <td>81</td>\n",
       "      <td>0</td>\n",
       "      <td>0</td>\n",
       "      <td>0</td>\n",
       "      <td>0</td>\n",
       "      <td>0</td>\n",
       "    </tr>\n",
       "    <tr>\n",
       "      <th>1</th>\n",
       "      <td>1350</td>\n",
       "      <td>54.9</td>\n",
       "      <td>153</td>\n",
       "      <td>0</td>\n",
       "      <td>0</td>\n",
       "      <td>0</td>\n",
       "      <td>0</td>\n",
       "      <td>0</td>\n",
       "    </tr>\n",
       "    <tr>\n",
       "      <th>2</th>\n",
       "      <td>1818</td>\n",
       "      <td>24.9</td>\n",
       "      <td>9</td>\n",
       "      <td>0</td>\n",
       "      <td>0</td>\n",
       "      <td>0</td>\n",
       "      <td>0</td>\n",
       "      <td>0</td>\n",
       "    </tr>\n",
       "    <tr>\n",
       "      <th>3</th>\n",
       "      <td>1635</td>\n",
       "      <td>30.5</td>\n",
       "      <td>159</td>\n",
       "      <td>0</td>\n",
       "      <td>0</td>\n",
       "      <td>0</td>\n",
       "      <td>0</td>\n",
       "      <td>0</td>\n",
       "    </tr>\n",
       "    <tr>\n",
       "      <th>4</th>\n",
       "      <td>1642</td>\n",
       "      <td>35.1</td>\n",
       "      <td>149</td>\n",
       "      <td>0</td>\n",
       "      <td>0</td>\n",
       "      <td>0</td>\n",
       "      <td>0</td>\n",
       "      <td>0</td>\n",
       "    </tr>\n",
       "    <tr>\n",
       "      <th>...</th>\n",
       "      <td>...</td>\n",
       "      <td>...</td>\n",
       "      <td>...</td>\n",
       "      <td>...</td>\n",
       "      <td>...</td>\n",
       "      <td>...</td>\n",
       "      <td>...</td>\n",
       "      <td>...</td>\n",
       "    </tr>\n",
       "    <tr>\n",
       "      <th>567</th>\n",
       "      <td>1352</td>\n",
       "      <td>48.9</td>\n",
       "      <td>238</td>\n",
       "      <td>0</td>\n",
       "      <td>0</td>\n",
       "      <td>0</td>\n",
       "      <td>1</td>\n",
       "      <td>1</td>\n",
       "    </tr>\n",
       "    <tr>\n",
       "      <th>568</th>\n",
       "      <td>1294</td>\n",
       "      <td>66.7</td>\n",
       "      <td>12</td>\n",
       "      <td>0</td>\n",
       "      <td>0</td>\n",
       "      <td>1</td>\n",
       "      <td>0</td>\n",
       "      <td>1</td>\n",
       "    </tr>\n",
       "    <tr>\n",
       "      <th>569</th>\n",
       "      <td>1360</td>\n",
       "      <td>60.9</td>\n",
       "      <td>187</td>\n",
       "      <td>0</td>\n",
       "      <td>0</td>\n",
       "      <td>0</td>\n",
       "      <td>1</td>\n",
       "      <td>1</td>\n",
       "    </tr>\n",
       "    <tr>\n",
       "      <th>570</th>\n",
       "      <td>1337</td>\n",
       "      <td>56.1</td>\n",
       "      <td>206</td>\n",
       "      <td>0</td>\n",
       "      <td>0</td>\n",
       "      <td>0</td>\n",
       "      <td>1</td>\n",
       "      <td>1</td>\n",
       "    </tr>\n",
       "    <tr>\n",
       "      <th>571</th>\n",
       "      <td>1361</td>\n",
       "      <td>68.2</td>\n",
       "      <td>172</td>\n",
       "      <td>0</td>\n",
       "      <td>0</td>\n",
       "      <td>1</td>\n",
       "      <td>1</td>\n",
       "      <td>1</td>\n",
       "    </tr>\n",
       "  </tbody>\n",
       "</table>\n",
       "<p>572 rows × 8 columns</p>\n",
       "</div>"
      ],
      "text/plain": [
       "     Rotational speed [rpm]  Torque [Nm]  Tool wear [min]  TWF  HDF  PWF  OSF  \\\n",
       "0                      1548         32.4               81    0    0    0    0   \n",
       "1                      1350         54.9              153    0    0    0    0   \n",
       "2                      1818         24.9                9    0    0    0    0   \n",
       "3                      1635         30.5              159    0    0    0    0   \n",
       "4                      1642         35.1              149    0    0    0    0   \n",
       "..                      ...          ...              ...  ...  ...  ...  ...   \n",
       "567                    1352         48.9              238    0    0    0    1   \n",
       "568                    1294         66.7               12    0    0    1    0   \n",
       "569                    1360         60.9              187    0    0    0    1   \n",
       "570                    1337         56.1              206    0    0    0    1   \n",
       "571                    1361         68.2              172    0    0    1    1   \n",
       "\n",
       "     Machine failure  \n",
       "0                  0  \n",
       "1                  0  \n",
       "2                  0  \n",
       "3                  0  \n",
       "4                  0  \n",
       "..               ...  \n",
       "567                1  \n",
       "568                1  \n",
       "569                1  \n",
       "570                1  \n",
       "571                1  \n",
       "\n",
       "[572 rows x 8 columns]"
      ]
     },
     "execution_count": 6,
     "metadata": {},
     "output_type": "execute_result"
    }
   ],
   "source": [
    "# 언더샘플링 진행\n",
    "machine_failure_0 = pre_m_df[pre_m_df['Machine failure'] ==0].sample(286, random_state=321)\n",
    "machine_failure_1 = pre_m_df[pre_m_df['Machine failure'] ==1]\n",
    "\n",
    "under_m_df = pd.concat([machine_failure_0, machine_failure_1]).reset_index(drop=True)\n",
    "under_m_df"
   ]
  },
  {
   "cell_type": "code",
   "execution_count": 7,
   "id": "b4452760-324f-480f-a965-7fc0484dd5d3",
   "metadata": {},
   "outputs": [
    {
     "data": {
      "text/plain": [
       "Machine failure\n",
       "0    286\n",
       "1    286\n",
       "Name: count, dtype: int64"
      ]
     },
     "execution_count": 7,
     "metadata": {},
     "output_type": "execute_result"
    }
   ],
   "source": [
    "under_m_df['Machine failure'].value_counts()"
   ]
  },
  {
   "cell_type": "code",
   "execution_count": 8,
   "id": "51dad896-5b88-4abb-88ce-ca204b3b7cc2",
   "metadata": {
    "scrolled": true
   },
   "outputs": [],
   "source": [
    "import torch\n",
    "from torch.nn import Sequential, Linear, Sigmoid\n",
    "from torch.nn.functional import binary_cross_entropy\n",
    "from sklearn.model_selection import train_test_split\n",
    "from torch.optim import SGD\n",
    "import numpy as np\n",
    "\n",
    "torch.manual_seed(321)\n",
    "\n",
    "features, targets = under_m_df.iloc[:, :-1], under_m_df.iloc[:, -1]\n",
    "\n",
    "X_train, X_test, y_train, y_test = \\\n",
    "train_test_split(features, targets, stratify=targets, test_size=0.2, random_state=321)\n",
    "\n",
    "X_train = torch.FloatTensor(X_train.values)\n",
    "y_train = torch.FloatTensor(y_train.values).view(-1, 1)\n",
    "X_test = torch.FloatTensor(X_test.values)\n",
    "y_test = torch.FloatTensor(y_test.values).view(-1, 1)\n",
    "\n",
    "logistic_r = Sequential(\n",
    "    Linear(7, 1),\n",
    "    Sigmoid()\n",
    ")\n",
    "\n",
    "optimizer = SGD(logistic_r.parameters(), lr= 0.1)\n",
    "\n",
    "epochs = 1000\n",
    "\n",
    "for epoch in range(1, epochs + 1):\n",
    "    H = logistic_r(X_train)\n",
    "\n",
    "    loss = binary_cross_entropy(H, y_train)\n",
    "\n",
    "    optimizer.zero_grad()\n",
    "    loss.backward()\n",
    "    optimizer.step()\n",
    "\n",
    "    if epoch % 10000 == 0:\n",
    "        print(f'Epoch: {epoch}/{epochs}')\n",
    "        for i, w in enumerate(list(logistic_r.parameters())[0][0]):\n",
    "            print(f'W{i + 1}: {np.round(w.item(), 4)}', end=', ')\n",
    "        print(f'b: {np.round(list(logistic_r.parameters())[1].item())}\\nLoss: {np.round(loss.item(), 4)}')\n",
    "        print('=' * 90)\n"
   ]
  },
  {
   "cell_type": "code",
   "execution_count": 9,
   "id": "c4f8b98c-aac0-4f74-b26a-be91d9452399",
   "metadata": {},
   "outputs": [],
   "source": [
    "import matplotlib.pyplot as plt\n",
    "from sklearn.metrics import accuracy_score, precision_score, recall_score, f1_score, roc_auc_score, confusion_matrix, ConfusionMatrixDisplay\n",
    "\n",
    "def get_evaluation(y_test, prediction, classifier=None, X_test=None):\n",
    "    confusion = confusion_matrix(y_test, prediction)\n",
    "    accuracy = accuracy_score(y_test , prediction)\n",
    "    precision = precision_score(y_test , prediction)\n",
    "    recall = recall_score(y_test , prediction)\n",
    "    f1 = f1_score(y_test, prediction)\n",
    "    auc = roc_auc_score(y_test, prediction)\n",
    "    \n",
    "    print('오차 행렬')\n",
    "    print(confusion)\n",
    "    print('정확도: {0:.4f}, 정밀도: {1:.4f}, 재현율: {2:.4f}, F1: {3:.4f}, ROC-AUC: {4:.4f}'.format(accuracy, precision, recall, f1, auc))\n",
    "    print(\"#\" * 80)\n",
    "    \n",
    "    if classifier is not None and  X_test is not None:\n",
    "        fig, axes = plt.subplots(nrows=1, ncols=2, figsize=(12,4))\n",
    "        titles_options = [(\"Confusion matrix\", None), (\"Normalized confusion matrix\", \"true\")]\n",
    "\n",
    "        for (title, normalize), ax in zip(titles_options, axes.flatten()):\n",
    "            disp = ConfusionMatrixDisplay.from_estimator(classifier, X_test, y_test, ax=ax, cmap=plt.cm.Blues, normalize=normalize)\n",
    "            disp.ax_.set_title(title)\n",
    "        plt.show()"
   ]
  },
  {
   "cell_type": "code",
   "execution_count": 10,
   "id": "40a14e6a-0b68-4d5f-a234-a9e3ca22baf1",
   "metadata": {},
   "outputs": [
    {
     "name": "stdout",
     "output_type": "stream",
     "text": [
      "오차 행렬\n",
      "[[ 0 58]\n",
      " [ 0 57]]\n",
      "정확도: 0.4957, 정밀도: 0.4957, 재현율: 1.0000, F1: 0.6628, ROC-AUC: 0.5000\n",
      "################################################################################\n"
     ]
    }
   ],
   "source": [
    "get_evaluation(y_test.detach(), logistic_r(X_test) >= 0.5)"
   ]
  },
  {
   "cell_type": "markdown",
   "id": "bf90316b-01b2-45c2-b390-9dd7417c32be",
   "metadata": {},
   "source": [
    "### sklearn"
   ]
  },
  {
   "cell_type": "code",
   "execution_count": 11,
   "id": "c19bc462-026b-4ba3-86c3-bb539efc720d",
   "metadata": {},
   "outputs": [],
   "source": [
    "from sklearn.linear_model import LogisticRegression\n",
    "\n",
    "features, targets = under_m_df.iloc[:, :-1], under_m_df.iloc[:, -1]\n",
    "\n",
    "X_train, X_test, y_train, y_test = \\\n",
    "train_test_split(features, targets, stratify=targets, test_size=0.2, random_state=321)\n",
    "\n",
    "logistic_r = LogisticRegression(solver='liblinear', penalty='l2', C=0.1, random_state=321)\n",
    "logistic_r.fit(X_train, y_train)\n",
    "prediction = logistic_r.predict(X_test)"
   ]
  },
  {
   "cell_type": "code",
   "execution_count": 12,
   "id": "29debc96-91c4-465e-8961-ea0abc5017fd",
   "metadata": {},
   "outputs": [
    {
     "name": "stdout",
     "output_type": "stream",
     "text": [
      "오차 행렬\n",
      "[[49  9]\n",
      " [ 3 54]]\n",
      "정확도: 0.8957, 정밀도: 0.8571, 재현율: 0.9474, F1: 0.9000, ROC-AUC: 0.8961\n",
      "################################################################################\n"
     ]
    },
    {
     "data": {
      "image/png": "[encoded data removed]",
      "text/plain": [
       "<Figure size 1200x400 with 4 Axes>"
      ]
     },
     "metadata": {},
     "output_type": "display_data"
    }
   ],
   "source": [
    "get_evaluation(y_test, prediction, logistic_r, X_test)"
   ]
  },
  {
   "cell_type": "code",
   "execution_count": 13,
   "id": "c04519ac-bf21-4e38-aeba-d40244a62088",
   "metadata": {},
   "outputs": [
    {
     "name": "stdout",
     "output_type": "stream",
     "text": [
      "가중치: [[-0.00393833  0.08104051  0.01015431  1.36929055  1.64270908  0.69302463\n",
      "   0.80224317]]\n"
     ]
    }
   ],
   "source": [
    "# 모델의 가중치 출력\n",
    "print(\"가중치:\", logistic_r.coef_)"
   ]
  },
  {
   "cell_type": "markdown",
   "id": "d905afd2-7df9-4985-ac57-b68e7dbd7625",
   "metadata": {},
   "source": [
    "# 원본 데이터로 확인"
   ]
  },
  {
   "cell_type": "code",
   "execution_count": 14,
   "id": "3051ca08-78c8-470b-bb1e-4a781633d4c4",
   "metadata": {
    "scrolled": true
   },
   "outputs": [],
   "source": [
    "import torch\n",
    "from torch.nn import Sequential, Linear, Sigmoid\n",
    "from torch.nn.functional import binary_cross_entropy\n",
    "from sklearn.model_selection import train_test_split\n",
    "from torch.optim import SGD\n",
    "import numpy as np\n",
    "\n",
    "torch.manual_seed(321)\n",
    "\n",
    "features, targets = pre_m_df.iloc[:, :-1], pre_m_df.iloc[:, -1]\n",
    "\n",
    "X_train, X_test, y_train, y_test = \\\n",
    "train_test_split(features, targets, stratify=targets, test_size=0.2, random_state=321)\n",
    "\n",
    "X_train = torch.FloatTensor(X_train.values)\n",
    "y_train = torch.FloatTensor(y_train.values).view(-1, 1)\n",
    "X_test = torch.FloatTensor(X_test.values)\n",
    "y_test = torch.FloatTensor(y_test.values).view(-1, 1)\n",
    "\n",
    "logistic_r = Sequential(\n",
    "    Linear(7, 1),\n",
    "    Sigmoid()\n",
    ")\n",
    "\n",
    "optimizer = SGD(logistic_r.parameters(), lr= 30)\n",
    "\n",
    "epochs = 1000\n",
    "\n",
    "for epoch in range(1, epochs + 1):\n",
    "    H = logistic_r(X_train)\n",
    "\n",
    "    loss = binary_cross_entropy(H, y_train)\n",
    "\n",
    "    optimizer.zero_grad()\n",
    "    loss.backward()\n",
    "    optimizer.step()\n",
    "\n",
    "    if epoch % 10000 == 0:\n",
    "        print(f'Epoch: {epoch}/{epochs}')\n",
    "        for i, w in enumerate(list(logistic_r.parameters())[0][0]):\n",
    "            print(f'W{i + 1}: {np.round(w.item(), 4)}', end=', ')\n",
    "        print(f'b: {np.round(list(logistic_r.parameters())[1].item())}\\nLoss: {np.round(loss.item(), 4)}')\n",
    "        print('=' * 90)\n"
   ]
  },
  {
   "cell_type": "code",
   "execution_count": 15,
   "id": "5051a55d-206c-4c17-a997-26a68f18c0b9",
   "metadata": {},
   "outputs": [
    {
     "name": "stdout",
     "output_type": "stream",
     "text": [
      "오차 행렬\n",
      "[[   0 1905]\n",
      " [   0   57]]\n",
      "정확도: 0.0291, 정밀도: 0.0291, 재현율: 1.0000, F1: 0.0565, ROC-AUC: 0.5000\n",
      "################################################################################\n"
     ]
    }
   ],
   "source": [
    "get_evaluation(y_test.detach(), logistic_r(X_test) >= 0.5)"
   ]
  },
  {
   "cell_type": "code",
   "execution_count": 16,
   "id": "7d3a9bad-2f7e-4dd8-9abe-d2a2a59d8d71",
   "metadata": {},
   "outputs": [],
   "source": [
    "from sklearn.linear_model import LogisticRegression\n",
    "\n",
    "features, targets = pre_m_df.iloc[:, :-1], pre_m_df.iloc[:, -1]\n",
    "\n",
    "X_train, X_test, y_train, y_test = \\\n",
    "train_test_split(features, targets, stratify=targets, test_size=0.2, random_state=321)\n",
    "\n",
    "logistic_r = LogisticRegression(solver='liblinear', penalty='l2', C=1, random_state=321)\n",
    "logistic_r.fit(X_train, y_train)\n",
    "prediction = logistic_r.predict(X_test)"
   ]
  },
  {
   "cell_type": "code",
   "execution_count": 17,
   "id": "1bbaed9f-7dcc-4004-a686-7e3067ea3500",
   "metadata": {},
   "outputs": [
    {
     "name": "stdout",
     "output_type": "stream",
     "text": [
      "오차 행렬\n",
      "[[1905    0]\n",
      " [   7   50]]\n",
      "정확도: 0.9964, 정밀도: 1.0000, 재현율: 0.8772, F1: 0.9346, ROC-AUC: 0.9386\n",
      "################################################################################\n"
     ]
    },
    {
     "data": {
      "image/png": "[encoded data removed]",
      "text/plain": [
       "<Figure size 1200x400 with 4 Axes>"
      ]
     },
     "metadata": {},
     "output_type": "display_data"
    }
   ],
   "source": [
    "get_evaluation(y_test, prediction, logistic_r, X_test)"
   ]
  },
  {
   "cell_type": "markdown",
   "id": "5b4a98b4-2d42-40d2-a795-cf1337576597",
   "metadata": {},
   "source": [
    "# 상관관계 및 다중공선성 확인 후 faeture를 제거 하고 확인."
   ]
  },
  {
   "cell_type": "code",
   "execution_count": 18,
   "id": "e440c304-4052-4a0e-8e9a-5095dff614db",
   "metadata": {},
   "outputs": [
    {
     "data": {
      "text/plain": [
       "HDF                       0.628494\n",
       "OSF                       0.567605\n",
       "TWF                       0.387342\n",
       "PWF                       0.387342\n",
       "Torque [Nm]               0.236346\n",
       "Tool wear [min]           0.115266\n",
       "Rotational speed [rpm]   -0.169259\n",
       "Name: Machine failure, dtype: float64"
      ]
     },
     "execution_count": 18,
     "metadata": {},
     "output_type": "execute_result"
    }
   ],
   "source": [
    "pre_m_df.corr()['Machine failure'].sort_values(ascending=False)[1:]"
   ]
  },
  {
   "cell_type": "code",
   "execution_count": 19,
   "id": "085d4569-2a35-4e79-9546-2bb32e4f01b2",
   "metadata": {},
   "outputs": [
    {
     "data": {
      "text/plain": [
       "<Axes: >"
      ]
     },
     "execution_count": 19,
     "metadata": {},
     "output_type": "execute_result"
    },
    {
     "data": {
      "image/png": "[encoded data removed]",
      "text/plain": [
       "<Figure size 640x480 with 2 Axes>"
      ]
     },
     "metadata": {},
     "output_type": "display_data"
    }
   ],
   "source": [
    "import seaborn as sns \n",
    "\n",
    "corr = pre_m_df.corr()\n",
    "sns.heatmap(corr, cmap='Oranges')"
   ]
  },
  {
   "cell_type": "code",
   "execution_count": 20,
   "id": "fab3ca68-8c1c-4226-8915-eb613a718b28",
   "metadata": {},
   "outputs": [],
   "source": [
    "from statsmodels.stats.outliers_influence import variance_inflation_factor\n",
    "\n",
    "def get_vif(features):\n",
    "    vif = pd.DataFrame()\n",
    "    vif['vif_score'] = [variance_inflation_factor(features.values, i) for i in range(features.shape[1])]\n",
    "    vif['feature'] = features.columns\n",
    "    return vif"
   ]
  },
  {
   "cell_type": "code",
   "execution_count": 21,
   "id": "419f8166-41dc-4a30-8cf8-20f310b1e49d",
   "metadata": {},
   "outputs": [
    {
     "data": {
      "text/html": [
       "<div>\n",
       "<style scoped>\n",
       "    .dataframe tbody tr th:only-of-type {\n",
       "        vertical-align: middle;\n",
       "    }\n",
       "\n",
       "    .dataframe tbody tr th {\n",
       "        vertical-align: top;\n",
       "    }\n",
       "\n",
       "    .dataframe thead th {\n",
       "        text-align: right;\n",
       "    }\n",
       "</style>\n",
       "<table border=\"1\" class=\"dataframe\">\n",
       "  <thead>\n",
       "    <tr style=\"text-align: right;\">\n",
       "      <th></th>\n",
       "      <th>vif_score</th>\n",
       "      <th>feature</th>\n",
       "    </tr>\n",
       "  </thead>\n",
       "  <tbody>\n",
       "    <tr>\n",
       "      <th>0</th>\n",
       "      <td>12.358579</td>\n",
       "      <td>Rotational speed [rpm]</td>\n",
       "    </tr>\n",
       "    <tr>\n",
       "      <th>1</th>\n",
       "      <td>11.139021</td>\n",
       "      <td>Torque [Nm]</td>\n",
       "    </tr>\n",
       "    <tr>\n",
       "      <th>2</th>\n",
       "      <td>4.010943</td>\n",
       "      <td>Tool wear [min]</td>\n",
       "    </tr>\n",
       "    <tr>\n",
       "      <th>3</th>\n",
       "      <td>1.019010</td>\n",
       "      <td>TWF</td>\n",
       "    </tr>\n",
       "    <tr>\n",
       "      <th>4</th>\n",
       "      <td>1.035623</td>\n",
       "      <td>HDF</td>\n",
       "    </tr>\n",
       "    <tr>\n",
       "      <th>5</th>\n",
       "      <td>1.039084</td>\n",
       "      <td>PWF</td>\n",
       "    </tr>\n",
       "    <tr>\n",
       "      <th>6</th>\n",
       "      <td>1.075201</td>\n",
       "      <td>OSF</td>\n",
       "    </tr>\n",
       "  </tbody>\n",
       "</table>\n",
       "</div>"
      ],
      "text/plain": [
       "   vif_score                 feature\n",
       "0  12.358579  Rotational speed [rpm]\n",
       "1  11.139021             Torque [Nm]\n",
       "2   4.010943         Tool wear [min]\n",
       "3   1.019010                     TWF\n",
       "4   1.035623                     HDF\n",
       "5   1.039084                     PWF\n",
       "6   1.075201                     OSF"
      ]
     },
     "execution_count": 21,
     "metadata": {},
     "output_type": "execute_result"
    }
   ],
   "source": [
    "get_vif(features)"
   ]
  },
  {
   "cell_type": "code",
   "execution_count": 22,
   "id": "3eeebd1d-2608-4b84-847e-bf147a7cc67f",
   "metadata": {},
   "outputs": [
    {
     "name": "stdout",
     "output_type": "stream",
     "text": [
      "                                 OLS Regression Results                                \n",
      "=======================================================================================\n",
      "Dep. Variable:        Machine failure   R-squared (uncentered):                   0.914\n",
      "Model:                            OLS   Adj. R-squared (uncentered):              0.914\n",
      "Method:                 Least Squares   F-statistic:                          1.492e+04\n",
      "Date:                Wed, 08 May 2024   Prob (F-statistic):                        0.00\n",
      "Time:                        16:42:24   Log-Likelihood:                          15462.\n",
      "No. Observations:                9809   AIC:                                 -3.091e+04\n",
      "Df Residuals:                    9802   BIC:                                 -3.086e+04\n",
      "Df Model:                           7                                                  \n",
      "Covariance Type:            nonrobust                                                  \n",
      "==========================================================================================\n",
      "                             coef    std err          t      P>|t|      [0.025      0.975]\n",
      "------------------------------------------------------------------------------------------\n",
      "Rotational speed [rpm] -2.728e-06   1.16e-06     -2.355      0.019      -5e-06   -4.58e-07\n",
      "Torque [Nm]                0.0002   4.07e-05      3.890      0.000    7.86e-05       0.000\n",
      "Tool wear [min]         4.121e-06   8.08e-06      0.510      0.610   -1.17e-05       2e-05\n",
      "TWF                        0.9227      0.008    121.162      0.000       0.908       0.938\n",
      "HDF                        0.9312      0.005    196.099      0.000       0.922       0.941\n",
      "PWF                        0.7558      0.008     98.283      0.000       0.741       0.771\n",
      "OSF                        0.8405      0.005    157.044      0.000       0.830       0.851\n",
      "==============================================================================\n",
      "Omnibus:                     4643.888   Durbin-Watson:                   1.919\n",
      "Prob(Omnibus):                  0.000   Jarque-Bera (JB):         38385361.266\n",
      "Skew:                          -0.127   Prob(JB):                         0.00\n",
      "Kurtosis:                     309.461   Cond. No.                     2.36e+04\n",
      "==============================================================================\n",
      "\n",
      "Notes:\n",
      "[1] R² is computed without centering (uncentered) since the model does not contain a constant.\n",
      "[2] Standard Errors assume that the covariance matrix of the errors is correctly specified.\n",
      "[3] The condition number is large, 2.36e+04. This might indicate that there are\n",
      "strong multicollinearity or other numerical problems.\n"
     ]
    }
   ],
   "source": [
    "from statsmodels.api import OLS\n",
    "\n",
    "features, targets = pre_m_df.iloc[:, :-1], pre_m_df.iloc[:, -1]\n",
    "\n",
    "model = OLS(targets, features)\n",
    "print(model.fit().summary())"
   ]
  },
  {
   "cell_type": "code",
   "execution_count": 23,
   "id": "8d437a6c-37fa-4f4e-b30f-63eb5e0606c7",
   "metadata": {},
   "outputs": [],
   "source": [
    "pre_m_df = pre_m_df.drop(labels = ['Tool wear [min]'], axis = 1)"
   ]
  },
  {
   "cell_type": "code",
   "execution_count": 24,
   "id": "a13b1aff-364b-4eb1-8a1c-766c5f810cb3",
   "metadata": {},
   "outputs": [],
   "source": [
    "from sklearn.linear_model import LogisticRegression\n",
    "\n",
    "features, targets = pre_m_df.iloc[:, :-1], pre_m_df.iloc[:, -1]\n",
    "\n",
    "X_train, X_test, y_train, y_test = \\\n",
    "train_test_split(features, targets, stratify=targets, test_size=0.2, random_state=321)\n",
    "\n",
    "logistic_r = LogisticRegression(solver='liblinear', penalty='l2', C=1, random_state=321)\n",
    "logistic_r.fit(X_train, y_train)\n",
    "prediction = logistic_r.predict(X_test)"
   ]
  },
  {
   "cell_type": "code",
   "execution_count": 25,
   "id": "2464a5ae-5d1d-47e9-b9e3-75f3a0b80911",
   "metadata": {},
   "outputs": [
    {
     "name": "stdout",
     "output_type": "stream",
     "text": [
      "오차 행렬\n",
      "[[1905    0]\n",
      " [  10   47]]\n",
      "정확도: 0.9949, 정밀도: 1.0000, 재현율: 0.8246, F1: 0.9038, ROC-AUC: 0.9123\n",
      "################################################################################\n"
     ]
    },
    {
     "data": {
      "image/png": "[encoded data removed]",
      "text/plain": [
       "<Figure size 1200x400 with 4 Axes>"
      ]
     },
     "metadata": {},
     "output_type": "display_data"
    }
   ],
   "source": [
    "get_evaluation(y_test, prediction, logistic_r, X_test)"
   ]
  },
  {
   "cell_type": "code",
   "execution_count": null,
   "id": "c6e6ec1b-86dc-4a78-9f93-a3ff82acb426",
   "metadata": {},
   "outputs": [],
   "source": []
  },
  {
   "cell_type": "code",
   "execution_count": null,
   "id": "da549b4a-20e3-4514-bc5e-674e1ab26905",
   "metadata": {},
   "outputs": [],
   "source": []
  }
 ],
 "metadata": {
  "kernelspec": {
   "display_name": "Python 3 (ipykernel)",
   "language": "python",
   "name": "python3"
  },
  "language_info": {
   "codemirror_mode": {
    "name": "ipython",
    "version": 3
   },
   "file_extension": ".py",
   "mimetype": "text/x-python",
   "name": "python",
   "nbconvert_exporter": "python",
   "pygments_lexer": "ipython3",
   "version": "3.11.8"
  }
 },
 "nbformat": 4,
 "nbformat_minor": 5
}
