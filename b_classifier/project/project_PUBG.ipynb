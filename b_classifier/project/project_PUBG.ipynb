{
 "cells": [
  {
   "cell_type": "markdown",
   "id": "7e531ce2-fc6e-4056-aaac-ccb23eb75dc8",
   "metadata": {},
   "source": [
    "## 🎇 주제 \n",
    "- PUBG (BattleGround) 마무리 승리 예측"
   ]
  },
  {
   "cell_type": "markdown",
   "id": "3d3336e8-c861-4ee4-a965-cd2968e9fa37",
   "metadata": {},
   "source": [
    "### 🎮 PUBG (BattleGround) 마무리 승리 예측 데이터 프레임 컬럼 설명 (pubg_df)\r\n",
    "\r\n",
    "| 컬럼명              | 설명                                                                                                                     |\r\n",
    "|------------------|------------------------------------------------------------------------------------------------------------------------|\r\n",
    "| `DBNOs`          | 노크된 적 플레이어의 수                                                                                                    |\r\n",
    "| `Assists`       | 이 플레이어가 피해를 입히고 팀원에 의해 살해된 적 플레이어의 수                                                              |\r\n",
    "| `Boosts`        | 사용된 부스트 아이템의 수                                                                                                   |\r\n",
    "| `DamageDealt`   | 입힌 총 피해량, 스스로 입힌 피해는 차감                                                                                      |\r\n",
    "| `HeadshotKills` | 헤드샷으로 죽인 적 플레이어의 수                                                                                            |\r\n",
    "| `Heals`         | 사용된 치유 아이템의 수                                                                                                     |\r\n",
    "| `Id`            | 플레이어의 ID                                                                                                              |\r\n",
    "| `KillPlace`     | 죽인 적 플레이어 수에 따른 순위                                                                                             |\r\n",
    "| `KillPoints`    | 플레이어의 킬 기반 외부 순위 (킬만 중요한 Elo 순위로 생각)                                                                  |\r\n",
    "| `KillStreaks`   | 짧은 시간 내에 살해된 적 플레이어의 최대 수                                                                                 |\r\n",
    "| `Kills`         | 죽인 적 플레이어의 수                                                                                                      |\r\n",
    "| `LongestKill`   | 사망 시 플레이어와 플레이어 사이의 가장 긴 거리                                                                             |\r\n",
    "| `MatchDuration` | 경기 기간(초)                                                                                                              |\r\n",
    "| `MatchId`       | 경기를 식별하는 ID                                                                                                         |\r\n",
    "| `MatchType`     | 데이터를 가져오는 게임 모드 (표준 모드는 solo, duo, squad, solo-fpp, duo-fpp, squad-fpp)                                   |\r\n",
    "| `RankPoints`    | Elo와 유사한 플레이어 순위, 다음 버전에서 사용되지 않음                                                                      |\r\n",
    "| `Revives`       | 이 플레이어가 팀원을 부활시킨 횟수                                                                                          |\r\n",
    "| `RideDistance`  | 차량으로 이동한 총 거리 (미터)                                                                                              |\r\n",
    "| `RoadKills`     | 차량에 탑승한 동안 사망한 횟수                                                                                              |\r\n",
    "| `SwimDistance`  | 수영으로 이동한 총 거리 (미터)                                                                                              |\r\n",
    "| `TeamKills`     | 이 플레이어가 팀원을 죽인 횟수                                                                                              |\r\n",
    "| `VehicleDestroys`| 파괴된 차량 수                                                                                                             |\r\n",
    "| `WalkDistance`  | 도보로 이동한 총 거리 (미터)                                                                                                |\r\n",
    "| `WeaponsAcquired`| 집은 무기의 수                                                                                                             |\r\n",
    "| `WinPoints`     | 플레이어의 승리 기반 외부 순위 (승리만 중요한 Elo 순위로 생각)                                                               |\r\n",
    "| `GroupId`       | 경기 내에서 그룹을 식별하는 ID                                                                                             |\r\n",
    "| `NumGroups`     | 경기에서 데이터가 있는 그룹 수                                                                                             |\r\n",
    "| `MaxPlace`      | 경기에서 데이터가 있는 최악의 배치                                                                                         |\r\n",
    "| `WinPlacePerc`  | 예측 대상, 백분위수 승리 순위로, 1은 경기의 1위, 0은 최하위에 해당                                                          |"
   ]
  },
  {
   "cell_type": "code",
   "execution_count": 1,
   "id": "c1e71986-2a74-4524-9a10-1e7b2d6729c5",
   "metadata": {},
   "outputs": [],
   "source": [
    "# 데이터 가져오기\n",
    "import pandas as pd \n",
    "path1 = '/kdt_0900_kgs/ai/machine_learning/b_classifier/datasets/project_classifier/pubg-finish-placement-prediction/train_V2.csv'\n",
    "path2 = '/kdt_0900_kgs/ai/machine_learning/b_classifier/datasets/project_classifier/pubg-finish-placement-prediction/test_V2.csv'\n",
    "p_df_path1 = pd.read_csv(path1)\n",
    "p_df_path2 = pd.read_csv(path2)\n",
    "p_df = pd.concat([p_df_path1, p_df_path2], axis =0)"
   ]
  },
  {
   "cell_type": "code",
   "execution_count": 4,
   "id": "bd2a5aac-6330-4c95-899a-3623a7976a94",
   "metadata": {},
   "outputs": [
    {
     "data": {
      "text/plain": [
       "Id                 6381140\n",
       "groupId            6381140\n",
       "matchId            6381140\n",
       "assists            6381140\n",
       "boosts             6381140\n",
       "damageDealt        6381140\n",
       "DBNOs              6381140\n",
       "headshotKills      6381140\n",
       "heals              6381140\n",
       "killPlace          6381140\n",
       "killPoints         6381140\n",
       "kills              6381140\n",
       "killStreaks        6381140\n",
       "longestKill        6381140\n",
       "matchDuration      6381140\n",
       "matchType          6381140\n",
       "maxPlace           6381140\n",
       "numGroups          6381140\n",
       "rankPoints         6381140\n",
       "revives            6381140\n",
       "rideDistance       6381140\n",
       "roadKills          6381140\n",
       "swimDistance       6381140\n",
       "teamKills          6381140\n",
       "vehicleDestroys    6381140\n",
       "walkDistance       6381140\n",
       "weaponsAcquired    6381140\n",
       "winPoints          6381140\n",
       "winPlacePerc       4446965\n",
       "dtype: int64"
      ]
     },
     "execution_count": 4,
     "metadata": {},
     "output_type": "execute_result"
    }
   ],
   "source": [
    "p_df.count()"
   ]
  },
  {
   "cell_type": "code",
   "execution_count": 2,
   "id": "3cca22ce-b9e9-4904-953b-0b398f13563b",
   "metadata": {},
   "outputs": [
    {
     "data": {
      "text/plain": [
       "Index(['Id', 'groupId', 'matchId', 'assists', 'boosts', 'damageDealt', 'DBNOs',\n",
       "       'headshotKills', 'heals', 'killPlace', 'killPoints', 'kills',\n",
       "       'killStreaks', 'longestKill', 'matchDuration', 'matchType', 'maxPlace',\n",
       "       'numGroups', 'rankPoints', 'revives', 'rideDistance', 'roadKills',\n",
       "       'swimDistance', 'teamKills', 'vehicleDestroys', 'walkDistance',\n",
       "       'weaponsAcquired', 'winPoints', 'winPlacePerc'],\n",
       "      dtype='object')"
      ]
     },
     "execution_count": 2,
     "metadata": {},
     "output_type": "execute_result"
    }
   ],
   "source": [
    "p_df.columns"
   ]
  },
  {
   "cell_type": "code",
   "execution_count": null,
   "id": "720d2406-666f-4456-bb03-444cf52726ee",
   "metadata": {},
   "outputs": [],
   "source": [
    "# 데이터 전처리 작업\n",
    "# 1. 측정 위치에 따른 데이터 컬럼 위치 변경 후 copy\n",
    "# 2. 결측치, 중복값 확인 "
   ]
  },
  {
   "cell_type": "code",
   "execution_count": null,
   "id": "e69c374a-04ea-42ca-9db6-543bba3a4a82",
   "metadata": {},
   "outputs": [],
   "source": []
  },
  {
   "cell_type": "code",
   "execution_count": null,
   "id": "356269e6-b331-452d-81a3-37c1377685d9",
   "metadata": {},
   "outputs": [],
   "source": []
  }
 ],
 "metadata": {
  "kernelspec": {
   "display_name": "Python 3 (ipykernel)",
   "language": "python",
   "name": "python3"
  },
  "language_info": {
   "codemirror_mode": {
    "name": "ipython",
    "version": 3
   },
   "file_extension": ".py",
   "mimetype": "text/x-python",
   "name": "python",
   "nbconvert_exporter": "python",
   "pygments_lexer": "ipython3",
   "version": "3.11.8"
  }
 },
 "nbformat": 4,
 "nbformat_minor": 5
}
