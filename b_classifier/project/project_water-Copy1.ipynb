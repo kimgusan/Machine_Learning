{
 "cells": [
  {
   "cell_type": "markdown",
   "id": "aec6fe99-c2e8-403b-8c1d-f48902f38e5b",
   "metadata": {},
   "source": [
    "### 🎇 주제 \n",
    "- The Quality of Freshwater (담수의 품질)"
   ]
  },
  {
   "cell_type": "markdown",
   "id": "f75a99ee-ac12-4244-8c20-734ff0996bbc",
   "metadata": {},
   "source": [
    "### 💧 The Quality of Freshwater 데이터 프레임 컬럼 설명 (w_origin_df)\n",
    "\n",
    "| 컬럼명                   | 설명                                                                         |\n",
    "|------------------------|----------------------------------------------------------------------------|\n",
    "| `Index`                | 데이터 포인트의 고유 인덱스 번호                                               |\n",
    "| `pH`                   | 물의 pH 값, 산성 또는 알칼리성을 나타냄                                         |\n",
    "| `Iron`                 | 물 속 철분의 함량                                                              |\n",
    "| `Nitrate`              | 물 속 질산염의 함량                                                            |\n",
    "| `Chloride`             | 물 속 염화물의 함량                                                            |\n",
    "| `Lead`                 | 물 속 납의 함량                                                                |\n",
    "| `Zinc`                 | 물 속 아연의 함량                                                              |\n",
    "| `Color`                | 물의 색상, 탁도와 관련 있을 수 있음                                            |\n",
    "| `Turbidity`            | 물의 탁도, 물에 떠 있는 입자의 양을 나타냄                                      |\n",
    "| `Fluoride`             | 물 속 불소의 함량                                                              |\n",
    "| `Copper`               | 물 속 구리의 함량                                                              |\n",
    "| `Odor`                 | 물의 냄새, 오염의 지표일 수 있음                                               |\n",
    "| `Sulfate`              | 물 속 황산염의 함량                                                            |\n",
    "| `Conductivity`         | 물의 전기 전도성, 용해된 물질의 총량을 간접적으로 나타냄                         |\n",
    "| `Chlorine`             | 물 속 염소의 함량, 일반적으로 물의 소독을 위해 사용                             |\n",
    "| `Manganese`            | 물 속 망간의 함량                                                              |\n",
    "| `Total Dissolved Solids`| 물 속에 용해된 고형물의 총량                                                   |\n",
    "| `Source`               | 물의 출처, 예를 들어 강, 호수, 지하수 등                                       |\n",
    "| `Water Temperature`    | 물의 온도                                                                     |\n",
    "| `Air Temperature`      | 측정 시점의 공기 온도                                                          |\n",
    "| `Month`                | 측정한 달                                                                     |\n",
    "| `Day`                  | 측정한 날짜                                                                   |\n",
    "| `Time of Day`          | 측정한 시간대                                                                 |\n",
    "| `Target`               | 물의 품질 평가 결과, 일반적으로 이상 유무를 나타냄                              |\n"
   ]
  },
  {
   "cell_type": "code",
   "execution_count": 3,
   "id": "3f3ca501-6836-4ac4-8879-ddd8a1ddbf47",
   "metadata": {},
   "outputs": [],
   "source": [
    "# 데이터 가져오기\n",
    "import pandas as pd \n",
    "# path = '/kdt_0900_kgs/ai/machine_learning/b_classifier/datasets/project_classifier/The quality of freshwater_dataset.csv'\n",
    "path = '../datasets/project_classifier/The quality of freshwater_dataset.csv'\n",
    "w_origin_df = pd.read_csv(path)"
   ]
  },
  {
   "cell_type": "code",
   "execution_count": 4,
   "id": "3cec4b87-b1c2-4438-875b-a93ee51b652a",
   "metadata": {},
   "outputs": [
    {
     "data": {
      "text/plain": [
       "Index                     5956842\n",
       "pH                        5840788\n",
       "Iron                      5917089\n",
       "Nitrate                   5851117\n",
       "Chloride                  5781311\n",
       "Lead                      5929933\n",
       "Zinc                      5800716\n",
       "Color                     5951103\n",
       "Turbidity                 5907027\n",
       "Fluoride                  5767686\n",
       "Copper                    5757440\n",
       "Odor                      5777951\n",
       "Sulfate                   5759424\n",
       "Conductivity              5792981\n",
       "Chlorine                  5899017\n",
       "Manganese                 5847259\n",
       "Total Dissolved Solids    5955172\n",
       "Source                    5868580\n",
       "Water Temperature         5788609\n",
       "Air Temperature           5927114\n",
       "Month                     5861174\n",
       "Day                       5857239\n",
       "Time of Day               5842323\n",
       "Target                    5956842\n",
       "dtype: int64"
      ]
     },
     "metadata": {},
     "output_type": "display_data"
    },
    {
     "name": "stdout",
     "output_type": "stream",
     "text": [
      "<class 'pandas.core.frame.DataFrame'>\n",
      "RangeIndex: 5956842 entries, 0 to 5956841\n",
      "Data columns (total 24 columns):\n",
      " #   Column                  Dtype  \n",
      "---  ------                  -----  \n",
      " 0   Index                   int64  \n",
      " 1   pH                      float64\n",
      " 2   Iron                    float64\n",
      " 3   Nitrate                 float64\n",
      " 4   Chloride                float64\n",
      " 5   Lead                    float64\n",
      " 6   Zinc                    float64\n",
      " 7   Color                   object \n",
      " 8   Turbidity               float64\n",
      " 9   Fluoride                float64\n",
      " 10  Copper                  float64\n",
      " 11  Odor                    float64\n",
      " 12  Sulfate                 float64\n",
      " 13  Conductivity            float64\n",
      " 14  Chlorine                float64\n",
      " 15  Manganese               float64\n",
      " 16  Total Dissolved Solids  float64\n",
      " 17  Source                  object \n",
      " 18  Water Temperature       float64\n",
      " 19  Air Temperature         float64\n",
      " 20  Month                   object \n",
      " 21  Day                     float64\n",
      " 22  Time of Day             float64\n",
      " 23  Target                  int64  \n",
      "dtypes: float64(19), int64(2), object(3)\n",
      "memory usage: 1.1+ GB\n"
     ]
    }
   ],
   "source": [
    "w_origin_df.head()\n",
    "display(w_origin_df.count())\n",
    "w_origin_df.info()"
   ]
  },
  {
   "cell_type": "code",
   "execution_count": 5,
   "id": "d5025a92-790f-426b-a71a-858ae21770e0",
   "metadata": {},
   "outputs": [],
   "source": [
    "# 데이터 전처리 작업\n",
    "# 1. 데이터 copy\n",
    "# 2. 결측치, 중복값 확인 "
   ]
  },
  {
   "cell_type": "code",
   "execution_count": 6,
   "id": "4ec51ebf-cc3b-45bc-b8e2-7c8b67c5af08",
   "metadata": {},
   "outputs": [],
   "source": [
    "# copy\n",
    "w_df = w_origin_df.copy()"
   ]
  },
  {
   "cell_type": "code",
   "execution_count": 7,
   "id": "588c7607-f773-4158-90f0-284041363809",
   "metadata": {},
   "outputs": [
    {
     "data": {
      "text/html": [
       "<div>\n",
       "<style scoped>\n",
       "    .dataframe tbody tr th:only-of-type {\n",
       "        vertical-align: middle;\n",
       "    }\n",
       "\n",
       "    .dataframe tbody tr th {\n",
       "        vertical-align: top;\n",
       "    }\n",
       "\n",
       "    .dataframe thead th {\n",
       "        text-align: right;\n",
       "    }\n",
       "</style>\n",
       "<table border=\"1\" class=\"dataframe\">\n",
       "  <thead>\n",
       "    <tr style=\"text-align: right;\">\n",
       "      <th></th>\n",
       "      <th>Index</th>\n",
       "      <th>pH</th>\n",
       "      <th>Iron</th>\n",
       "      <th>Nitrate</th>\n",
       "      <th>Chloride</th>\n",
       "      <th>Lead</th>\n",
       "      <th>Zinc</th>\n",
       "      <th>Color</th>\n",
       "      <th>Turbidity</th>\n",
       "      <th>Fluoride</th>\n",
       "      <th>...</th>\n",
       "      <th>Chlorine</th>\n",
       "      <th>Manganese</th>\n",
       "      <th>Total Dissolved Solids</th>\n",
       "      <th>Source</th>\n",
       "      <th>Water Temperature</th>\n",
       "      <th>Air Temperature</th>\n",
       "      <th>Month</th>\n",
       "      <th>Day</th>\n",
       "      <th>Time of Day</th>\n",
       "      <th>Target</th>\n",
       "    </tr>\n",
       "  </thead>\n",
       "  <tbody>\n",
       "    <tr>\n",
       "      <th>0</th>\n",
       "      <td>0</td>\n",
       "      <td>8.332988</td>\n",
       "      <td>0.000083</td>\n",
       "      <td>8.605777</td>\n",
       "      <td>122.799772</td>\n",
       "      <td>3.713298e-52</td>\n",
       "      <td>3.434827</td>\n",
       "      <td>Colorless</td>\n",
       "      <td>0.022683</td>\n",
       "      <td>0.607283</td>\n",
       "      <td>...</td>\n",
       "      <td>3.708178</td>\n",
       "      <td>2.269945e-15</td>\n",
       "      <td>332.118789</td>\n",
       "      <td>NaN</td>\n",
       "      <td>NaN</td>\n",
       "      <td>43.493324</td>\n",
       "      <td>January</td>\n",
       "      <td>29.0</td>\n",
       "      <td>4.0</td>\n",
       "      <td>0</td>\n",
       "    </tr>\n",
       "    <tr>\n",
       "      <th>1</th>\n",
       "      <td>1</td>\n",
       "      <td>6.917863</td>\n",
       "      <td>0.000081</td>\n",
       "      <td>3.734167</td>\n",
       "      <td>227.029851</td>\n",
       "      <td>7.849262e-94</td>\n",
       "      <td>1.245317</td>\n",
       "      <td>Faint Yellow</td>\n",
       "      <td>0.019007</td>\n",
       "      <td>0.622874</td>\n",
       "      <td>...</td>\n",
       "      <td>3.292038</td>\n",
       "      <td>8.024076e-07</td>\n",
       "      <td>284.641984</td>\n",
       "      <td>Lake</td>\n",
       "      <td>15.348981</td>\n",
       "      <td>71.220586</td>\n",
       "      <td>November</td>\n",
       "      <td>26.0</td>\n",
       "      <td>16.0</td>\n",
       "      <td>0</td>\n",
       "    </tr>\n",
       "    <tr>\n",
       "      <th>2</th>\n",
       "      <td>2</td>\n",
       "      <td>5.443762</td>\n",
       "      <td>0.020106</td>\n",
       "      <td>3.816994</td>\n",
       "      <td>230.995630</td>\n",
       "      <td>5.286616e-76</td>\n",
       "      <td>0.528280</td>\n",
       "      <td>Light Yellow</td>\n",
       "      <td>0.319956</td>\n",
       "      <td>0.423423</td>\n",
       "      <td>...</td>\n",
       "      <td>3.560224</td>\n",
       "      <td>7.007989e-02</td>\n",
       "      <td>570.054094</td>\n",
       "      <td>River</td>\n",
       "      <td>11.643467</td>\n",
       "      <td>44.891330</td>\n",
       "      <td>January</td>\n",
       "      <td>31.0</td>\n",
       "      <td>8.0</td>\n",
       "      <td>0</td>\n",
       "    </tr>\n",
       "    <tr>\n",
       "      <th>3</th>\n",
       "      <td>3</td>\n",
       "      <td>7.955339</td>\n",
       "      <td>0.143988</td>\n",
       "      <td>8.224944</td>\n",
       "      <td>178.129940</td>\n",
       "      <td>3.997118e-176</td>\n",
       "      <td>4.027879</td>\n",
       "      <td>Near Colorless</td>\n",
       "      <td>0.166319</td>\n",
       "      <td>0.208454</td>\n",
       "      <td>...</td>\n",
       "      <td>3.516907</td>\n",
       "      <td>2.468295e-02</td>\n",
       "      <td>100.043838</td>\n",
       "      <td>Ground</td>\n",
       "      <td>10.092392</td>\n",
       "      <td>60.843233</td>\n",
       "      <td>April</td>\n",
       "      <td>1.0</td>\n",
       "      <td>21.0</td>\n",
       "      <td>0</td>\n",
       "    </tr>\n",
       "    <tr>\n",
       "      <th>4</th>\n",
       "      <td>4</td>\n",
       "      <td>8.091909</td>\n",
       "      <td>0.002167</td>\n",
       "      <td>9.925788</td>\n",
       "      <td>186.540872</td>\n",
       "      <td>4.171069e-132</td>\n",
       "      <td>3.807511</td>\n",
       "      <td>Light Yellow</td>\n",
       "      <td>0.004867</td>\n",
       "      <td>0.222912</td>\n",
       "      <td>...</td>\n",
       "      <td>3.177849</td>\n",
       "      <td>3.296139e-03</td>\n",
       "      <td>168.075545</td>\n",
       "      <td>Spring</td>\n",
       "      <td>15.249416</td>\n",
       "      <td>69.336671</td>\n",
       "      <td>June</td>\n",
       "      <td>29.0</td>\n",
       "      <td>7.0</td>\n",
       "      <td>0</td>\n",
       "    </tr>\n",
       "  </tbody>\n",
       "</table>\n",
       "<p>5 rows × 24 columns</p>\n",
       "</div>"
      ],
      "text/plain": [
       "   Index        pH      Iron   Nitrate    Chloride           Lead      Zinc  \\\n",
       "0      0  8.332988  0.000083  8.605777  122.799772   3.713298e-52  3.434827   \n",
       "1      1  6.917863  0.000081  3.734167  227.029851   7.849262e-94  1.245317   \n",
       "2      2  5.443762  0.020106  3.816994  230.995630   5.286616e-76  0.528280   \n",
       "3      3  7.955339  0.143988  8.224944  178.129940  3.997118e-176  4.027879   \n",
       "4      4  8.091909  0.002167  9.925788  186.540872  4.171069e-132  3.807511   \n",
       "\n",
       "            Color  Turbidity  Fluoride  ...  Chlorine     Manganese  \\\n",
       "0       Colorless   0.022683  0.607283  ...  3.708178  2.269945e-15   \n",
       "1    Faint Yellow   0.019007  0.622874  ...  3.292038  8.024076e-07   \n",
       "2    Light Yellow   0.319956  0.423423  ...  3.560224  7.007989e-02   \n",
       "3  Near Colorless   0.166319  0.208454  ...  3.516907  2.468295e-02   \n",
       "4    Light Yellow   0.004867  0.222912  ...  3.177849  3.296139e-03   \n",
       "\n",
       "   Total Dissolved Solids  Source  Water Temperature  Air Temperature  \\\n",
       "0              332.118789     NaN                NaN        43.493324   \n",
       "1              284.641984    Lake          15.348981        71.220586   \n",
       "2              570.054094   River          11.643467        44.891330   \n",
       "3              100.043838  Ground          10.092392        60.843233   \n",
       "4              168.075545  Spring          15.249416        69.336671   \n",
       "\n",
       "      Month   Day  Time of Day  Target  \n",
       "0   January  29.0          4.0       0  \n",
       "1  November  26.0         16.0       0  \n",
       "2   January  31.0          8.0       0  \n",
       "3     April   1.0         21.0       0  \n",
       "4      June  29.0          7.0       0  \n",
       "\n",
       "[5 rows x 24 columns]"
      ]
     },
     "execution_count": 7,
     "metadata": {},
     "output_type": "execute_result"
    }
   ],
   "source": [
    "w_df.head()"
   ]
  },
  {
   "cell_type": "code",
   "execution_count": 8,
   "id": "d8577715-4cee-451a-94fd-c9ecd0b25d6c",
   "metadata": {},
   "outputs": [
    {
     "data": {
      "text/plain": [
       "Index                          0\n",
       "pH                        116054\n",
       "Iron                       39753\n",
       "Nitrate                   105725\n",
       "Chloride                  175531\n",
       "Lead                       26909\n",
       "Zinc                      156126\n",
       "Color                       5739\n",
       "Turbidity                  49815\n",
       "Fluoride                  189156\n",
       "Copper                    199402\n",
       "Odor                      178891\n",
       "Sulfate                   197418\n",
       "Conductivity              163861\n",
       "Chlorine                   57825\n",
       "Manganese                 109583\n",
       "Total Dissolved Solids      1670\n",
       "Source                     88262\n",
       "Water Temperature         168233\n",
       "Air Temperature            29728\n",
       "Month                      95668\n",
       "Day                        99603\n",
       "Time of Day               114519\n",
       "Target                         0\n",
       "dtype: int64"
      ]
     },
     "execution_count": 8,
     "metadata": {},
     "output_type": "execute_result"
    }
   ],
   "source": [
    "# 결측치 확인\n",
    "w_df.isna().sum()"
   ]
  },
  {
   "cell_type": "code",
   "execution_count": 9,
   "id": "b4dbc7b6-3255-421f-8c45-458f506e4325",
   "metadata": {},
   "outputs": [],
   "source": [
    "# 수질 확인시 날짜에 대한 부분은 확인하지 않을 것이기 때문에 삭제 진행\n",
    "columns = ['Index','Month','Day','Time of Day']\n",
    "w_df = w_df.drop(labels=columns, axis=1).reset_index(drop=True)"
   ]
  },
  {
   "cell_type": "code",
   "execution_count": 10,
   "id": "31eb5509-0243-42d6-9a15-08c58f69008a",
   "metadata": {},
   "outputs": [],
   "source": [
    "# 결측치에 대하여 일반화를 시키기 위해 데이터셋에서 결측치에 대한 부분은 삭제\n",
    "# 수집 위치가 Source 가 명확한 부분에서 측정했으며 정확히 어떤 부분에서 측정했다고 나오지 않기 때문에\n",
    "# 삭제 진행\n",
    "# 결측치가 있는 모든 행을 제거하고 인덱스를 재설정\n",
    "w_df = w_df.dropna().reset_index(drop=True)"
   ]
  },
  {
   "cell_type": "code",
   "execution_count": 11,
   "id": "78b473a6-f2c5-4619-ab60-b189fb7ff7e1",
   "metadata": {},
   "outputs": [
    {
     "data": {
      "text/plain": [
       "pH                        0\n",
       "Iron                      0\n",
       "Nitrate                   0\n",
       "Chloride                  0\n",
       "Lead                      0\n",
       "Zinc                      0\n",
       "Color                     0\n",
       "Turbidity                 0\n",
       "Fluoride                  0\n",
       "Copper                    0\n",
       "Odor                      0\n",
       "Sulfate                   0\n",
       "Conductivity              0\n",
       "Chlorine                  0\n",
       "Manganese                 0\n",
       "Total Dissolved Solids    0\n",
       "Source                    0\n",
       "Water Temperature         0\n",
       "Air Temperature           0\n",
       "Target                    0\n",
       "dtype: int64"
      ]
     },
     "execution_count": 11,
     "metadata": {},
     "output_type": "execute_result"
    }
   ],
   "source": [
    "w_df.isna().sum()"
   ]
  },
  {
   "cell_type": "code",
   "execution_count": 12,
   "id": "1c78ea35-0319-4d56-9798-dbf627d69df3",
   "metadata": {},
   "outputs": [
    {
     "data": {
      "text/plain": [
       "121943"
      ]
     },
     "execution_count": 12,
     "metadata": {},
     "output_type": "execute_result"
    }
   ],
   "source": [
    "# 중복값 확인\n",
    "w_df.duplicated().sum()"
   ]
  },
  {
   "cell_type": "code",
   "execution_count": 13,
   "id": "33af0bd4-685f-4f5b-b0d4-ae935aa22892",
   "metadata": {},
   "outputs": [],
   "source": [
    "# 중복값 삭제\n",
    "w_df.drop_duplicates(inplace=True)\n",
    "w_df.reset_index(drop=True,inplace=True)"
   ]
  },
  {
   "cell_type": "code",
   "execution_count": 14,
   "id": "d954c0e1-8e71-4d17-8bdf-c089837c085b",
   "metadata": {},
   "outputs": [
    {
     "data": {
      "text/plain": [
       "0"
      ]
     },
     "execution_count": 14,
     "metadata": {},
     "output_type": "execute_result"
    }
   ],
   "source": [
    "w_df.duplicated().sum()"
   ]
  },
  {
   "cell_type": "code",
   "execution_count": 15,
   "id": "1f5b672d-75c1-40ab-bd52-e1097a159510",
   "metadata": {},
   "outputs": [
    {
     "data": {
      "text/plain": [
       "array([[<Axes: title={'center': 'pH'}>, <Axes: title={'center': 'Iron'}>,\n",
       "        <Axes: title={'center': 'Nitrate'}>,\n",
       "        <Axes: title={'center': 'Chloride'}>],\n",
       "       [<Axes: title={'center': 'Lead'}>,\n",
       "        <Axes: title={'center': 'Zinc'}>,\n",
       "        <Axes: title={'center': 'Turbidity'}>,\n",
       "        <Axes: title={'center': 'Fluoride'}>],\n",
       "       [<Axes: title={'center': 'Copper'}>,\n",
       "        <Axes: title={'center': 'Odor'}>,\n",
       "        <Axes: title={'center': 'Sulfate'}>,\n",
       "        <Axes: title={'center': 'Conductivity'}>],\n",
       "       [<Axes: title={'center': 'Chlorine'}>,\n",
       "        <Axes: title={'center': 'Manganese'}>,\n",
       "        <Axes: title={'center': 'Total Dissolved Solids'}>,\n",
       "        <Axes: title={'center': 'Water Temperature'}>],\n",
       "       [<Axes: title={'center': 'Air Temperature'}>,\n",
       "        <Axes: title={'center': 'Target'}>, <Axes: >, <Axes: >]],\n",
       "      dtype=object)"
      ]
     },
     "execution_count": 15,
     "metadata": {},
     "output_type": "execute_result"
    },
    {
     "data": {
      "image/png": "[encoded data removed]",
      "text/plain": [
       "<Figure size 1500x1500 with 20 Axes>"
      ]
     },
     "metadata": {},
     "output_type": "display_data"
    }
   ],
   "source": [
    "w_df.hist(figsize = (15,15))"
   ]
  },
  {
   "cell_type": "code",
   "execution_count": 16,
   "id": "d88e848a-7940-4d14-8e64-61da78472f35",
   "metadata": {},
   "outputs": [
    {
     "name": "stdout",
     "output_type": "stream",
     "text": [
      "<class 'pandas.core.frame.DataFrame'>\n",
      "RangeIndex: 4074650 entries, 0 to 4074649\n",
      "Data columns (total 20 columns):\n",
      " #   Column                  Dtype  \n",
      "---  ------                  -----  \n",
      " 0   pH                      float64\n",
      " 1   Iron                    float64\n",
      " 2   Nitrate                 float64\n",
      " 3   Chloride                float64\n",
      " 4   Lead                    float64\n",
      " 5   Zinc                    float64\n",
      " 6   Color                   object \n",
      " 7   Turbidity               float64\n",
      " 8   Fluoride                float64\n",
      " 9   Copper                  float64\n",
      " 10  Odor                    float64\n",
      " 11  Sulfate                 float64\n",
      " 12  Conductivity            float64\n",
      " 13  Chlorine                float64\n",
      " 14  Manganese               float64\n",
      " 15  Total Dissolved Solids  float64\n",
      " 16  Source                  object \n",
      " 17  Water Temperature       float64\n",
      " 18  Air Temperature         float64\n",
      " 19  Target                  int64  \n",
      "dtypes: float64(17), int64(1), object(2)\n",
      "memory usage: 621.7+ MB\n"
     ]
    }
   ],
   "source": [
    "w_df.info()"
   ]
  },
  {
   "cell_type": "code",
   "execution_count": 17,
   "id": "5ec74737-54f4-435d-ac2c-c82719cbaa7a",
   "metadata": {},
   "outputs": [],
   "source": [
    "# 범주형 데이터에 대하여 LabelEncoer 진행 'Color', 'Source'\n",
    "from sklearn.preprocessing import LabelEncoder\n",
    "\n",
    "columns = ['Color', 'Source']\n",
    "encoders = {}\n",
    "\n",
    "for column in columns:\n",
    "    encoder = LabelEncoder()\n",
    "    w_df[column] = encoder.fit_transform(w_df[column].tolist())\n",
    "    encoders[column] = encoder.classes_\n"
   ]
  },
  {
   "cell_type": "code",
   "execution_count": 18,
   "id": "10284ce9-08fa-4e3a-b3cf-23fd1801c785",
   "metadata": {},
   "outputs": [
    {
     "data": {
      "text/plain": [
       "{'Color': array(['Colorless', 'Faint Yellow', 'Light Yellow', 'Near Colorless',\n",
       "        'Yellow'], dtype='<U14'),\n",
       " 'Source': array(['Aquifer', 'Ground', 'Lake', 'Reservoir', 'River', 'Spring',\n",
       "        'Stream', 'Well'], dtype='<U9')}"
      ]
     },
     "execution_count": 18,
     "metadata": {},
     "output_type": "execute_result"
    }
   ],
   "source": [
    "encoders"
   ]
  },
  {
   "cell_type": "code",
   "execution_count": 19,
   "id": "7f3317dd-f1cc-4c06-924f-68352630617d",
   "metadata": {},
   "outputs": [],
   "source": [
    "# Standardscaler 를 통한 이상치 제거\n",
    "from sklearn.preprocessing import StandardScaler\n",
    "std = StandardScaler()\n",
    "std_w= std.fit_transform(w_df.iloc[:, :-1])"
   ]
  },
  {
   "cell_type": "code",
   "execution_count": 20,
   "id": "6e4f8846-600e-47eb-a745-8acf81090140",
   "metadata": {},
   "outputs": [
    {
     "data": {
      "text/plain": [
       "(4074650, 20)"
      ]
     },
     "execution_count": 20,
     "metadata": {},
     "output_type": "execute_result"
    }
   ],
   "source": [
    "# 표준화를 시킨 데이터 프레임 생성 후 이상치 제거\n",
    "std_w_df = pd.DataFrame(std_w, columns = w_df.iloc[:, :-1].columns)\n",
    "std_w_df['Target'] = w_df.iloc[:, -1]\n",
    "std_w_df.shape"
   ]
  },
  {
   "cell_type": "code",
   "execution_count": 21,
   "id": "5b914e6d-116d-4504-b2ee-1660d4fa8825",
   "metadata": {},
   "outputs": [
    {
     "data": {
      "text/plain": [
       "Index(['pH', 'Iron', 'Nitrate', 'Chloride', 'Lead', 'Zinc', 'Color',\n",
       "       'Turbidity', 'Fluoride', 'Copper', 'Odor', 'Sulfate', 'Conductivity',\n",
       "       'Chlorine', 'Manganese', 'Total Dissolved Solids', 'Source',\n",
       "       'Water Temperature', 'Air Temperature'],\n",
       "      dtype='object')"
      ]
     },
     "execution_count": 21,
     "metadata": {},
     "output_type": "execute_result"
    }
   ],
   "source": [
    "columns = std_w_df.iloc[:, :-1].columns\n",
    "columns"
   ]
  },
  {
   "cell_type": "code",
   "execution_count": 22,
   "id": "5fe77928-5956-4ad7-8443-fe08fe4632d3",
   "metadata": {},
   "outputs": [
    {
     "name": "stdout",
     "output_type": "stream",
     "text": [
      "pH: 255239건\n",
      "Iron: 122613건\n",
      "Nitrate: 160087건\n",
      "Chloride: 175436건\n",
      "Lead: 16149건\n",
      "Zinc: 186199건\n",
      "Color: 0건\n",
      "Turbidity: 178155건\n",
      "Fluoride: 174061건\n",
      "Copper: 187501건\n",
      "Odor: 101407건\n",
      "Sulfate: 146584건\n",
      "Conductivity: 178469건\n",
      "Chlorine: 181427건\n",
      "Manganese: 122389건\n",
      "Total Dissolved Solids: 21645건\n",
      "Source: 0건\n",
      "Water Temperature: 189783건\n",
      "Air Temperature: 203058건\n"
     ]
    }
   ],
   "source": [
    "columns = std_w_df.iloc[:, :-1].columns\n",
    "\n",
    "for column in columns:\n",
    "    print(f'{column}: {std_w_df[~std_w_df[column].between(-1.96, 1.96)].shape[0]}건')"
   ]
  },
  {
   "cell_type": "code",
   "execution_count": 23,
   "id": "745720eb-093e-4375-8b70-cb00a8a25424",
   "metadata": {},
   "outputs": [
    {
     "name": "stdout",
     "output_type": "stream",
     "text": [
      "pH: 0건\n",
      "Iron: 0건\n",
      "Nitrate: 0건\n",
      "Chloride: 0건\n",
      "Lead: 0건\n",
      "Zinc: 0건\n",
      "Color: 0건\n",
      "Turbidity: 0건\n",
      "Fluoride: 0건\n",
      "Copper: 0건\n",
      "Odor: 0건\n",
      "Sulfate: 0건\n",
      "Conductivity: 0건\n",
      "Chlorine: 0건\n",
      "Manganese: 0건\n",
      "Total Dissolved Solids: 0건\n",
      "Source: 0건\n",
      "Water Temperature: 0건\n",
      "Air Temperature: 0건\n"
     ]
    }
   ],
   "source": [
    "# 이상치 제거 수치형 데이터에 대하여 표준화를 시켜서 이상치를 제거 \n",
    "# 일반화 과정\n",
    "\n",
    "for column in columns:\n",
    "    std_w_df.drop(\n",
    "        std_w_df[~std_w_df[column].between(-1.96, 1.96)].index, \n",
    "        axis=0, \n",
    "        inplace=True)\n",
    "    \n",
    "for column in columns:\n",
    "    print(f'{column}: {std_w_df[~std_w_df[column].between(-1.96, 1.96)].shape[0]}건')\n",
    "\n",
    "std_w_df = std_w_df.reset_index(drop=True)\n"
   ]
  },
  {
   "cell_type": "code",
   "execution_count": 24,
   "id": "6d0eaf76-995d-45cc-8fbc-f0b86f7858b4",
   "metadata": {},
   "outputs": [
    {
     "data": {
      "text/html": [
       "<div>\n",
       "<style scoped>\n",
       "    .dataframe tbody tr th:only-of-type {\n",
       "        vertical-align: middle;\n",
       "    }\n",
       "\n",
       "    .dataframe tbody tr th {\n",
       "        vertical-align: top;\n",
       "    }\n",
       "\n",
       "    .dataframe thead th {\n",
       "        text-align: right;\n",
       "    }\n",
       "</style>\n",
       "<table border=\"1\" class=\"dataframe\">\n",
       "  <thead>\n",
       "    <tr style=\"text-align: right;\">\n",
       "      <th></th>\n",
       "      <th>pH</th>\n",
       "      <th>Iron</th>\n",
       "      <th>Nitrate</th>\n",
       "      <th>Chloride</th>\n",
       "      <th>Lead</th>\n",
       "      <th>Zinc</th>\n",
       "      <th>Color</th>\n",
       "      <th>Turbidity</th>\n",
       "      <th>Fluoride</th>\n",
       "      <th>Copper</th>\n",
       "      <th>Odor</th>\n",
       "      <th>Sulfate</th>\n",
       "      <th>Conductivity</th>\n",
       "      <th>Chlorine</th>\n",
       "      <th>Manganese</th>\n",
       "      <th>Total Dissolved Solids</th>\n",
       "      <th>Source</th>\n",
       "      <th>Water Temperature</th>\n",
       "      <th>Air Temperature</th>\n",
       "      <th>Target</th>\n",
       "    </tr>\n",
       "  </thead>\n",
       "  <tbody>\n",
       "    <tr>\n",
       "      <th>0</th>\n",
       "      <td>-0.594128</td>\n",
       "      <td>-0.266008</td>\n",
       "      <td>-0.747614</td>\n",
       "      <td>0.625393</td>\n",
       "      <td>-0.04598</td>\n",
       "      <td>-0.196685</td>\n",
       "      <td>-0.499087</td>\n",
       "      <td>-0.542638</td>\n",
       "      <td>-0.414034</td>\n",
       "      <td>-0.130744</td>\n",
       "      <td>-0.109361</td>\n",
       "      <td>-0.029617</td>\n",
       "      <td>0.041413</td>\n",
       "      <td>0.049787</td>\n",
       "      <td>-0.229105</td>\n",
       "      <td>0.112443</td>\n",
       "      <td>-0.654417</td>\n",
       "      <td>-0.332379</td>\n",
       "      <td>0.619474</td>\n",
       "      <td>0</td>\n",
       "    </tr>\n",
       "    <tr>\n",
       "      <th>1</th>\n",
       "      <td>0.728959</td>\n",
       "      <td>-0.261653</td>\n",
       "      <td>1.153618</td>\n",
       "      <td>0.033390</td>\n",
       "      <td>-0.04598</td>\n",
       "      <td>1.461437</td>\n",
       "      <td>0.216003</td>\n",
       "      <td>-0.557924</td>\n",
       "      <td>-0.899128</td>\n",
       "      <td>0.169472</td>\n",
       "      <td>-0.942370</td>\n",
       "      <td>0.424871</td>\n",
       "      <td>-0.210261</td>\n",
       "      <td>-0.106041</td>\n",
       "      <td>-0.222180</td>\n",
       "      <td>-0.635494</td>\n",
       "      <td>0.654518</td>\n",
       "      <td>-0.341137</td>\n",
       "      <td>0.515393</td>\n",
       "      <td>0</td>\n",
       "    </tr>\n",
       "    <tr>\n",
       "      <th>2</th>\n",
       "      <td>-0.210583</td>\n",
       "      <td>-0.266176</td>\n",
       "      <td>0.949692</td>\n",
       "      <td>-0.029460</td>\n",
       "      <td>-0.04598</td>\n",
       "      <td>-0.733068</td>\n",
       "      <td>-1.214177</td>\n",
       "      <td>-0.511507</td>\n",
       "      <td>0.063007</td>\n",
       "      <td>-0.365459</td>\n",
       "      <td>1.254284</td>\n",
       "      <td>-0.457871</td>\n",
       "      <td>-1.394252</td>\n",
       "      <td>-1.269757</td>\n",
       "      <td>-0.229106</td>\n",
       "      <td>-0.337275</td>\n",
       "      <td>0.218207</td>\n",
       "      <td>-0.284625</td>\n",
       "      <td>0.062503</td>\n",
       "      <td>0</td>\n",
       "    </tr>\n",
       "    <tr>\n",
       "      <th>3</th>\n",
       "      <td>0.407527</td>\n",
       "      <td>-0.266176</td>\n",
       "      <td>0.796783</td>\n",
       "      <td>-1.389086</td>\n",
       "      <td>-0.04598</td>\n",
       "      <td>-0.613094</td>\n",
       "      <td>0.931093</td>\n",
       "      <td>-0.369637</td>\n",
       "      <td>1.138945</td>\n",
       "      <td>-0.594681</td>\n",
       "      <td>-0.782982</td>\n",
       "      <td>-0.919556</td>\n",
       "      <td>-0.611787</td>\n",
       "      <td>-1.034512</td>\n",
       "      <td>-0.229106</td>\n",
       "      <td>1.095071</td>\n",
       "      <td>0.654518</td>\n",
       "      <td>0.905953</td>\n",
       "      <td>-1.337474</td>\n",
       "      <td>0</td>\n",
       "    </tr>\n",
       "    <tr>\n",
       "      <th>4</th>\n",
       "      <td>0.186981</td>\n",
       "      <td>-0.120069</td>\n",
       "      <td>0.404874</td>\n",
       "      <td>-0.225947</td>\n",
       "      <td>-0.04598</td>\n",
       "      <td>1.096244</td>\n",
       "      <td>0.931093</td>\n",
       "      <td>-0.358334</td>\n",
       "      <td>-0.615386</td>\n",
       "      <td>0.238773</td>\n",
       "      <td>-0.142300</td>\n",
       "      <td>-0.367805</td>\n",
       "      <td>-0.408084</td>\n",
       "      <td>-0.539403</td>\n",
       "      <td>-0.221230</td>\n",
       "      <td>-0.028413</td>\n",
       "      <td>-1.090728</td>\n",
       "      <td>0.334807</td>\n",
       "      <td>0.913772</td>\n",
       "      <td>0</td>\n",
       "    </tr>\n",
       "  </tbody>\n",
       "</table>\n",
       "</div>"
      ],
      "text/plain": [
       "         pH      Iron   Nitrate  Chloride     Lead      Zinc     Color  \\\n",
       "0 -0.594128 -0.266008 -0.747614  0.625393 -0.04598 -0.196685 -0.499087   \n",
       "1  0.728959 -0.261653  1.153618  0.033390 -0.04598  1.461437  0.216003   \n",
       "2 -0.210583 -0.266176  0.949692 -0.029460 -0.04598 -0.733068 -1.214177   \n",
       "3  0.407527 -0.266176  0.796783 -1.389086 -0.04598 -0.613094  0.931093   \n",
       "4  0.186981 -0.120069  0.404874 -0.225947 -0.04598  1.096244  0.931093   \n",
       "\n",
       "   Turbidity  Fluoride    Copper      Odor   Sulfate  Conductivity  Chlorine  \\\n",
       "0  -0.542638 -0.414034 -0.130744 -0.109361 -0.029617      0.041413  0.049787   \n",
       "1  -0.557924 -0.899128  0.169472 -0.942370  0.424871     -0.210261 -0.106041   \n",
       "2  -0.511507  0.063007 -0.365459  1.254284 -0.457871     -1.394252 -1.269757   \n",
       "3  -0.369637  1.138945 -0.594681 -0.782982 -0.919556     -0.611787 -1.034512   \n",
       "4  -0.358334 -0.615386  0.238773 -0.142300 -0.367805     -0.408084 -0.539403   \n",
       "\n",
       "   Manganese  Total Dissolved Solids    Source  Water Temperature  \\\n",
       "0  -0.229105                0.112443 -0.654417          -0.332379   \n",
       "1  -0.222180               -0.635494  0.654518          -0.341137   \n",
       "2  -0.229106               -0.337275  0.218207          -0.284625   \n",
       "3  -0.229106                1.095071  0.654518           0.905953   \n",
       "4  -0.221230               -0.028413 -1.090728           0.334807   \n",
       "\n",
       "   Air Temperature  Target  \n",
       "0         0.619474       0  \n",
       "1         0.515393       0  \n",
       "2         0.062503       0  \n",
       "3        -1.337474       0  \n",
       "4         0.913772       0  "
      ]
     },
     "execution_count": 24,
     "metadata": {},
     "output_type": "execute_result"
    }
   ],
   "source": [
    "std_w_df.head()"
   ]
  },
  {
   "cell_type": "code",
   "execution_count": 25,
   "id": "ba8d0476-5af9-48a0-bfb6-7171bab892fc",
   "metadata": {},
   "outputs": [
    {
     "data": {
      "text/plain": [
       "array([[<Axes: title={'center': 'pH'}>, <Axes: title={'center': 'Iron'}>,\n",
       "        <Axes: title={'center': 'Nitrate'}>,\n",
       "        <Axes: title={'center': 'Chloride'}>],\n",
       "       [<Axes: title={'center': 'Lead'}>,\n",
       "        <Axes: title={'center': 'Zinc'}>,\n",
       "        <Axes: title={'center': 'Color'}>,\n",
       "        <Axes: title={'center': 'Turbidity'}>],\n",
       "       [<Axes: title={'center': 'Fluoride'}>,\n",
       "        <Axes: title={'center': 'Copper'}>,\n",
       "        <Axes: title={'center': 'Odor'}>,\n",
       "        <Axes: title={'center': 'Sulfate'}>],\n",
       "       [<Axes: title={'center': 'Conductivity'}>,\n",
       "        <Axes: title={'center': 'Chlorine'}>,\n",
       "        <Axes: title={'center': 'Manganese'}>,\n",
       "        <Axes: title={'center': 'Total Dissolved Solids'}>],\n",
       "       [<Axes: title={'center': 'Source'}>,\n",
       "        <Axes: title={'center': 'Water Temperature'}>,\n",
       "        <Axes: title={'center': 'Air Temperature'}>,\n",
       "        <Axes: title={'center': 'Target'}>]], dtype=object)"
      ]
     },
     "execution_count": 25,
     "metadata": {},
     "output_type": "execute_result"
    },
    {
     "data": {
      "image/png": "[encoded data removed]",
      "text/plain": [
       "<Figure size 1200x1500 with 20 Axes>"
      ]
     },
     "metadata": {},
     "output_type": "display_data"
    }
   ],
   "source": [
    "# 이상치 제거 후 시각화 그래프 확인\n",
    "std_w_df.hist(figsize= (12,15))"
   ]
  },
  {
   "cell_type": "code",
   "execution_count": 26,
   "id": "7c153004-31eb-4539-b1ea-e70138e7d96c",
   "metadata": {},
   "outputs": [
    {
     "data": {
      "image/png": "[encoded data removed]",
      "text/plain": [
       "<Figure size 640x480 with 1 Axes>"
      ]
     },
     "metadata": {},
     "output_type": "display_data"
    },
    {
     "data": {
      "text/plain": [
       "Target\n",
       "0    2117581\n",
       "1     307019\n",
       "Name: count, dtype: int64"
      ]
     },
     "execution_count": 26,
     "metadata": {},
     "output_type": "execute_result"
    }
   ],
   "source": [
    "# target 데이터 비중 확인\n",
    "import warnings\n",
    "warnings.filterwarnings(\"ignore\")\n",
    "\n",
    "import matplotlib.pyplot as plt\n",
    "import seaborn as sns\n",
    "plt.rcParams['font.family'] = 'AppleGothic'\n",
    "# plt.rcParams['font.family'] = 'Malgun Gothic'\n",
    "\n",
    "\n",
    "w_df_target_counts = w_df['Target'].value_counts()\n",
    "plt.pie(w_df_target_counts, labels=w_df_target_counts.index, autopct='%1.1f%%')\n",
    "\n",
    "plt.tight_layout()\n",
    "plt.show()\n",
    "\n",
    "std_w_df.Target.value_counts()\n",
    "# 타겟 데이터의 비중이 7:3 정도로 차후 "
   ]
  },
  {
   "cell_type": "code",
   "execution_count": 27,
   "id": "9f6ad0d7-16b5-4be1-b613-f2766b0128e1",
   "metadata": {},
   "outputs": [
    {
     "data": {
      "text/html": [
       "<div>\n",
       "<style scoped>\n",
       "    .dataframe tbody tr th:only-of-type {\n",
       "        vertical-align: middle;\n",
       "    }\n",
       "\n",
       "    .dataframe tbody tr th {\n",
       "        vertical-align: top;\n",
       "    }\n",
       "\n",
       "    .dataframe thead th {\n",
       "        text-align: right;\n",
       "    }\n",
       "</style>\n",
       "<table border=\"1\" class=\"dataframe\">\n",
       "  <thead>\n",
       "    <tr style=\"text-align: right;\">\n",
       "      <th></th>\n",
       "      <th>pH</th>\n",
       "      <th>Iron</th>\n",
       "      <th>Nitrate</th>\n",
       "      <th>Chloride</th>\n",
       "      <th>Lead</th>\n",
       "      <th>Zinc</th>\n",
       "      <th>Color</th>\n",
       "      <th>Turbidity</th>\n",
       "      <th>Fluoride</th>\n",
       "      <th>Copper</th>\n",
       "      <th>Odor</th>\n",
       "      <th>Sulfate</th>\n",
       "      <th>Conductivity</th>\n",
       "      <th>Chlorine</th>\n",
       "      <th>Manganese</th>\n",
       "      <th>Total Dissolved Solids</th>\n",
       "      <th>Source</th>\n",
       "      <th>Water Temperature</th>\n",
       "      <th>Air Temperature</th>\n",
       "      <th>Target</th>\n",
       "    </tr>\n",
       "  </thead>\n",
       "  <tbody>\n",
       "    <tr>\n",
       "      <th>0</th>\n",
       "      <td>0.642867</td>\n",
       "      <td>-0.250366</td>\n",
       "      <td>-0.611070</td>\n",
       "      <td>0.292017</td>\n",
       "      <td>-0.04598</td>\n",
       "      <td>-0.796172</td>\n",
       "      <td>-0.499087</td>\n",
       "      <td>-0.527750</td>\n",
       "      <td>-0.226606</td>\n",
       "      <td>-0.560966</td>\n",
       "      <td>0.161061</td>\n",
       "      <td>1.401838</td>\n",
       "      <td>-0.431414</td>\n",
       "      <td>0.917204</td>\n",
       "      <td>-0.229104</td>\n",
       "      <td>1.299606</td>\n",
       "      <td>1.527141</td>\n",
       "      <td>-0.660183</td>\n",
       "      <td>0.047646</td>\n",
       "      <td>0</td>\n",
       "    </tr>\n",
       "    <tr>\n",
       "      <th>1</th>\n",
       "      <td>-0.028867</td>\n",
       "      <td>-0.261318</td>\n",
       "      <td>-0.706729</td>\n",
       "      <td>-0.301969</td>\n",
       "      <td>-0.04598</td>\n",
       "      <td>-0.994848</td>\n",
       "      <td>-1.214177</td>\n",
       "      <td>0.262574</td>\n",
       "      <td>-0.488939</td>\n",
       "      <td>-0.649704</td>\n",
       "      <td>0.947821</td>\n",
       "      <td>-0.285511</td>\n",
       "      <td>-0.238464</td>\n",
       "      <td>-0.448594</td>\n",
       "      <td>-0.226534</td>\n",
       "      <td>-0.724583</td>\n",
       "      <td>-0.218105</td>\n",
       "      <td>-1.009477</td>\n",
       "      <td>-0.450460</td>\n",
       "      <td>0</td>\n",
       "    </tr>\n",
       "    <tr>\n",
       "      <th>2</th>\n",
       "      <td>-0.060170</td>\n",
       "      <td>-0.266096</td>\n",
       "      <td>0.611121</td>\n",
       "      <td>0.285111</td>\n",
       "      <td>-0.04598</td>\n",
       "      <td>-0.499139</td>\n",
       "      <td>-1.214177</td>\n",
       "      <td>-0.555622</td>\n",
       "      <td>0.676025</td>\n",
       "      <td>1.199179</td>\n",
       "      <td>-0.019898</td>\n",
       "      <td>-1.421725</td>\n",
       "      <td>0.223337</td>\n",
       "      <td>-0.277784</td>\n",
       "      <td>-0.229092</td>\n",
       "      <td>-1.431120</td>\n",
       "      <td>1.527141</td>\n",
       "      <td>-0.489791</td>\n",
       "      <td>-0.125590</td>\n",
       "      <td>0</td>\n",
       "    </tr>\n",
       "    <tr>\n",
       "      <th>3</th>\n",
       "      <td>0.816120</td>\n",
       "      <td>-0.266176</td>\n",
       "      <td>0.951977</td>\n",
       "      <td>0.500070</td>\n",
       "      <td>-0.04598</td>\n",
       "      <td>-0.532207</td>\n",
       "      <td>-1.214177</td>\n",
       "      <td>-0.527395</td>\n",
       "      <td>-0.253953</td>\n",
       "      <td>-0.661970</td>\n",
       "      <td>-1.110757</td>\n",
       "      <td>1.020089</td>\n",
       "      <td>-1.195212</td>\n",
       "      <td>0.736971</td>\n",
       "      <td>-0.229026</td>\n",
       "      <td>-1.249747</td>\n",
       "      <td>-0.218105</td>\n",
       "      <td>-0.531697</td>\n",
       "      <td>0.194562</td>\n",
       "      <td>0</td>\n",
       "    </tr>\n",
       "    <tr>\n",
       "      <th>4</th>\n",
       "      <td>-0.965938</td>\n",
       "      <td>-0.266169</td>\n",
       "      <td>-0.017980</td>\n",
       "      <td>-0.002873</td>\n",
       "      <td>-0.04598</td>\n",
       "      <td>-0.756802</td>\n",
       "      <td>-0.499087</td>\n",
       "      <td>0.589848</td>\n",
       "      <td>-0.167129</td>\n",
       "      <td>-0.496316</td>\n",
       "      <td>-0.518289</td>\n",
       "      <td>-0.134103</td>\n",
       "      <td>-1.210250</td>\n",
       "      <td>-0.036800</td>\n",
       "      <td>-0.229106</td>\n",
       "      <td>-1.061650</td>\n",
       "      <td>-0.654417</td>\n",
       "      <td>-0.058639</td>\n",
       "      <td>1.609655</td>\n",
       "      <td>0</td>\n",
       "    </tr>\n",
       "    <tr>\n",
       "      <th>...</th>\n",
       "      <td>...</td>\n",
       "      <td>...</td>\n",
       "      <td>...</td>\n",
       "      <td>...</td>\n",
       "      <td>...</td>\n",
       "      <td>...</td>\n",
       "      <td>...</td>\n",
       "      <td>...</td>\n",
       "      <td>...</td>\n",
       "      <td>...</td>\n",
       "      <td>...</td>\n",
       "      <td>...</td>\n",
       "      <td>...</td>\n",
       "      <td>...</td>\n",
       "      <td>...</td>\n",
       "      <td>...</td>\n",
       "      <td>...</td>\n",
       "      <td>...</td>\n",
       "      <td>...</td>\n",
       "      <td>...</td>\n",
       "    </tr>\n",
       "    <tr>\n",
       "      <th>307014</th>\n",
       "      <td>0.472396</td>\n",
       "      <td>-0.266156</td>\n",
       "      <td>-0.505138</td>\n",
       "      <td>-0.651192</td>\n",
       "      <td>-0.04598</td>\n",
       "      <td>1.402275</td>\n",
       "      <td>-1.214177</td>\n",
       "      <td>-0.441240</td>\n",
       "      <td>-0.009857</td>\n",
       "      <td>-0.480792</td>\n",
       "      <td>-1.497290</td>\n",
       "      <td>-0.154240</td>\n",
       "      <td>-0.671819</td>\n",
       "      <td>0.142519</td>\n",
       "      <td>-0.203282</td>\n",
       "      <td>0.888821</td>\n",
       "      <td>-1.090728</td>\n",
       "      <td>0.314612</td>\n",
       "      <td>1.332503</td>\n",
       "      <td>1</td>\n",
       "    </tr>\n",
       "    <tr>\n",
       "      <th>307015</th>\n",
       "      <td>0.790229</td>\n",
       "      <td>-0.246055</td>\n",
       "      <td>-0.120059</td>\n",
       "      <td>-1.004801</td>\n",
       "      <td>-0.04598</td>\n",
       "      <td>-0.994676</td>\n",
       "      <td>0.931093</td>\n",
       "      <td>-0.551168</td>\n",
       "      <td>0.354307</td>\n",
       "      <td>-0.591976</td>\n",
       "      <td>0.383938</td>\n",
       "      <td>0.533490</td>\n",
       "      <td>0.484944</td>\n",
       "      <td>-0.805966</td>\n",
       "      <td>-0.138067</td>\n",
       "      <td>1.008860</td>\n",
       "      <td>-1.090728</td>\n",
       "      <td>-0.163295</td>\n",
       "      <td>0.637936</td>\n",
       "      <td>1</td>\n",
       "    </tr>\n",
       "    <tr>\n",
       "      <th>307016</th>\n",
       "      <td>-0.544599</td>\n",
       "      <td>-0.266176</td>\n",
       "      <td>-1.124861</td>\n",
       "      <td>-0.441230</td>\n",
       "      <td>-0.04598</td>\n",
       "      <td>-0.954466</td>\n",
       "      <td>-1.214177</td>\n",
       "      <td>-0.533509</td>\n",
       "      <td>-1.109804</td>\n",
       "      <td>-0.596070</td>\n",
       "      <td>0.234746</td>\n",
       "      <td>-0.543973</td>\n",
       "      <td>-0.615114</td>\n",
       "      <td>0.331180</td>\n",
       "      <td>-0.229102</td>\n",
       "      <td>-0.040853</td>\n",
       "      <td>-1.527040</td>\n",
       "      <td>0.942266</td>\n",
       "      <td>0.233521</td>\n",
       "      <td>1</td>\n",
       "    </tr>\n",
       "    <tr>\n",
       "      <th>307017</th>\n",
       "      <td>-0.352983</td>\n",
       "      <td>-0.227365</td>\n",
       "      <td>-0.191721</td>\n",
       "      <td>-0.302449</td>\n",
       "      <td>-0.04598</td>\n",
       "      <td>-0.988590</td>\n",
       "      <td>0.931093</td>\n",
       "      <td>0.568185</td>\n",
       "      <td>0.007085</td>\n",
       "      <td>-0.731063</td>\n",
       "      <td>-0.009117</td>\n",
       "      <td>0.281202</td>\n",
       "      <td>-0.234432</td>\n",
       "      <td>-1.094632</td>\n",
       "      <td>-0.226995</td>\n",
       "      <td>-1.262902</td>\n",
       "      <td>0.654518</td>\n",
       "      <td>-0.622223</td>\n",
       "      <td>-0.211347</td>\n",
       "      <td>1</td>\n",
       "    </tr>\n",
       "    <tr>\n",
       "      <th>307018</th>\n",
       "      <td>-0.759925</td>\n",
       "      <td>-0.262669</td>\n",
       "      <td>-0.500416</td>\n",
       "      <td>-0.968940</td>\n",
       "      <td>-0.04598</td>\n",
       "      <td>-0.893807</td>\n",
       "      <td>0.216003</td>\n",
       "      <td>-0.527028</td>\n",
       "      <td>-0.771800</td>\n",
       "      <td>-0.115220</td>\n",
       "      <td>0.907854</td>\n",
       "      <td>1.178773</td>\n",
       "      <td>0.591770</td>\n",
       "      <td>-0.731672</td>\n",
       "      <td>-0.226736</td>\n",
       "      <td>-0.647017</td>\n",
       "      <td>0.654518</td>\n",
       "      <td>0.014018</td>\n",
       "      <td>-1.184161</td>\n",
       "      <td>1</td>\n",
       "    </tr>\n",
       "  </tbody>\n",
       "</table>\n",
       "<p>307019 rows × 20 columns</p>\n",
       "</div>"
      ],
      "text/plain": [
       "              pH      Iron   Nitrate  Chloride     Lead      Zinc     Color  \\\n",
       "0       0.642867 -0.250366 -0.611070  0.292017 -0.04598 -0.796172 -0.499087   \n",
       "1      -0.028867 -0.261318 -0.706729 -0.301969 -0.04598 -0.994848 -1.214177   \n",
       "2      -0.060170 -0.266096  0.611121  0.285111 -0.04598 -0.499139 -1.214177   \n",
       "3       0.816120 -0.266176  0.951977  0.500070 -0.04598 -0.532207 -1.214177   \n",
       "4      -0.965938 -0.266169 -0.017980 -0.002873 -0.04598 -0.756802 -0.499087   \n",
       "...          ...       ...       ...       ...      ...       ...       ...   \n",
       "307014  0.472396 -0.266156 -0.505138 -0.651192 -0.04598  1.402275 -1.214177   \n",
       "307015  0.790229 -0.246055 -0.120059 -1.004801 -0.04598 -0.994676  0.931093   \n",
       "307016 -0.544599 -0.266176 -1.124861 -0.441230 -0.04598 -0.954466 -1.214177   \n",
       "307017 -0.352983 -0.227365 -0.191721 -0.302449 -0.04598 -0.988590  0.931093   \n",
       "307018 -0.759925 -0.262669 -0.500416 -0.968940 -0.04598 -0.893807  0.216003   \n",
       "\n",
       "        Turbidity  Fluoride    Copper      Odor   Sulfate  Conductivity  \\\n",
       "0       -0.527750 -0.226606 -0.560966  0.161061  1.401838     -0.431414   \n",
       "1        0.262574 -0.488939 -0.649704  0.947821 -0.285511     -0.238464   \n",
       "2       -0.555622  0.676025  1.199179 -0.019898 -1.421725      0.223337   \n",
       "3       -0.527395 -0.253953 -0.661970 -1.110757  1.020089     -1.195212   \n",
       "4        0.589848 -0.167129 -0.496316 -0.518289 -0.134103     -1.210250   \n",
       "...           ...       ...       ...       ...       ...           ...   \n",
       "307014  -0.441240 -0.009857 -0.480792 -1.497290 -0.154240     -0.671819   \n",
       "307015  -0.551168  0.354307 -0.591976  0.383938  0.533490      0.484944   \n",
       "307016  -0.533509 -1.109804 -0.596070  0.234746 -0.543973     -0.615114   \n",
       "307017   0.568185  0.007085 -0.731063 -0.009117  0.281202     -0.234432   \n",
       "307018  -0.527028 -0.771800 -0.115220  0.907854  1.178773      0.591770   \n",
       "\n",
       "        Chlorine  Manganese  Total Dissolved Solids    Source  \\\n",
       "0       0.917204  -0.229104                1.299606  1.527141   \n",
       "1      -0.448594  -0.226534               -0.724583 -0.218105   \n",
       "2      -0.277784  -0.229092               -1.431120  1.527141   \n",
       "3       0.736971  -0.229026               -1.249747 -0.218105   \n",
       "4      -0.036800  -0.229106               -1.061650 -0.654417   \n",
       "...          ...        ...                     ...       ...   \n",
       "307014  0.142519  -0.203282                0.888821 -1.090728   \n",
       "307015 -0.805966  -0.138067                1.008860 -1.090728   \n",
       "307016  0.331180  -0.229102               -0.040853 -1.527040   \n",
       "307017 -1.094632  -0.226995               -1.262902  0.654518   \n",
       "307018 -0.731672  -0.226736               -0.647017  0.654518   \n",
       "\n",
       "        Water Temperature  Air Temperature  Target  \n",
       "0               -0.660183         0.047646       0  \n",
       "1               -1.009477        -0.450460       0  \n",
       "2               -0.489791        -0.125590       0  \n",
       "3               -0.531697         0.194562       0  \n",
       "4               -0.058639         1.609655       0  \n",
       "...                   ...              ...     ...  \n",
       "307014           0.314612         1.332503       1  \n",
       "307015          -0.163295         0.637936       1  \n",
       "307016           0.942266         0.233521       1  \n",
       "307017          -0.622223        -0.211347       1  \n",
       "307018           0.014018        -1.184161       1  \n",
       "\n",
       "[307019 rows x 20 columns]"
      ]
     },
     "execution_count": 27,
     "metadata": {},
     "output_type": "execute_result"
    }
   ],
   "source": [
    "# under sampling 진행 \n",
    "old_list = []\n",
    "target_ = {}\n",
    "\n",
    "# 특성 데이터만 샘플링\n",
    "for column in std_w_df.columns:\n",
    "    if column != 'Target':\n",
    "        sampled_data = std_w_df[column].sample(307019, random_state=321)\n",
    "        old_list.append(sampled_data.rename(column))  # 샘플링된 데이터를 리스트에 추가\n",
    "    else:\n",
    "        # 'Target' 컬럼은 그대로 유지\n",
    "        target = std_w_df['Target']\n",
    "\n",
    "# 리스트에 저장된 모든 샘플링된 특성 데이터를 하나의 데이터프레임으로 합치기\n",
    "under_w_df = pd.concat(old_list, axis=1).reset_index(drop=True)\n",
    "\n",
    "# 샘플링된 특성 데이터에 'Target' 컬럼 추가\n",
    "under_w_df['Target'] = target.reset_index(drop=True)\n",
    "\n",
    "under_w_df\n"
   ]
  },
  {
   "cell_type": "markdown",
   "id": "6a640f2f-6c85-4dca-bde7-63db56d5ae8f",
   "metadata": {},
   "source": [
    "# 상관관계 확인 (corr)"
   ]
  },
  {
   "cell_type": "code",
   "execution_count": 28,
   "id": "23268ba6-cf18-4b06-87a0-d2a48a5c0532",
   "metadata": {},
   "outputs": [
    {
     "data": {
      "text/plain": [
       "Text(0.5, 1.0, 'Correlation')"
      ]
     },
     "execution_count": 28,
     "metadata": {},
     "output_type": "execute_result"
    },
    {
     "data": {
      "image/png": "[encoded data removed]",
      "text/plain": [
       "<Figure size 700x500 with 2 Axes>"
      ]
     },
     "metadata": {},
     "output_type": "display_data"
    }
   ],
   "source": [
    "# 각 feature 간 상관관계확인\n",
    "import seaborn as sns\n",
    "import matplotlib.pyplot as plt\n",
    "\n",
    "corr = under_w_df.corr()\n",
    "fig = plt.figure(figsize=(7, 5))\n",
    "heatmap = sns.heatmap(corr, cmap=\"Oranges\")\n",
    "heatmap.set_title(\"Correlation\")"
   ]
  },
  {
   "cell_type": "code",
   "execution_count": 29,
   "id": "2d09bd69-bdbb-452f-b0e8-1fcb9513cca7",
   "metadata": {},
   "outputs": [
    {
     "data": {
      "text/html": [
       "<div>\n",
       "<style scoped>\n",
       "    .dataframe tbody tr th:only-of-type {\n",
       "        vertical-align: middle;\n",
       "    }\n",
       "\n",
       "    .dataframe tbody tr th {\n",
       "        vertical-align: top;\n",
       "    }\n",
       "\n",
       "    .dataframe thead th {\n",
       "        text-align: right;\n",
       "    }\n",
       "</style>\n",
       "<table border=\"1\" class=\"dataframe\">\n",
       "  <thead>\n",
       "    <tr style=\"text-align: right;\">\n",
       "      <th></th>\n",
       "      <th>Target</th>\n",
       "    </tr>\n",
       "  </thead>\n",
       "  <tbody>\n",
       "    <tr>\n",
       "      <th>Zinc</th>\n",
       "      <td>0.002259</td>\n",
       "    </tr>\n",
       "    <tr>\n",
       "      <th>Fluoride</th>\n",
       "      <td>0.001915</td>\n",
       "    </tr>\n",
       "    <tr>\n",
       "      <th>Nitrate</th>\n",
       "      <td>0.001876</td>\n",
       "    </tr>\n",
       "    <tr>\n",
       "      <th>Sulfate</th>\n",
       "      <td>0.001081</td>\n",
       "    </tr>\n",
       "    <tr>\n",
       "      <th>Chloride</th>\n",
       "      <td>0.000748</td>\n",
       "    </tr>\n",
       "    <tr>\n",
       "      <th>Lead</th>\n",
       "      <td>0.000682</td>\n",
       "    </tr>\n",
       "    <tr>\n",
       "      <th>Conductivity</th>\n",
       "      <td>0.000333</td>\n",
       "    </tr>\n",
       "    <tr>\n",
       "      <th>Chlorine</th>\n",
       "      <td>0.000023</td>\n",
       "    </tr>\n",
       "    <tr>\n",
       "      <th>Source</th>\n",
       "      <td>-0.000019</td>\n",
       "    </tr>\n",
       "    <tr>\n",
       "      <th>Turbidity</th>\n",
       "      <td>-0.000295</td>\n",
       "    </tr>\n",
       "    <tr>\n",
       "      <th>Total Dissolved Solids</th>\n",
       "      <td>-0.000444</td>\n",
       "    </tr>\n",
       "    <tr>\n",
       "      <th>Iron</th>\n",
       "      <td>-0.000623</td>\n",
       "    </tr>\n",
       "    <tr>\n",
       "      <th>Odor</th>\n",
       "      <td>-0.000876</td>\n",
       "    </tr>\n",
       "    <tr>\n",
       "      <th>Color</th>\n",
       "      <td>-0.001168</td>\n",
       "    </tr>\n",
       "    <tr>\n",
       "      <th>Water Temperature</th>\n",
       "      <td>-0.001317</td>\n",
       "    </tr>\n",
       "    <tr>\n",
       "      <th>Air Temperature</th>\n",
       "      <td>-0.001354</td>\n",
       "    </tr>\n",
       "    <tr>\n",
       "      <th>Manganese</th>\n",
       "      <td>-0.001607</td>\n",
       "    </tr>\n",
       "    <tr>\n",
       "      <th>pH</th>\n",
       "      <td>-0.002843</td>\n",
       "    </tr>\n",
       "    <tr>\n",
       "      <th>Copper</th>\n",
       "      <td>-0.004854</td>\n",
       "    </tr>\n",
       "  </tbody>\n",
       "</table>\n",
       "</div>"
      ],
      "text/plain": [
       "                          Target\n",
       "Zinc                    0.002259\n",
       "Fluoride                0.001915\n",
       "Nitrate                 0.001876\n",
       "Sulfate                 0.001081\n",
       "Chloride                0.000748\n",
       "Lead                    0.000682\n",
       "Conductivity            0.000333\n",
       "Chlorine                0.000023\n",
       "Source                 -0.000019\n",
       "Turbidity              -0.000295\n",
       "Total Dissolved Solids -0.000444\n",
       "Iron                   -0.000623\n",
       "Odor                   -0.000876\n",
       "Color                  -0.001168\n",
       "Water Temperature      -0.001317\n",
       "Air Temperature        -0.001354\n",
       "Manganese              -0.001607\n",
       "pH                     -0.002843\n",
       "Copper                 -0.004854"
      ]
     },
     "execution_count": 29,
     "metadata": {},
     "output_type": "execute_result"
    }
   ],
   "source": [
    "corr[['Target']].sort_values(by=\"Target\", ascending=False)[1:]\n",
    "\n",
    "# target 데이터에 대히여 전체적인 상관관계를 봤을 때 전반적으로 육안으로 보이는 상관관계 hitmap은 \n",
    "# 확인할 수 없으며 표로 확인한 결과 전반적으로 낮은 상관관계를 보이고 있음"
   ]
  },
  {
   "cell_type": "markdown",
   "id": "2f749820-102f-426e-87d2-09fd1464f823",
   "metadata": {},
   "source": [
    "# 상관관계에서 연관이 있는 모델이 보이지 않아 target 데이터에 대해서 산점도를 뽑아본다."
   ]
  },
  {
   "cell_type": "code",
   "execution_count": 32,
   "id": "0951d3d1-0ae3-47c9-8aa7-047214ec7812",
   "metadata": {},
   "outputs": [
    {
     "data": {
      "text/plain": [
       "Index(['pH', 'Iron', 'Nitrate', 'Chloride', 'Lead', 'Zinc', 'Color',\n",
       "       'Turbidity', 'Fluoride', 'Copper', 'Odor', 'Sulfate', 'Conductivity',\n",
       "       'Chlorine', 'Manganese', 'Total Dissolved Solids', 'Source',\n",
       "       'Water Temperature', 'Air Temperature', 'Target'],\n",
       "      dtype='object')"
      ]
     },
     "execution_count": 32,
     "metadata": {},
     "output_type": "execute_result"
    }
   ],
   "source": [
    "under_w_df.columns"
   ]
  },
  {
   "cell_type": "code",
   "execution_count": null,
   "id": "1c7ac5e5-532d-4151-bbe7-31717ce82ac8",
   "metadata": {},
   "outputs": [],
   "source": [
    "fig, (ax1, ax2) = plt.subplots(nrows=1, ncols=2, figsize=(10, 10))\n",
    "\n",
    "sns.scatterplot(x='Zinc', y='Copper', hue='Target', data=under_w_df, palette='Dark2', ax=ax1)\n",
    "sns.swarmplot(x='Zinc', y='Copper', hue='Target', data=under_w_df, palette='Dark2', ax=ax2)"
   ]
  },
  {
   "cell_type": "code",
   "execution_count": null,
   "id": "57b6878d-8857-46d4-8f02-713fd133ea12",
   "metadata": {},
   "outputs": [],
   "source": []
  },
  {
   "cell_type": "code",
   "execution_count": null,
   "id": "cd96e1b8-90a7-4068-8bbc-7b5cb29a4c1d",
   "metadata": {},
   "outputs": [],
   "source": []
  },
  {
   "cell_type": "markdown",
   "id": "94c414e4-1ca4-4d64-b639-d63107dc65d7",
   "metadata": {},
   "source": [
    "# 이 밑에서는 다른 폴더에 있는 분석 데이터를 포함하기 떄문에 건들지 않는다."
   ]
  },
  {
   "cell_type": "code",
   "execution_count": 41,
   "id": "026b962d-87a5-4e58-a17f-d634d3fafbde",
   "metadata": {},
   "outputs": [],
   "source": [
    "# # 서포트 벡터 머신 모델을 이용한 데이터 훈련\n",
    "from sklearn.model_selection import GridSearchCV, train_test_split\n",
    "from sklearn.svm import SVC\n",
    "\n",
    "# 훈련데이터의 경우 기존에 SMOTE 메소드를 사용한 데이터를 사용\n",
    "\n",
    "# parameters = {\n",
    "#     'C': [0.1, 1, 10],\n",
    "#     'gamma': [0.1, 1, 10],\n",
    "#     'kernel': ['linear', 'rbf']\n",
    "# }\n",
    "\n",
    "# svc = SVC(probability=True)\n",
    "\n",
    "# g_svc = GridSearchCV(svc, param_grid=parameters, cv=3, refit=True, return_train_score=True)\n",
    "# g_svc.fit(X_train_over, y_train_over)\n",
    "\n",
    "# # 표준화의 경우 데이터셋이 모두 표준화 되어 있기 때문에 별도의 파이프라인 구축 없이 진행, \n",
    "# # 분포도 표준 정규분포 형태를 띄고 있기 떄문에 MinMaxScaler 미진행"
   ]
  },
  {
   "cell_type": "code",
   "execution_count": 42,
   "id": "9f117699-634f-429a-b8d3-4cc8f213fe5a",
   "metadata": {},
   "outputs": [],
   "source": [
    "# 최적의 파라미터 확인\n",
    "# result_df = pd.DataFrame(g_svc.cv_results_)[['params', 'mean_test_score', 'rank_test_score']]\n",
    "# display(result_df)\n",
    "\n",
    "# 확인 결과 kernel 의 경우 rgb의 경우 값을 도출 할 수 없기 때문에 해당 값은 제외하고\n",
    "# cost의 값과 gamma의 값이 높아지는 경우 수치값이 높은 것을 확인 할 수 있습니다.\n",
    "# 현재 확인된 부분에 대하여 best_estimate 를 사용하여 훈련된 데이터에서 최적값을 찾을 수 있으나\n",
    "# 차후 훈련 시 특정 조건에 대해서 세부적으로 다시 파라미터 값을 조절 할 수 있습니다."
   ]
  },
  {
   "cell_type": "code",
   "execution_count": 43,
   "id": "346c14a8-cc8f-4056-bd06-128d9fb19a26",
   "metadata": {},
   "outputs": [],
   "source": [
    "# svc = g_svc.best_estimator_\n",
    "# prediction = g_svc.predict(X_test)"
   ]
  },
  {
   "cell_type": "code",
   "execution_count": 44,
   "id": "d61523fd-e7c0-432e-842e-43db4f653535",
   "metadata": {},
   "outputs": [],
   "source": [
    "# get_evaluation(y_test, prediction, svc, X_test)"
   ]
  },
  {
   "cell_type": "markdown",
   "id": "03be999a-eea8-47d0-b62b-79556a06b814",
   "metadata": {},
   "source": [
    "## M02_Cycle01. \n",
    "- 위의 그래프는 서포트벡터머신을 사용하여 훈련했을 때의 결과 (교차검증은 진행) 서술하기\n",
    "- 해당 모델이 아닌 다른 모델로 학습 진행하도록 하겠습니다.\n"
   ]
  },
  {
   "cell_type": "markdown",
   "id": "51f2cecf-6f94-4ead-80ae-200f4e5aee72",
   "metadata": {},
   "source": [
    "# 1-1. Model1-1. 결정트리 사용 시 feature 별 중요 비중 확인"
   ]
  },
  {
   "cell_type": "code",
   "execution_count": 45,
   "id": "6aba2e21-1981-4f85-8b81-d0fcb6444824",
   "metadata": {},
   "outputs": [
    {
     "data": {
      "text/plain": [
       "array([ 4, 11,  3, 13,  8,  5,  0, 16,  2,  6, 18, 14, 12, 17,  9, 10,  7,\n",
       "       15,  1])"
      ]
     },
     "execution_count": 45,
     "metadata": {},
     "output_type": "execute_result"
    }
   ],
   "source": [
    "# feature 별 중요도\n",
    "from sklearn.inspection import permutation_importance\n",
    "\n",
    "importance = permutation_importance(dtc, X_test, y_test, n_repeats=30, random_state=321)\n",
    "importance.importances_mean.argsort()\n"
   ]
  },
  {
   "cell_type": "code",
   "execution_count": 46,
   "id": "4600fe9f-2775-4cc4-82b0-10253af1d7a4",
   "metadata": {},
   "outputs": [
    {
     "name": "stdout",
     "output_type": "stream",
     "text": [
      "Iron: 0.0023\n",
      "Total Dissolved Solids: 0.0012\n",
      "Turbidity: 0.0012\n",
      "Odor: 0.0012\n",
      "Copper: 0.0008\n",
      "Water Temperature: 0.0008\n",
      "Conductivity: 0.0006\n",
      "Manganese: 0.0006\n",
      "Air Temperature: 0.0006\n",
      "Color: 0.0004\n",
      "Nitrate: 0.0004\n",
      "Source: 0.0004\n",
      "pH: 0.0001\n",
      "Zinc: -0.0\n",
      "Fluoride: -0.0001\n",
      "Chlorine: -0.0002\n",
      "Chloride: -0.0003\n",
      "Sulfate: -0.0003\n",
      "Lead: -0.0004\n"
     ]
    }
   ],
   "source": [
    "for i in importance.importances_mean.argsort()[::-1]:\n",
    "    print(f\"{features.columns[i]}: {round(importance.importances_mean[i], 4)}\")"
   ]
  },
  {
   "cell_type": "markdown",
   "id": "1adcfa67-f2cc-48c1-9654-6ae3b2e93c69",
   "metadata": {},
   "source": [
    "### M01-1_Cycle01.\n",
    "- dtc 훈련을 통한 각 feature의 비중을 확인했을 상관관계에 대해서 매우 낮은 수치를 보이고 있습니다.\n",
    "- 따라서 해당 모델을 통한 비중보다는 다른 모델을 통하여 비중을 확인하는게 좋을 것으로 예상됩니다."
   ]
  },
  {
   "cell_type": "markdown",
   "id": "017cb1fe-f7e4-4bf9-8a71-fa7d55cbce3c",
   "metadata": {},
   "source": [
    "# 3. Model03. KNN(K-Neares Neighbor) 사용\n",
    "- 훈련데이터 사용"
   ]
  },
  {
   "cell_type": "code",
   "execution_count": 47,
   "id": "33306097-d68a-49a8-8468-b8c1e87cfaf8",
   "metadata": {},
   "outputs": [
    {
     "data": {
      "text/html": [
       "<style>#sk-container-id-4 {color: black;background-color: white;}#sk-container-id-4 pre{padding: 0;}#sk-container-id-4 div.sk-toggleable {background-color: white;}#sk-container-id-4 label.sk-toggleable__label {cursor: pointer;display: block;width: 100%;margin-bottom: 0;padding: 0.3em;box-sizing: border-box;text-align: center;}#sk-container-id-4 label.sk-toggleable__label-arrow:before {content: \"▸\";float: left;margin-right: 0.25em;color: #696969;}#sk-container-id-4 label.sk-toggleable__label-arrow:hover:before {color: black;}#sk-container-id-4 div.sk-estimator:hover label.sk-toggleable__label-arrow:before {color: black;}#sk-container-id-4 div.sk-toggleable__content {max-height: 0;max-width: 0;overflow: hidden;text-align: left;background-color: #f0f8ff;}#sk-container-id-4 div.sk-toggleable__content pre {margin: 0.2em;color: black;border-radius: 0.25em;background-color: #f0f8ff;}#sk-container-id-4 input.sk-toggleable__control:checked~div.sk-toggleable__content {max-height: 200px;max-width: 100%;overflow: auto;}#sk-container-id-4 input.sk-toggleable__control:checked~label.sk-toggleable__label-arrow:before {content: \"▾\";}#sk-container-id-4 div.sk-estimator input.sk-toggleable__control:checked~label.sk-toggleable__label {background-color: #d4ebff;}#sk-container-id-4 div.sk-label input.sk-toggleable__control:checked~label.sk-toggleable__label {background-color: #d4ebff;}#sk-container-id-4 input.sk-hidden--visually {border: 0;clip: rect(1px 1px 1px 1px);clip: rect(1px, 1px, 1px, 1px);height: 1px;margin: -1px;overflow: hidden;padding: 0;position: absolute;width: 1px;}#sk-container-id-4 div.sk-estimator {font-family: monospace;background-color: #f0f8ff;border: 1px dotted black;border-radius: 0.25em;box-sizing: border-box;margin-bottom: 0.5em;}#sk-container-id-4 div.sk-estimator:hover {background-color: #d4ebff;}#sk-container-id-4 div.sk-parallel-item::after {content: \"\";width: 100%;border-bottom: 1px solid gray;flex-grow: 1;}#sk-container-id-4 div.sk-label:hover label.sk-toggleable__label {background-color: #d4ebff;}#sk-container-id-4 div.sk-serial::before {content: \"\";position: absolute;border-left: 1px solid gray;box-sizing: border-box;top: 0;bottom: 0;left: 50%;z-index: 0;}#sk-container-id-4 div.sk-serial {display: flex;flex-direction: column;align-items: center;background-color: white;padding-right: 0.2em;padding-left: 0.2em;position: relative;}#sk-container-id-4 div.sk-item {position: relative;z-index: 1;}#sk-container-id-4 div.sk-parallel {display: flex;align-items: stretch;justify-content: center;background-color: white;position: relative;}#sk-container-id-4 div.sk-item::before, #sk-container-id-4 div.sk-parallel-item::before {content: \"\";position: absolute;border-left: 1px solid gray;box-sizing: border-box;top: 0;bottom: 0;left: 50%;z-index: -1;}#sk-container-id-4 div.sk-parallel-item {display: flex;flex-direction: column;z-index: 1;position: relative;background-color: white;}#sk-container-id-4 div.sk-parallel-item:first-child::after {align-self: flex-end;width: 50%;}#sk-container-id-4 div.sk-parallel-item:last-child::after {align-self: flex-start;width: 50%;}#sk-container-id-4 div.sk-parallel-item:only-child::after {width: 0;}#sk-container-id-4 div.sk-dashed-wrapped {border: 1px dashed gray;margin: 0 0.4em 0.5em 0.4em;box-sizing: border-box;padding-bottom: 0.4em;background-color: white;}#sk-container-id-4 div.sk-label label {font-family: monospace;font-weight: bold;display: inline-block;line-height: 1.2em;}#sk-container-id-4 div.sk-label-container {text-align: center;}#sk-container-id-4 div.sk-container {/* jupyter's `normalize.less` sets `[hidden] { display: none; }` but bootstrap.min.css set `[hidden] { display: none !important; }` so we also need the `!important` here to be able to override the default hidden behavior on the sphinx rendered scikit-learn.org. See: https://github.com/scikit-learn/scikit-learn/issues/21755 */display: inline-block !important;position: relative;}#sk-container-id-4 div.sk-text-repr-fallback {display: none;}</style><div id=\"sk-container-id-4\" class=\"sk-top-container\"><div class=\"sk-text-repr-fallback\"><pre>GridSearchCV(cv=3, estimator=KNeighborsClassifier(),\n",
       "             param_grid={&#x27;n_neighbors&#x27;: [3, 5, 7, 9]}, return_train_score=True)</pre><b>In a Jupyter environment, please rerun this cell to show the HTML representation or trust the notebook. <br />On GitHub, the HTML representation is unable to render, please try loading this page with nbviewer.org.</b></div><div class=\"sk-container\" hidden><div class=\"sk-item sk-dashed-wrapped\"><div class=\"sk-label-container\"><div class=\"sk-label sk-toggleable\"><input class=\"sk-toggleable__control sk-hidden--visually\" id=\"sk-estimator-id-8\" type=\"checkbox\" ><label for=\"sk-estimator-id-8\" class=\"sk-toggleable__label sk-toggleable__label-arrow\">GridSearchCV</label><div class=\"sk-toggleable__content\"><pre>GridSearchCV(cv=3, estimator=KNeighborsClassifier(),\n",
       "             param_grid={&#x27;n_neighbors&#x27;: [3, 5, 7, 9]}, return_train_score=True)</pre></div></div></div><div class=\"sk-parallel\"><div class=\"sk-parallel-item\"><div class=\"sk-item\"><div class=\"sk-label-container\"><div class=\"sk-label sk-toggleable\"><input class=\"sk-toggleable__control sk-hidden--visually\" id=\"sk-estimator-id-9\" type=\"checkbox\" ><label for=\"sk-estimator-id-9\" class=\"sk-toggleable__label sk-toggleable__label-arrow\">estimator: KNeighborsClassifier</label><div class=\"sk-toggleable__content\"><pre>KNeighborsClassifier()</pre></div></div></div><div class=\"sk-serial\"><div class=\"sk-item\"><div class=\"sk-estimator sk-toggleable\"><input class=\"sk-toggleable__control sk-hidden--visually\" id=\"sk-estimator-id-10\" type=\"checkbox\" ><label for=\"sk-estimator-id-10\" class=\"sk-toggleable__label sk-toggleable__label-arrow\">KNeighborsClassifier</label><div class=\"sk-toggleable__content\"><pre>KNeighborsClassifier()</pre></div></div></div></div></div></div></div></div></div></div>"
      ],
      "text/plain": [
       "GridSearchCV(cv=3, estimator=KNeighborsClassifier(),\n",
       "             param_grid={'n_neighbors': [3, 5, 7, 9]}, return_train_score=True)"
      ]
     },
     "execution_count": 47,
     "metadata": {},
     "output_type": "execute_result"
    }
   ],
   "source": [
    "from sklearn.neighbors import KNeighborsClassifier\n",
    "\n",
    "knn = KNeighborsClassifier()\n",
    "\n",
    "parameters = {\n",
    "    'n_neighbors' : [3, 5, 7, 9]\n",
    "}\n",
    "\n",
    "g_knn = GridSearchCV(knn, param_grid=parameters, cv=3, refit=True, return_train_score=True)\n",
    "g_knn.fit(X_train_over, y_train_over)"
   ]
  },
  {
   "cell_type": "code",
   "execution_count": 48,
   "id": "c1a5fef4-8666-401b-a655-03a27539760c",
   "metadata": {},
   "outputs": [
    {
     "data": {
      "text/html": [
       "<div>\n",
       "<style scoped>\n",
       "    .dataframe tbody tr th:only-of-type {\n",
       "        vertical-align: middle;\n",
       "    }\n",
       "\n",
       "    .dataframe tbody tr th {\n",
       "        vertical-align: top;\n",
       "    }\n",
       "\n",
       "    .dataframe thead th {\n",
       "        text-align: right;\n",
       "    }\n",
       "</style>\n",
       "<table border=\"1\" class=\"dataframe\">\n",
       "  <thead>\n",
       "    <tr style=\"text-align: right;\">\n",
       "      <th></th>\n",
       "      <th>params</th>\n",
       "      <th>mean_test_score</th>\n",
       "      <th>rank_test_score</th>\n",
       "    </tr>\n",
       "  </thead>\n",
       "  <tbody>\n",
       "    <tr>\n",
       "      <th>0</th>\n",
       "      <td>{'n_neighbors': 3}</td>\n",
       "      <td>0.819368</td>\n",
       "      <td>1</td>\n",
       "    </tr>\n",
       "    <tr>\n",
       "      <th>1</th>\n",
       "      <td>{'n_neighbors': 5}</td>\n",
       "      <td>0.790218</td>\n",
       "      <td>2</td>\n",
       "    </tr>\n",
       "    <tr>\n",
       "      <th>2</th>\n",
       "      <td>{'n_neighbors': 7}</td>\n",
       "      <td>0.769375</td>\n",
       "      <td>3</td>\n",
       "    </tr>\n",
       "    <tr>\n",
       "      <th>3</th>\n",
       "      <td>{'n_neighbors': 9}</td>\n",
       "      <td>0.753891</td>\n",
       "      <td>4</td>\n",
       "    </tr>\n",
       "  </tbody>\n",
       "</table>\n",
       "</div>"
      ],
      "text/plain": [
       "               params  mean_test_score  rank_test_score\n",
       "0  {'n_neighbors': 3}         0.819368                1\n",
       "1  {'n_neighbors': 5}         0.790218                2\n",
       "2  {'n_neighbors': 7}         0.769375                3\n",
       "3  {'n_neighbors': 9}         0.753891                4"
      ]
     },
     "metadata": {},
     "output_type": "display_data"
    }
   ],
   "source": [
    "result_df = pd.DataFrame(g_knn.cv_results_)[['params', 'mean_test_score', 'rank_test_score']]\n",
    "display(result_df)"
   ]
  },
  {
   "cell_type": "code",
   "execution_count": 49,
   "id": "4813ba13-ab80-4ba5-a790-294cc7655150",
   "metadata": {},
   "outputs": [],
   "source": [
    "knn_c = g_knn.best_estimator_\n",
    "prediction = knn_c.predict(X_test)"
   ]
  },
  {
   "cell_type": "code",
   "execution_count": 50,
   "id": "028a0306-50b5-4304-a82e-039f7a34e482",
   "metadata": {},
   "outputs": [
    {
     "name": "stdout",
     "output_type": "stream",
     "text": [
      "오차 행렬\n",
      "[[38770 17412]\n",
      " [ 3629  1593]]\n",
      "정확도: 0.6573, 정밀도: 0.0838, 재현율: 0.3051, F1: 0.1315, ROC-AUC: 0.4976\n",
      "################################################################################\n"
     ]
    },
    {
     "data": {
      "image/png": "[encoded data removed]",
      "text/plain": [
       "<Figure size 1200x400 with 4 Axes>"
      ]
     },
     "metadata": {},
     "output_type": "display_data"
    }
   ],
   "source": [
    "get_evaluation(y_test, prediction, knn_c, X_test)"
   ]
  },
  {
   "cell_type": "markdown",
   "id": "2efa2f31-839e-4684-9629-f489ae8b1dc4",
   "metadata": {},
   "source": [
    "### M03_Cycle01. \n",
    "- 해당 훈련 진행 시 전체 검증 결과에 대하여 1% 미만의 낮은 수치를 보이고 있으며 해당 모델을 가지고 훈련은 별도로 진행하지 않을 예정이며 다른 모델 훈련 진행하겠습니다.\n",
    "  "
   ]
  },
  {
   "cell_type": "markdown",
   "id": "6162db13-7aad-4a81-9652-f659910c0091",
   "metadata": {},
   "source": [
    "# ?. Model??. ensemble 사용 시 결정트리, svm, knn 의 모델에 대하여 voting 기능을 통한 최적의 값 확인\n",
    "** 특이사항: 위에서 사용된 하이퍼파라미터 값을 참고하여 수치값을 추가 수정 후 훈련을 진행합니다."
   ]
  },
  {
   "cell_type": "code",
   "execution_count": 51,
   "id": "f5f62041-2b85-4e01-9569-76a44711c546",
   "metadata": {},
   "outputs": [],
   "source": [
    "# # 앙상블을 이용하여 위에서 개별모델로 훈련시킨 모델에 대해서 최적의 모델 확인\n",
    "# # 하이퍼 파라미터의 값을 바꿔서 테스트 하기로 한 결정트리 및 서포트 벡터 머신의 하이퍼 파라미터 값만 변경 후 재훈련 진행\n",
    "# from sklearn.tree import DecisionTreeClassifier\n",
    "# from sklearn.svm import SVC\n",
    "# from sklearn.model_selection import GridSearchCV\n",
    "\n",
    "# dtc_parameters = {'max_depth': [3, 5, 7],'min_samples_split': [10, 20 ,30]  }\n",
    "# svc_parameters = {'C': [100, 1000, 10000],'gamma': [100, 1000, 1000],'kernel': ['linear']}\n",
    "\n",
    "# dtc = DecisionTreeClassifier()\n",
    "# svc = SVC(probability=True)\n",
    "\n",
    "# g_dtc = GridSearchCV(dtc, param_grid=dtc_parameters, cv=3, refit=True, return_train_score=True)\n",
    "# g_svc = GridSearchCV(svc, param_grid=svc_parameters, cv=3, refit=True, return_train_score=True)"
   ]
  },
  {
   "cell_type": "code",
   "execution_count": 52,
   "id": "f0659997-65bc-4535-9077-b5bf5eefbd37",
   "metadata": {},
   "outputs": [],
   "source": [
    "# g_dtc.fit(X_train_over, y_train_over)"
   ]
  },
  {
   "cell_type": "code",
   "execution_count": 53,
   "id": "af64407a-a2a9-441f-b471-f4e8551e881d",
   "metadata": {},
   "outputs": [],
   "source": [
    "# g_svc.fit(X_train_over, y_train_over)"
   ]
  },
  {
   "cell_type": "code",
   "execution_count": 54,
   "id": "a73736eb-fd94-4999-8073-8561e6cc1e2e",
   "metadata": {},
   "outputs": [],
   "source": [
    "# dtc_result_df = pd.DataFrame(g_dtc.cv_results_)[['params', 'mean_test_score', 'rank_test_score']]\n",
    "# display(dtc_result_df)\n",
    "# # dtc=DecisionTreeClassifier('max_depth': [], 'min_samples_split': [])\n",
    "# # dtc.fit(X_train_over, y_train_over)\n",
    "\n",
    "# # dtc = g_dtc.best_estimator_\n",
    "# # prediction = dtc.predict(X_test)"
   ]
  },
  {
   "cell_type": "code",
   "execution_count": 55,
   "id": "e808552b-da61-4033-a932-34974684a973",
   "metadata": {},
   "outputs": [],
   "source": [
    "# svc_result_df = pd.DataFrame(g_svc.cv_results_)[['params', 'mean_test_score', 'rank_test_score']]\n",
    "# display(svc_result_df)\n",
    "\n",
    "# svc = g_svc.best_estimator_\n",
    "# prediction = svc.predict(X_test)"
   ]
  },
  {
   "cell_type": "code",
   "execution_count": 56,
   "id": "2290d134-a888-4412-82ad-599c460b008d",
   "metadata": {},
   "outputs": [],
   "source": [
    "# # 앙상블의 voting 모델을 이용하여 hard voting, soft voting 을 진행하여 최적의 모델 확인\n",
    "# from sklearn.ensemble import VotingClassifier\n",
    "\n",
    "# vc = VotingClassifier(estimators = [('dtc',dtc),\n",
    "#                                ('svc', svc),\n",
    "#                                ('knn', knn_c)],\n",
    "#                       voting='hard',\n",
    "#                       n_jobs =-1)\n",
    "# # # Hard coding\n",
    "# # # 오차 행렬\n",
    "\n",
    "\n",
    "\n",
    "# # vc = VotingClassifier(estimators = [('dtc',dtc),\n",
    "# #                                ('svc', svc_pipe),\n",
    "# #                                ('knn', knn_pipe)],\n",
    "# #                       voting='soft',\n",
    "# #                       n_jobs =-1)\n",
    "\n",
    "# # # Soft coding\n",
    "# # # 오차 행렬\n"
   ]
  },
  {
   "cell_type": "code",
   "execution_count": 57,
   "id": "e61fb584-d9ce-4f4a-8e71-9560adb67397",
   "metadata": {},
   "outputs": [],
   "source": [
    "# vc.fit(X_train_over, y_train_over)"
   ]
  },
  {
   "cell_type": "code",
   "execution_count": 58,
   "id": "8b80e0c8-834e-44fb-af49-baf3409722ef",
   "metadata": {},
   "outputs": [],
   "source": [
    "# prediction = vc.predict(X_test)"
   ]
  },
  {
   "cell_type": "code",
   "execution_count": 59,
   "id": "8cea1440-60d6-4155-a898-50d135392604",
   "metadata": {},
   "outputs": [],
   "source": [
    "# get_evaluation(y_test, prediction, vc, X_test)"
   ]
  },
  {
   "cell_type": "markdown",
   "id": "37c28178-2628-4d98-a54a-5583bf3721bc",
   "metadata": {},
   "source": [
    "### M??_Cycle01. 차후 위치 변경 후 다른 모델들을 사용하여 데이터 분석 진행 필요"
   ]
  },
  {
   "cell_type": "markdown",
   "id": "e2b6018a-b213-4c4b-82e9-ed01c7aaa0ad",
   "metadata": {},
   "source": [
    "# 6. Model06. ensemble 사용 시 배깅의 랜덤포레스트 모델을 통한 최적의 성능 평가지표 값 확인\n",
    "** 특이사항: 위에서 사용된 하이퍼파라미터 값을 참고하여 수치값을 추가 수정 후 훈련을 진행합니다.\n",
    "** 훈련데이터 사용"
   ]
  },
  {
   "cell_type": "code",
   "execution_count": 60,
   "id": "54f05ea1-a411-4568-baf5-d4d8b6981752",
   "metadata": {},
   "outputs": [],
   "source": [
    "from sklearn.ensemble import RandomForestClassifier\n",
    "\n",
    "parameters = {\n",
    "    'max_depth': [50, 100, 500],\n",
    "    'min_samples_split' : [10, 20 , 30]\n",
    "}\n",
    "\n",
    "rfc = RandomForestClassifier(n_estimators=70)\n",
    "\n",
    "g_rfc = GridSearchCV(rfc, param_grid=parameters, cv=3, n_jobs= -1)"
   ]
  },
  {
   "cell_type": "code",
   "execution_count": 61,
   "id": "c35081eb-c56b-4ecc-a3b8-f6bb06d8637b",
   "metadata": {},
   "outputs": [
    {
     "data": {
      "text/html": [
       "<style>#sk-container-id-5 {color: black;background-color: white;}#sk-container-id-5 pre{padding: 0;}#sk-container-id-5 div.sk-toggleable {background-color: white;}#sk-container-id-5 label.sk-toggleable__label {cursor: pointer;display: block;width: 100%;margin-bottom: 0;padding: 0.3em;box-sizing: border-box;text-align: center;}#sk-container-id-5 label.sk-toggleable__label-arrow:before {content: \"▸\";float: left;margin-right: 0.25em;color: #696969;}#sk-container-id-5 label.sk-toggleable__label-arrow:hover:before {color: black;}#sk-container-id-5 div.sk-estimator:hover label.sk-toggleable__label-arrow:before {color: black;}#sk-container-id-5 div.sk-toggleable__content {max-height: 0;max-width: 0;overflow: hidden;text-align: left;background-color: #f0f8ff;}#sk-container-id-5 div.sk-toggleable__content pre {margin: 0.2em;color: black;border-radius: 0.25em;background-color: #f0f8ff;}#sk-container-id-5 input.sk-toggleable__control:checked~div.sk-toggleable__content {max-height: 200px;max-width: 100%;overflow: auto;}#sk-container-id-5 input.sk-toggleable__control:checked~label.sk-toggleable__label-arrow:before {content: \"▾\";}#sk-container-id-5 div.sk-estimator input.sk-toggleable__control:checked~label.sk-toggleable__label {background-color: #d4ebff;}#sk-container-id-5 div.sk-label input.sk-toggleable__control:checked~label.sk-toggleable__label {background-color: #d4ebff;}#sk-container-id-5 input.sk-hidden--visually {border: 0;clip: rect(1px 1px 1px 1px);clip: rect(1px, 1px, 1px, 1px);height: 1px;margin: -1px;overflow: hidden;padding: 0;position: absolute;width: 1px;}#sk-container-id-5 div.sk-estimator {font-family: monospace;background-color: #f0f8ff;border: 1px dotted black;border-radius: 0.25em;box-sizing: border-box;margin-bottom: 0.5em;}#sk-container-id-5 div.sk-estimator:hover {background-color: #d4ebff;}#sk-container-id-5 div.sk-parallel-item::after {content: \"\";width: 100%;border-bottom: 1px solid gray;flex-grow: 1;}#sk-container-id-5 div.sk-label:hover label.sk-toggleable__label {background-color: #d4ebff;}#sk-container-id-5 div.sk-serial::before {content: \"\";position: absolute;border-left: 1px solid gray;box-sizing: border-box;top: 0;bottom: 0;left: 50%;z-index: 0;}#sk-container-id-5 div.sk-serial {display: flex;flex-direction: column;align-items: center;background-color: white;padding-right: 0.2em;padding-left: 0.2em;position: relative;}#sk-container-id-5 div.sk-item {position: relative;z-index: 1;}#sk-container-id-5 div.sk-parallel {display: flex;align-items: stretch;justify-content: center;background-color: white;position: relative;}#sk-container-id-5 div.sk-item::before, #sk-container-id-5 div.sk-parallel-item::before {content: \"\";position: absolute;border-left: 1px solid gray;box-sizing: border-box;top: 0;bottom: 0;left: 50%;z-index: -1;}#sk-container-id-5 div.sk-parallel-item {display: flex;flex-direction: column;z-index: 1;position: relative;background-color: white;}#sk-container-id-5 div.sk-parallel-item:first-child::after {align-self: flex-end;width: 50%;}#sk-container-id-5 div.sk-parallel-item:last-child::after {align-self: flex-start;width: 50%;}#sk-container-id-5 div.sk-parallel-item:only-child::after {width: 0;}#sk-container-id-5 div.sk-dashed-wrapped {border: 1px dashed gray;margin: 0 0.4em 0.5em 0.4em;box-sizing: border-box;padding-bottom: 0.4em;background-color: white;}#sk-container-id-5 div.sk-label label {font-family: monospace;font-weight: bold;display: inline-block;line-height: 1.2em;}#sk-container-id-5 div.sk-label-container {text-align: center;}#sk-container-id-5 div.sk-container {/* jupyter's `normalize.less` sets `[hidden] { display: none; }` but bootstrap.min.css set `[hidden] { display: none !important; }` so we also need the `!important` here to be able to override the default hidden behavior on the sphinx rendered scikit-learn.org. See: https://github.com/scikit-learn/scikit-learn/issues/21755 */display: inline-block !important;position: relative;}#sk-container-id-5 div.sk-text-repr-fallback {display: none;}</style><div id=\"sk-container-id-5\" class=\"sk-top-container\"><div class=\"sk-text-repr-fallback\"><pre>GridSearchCV(cv=3, estimator=RandomForestClassifier(n_estimators=70), n_jobs=-1,\n",
       "             param_grid={&#x27;max_depth&#x27;: [50, 100, 500],\n",
       "                         &#x27;min_samples_split&#x27;: [10, 20, 30]})</pre><b>In a Jupyter environment, please rerun this cell to show the HTML representation or trust the notebook. <br />On GitHub, the HTML representation is unable to render, please try loading this page with nbviewer.org.</b></div><div class=\"sk-container\" hidden><div class=\"sk-item sk-dashed-wrapped\"><div class=\"sk-label-container\"><div class=\"sk-label sk-toggleable\"><input class=\"sk-toggleable__control sk-hidden--visually\" id=\"sk-estimator-id-11\" type=\"checkbox\" ><label for=\"sk-estimator-id-11\" class=\"sk-toggleable__label sk-toggleable__label-arrow\">GridSearchCV</label><div class=\"sk-toggleable__content\"><pre>GridSearchCV(cv=3, estimator=RandomForestClassifier(n_estimators=70), n_jobs=-1,\n",
       "             param_grid={&#x27;max_depth&#x27;: [50, 100, 500],\n",
       "                         &#x27;min_samples_split&#x27;: [10, 20, 30]})</pre></div></div></div><div class=\"sk-parallel\"><div class=\"sk-parallel-item\"><div class=\"sk-item\"><div class=\"sk-label-container\"><div class=\"sk-label sk-toggleable\"><input class=\"sk-toggleable__control sk-hidden--visually\" id=\"sk-estimator-id-12\" type=\"checkbox\" ><label for=\"sk-estimator-id-12\" class=\"sk-toggleable__label sk-toggleable__label-arrow\">estimator: RandomForestClassifier</label><div class=\"sk-toggleable__content\"><pre>RandomForestClassifier(n_estimators=70)</pre></div></div></div><div class=\"sk-serial\"><div class=\"sk-item\"><div class=\"sk-estimator sk-toggleable\"><input class=\"sk-toggleable__control sk-hidden--visually\" id=\"sk-estimator-id-13\" type=\"checkbox\" ><label for=\"sk-estimator-id-13\" class=\"sk-toggleable__label sk-toggleable__label-arrow\">RandomForestClassifier</label><div class=\"sk-toggleable__content\"><pre>RandomForestClassifier(n_estimators=70)</pre></div></div></div></div></div></div></div></div></div></div>"
      ],
      "text/plain": [
       "GridSearchCV(cv=3, estimator=RandomForestClassifier(n_estimators=70), n_jobs=-1,\n",
       "             param_grid={'max_depth': [50, 100, 500],\n",
       "                         'min_samples_split': [10, 20, 30]})"
      ]
     },
     "execution_count": 61,
     "metadata": {},
     "output_type": "execute_result"
    }
   ],
   "source": [
    "g_rfc.fit(X_train_over, y_train_over)"
   ]
  },
  {
   "cell_type": "code",
   "execution_count": 62,
   "id": "bee572bd-2b09-4756-807b-657f295c0a0a",
   "metadata": {},
   "outputs": [
    {
     "data": {
      "text/html": [
       "<div>\n",
       "<style scoped>\n",
       "    .dataframe tbody tr th:only-of-type {\n",
       "        vertical-align: middle;\n",
       "    }\n",
       "\n",
       "    .dataframe tbody tr th {\n",
       "        vertical-align: top;\n",
       "    }\n",
       "\n",
       "    .dataframe thead th {\n",
       "        text-align: right;\n",
       "    }\n",
       "</style>\n",
       "<table border=\"1\" class=\"dataframe\">\n",
       "  <thead>\n",
       "    <tr style=\"text-align: right;\">\n",
       "      <th></th>\n",
       "      <th>params</th>\n",
       "      <th>mean_test_score</th>\n",
       "      <th>rank_test_score</th>\n",
       "    </tr>\n",
       "  </thead>\n",
       "  <tbody>\n",
       "    <tr>\n",
       "      <th>0</th>\n",
       "      <td>{'max_depth': 50, 'min_samples_split': 10}</td>\n",
       "      <td>0.889404</td>\n",
       "      <td>3</td>\n",
       "    </tr>\n",
       "    <tr>\n",
       "      <th>1</th>\n",
       "      <td>{'max_depth': 50, 'min_samples_split': 20}</td>\n",
       "      <td>0.873763</td>\n",
       "      <td>6</td>\n",
       "    </tr>\n",
       "    <tr>\n",
       "      <th>2</th>\n",
       "      <td>{'max_depth': 50, 'min_samples_split': 30}</td>\n",
       "      <td>0.862788</td>\n",
       "      <td>9</td>\n",
       "    </tr>\n",
       "    <tr>\n",
       "      <th>3</th>\n",
       "      <td>{'max_depth': 100, 'min_samples_split': 10}</td>\n",
       "      <td>0.892928</td>\n",
       "      <td>2</td>\n",
       "    </tr>\n",
       "    <tr>\n",
       "      <th>4</th>\n",
       "      <td>{'max_depth': 100, 'min_samples_split': 20}</td>\n",
       "      <td>0.877657</td>\n",
       "      <td>5</td>\n",
       "    </tr>\n",
       "    <tr>\n",
       "      <th>5</th>\n",
       "      <td>{'max_depth': 100, 'min_samples_split': 30}</td>\n",
       "      <td>0.866557</td>\n",
       "      <td>7</td>\n",
       "    </tr>\n",
       "    <tr>\n",
       "      <th>6</th>\n",
       "      <td>{'max_depth': 500, 'min_samples_split': 10}</td>\n",
       "      <td>0.893135</td>\n",
       "      <td>1</td>\n",
       "    </tr>\n",
       "    <tr>\n",
       "      <th>7</th>\n",
       "      <td>{'max_depth': 500, 'min_samples_split': 20}</td>\n",
       "      <td>0.877801</td>\n",
       "      <td>4</td>\n",
       "    </tr>\n",
       "    <tr>\n",
       "      <th>8</th>\n",
       "      <td>{'max_depth': 500, 'min_samples_split': 30}</td>\n",
       "      <td>0.866278</td>\n",
       "      <td>8</td>\n",
       "    </tr>\n",
       "  </tbody>\n",
       "</table>\n",
       "</div>"
      ],
      "text/plain": [
       "                                        params  mean_test_score  \\\n",
       "0   {'max_depth': 50, 'min_samples_split': 10}         0.889404   \n",
       "1   {'max_depth': 50, 'min_samples_split': 20}         0.873763   \n",
       "2   {'max_depth': 50, 'min_samples_split': 30}         0.862788   \n",
       "3  {'max_depth': 100, 'min_samples_split': 10}         0.892928   \n",
       "4  {'max_depth': 100, 'min_samples_split': 20}         0.877657   \n",
       "5  {'max_depth': 100, 'min_samples_split': 30}         0.866557   \n",
       "6  {'max_depth': 500, 'min_samples_split': 10}         0.893135   \n",
       "7  {'max_depth': 500, 'min_samples_split': 20}         0.877801   \n",
       "8  {'max_depth': 500, 'min_samples_split': 30}         0.866278   \n",
       "\n",
       "   rank_test_score  \n",
       "0                3  \n",
       "1                6  \n",
       "2                9  \n",
       "3                2  \n",
       "4                5  \n",
       "5                7  \n",
       "6                1  \n",
       "7                4  \n",
       "8                8  "
      ]
     },
     "metadata": {},
     "output_type": "display_data"
    }
   ],
   "source": [
    "rfc_result_df = pd.DataFrame(g_rfc.cv_results_)[['params', 'mean_test_score', 'rank_test_score']]\n",
    "display(rfc_result_df)"
   ]
  },
  {
   "cell_type": "code",
   "execution_count": 63,
   "id": "8d541ab4-167e-472f-aa70-81f55d689cd8",
   "metadata": {},
   "outputs": [],
   "source": [
    "rfc= g_rfc.best_estimator_\n",
    "prediction = rfc.predict(X_test)"
   ]
  },
  {
   "cell_type": "code",
   "execution_count": 64,
   "id": "11e4edf9-d16b-41d8-8ccd-d6d32018b1c5",
   "metadata": {},
   "outputs": [
    {
     "name": "stdout",
     "output_type": "stream",
     "text": [
      "오차 행렬\n",
      "[[53248  2934]\n",
      " [ 4963   259]]\n",
      "정확도: 0.8714, 정밀도: 0.0811, 재현율: 0.0496, F1: 0.0616, ROC-AUC: 0.4987\n",
      "################################################################################\n"
     ]
    },
    {
     "data": {
      "image/png": "[encoded data removed]",
      "text/plain": [
       "<Figure size 1200x400 with 4 Axes>"
      ]
     },
     "metadata": {},
     "output_type": "display_data"
    }
   ],
   "source": [
    "get_evaluation(y_test, prediction, rfc, X_test)"
   ]
  },
  {
   "cell_type": "code",
   "execution_count": 65,
   "id": "f6078efb-62dc-4797-801a-25977bb30b6b",
   "metadata": {},
   "outputs": [
    {
     "data": {
      "text/plain": [
       "array([ 6,  0,  9, 11,  8, 15, 13,  7, 10, 12, 14,  2,  1,  3, 16, 17,  4,\n",
       "       18,  5])"
      ]
     },
     "execution_count": 65,
     "metadata": {},
     "output_type": "execute_result"
    }
   ],
   "source": [
    "from sklearn.inspection import permutation_importance\n",
    "\n",
    "importance = permutation_importance(rfc, X_test, y_test, n_repeats=30, random_state=124)\n",
    "importance.importances_mean.argsort()\n"
   ]
  },
  {
   "cell_type": "code",
   "execution_count": 66,
   "id": "dcd883fb-3c39-4336-80e3-bd2053ed33a0",
   "metadata": {},
   "outputs": [
    {
     "name": "stdout",
     "output_type": "stream",
     "text": [
      "Zinc: 0.0002\n",
      "Air Temperature: 0.0001\n",
      "Lead: 0.0\n",
      "Water Temperature: -0.0\n",
      "Source: -0.0002\n",
      "Chloride: -0.0002\n",
      "Iron: -0.0003\n",
      "Nitrate: -0.0004\n",
      "Manganese: -0.0005\n",
      "Conductivity: -0.0005\n",
      "Odor: -0.0006\n",
      "Turbidity: -0.0006\n",
      "Chlorine: -0.0006\n",
      "Total Dissolved Solids: -0.0007\n",
      "Fluoride: -0.0009\n",
      "Sulfate: -0.001\n",
      "Copper: -0.001\n",
      "pH: -0.0013\n",
      "Color: -0.0015\n"
     ]
    }
   ],
   "source": [
    "for i in importance.importances_mean.argsort()[::-1]:\n",
    "    print(f\"{features.columns[i]}: {round(importance.importances_mean[i], 4)}\")"
   ]
  },
  {
   "cell_type": "markdown",
   "id": "1362902d-1447-49d7-af42-800a08d86e03",
   "metadata": {},
   "source": [
    "### 6. M06_Cycle01. \n",
    "- 앙상블의 랜덤포레스트 모델을 사용했을 때 하이퍼파라미터 'max_depth' 값을 높일 수록 점수가 높은 부분을 확인할 수 있었습니다.\n",
    "- 파라미터 수치값을 근단적으로 높여 추가 검증 진행하겠습니다."
   ]
  },
  {
   "cell_type": "markdown",
   "id": "1432430e-bc30-4ff4-b70b-0a6a23491ae7",
   "metadata": {},
   "source": [
    "### Cycle02. RandomForestClassifier"
   ]
  },
  {
   "cell_type": "code",
   "execution_count": 67,
   "id": "8868d68c-09ed-44a5-829a-99378ce42507",
   "metadata": {},
   "outputs": [],
   "source": [
    "parameters = {\n",
    "    'max_depth': [500, 600],\n",
    "    'min_samples_split' : [4, 5, 6]\n",
    "}\n",
    "\n",
    "rfc = RandomForestClassifier(n_estimators=70)\n",
    "\n",
    "g_rfc = GridSearchCV(rfc, param_grid=parameters, cv=3, n_jobs= -1)"
   ]
  },
  {
   "cell_type": "code",
   "execution_count": 68,
   "id": "e19dc01d-570f-44bd-be1e-608590bfea22",
   "metadata": {},
   "outputs": [
    {
     "data": {
      "text/html": [
       "<style>#sk-container-id-6 {color: black;background-color: white;}#sk-container-id-6 pre{padding: 0;}#sk-container-id-6 div.sk-toggleable {background-color: white;}#sk-container-id-6 label.sk-toggleable__label {cursor: pointer;display: block;width: 100%;margin-bottom: 0;padding: 0.3em;box-sizing: border-box;text-align: center;}#sk-container-id-6 label.sk-toggleable__label-arrow:before {content: \"▸\";float: left;margin-right: 0.25em;color: #696969;}#sk-container-id-6 label.sk-toggleable__label-arrow:hover:before {color: black;}#sk-container-id-6 div.sk-estimator:hover label.sk-toggleable__label-arrow:before {color: black;}#sk-container-id-6 div.sk-toggleable__content {max-height: 0;max-width: 0;overflow: hidden;text-align: left;background-color: #f0f8ff;}#sk-container-id-6 div.sk-toggleable__content pre {margin: 0.2em;color: black;border-radius: 0.25em;background-color: #f0f8ff;}#sk-container-id-6 input.sk-toggleable__control:checked~div.sk-toggleable__content {max-height: 200px;max-width: 100%;overflow: auto;}#sk-container-id-6 input.sk-toggleable__control:checked~label.sk-toggleable__label-arrow:before {content: \"▾\";}#sk-container-id-6 div.sk-estimator input.sk-toggleable__control:checked~label.sk-toggleable__label {background-color: #d4ebff;}#sk-container-id-6 div.sk-label input.sk-toggleable__control:checked~label.sk-toggleable__label {background-color: #d4ebff;}#sk-container-id-6 input.sk-hidden--visually {border: 0;clip: rect(1px 1px 1px 1px);clip: rect(1px, 1px, 1px, 1px);height: 1px;margin: -1px;overflow: hidden;padding: 0;position: absolute;width: 1px;}#sk-container-id-6 div.sk-estimator {font-family: monospace;background-color: #f0f8ff;border: 1px dotted black;border-radius: 0.25em;box-sizing: border-box;margin-bottom: 0.5em;}#sk-container-id-6 div.sk-estimator:hover {background-color: #d4ebff;}#sk-container-id-6 div.sk-parallel-item::after {content: \"\";width: 100%;border-bottom: 1px solid gray;flex-grow: 1;}#sk-container-id-6 div.sk-label:hover label.sk-toggleable__label {background-color: #d4ebff;}#sk-container-id-6 div.sk-serial::before {content: \"\";position: absolute;border-left: 1px solid gray;box-sizing: border-box;top: 0;bottom: 0;left: 50%;z-index: 0;}#sk-container-id-6 div.sk-serial {display: flex;flex-direction: column;align-items: center;background-color: white;padding-right: 0.2em;padding-left: 0.2em;position: relative;}#sk-container-id-6 div.sk-item {position: relative;z-index: 1;}#sk-container-id-6 div.sk-parallel {display: flex;align-items: stretch;justify-content: center;background-color: white;position: relative;}#sk-container-id-6 div.sk-item::before, #sk-container-id-6 div.sk-parallel-item::before {content: \"\";position: absolute;border-left: 1px solid gray;box-sizing: border-box;top: 0;bottom: 0;left: 50%;z-index: -1;}#sk-container-id-6 div.sk-parallel-item {display: flex;flex-direction: column;z-index: 1;position: relative;background-color: white;}#sk-container-id-6 div.sk-parallel-item:first-child::after {align-self: flex-end;width: 50%;}#sk-container-id-6 div.sk-parallel-item:last-child::after {align-self: flex-start;width: 50%;}#sk-container-id-6 div.sk-parallel-item:only-child::after {width: 0;}#sk-container-id-6 div.sk-dashed-wrapped {border: 1px dashed gray;margin: 0 0.4em 0.5em 0.4em;box-sizing: border-box;padding-bottom: 0.4em;background-color: white;}#sk-container-id-6 div.sk-label label {font-family: monospace;font-weight: bold;display: inline-block;line-height: 1.2em;}#sk-container-id-6 div.sk-label-container {text-align: center;}#sk-container-id-6 div.sk-container {/* jupyter's `normalize.less` sets `[hidden] { display: none; }` but bootstrap.min.css set `[hidden] { display: none !important; }` so we also need the `!important` here to be able to override the default hidden behavior on the sphinx rendered scikit-learn.org. See: https://github.com/scikit-learn/scikit-learn/issues/21755 */display: inline-block !important;position: relative;}#sk-container-id-6 div.sk-text-repr-fallback {display: none;}</style><div id=\"sk-container-id-6\" class=\"sk-top-container\"><div class=\"sk-text-repr-fallback\"><pre>GridSearchCV(cv=3, estimator=RandomForestClassifier(n_estimators=70), n_jobs=-1,\n",
       "             param_grid={&#x27;max_depth&#x27;: [500, 600],\n",
       "                         &#x27;min_samples_split&#x27;: [4, 5, 6]})</pre><b>In a Jupyter environment, please rerun this cell to show the HTML representation or trust the notebook. <br />On GitHub, the HTML representation is unable to render, please try loading this page with nbviewer.org.</b></div><div class=\"sk-container\" hidden><div class=\"sk-item sk-dashed-wrapped\"><div class=\"sk-label-container\"><div class=\"sk-label sk-toggleable\"><input class=\"sk-toggleable__control sk-hidden--visually\" id=\"sk-estimator-id-14\" type=\"checkbox\" ><label for=\"sk-estimator-id-14\" class=\"sk-toggleable__label sk-toggleable__label-arrow\">GridSearchCV</label><div class=\"sk-toggleable__content\"><pre>GridSearchCV(cv=3, estimator=RandomForestClassifier(n_estimators=70), n_jobs=-1,\n",
       "             param_grid={&#x27;max_depth&#x27;: [500, 600],\n",
       "                         &#x27;min_samples_split&#x27;: [4, 5, 6]})</pre></div></div></div><div class=\"sk-parallel\"><div class=\"sk-parallel-item\"><div class=\"sk-item\"><div class=\"sk-label-container\"><div class=\"sk-label sk-toggleable\"><input class=\"sk-toggleable__control sk-hidden--visually\" id=\"sk-estimator-id-15\" type=\"checkbox\" ><label for=\"sk-estimator-id-15\" class=\"sk-toggleable__label sk-toggleable__label-arrow\">estimator: RandomForestClassifier</label><div class=\"sk-toggleable__content\"><pre>RandomForestClassifier(n_estimators=70)</pre></div></div></div><div class=\"sk-serial\"><div class=\"sk-item\"><div class=\"sk-estimator sk-toggleable\"><input class=\"sk-toggleable__control sk-hidden--visually\" id=\"sk-estimator-id-16\" type=\"checkbox\" ><label for=\"sk-estimator-id-16\" class=\"sk-toggleable__label sk-toggleable__label-arrow\">RandomForestClassifier</label><div class=\"sk-toggleable__content\"><pre>RandomForestClassifier(n_estimators=70)</pre></div></div></div></div></div></div></div></div></div></div>"
      ],
      "text/plain": [
       "GridSearchCV(cv=3, estimator=RandomForestClassifier(n_estimators=70), n_jobs=-1,\n",
       "             param_grid={'max_depth': [500, 600],\n",
       "                         'min_samples_split': [4, 5, 6]})"
      ]
     },
     "execution_count": 68,
     "metadata": {},
     "output_type": "execute_result"
    }
   ],
   "source": [
    "g_rfc.fit(X_train_over, y_train_over)"
   ]
  },
  {
   "cell_type": "code",
   "execution_count": 69,
   "id": "48423ef1-ee66-479f-aa77-9233dd7ab915",
   "metadata": {},
   "outputs": [
    {
     "data": {
      "text/html": [
       "<div>\n",
       "<style scoped>\n",
       "    .dataframe tbody tr th:only-of-type {\n",
       "        vertical-align: middle;\n",
       "    }\n",
       "\n",
       "    .dataframe tbody tr th {\n",
       "        vertical-align: top;\n",
       "    }\n",
       "\n",
       "    .dataframe thead th {\n",
       "        text-align: right;\n",
       "    }\n",
       "</style>\n",
       "<table border=\"1\" class=\"dataframe\">\n",
       "  <thead>\n",
       "    <tr style=\"text-align: right;\">\n",
       "      <th></th>\n",
       "      <th>params</th>\n",
       "      <th>mean_test_score</th>\n",
       "      <th>rank_test_score</th>\n",
       "    </tr>\n",
       "  </thead>\n",
       "  <tbody>\n",
       "    <tr>\n",
       "      <th>0</th>\n",
       "      <td>{'max_depth': 500, 'min_samples_split': 4}</td>\n",
       "      <td>0.902860</td>\n",
       "      <td>2</td>\n",
       "    </tr>\n",
       "    <tr>\n",
       "      <th>1</th>\n",
       "      <td>{'max_depth': 500, 'min_samples_split': 5}</td>\n",
       "      <td>0.902035</td>\n",
       "      <td>4</td>\n",
       "    </tr>\n",
       "    <tr>\n",
       "      <th>2</th>\n",
       "      <td>{'max_depth': 500, 'min_samples_split': 6}</td>\n",
       "      <td>0.899688</td>\n",
       "      <td>6</td>\n",
       "    </tr>\n",
       "    <tr>\n",
       "      <th>3</th>\n",
       "      <td>{'max_depth': 600, 'min_samples_split': 4}</td>\n",
       "      <td>0.903361</td>\n",
       "      <td>1</td>\n",
       "    </tr>\n",
       "    <tr>\n",
       "      <th>4</th>\n",
       "      <td>{'max_depth': 600, 'min_samples_split': 5}</td>\n",
       "      <td>0.902137</td>\n",
       "      <td>3</td>\n",
       "    </tr>\n",
       "    <tr>\n",
       "      <th>5</th>\n",
       "      <td>{'max_depth': 600, 'min_samples_split': 6}</td>\n",
       "      <td>0.899890</td>\n",
       "      <td>5</td>\n",
       "    </tr>\n",
       "  </tbody>\n",
       "</table>\n",
       "</div>"
      ],
      "text/plain": [
       "                                       params  mean_test_score  \\\n",
       "0  {'max_depth': 500, 'min_samples_split': 4}         0.902860   \n",
       "1  {'max_depth': 500, 'min_samples_split': 5}         0.902035   \n",
       "2  {'max_depth': 500, 'min_samples_split': 6}         0.899688   \n",
       "3  {'max_depth': 600, 'min_samples_split': 4}         0.903361   \n",
       "4  {'max_depth': 600, 'min_samples_split': 5}         0.902137   \n",
       "5  {'max_depth': 600, 'min_samples_split': 6}         0.899890   \n",
       "\n",
       "   rank_test_score  \n",
       "0                2  \n",
       "1                4  \n",
       "2                6  \n",
       "3                1  \n",
       "4                3  \n",
       "5                5  "
      ]
     },
     "metadata": {},
     "output_type": "display_data"
    }
   ],
   "source": [
    "rfc_result_df = pd.DataFrame(g_rfc.cv_results_)[['params', 'mean_test_score', 'rank_test_score']]\n",
    "display(rfc_result_df)"
   ]
  },
  {
   "cell_type": "code",
   "execution_count": 70,
   "id": "859756b6-bc80-415d-8e7a-4004b74630a9",
   "metadata": {},
   "outputs": [],
   "source": [
    "rfc= g_rfc.best_estimator_\n",
    "prediction = rfc.predict(X_test)"
   ]
  },
  {
   "cell_type": "code",
   "execution_count": 71,
   "id": "686034ef-1737-41c7-b2d9-0fd7e68fbcf1",
   "metadata": {},
   "outputs": [
    {
     "name": "stdout",
     "output_type": "stream",
     "text": [
      "오차 행렬\n",
      "[[53608  2574]\n",
      " [ 4989   233]]\n",
      "정확도: 0.8768, 정밀도: 0.0830, 재현율: 0.0446, F1: 0.0580, ROC-AUC: 0.4994\n",
      "################################################################################\n"
     ]
    },
    {
     "data": {
      "image/png": "[encoded data removed]",
      "text/plain": [
       "<Figure size 1200x400 with 4 Axes>"
      ]
     },
     "metadata": {},
     "output_type": "display_data"
    }
   ],
   "source": [
    "get_evaluation(y_test, prediction, rfc, X_test)"
   ]
  },
  {
   "cell_type": "markdown",
   "id": "26e432ad-10f0-4395-a567-bb83e9fd7f7e",
   "metadata": {},
   "source": [
    "### 6. M06_Cycle02. \n",
    "- 파라미터 수치값을 극단적으로 높였을 때 성능이 향상된 모습을 확인할 수 있습니다."
   ]
  },
  {
   "cell_type": "markdown",
   "id": "323e2be4-a727-479e-85d7-09f3c0cb96d2",
   "metadata": {},
   "source": [
    "# 7. Model07. ensemble 사용 시 부스팅의 adaboost 모델을 통한 최적의 성능 평가지표 값 확인\n",
    "\n",
    "- default: 이상치, 결측치, 중복값, 표준화, oversampling 작업 후 데이터 훈련 진행"
   ]
  },
  {
   "cell_type": "code",
   "execution_count": 72,
   "id": "122301f8-234a-4d2c-a22e-1117c2c6aed4",
   "metadata": {},
   "outputs": [],
   "source": [
    "# 데이터의 훈련 시 시간이 얼마나 걸릴 지 모르기 때문에 우선 1부터 조금씩 낮아지도록 훈련 진행\n",
    "from sklearn.ensemble import AdaBoostClassifier\n",
    "\n",
    "parameters = {\n",
    "    'n_estimators': [50, 100, 150],\n",
    "    'learning_rate': [0.7, 0.8, 0.9, 1]\n",
    "}\n",
    "\n",
    "g_ada =GridSearchCV(AdaBoostClassifier(), param_grid= parameters, cv=3, refit=True, return_train_score=True, n_jobs = -1)"
   ]
  },
  {
   "cell_type": "code",
   "execution_count": 73,
   "id": "5f1dca56-0b9e-471d-b8ee-b52a629e2193",
   "metadata": {},
   "outputs": [
    {
     "data": {
      "text/html": [
       "<style>#sk-container-id-7 {color: black;background-color: white;}#sk-container-id-7 pre{padding: 0;}#sk-container-id-7 div.sk-toggleable {background-color: white;}#sk-container-id-7 label.sk-toggleable__label {cursor: pointer;display: block;width: 100%;margin-bottom: 0;padding: 0.3em;box-sizing: border-box;text-align: center;}#sk-container-id-7 label.sk-toggleable__label-arrow:before {content: \"▸\";float: left;margin-right: 0.25em;color: #696969;}#sk-container-id-7 label.sk-toggleable__label-arrow:hover:before {color: black;}#sk-container-id-7 div.sk-estimator:hover label.sk-toggleable__label-arrow:before {color: black;}#sk-container-id-7 div.sk-toggleable__content {max-height: 0;max-width: 0;overflow: hidden;text-align: left;background-color: #f0f8ff;}#sk-container-id-7 div.sk-toggleable__content pre {margin: 0.2em;color: black;border-radius: 0.25em;background-color: #f0f8ff;}#sk-container-id-7 input.sk-toggleable__control:checked~div.sk-toggleable__content {max-height: 200px;max-width: 100%;overflow: auto;}#sk-container-id-7 input.sk-toggleable__control:checked~label.sk-toggleable__label-arrow:before {content: \"▾\";}#sk-container-id-7 div.sk-estimator input.sk-toggleable__control:checked~label.sk-toggleable__label {background-color: #d4ebff;}#sk-container-id-7 div.sk-label input.sk-toggleable__control:checked~label.sk-toggleable__label {background-color: #d4ebff;}#sk-container-id-7 input.sk-hidden--visually {border: 0;clip: rect(1px 1px 1px 1px);clip: rect(1px, 1px, 1px, 1px);height: 1px;margin: -1px;overflow: hidden;padding: 0;position: absolute;width: 1px;}#sk-container-id-7 div.sk-estimator {font-family: monospace;background-color: #f0f8ff;border: 1px dotted black;border-radius: 0.25em;box-sizing: border-box;margin-bottom: 0.5em;}#sk-container-id-7 div.sk-estimator:hover {background-color: #d4ebff;}#sk-container-id-7 div.sk-parallel-item::after {content: \"\";width: 100%;border-bottom: 1px solid gray;flex-grow: 1;}#sk-container-id-7 div.sk-label:hover label.sk-toggleable__label {background-color: #d4ebff;}#sk-container-id-7 div.sk-serial::before {content: \"\";position: absolute;border-left: 1px solid gray;box-sizing: border-box;top: 0;bottom: 0;left: 50%;z-index: 0;}#sk-container-id-7 div.sk-serial {display: flex;flex-direction: column;align-items: center;background-color: white;padding-right: 0.2em;padding-left: 0.2em;position: relative;}#sk-container-id-7 div.sk-item {position: relative;z-index: 1;}#sk-container-id-7 div.sk-parallel {display: flex;align-items: stretch;justify-content: center;background-color: white;position: relative;}#sk-container-id-7 div.sk-item::before, #sk-container-id-7 div.sk-parallel-item::before {content: \"\";position: absolute;border-left: 1px solid gray;box-sizing: border-box;top: 0;bottom: 0;left: 50%;z-index: -1;}#sk-container-id-7 div.sk-parallel-item {display: flex;flex-direction: column;z-index: 1;position: relative;background-color: white;}#sk-container-id-7 div.sk-parallel-item:first-child::after {align-self: flex-end;width: 50%;}#sk-container-id-7 div.sk-parallel-item:last-child::after {align-self: flex-start;width: 50%;}#sk-container-id-7 div.sk-parallel-item:only-child::after {width: 0;}#sk-container-id-7 div.sk-dashed-wrapped {border: 1px dashed gray;margin: 0 0.4em 0.5em 0.4em;box-sizing: border-box;padding-bottom: 0.4em;background-color: white;}#sk-container-id-7 div.sk-label label {font-family: monospace;font-weight: bold;display: inline-block;line-height: 1.2em;}#sk-container-id-7 div.sk-label-container {text-align: center;}#sk-container-id-7 div.sk-container {/* jupyter's `normalize.less` sets `[hidden] { display: none; }` but bootstrap.min.css set `[hidden] { display: none !important; }` so we also need the `!important` here to be able to override the default hidden behavior on the sphinx rendered scikit-learn.org. See: https://github.com/scikit-learn/scikit-learn/issues/21755 */display: inline-block !important;position: relative;}#sk-container-id-7 div.sk-text-repr-fallback {display: none;}</style><div id=\"sk-container-id-7\" class=\"sk-top-container\"><div class=\"sk-text-repr-fallback\"><pre>GridSearchCV(cv=3, estimator=AdaBoostClassifier(), n_jobs=-1,\n",
       "             param_grid={&#x27;learning_rate&#x27;: [0.7, 0.8, 0.9, 1],\n",
       "                         &#x27;n_estimators&#x27;: [50, 100, 150]},\n",
       "             return_train_score=True)</pre><b>In a Jupyter environment, please rerun this cell to show the HTML representation or trust the notebook. <br />On GitHub, the HTML representation is unable to render, please try loading this page with nbviewer.org.</b></div><div class=\"sk-container\" hidden><div class=\"sk-item sk-dashed-wrapped\"><div class=\"sk-label-container\"><div class=\"sk-label sk-toggleable\"><input class=\"sk-toggleable__control sk-hidden--visually\" id=\"sk-estimator-id-17\" type=\"checkbox\" ><label for=\"sk-estimator-id-17\" class=\"sk-toggleable__label sk-toggleable__label-arrow\">GridSearchCV</label><div class=\"sk-toggleable__content\"><pre>GridSearchCV(cv=3, estimator=AdaBoostClassifier(), n_jobs=-1,\n",
       "             param_grid={&#x27;learning_rate&#x27;: [0.7, 0.8, 0.9, 1],\n",
       "                         &#x27;n_estimators&#x27;: [50, 100, 150]},\n",
       "             return_train_score=True)</pre></div></div></div><div class=\"sk-parallel\"><div class=\"sk-parallel-item\"><div class=\"sk-item\"><div class=\"sk-label-container\"><div class=\"sk-label sk-toggleable\"><input class=\"sk-toggleable__control sk-hidden--visually\" id=\"sk-estimator-id-18\" type=\"checkbox\" ><label for=\"sk-estimator-id-18\" class=\"sk-toggleable__label sk-toggleable__label-arrow\">estimator: AdaBoostClassifier</label><div class=\"sk-toggleable__content\"><pre>AdaBoostClassifier()</pre></div></div></div><div class=\"sk-serial\"><div class=\"sk-item\"><div class=\"sk-estimator sk-toggleable\"><input class=\"sk-toggleable__control sk-hidden--visually\" id=\"sk-estimator-id-19\" type=\"checkbox\" ><label for=\"sk-estimator-id-19\" class=\"sk-toggleable__label sk-toggleable__label-arrow\">AdaBoostClassifier</label><div class=\"sk-toggleable__content\"><pre>AdaBoostClassifier()</pre></div></div></div></div></div></div></div></div></div></div>"
      ],
      "text/plain": [
       "GridSearchCV(cv=3, estimator=AdaBoostClassifier(), n_jobs=-1,\n",
       "             param_grid={'learning_rate': [0.7, 0.8, 0.9, 1],\n",
       "                         'n_estimators': [50, 100, 150]},\n",
       "             return_train_score=True)"
      ]
     },
     "execution_count": 73,
     "metadata": {},
     "output_type": "execute_result"
    }
   ],
   "source": [
    "# 부스팅 adaboost 모델 훈련\n",
    "g_ada.fit(X_train_over, y_train_over)"
   ]
  },
  {
   "cell_type": "code",
   "execution_count": 74,
   "id": "02553c29-9f93-42cc-9789-36dd373842c5",
   "metadata": {},
   "outputs": [
    {
     "data": {
      "text/html": [
       "<div>\n",
       "<style scoped>\n",
       "    .dataframe tbody tr th:only-of-type {\n",
       "        vertical-align: middle;\n",
       "    }\n",
       "\n",
       "    .dataframe tbody tr th {\n",
       "        vertical-align: top;\n",
       "    }\n",
       "\n",
       "    .dataframe thead th {\n",
       "        text-align: right;\n",
       "    }\n",
       "</style>\n",
       "<table border=\"1\" class=\"dataframe\">\n",
       "  <thead>\n",
       "    <tr style=\"text-align: right;\">\n",
       "      <th></th>\n",
       "      <th>params</th>\n",
       "      <th>mean_test_score</th>\n",
       "      <th>rank_test_score</th>\n",
       "    </tr>\n",
       "  </thead>\n",
       "  <tbody>\n",
       "    <tr>\n",
       "      <th>0</th>\n",
       "      <td>{'learning_rate': 0.7, 'n_estimators': 50}</td>\n",
       "      <td>0.737291</td>\n",
       "      <td>12</td>\n",
       "    </tr>\n",
       "    <tr>\n",
       "      <th>1</th>\n",
       "      <td>{'learning_rate': 0.7, 'n_estimators': 100}</td>\n",
       "      <td>0.774774</td>\n",
       "      <td>8</td>\n",
       "    </tr>\n",
       "    <tr>\n",
       "      <th>2</th>\n",
       "      <td>{'learning_rate': 0.7, 'n_estimators': 150}</td>\n",
       "      <td>0.803647</td>\n",
       "      <td>4</td>\n",
       "    </tr>\n",
       "    <tr>\n",
       "      <th>3</th>\n",
       "      <td>{'learning_rate': 0.8, 'n_estimators': 50}</td>\n",
       "      <td>0.746356</td>\n",
       "      <td>11</td>\n",
       "    </tr>\n",
       "    <tr>\n",
       "      <th>4</th>\n",
       "      <td>{'learning_rate': 0.8, 'n_estimators': 100}</td>\n",
       "      <td>0.783903</td>\n",
       "      <td>7</td>\n",
       "    </tr>\n",
       "    <tr>\n",
       "      <th>5</th>\n",
       "      <td>{'learning_rate': 0.8, 'n_estimators': 150}</td>\n",
       "      <td>0.808408</td>\n",
       "      <td>3</td>\n",
       "    </tr>\n",
       "    <tr>\n",
       "      <th>6</th>\n",
       "      <td>{'learning_rate': 0.9, 'n_estimators': 50}</td>\n",
       "      <td>0.758546</td>\n",
       "      <td>10</td>\n",
       "    </tr>\n",
       "    <tr>\n",
       "      <th>7</th>\n",
       "      <td>{'learning_rate': 0.9, 'n_estimators': 100}</td>\n",
       "      <td>0.798158</td>\n",
       "      <td>6</td>\n",
       "    </tr>\n",
       "    <tr>\n",
       "      <th>8</th>\n",
       "      <td>{'learning_rate': 0.9, 'n_estimators': 150}</td>\n",
       "      <td>0.813773</td>\n",
       "      <td>2</td>\n",
       "    </tr>\n",
       "    <tr>\n",
       "      <th>9</th>\n",
       "      <td>{'learning_rate': 1, 'n_estimators': 50}</td>\n",
       "      <td>0.767646</td>\n",
       "      <td>9</td>\n",
       "    </tr>\n",
       "    <tr>\n",
       "      <th>10</th>\n",
       "      <td>{'learning_rate': 1, 'n_estimators': 100}</td>\n",
       "      <td>0.802079</td>\n",
       "      <td>5</td>\n",
       "    </tr>\n",
       "    <tr>\n",
       "      <th>11</th>\n",
       "      <td>{'learning_rate': 1, 'n_estimators': 150}</td>\n",
       "      <td>0.816007</td>\n",
       "      <td>1</td>\n",
       "    </tr>\n",
       "  </tbody>\n",
       "</table>\n",
       "</div>"
      ],
      "text/plain": [
       "                                         params  mean_test_score  \\\n",
       "0    {'learning_rate': 0.7, 'n_estimators': 50}         0.737291   \n",
       "1   {'learning_rate': 0.7, 'n_estimators': 100}         0.774774   \n",
       "2   {'learning_rate': 0.7, 'n_estimators': 150}         0.803647   \n",
       "3    {'learning_rate': 0.8, 'n_estimators': 50}         0.746356   \n",
       "4   {'learning_rate': 0.8, 'n_estimators': 100}         0.783903   \n",
       "5   {'learning_rate': 0.8, 'n_estimators': 150}         0.808408   \n",
       "6    {'learning_rate': 0.9, 'n_estimators': 50}         0.758546   \n",
       "7   {'learning_rate': 0.9, 'n_estimators': 100}         0.798158   \n",
       "8   {'learning_rate': 0.9, 'n_estimators': 150}         0.813773   \n",
       "9      {'learning_rate': 1, 'n_estimators': 50}         0.767646   \n",
       "10    {'learning_rate': 1, 'n_estimators': 100}         0.802079   \n",
       "11    {'learning_rate': 1, 'n_estimators': 150}         0.816007   \n",
       "\n",
       "    rank_test_score  \n",
       "0                12  \n",
       "1                 8  \n",
       "2                 4  \n",
       "3                11  \n",
       "4                 7  \n",
       "5                 3  \n",
       "6                10  \n",
       "7                 6  \n",
       "8                 2  \n",
       "9                 9  \n",
       "10                5  \n",
       "11                1  "
      ]
     },
     "metadata": {},
     "output_type": "display_data"
    }
   ],
   "source": [
    "result_df = pd.DataFrame(g_ada.cv_results_)[['params', 'mean_test_score', 'rank_test_score']]\n",
    "display(result_df)"
   ]
  },
  {
   "cell_type": "code",
   "execution_count": 75,
   "id": "660c01f8-2757-4e90-a77d-4bb7d06eaf7c",
   "metadata": {},
   "outputs": [],
   "source": [
    "ada = g_ada.best_estimator_\n",
    "prediction = ada.predict(X_test)"
   ]
  },
  {
   "cell_type": "code",
   "execution_count": 76,
   "id": "589ada72-4579-4cc2-8db6-6a08c53f5a5d",
   "metadata": {},
   "outputs": [
    {
     "name": "stdout",
     "output_type": "stream",
     "text": [
      "오차 행렬\n",
      "[[48331  7851]\n",
      " [ 4485   737]]\n",
      "정확도: 0.7991, 정밀도: 0.0858, 재현율: 0.1411, F1: 0.1067, ROC-AUC: 0.5007\n",
      "################################################################################\n"
     ]
    },
    {
     "data": {
      "image/png": "[encoded data removed]",
      "text/plain": [
       "<Figure size 1200x400 with 4 Axes>"
      ]
     },
     "metadata": {},
     "output_type": "display_data"
    }
   ],
   "source": [
    "get_evaluation(y_test, prediction, ada, X_test)"
   ]
  },
  {
   "cell_type": "markdown",
   "id": "8decaa2e-b0d9-4051-b561-a8307cd8f721",
   "metadata": {
    "jp-MarkdownHeadingCollapsed": true
   },
   "source": [
    "### M07_Cycle01. \n",
    "- adaboost 모델을 사용했을 때 학습기의 개수를 늘릴 때마다 평가 지표의 값이 늘어나는 것을 수도 있습니다.\n",
    "- 하지만 학습률이 낮아질때마다 일부 검증값이 낮아질 수 있지만 약한 학습기의 개수가 늘어나는 것보다 수치가 떨어지는 정도가 낮은것으로 보입니다.\n",
    "- 다른 모델을 사용하여 추가 검증 진행하겠습니다."
   ]
  },
  {
   "cell_type": "markdown",
   "id": "a168d4d8-9712-4f03-a4c2-7c2a05778552",
   "metadata": {},
   "source": [
    "# 8. Model08. ensemble 사용 시 부스팅의 \bGBM 모델을 통한 최적의 성능 평가지표 값 확인\n",
    "(GBM): GradientBoostingClassifier\n",
    "- default: 이상치, 결측치, 중복값, 표준화, oversampling 작업 후 데이터 훈련 진행"
   ]
  },
  {
   "cell_type": "code",
   "execution_count": 77,
   "id": "944246a9-356f-419a-9ef5-f25c53a0c4ac",
   "metadata": {},
   "outputs": [],
   "source": [
    "from sklearn.ensemble import GradientBoostingClassifier\n",
    "\n",
    "parameters = {\n",
    "    'n_estimators': [50, 100, 150],\n",
    "    'learning_rate': [0.7, 0.8, 0.9, 1]\n",
    "}\n",
    "\n",
    "g_gbc = GridSearchCV(GradientBoostingClassifier(loss='log_loss'), param_grid = parameters, cv=3, refit=True, return_train_score=True, n_jobs=-1)"
   ]
  },
  {
   "cell_type": "code",
   "execution_count": null,
   "id": "9dcde15e-9106-491a-bbc5-5d014f04c818",
   "metadata": {},
   "outputs": [],
   "source": [
    "g_gbc.fit(X_train_over, y_train_over)"
   ]
  },
  {
   "cell_type": "code",
   "execution_count": null,
   "id": "9356a967-f1ab-47ef-a058-41e8769204b7",
   "metadata": {},
   "outputs": [],
   "source": [
    "result_df = pd.DataFrame(g_gbc.cv_results_)[['params', 'mean_test_score', 'rank_test_score']]\n",
    "display(result_df)"
   ]
  },
  {
   "cell_type": "code",
   "execution_count": null,
   "id": "b944fca6-b797-4159-a0f8-ad920a439df3",
   "metadata": {},
   "outputs": [],
   "source": [
    "gbc = g_gbc.best_estimator_\n",
    "prediction = gbc.predict(X_test)"
   ]
  },
  {
   "cell_type": "code",
   "execution_count": null,
   "id": "e937f3e4-f3a8-4f32-9d3c-a939a2f73893",
   "metadata": {},
   "outputs": [],
   "source": [
    "get_evaluation(y_test, prediction, gbc, X_test)"
   ]
  },
  {
   "cell_type": "markdown",
   "id": "d8cb27bf-8840-4a4e-b9c2-e2004796b606",
   "metadata": {},
   "source": [
    "### M08_Cycle01. \n",
    "- 부스팅의 GBM(GradientBoostingClassifier) 모델을 사용했을 했을 때 분석 필요\n",
    "- max depth 위에서 분석 시 연관이 있으면 하이퍼파라미터 추가 조절 후 검증 예정"
   ]
  },
  {
   "cell_type": "markdown",
   "id": "d0d13ed5-fad5-4422-a86b-092ef003d732",
   "metadata": {},
   "source": [
    "# 9. Cycle09. ensemble 사용 시 부스팅의 \bXGBC 모델을 통한 최적의 성능 평가지표 값 확인\n",
    "(XGBM): eXtra GradientBoostingClassifier\n",
    "- default: 이상치, 결측치, 중복값, 표준화, oversampling 작업 후 데이터 훈련 진행"
   ]
  },
  {
   "cell_type": "code",
   "execution_count": null,
   "id": "82aa4701-f743-4fc6-b976-6e2457f00b37",
   "metadata": {},
   "outputs": [],
   "source": [
    "import xgboost\n",
    "print(xgboost.__version__)"
   ]
  },
  {
   "cell_type": "code",
   "execution_count": null,
   "id": "5fdc873d-7a22-4218-8f62-ccf5d1376c89",
   "metadata": {},
   "outputs": [],
   "source": [
    "# 특징으로 검증데이터를 따로 분류하여 값에 넣어줘야 함\n",
    "from sklearn.model_selection import train_test_split\n",
    "\n",
    "X_val_train, X_val_test, y_val_train, y_val_test =\\\n",
    "train_test_split(X_train_over, y_train_over, stratify=y_train_over, test_size=0.2, random_state=321)\n",
    "\n",
    "evals= [(X_val_train, y_val_train), (X_val_test, y_val_test)]"
   ]
  },
  {
   "cell_type": "code",
   "execution_count": null,
   "id": "813a4e07-b768-40f4-a4d8-c0a4983c4f3f",
   "metadata": {},
   "outputs": [],
   "source": [
    "from xgboost import XGBClassifier\n",
    "\n",
    "parameters = {\n",
    "    'n_estimators': [50, 100, 150],\n",
    "    'learning_rate': [0.7, 0.8, 0.9, 1]\n",
    "}\n",
    "\n",
    "xgb = XGBClassifier()\n",
    "\n",
    "g_xgb = GridSearchCV(xgb, param_grid=parameters, cv=3, refit=True, return_train_score=True, n_jobs=-1)"
   ]
  },
  {
   "cell_type": "code",
   "execution_count": null,
   "id": "3a2a789d-84ec-41d7-98e5-84da5ea219d3",
   "metadata": {
    "scrolled": true
   },
   "outputs": [],
   "source": [
    "g_xgb.fit(X_train, y_train, early_stopping_rounds=40, eval_set = evals)"
   ]
  },
  {
   "cell_type": "code",
   "execution_count": null,
   "id": "177eaa74-adee-4a8a-841e-ce0df94e559f",
   "metadata": {},
   "outputs": [],
   "source": [
    "result_df = pd.DataFrame(g_xgb.cv_results_)[['params', 'mean_test_score', 'rank_test_score']]\n",
    "display(result_df)"
   ]
  },
  {
   "cell_type": "code",
   "execution_count": null,
   "id": "ec6ace70-1258-4cae-b582-23ac3f89abf8",
   "metadata": {},
   "outputs": [],
   "source": [
    "xgb=g_xgb.best_estimator_\n",
    "prediction = xgb.predict(X_test)"
   ]
  },
  {
   "cell_type": "code",
   "execution_count": null,
   "id": "d608b34e-984f-41f5-a953-99fe64399e4e",
   "metadata": {},
   "outputs": [],
   "source": [
    "get_evaluation(y_test, prediction, xgb, X_test)"
   ]
  },
  {
   "cell_type": "markdown",
   "id": "79617c05-6aae-4df8-a829-eabc3378f3b5",
   "metadata": {},
   "source": [
    "### Cycle09. 부스팅의 XGBM(xTra GradientBoostingClassifier) 모델을 사용 하여 확인한 평가지표에 대하여 분석 하기"
   ]
  },
  {
   "cell_type": "markdown",
   "id": "caa0d330-0b41-4dec-b7f0-b37531112347",
   "metadata": {},
   "source": [
    "# 10. Model10. ensemble 사용 시 부스팅의 \bLGBM 모델을 통한 최적의 성능 평가지표 값 확인\n",
    "(LGBM): Light GradientBoostingClassifier\n",
    "- default: 이상치, 결측치, 중복값, 표준화, oversampling 작업 후 데이터 훈련 진행"
   ]
  },
  {
   "cell_type": "code",
   "execution_count": null,
   "id": "bcdf89bd-66a6-40bb-825e-9dd5d6469325",
   "metadata": {},
   "outputs": [],
   "source": [
    "import lightgbm\n",
    "print(lightgbm.__version__)"
   ]
  },
  {
   "cell_type": "code",
   "execution_count": null,
   "id": "954b2ae4-7533-4edd-a6a4-0d48644e0abf",
   "metadata": {},
   "outputs": [],
   "source": [
    "from lightgbm import LGBMClassifier\n",
    "\n",
    "parameters = {\n",
    "    'n_estimators': [50, 100, 150],\n",
    "    'learning_rate': [0.7, 0.8, 0.9, 1]\n",
    "}\n",
    "\n",
    "X_val_train, X_val_test, y_val_train, y_val_test =\\\n",
    "train_test_split(X_train_over, y_train_over, stratify=y_train_over, test_size=0.2, random_state=321)\n",
    "\n",
    "evals= [(X_val_train, y_val_train), (X_val_test, y_val_test)]\n",
    "g_lgbm = GridSearchCV(LGBMClassifier(), param_grid=parameters, cv=3, refit=True, return_train_score=True, n_jobs=-1)"
   ]
  },
  {
   "cell_type": "code",
   "execution_count": null,
   "id": "5fd9daeb-c9f3-4c81-b947-ec1784730559",
   "metadata": {},
   "outputs": [],
   "source": [
    "g_lgbm.fit(X_train_over, y_train_over, eval_set=evals)"
   ]
  },
  {
   "cell_type": "code",
   "execution_count": null,
   "id": "815abb88-d464-4144-ab13-41c9df65b325",
   "metadata": {},
   "outputs": [],
   "source": [
    "result_df = pd.DataFrame(g_lgbm.cv_results_)[['params', 'mean_test_score', 'rank_test_score']]\n",
    "display(result_df)"
   ]
  },
  {
   "cell_type": "code",
   "execution_count": null,
   "id": "94f7d0bb-b705-4f0a-acb2-8e413ad08344",
   "metadata": {},
   "outputs": [],
   "source": [
    "lgbm = g_lgbm.best_estimator_\n",
    "prediction = g_lgbm.predict(X_test)"
   ]
  },
  {
   "cell_type": "code",
   "execution_count": null,
   "id": "4bf9df14-bc8f-4b1c-b268-2da87cb71b2f",
   "metadata": {
    "scrolled": true
   },
   "outputs": [],
   "source": [
    "get_evaluation(y_test, prediction, lgbm, X_test)"
   ]
  },
  {
   "cell_type": "markdown",
   "id": "55de729c-bafa-4587-85c2-f8c79b54a037",
   "metadata": {},
   "source": [
    "### M10_Cycle1. 부스팅의 LGBM(Light GradientBoostingClassifier) 모델을 사용 하여 확인한 평가지표에 대하여 분석 하기"
   ]
  },
  {
   "cell_type": "markdown",
   "id": "1e8951ef-f0ed-4986-a590-98b2edf8b26f",
   "metadata": {},
   "source": [
    "# cycle2. lgbm 하이퍼파라미터값 조겅"
   ]
  },
  {
   "cell_type": "code",
   "execution_count": null,
   "id": "123b625a-88c6-4d0c-899f-43b4280dca4a",
   "metadata": {},
   "outputs": [],
   "source": [
    "from lightgbm import LGBMClassifier\n",
    "\n",
    "parameters = {\n",
    "    'n_estimators': [50, 100, 150],\n",
    "    'learning_rate': [0.5, 0.6, 0.7]\n",
    "}\n",
    "\n",
    "X_val_train, X_val_test, y_val_train, y_val_test =\\\n",
    "train_test_split(X_train_over, y_train_over, stratify=y_train_over, test_size=0.2, random_state=321)\n",
    "\n",
    "evals= [(X_val_train, y_val_train), (X_val_test, y_val_test)]\n",
    "g_lgbm = GridSearchCV(LGBMClassifier(), param_grid=parameters, cv=3, refit=True, return_train_score=True, n_jobs=-1)"
   ]
  },
  {
   "cell_type": "code",
   "execution_count": null,
   "id": "2e90d50b-2e50-44be-9237-6d852276244c",
   "metadata": {},
   "outputs": [],
   "source": [
    "g_lgbm.fit(X_train_over, y_train_over, eval_set=evals)"
   ]
  },
  {
   "cell_type": "code",
   "execution_count": null,
   "id": "ff283a59-2f65-4f2b-91db-3e9ed1f29c2a",
   "metadata": {},
   "outputs": [],
   "source": [
    "result_df = pd.DataFrame(g_lgbm.cv_results_)[['params', 'mean_test_score', 'rank_test_score']]\n",
    "display(result_df)"
   ]
  },
  {
   "cell_type": "code",
   "execution_count": null,
   "id": "407a311e-1633-4538-b34e-db6241a197c5",
   "metadata": {},
   "outputs": [],
   "source": [
    "lgbm = g_lgbm.best_estimator_\n",
    "prediction = g_lgbm.predict(X_test)"
   ]
  },
  {
   "cell_type": "code",
   "execution_count": null,
   "id": "9869d9cf-1710-4f01-ba7a-6135a3de0c8c",
   "metadata": {
    "scrolled": true
   },
   "outputs": [],
   "source": [
    "get_evaluation(y_test, prediction, lgbm, X_test)"
   ]
  },
  {
   "cell_type": "code",
   "execution_count": null,
   "id": "b2cae53c-d2e5-48ae-b352-945ddb70bfe3",
   "metadata": {},
   "outputs": [],
   "source": [
    "#roc curve 곡선 ?"
   ]
  },
  {
   "cell_type": "markdown",
   "id": "f7d43695-096f-443b-9730-b94da6ab9878",
   "metadata": {},
   "source": [
    "# Cycle 3 n_estimators 증가"
   ]
  },
  {
   "cell_type": "code",
   "execution_count": null,
   "id": "3c02a59a-8374-46bf-bf76-68b31b0d8ec4",
   "metadata": {},
   "outputs": [],
   "source": [
    "from lightgbm import LGBMClassifier\n",
    "\n",
    "parameters = {\n",
    "    'n_estimators': [150, 200, 300],\n",
    "    'learning_rate': [0.5, 0.6, 0.7]\n",
    "}\n",
    "\n",
    "X_val_train, X_val_test, y_val_train, y_val_test =\\\n",
    "train_test_split(X_train_over, y_train_over, stratify=y_train_over, test_size=0.2, random_state=321)\n",
    "\n",
    "evals= [(X_val_train, y_val_train), (X_val_test, y_val_test)]\n",
    "g_lgbm = GridSearchCV(LGBMClassifier(), param_grid=parameters, cv=3, refit=True, return_train_score=True, n_jobs=-1)"
   ]
  },
  {
   "cell_type": "code",
   "execution_count": null,
   "id": "9c12d95e-822f-4d9d-81ef-d2f7f460562f",
   "metadata": {},
   "outputs": [],
   "source": [
    "g_lgbm.fit(X_train_over, y_train_over, eval_set=evals)"
   ]
  },
  {
   "cell_type": "code",
   "execution_count": null,
   "id": "83741f6d-b5a1-4dd0-9851-c6bb644a5632",
   "metadata": {},
   "outputs": [],
   "source": [
    "result_df = pd.DataFrame(g_lgbm.cv_results_)[['params', 'mean_test_score', 'rank_test_score']]\n",
    "display(result_df)"
   ]
  },
  {
   "cell_type": "code",
   "execution_count": null,
   "id": "3b5a594e-aadd-4334-a9e7-057071524210",
   "metadata": {},
   "outputs": [],
   "source": [
    "lgbm = g_lgbm.best_estimator_\n",
    "prediction = g_lgbm.predict(X_test)"
   ]
  },
  {
   "cell_type": "code",
   "execution_count": null,
   "id": "033f63d5-eb73-4a87-b206-da17ca44731f",
   "metadata": {},
   "outputs": [],
   "source": [
    "get_evaluation(y_test, prediction, lgbm, X_test)"
   ]
  },
  {
   "cell_type": "markdown",
   "id": "3f445b30-312e-4bde-816f-2c6d79421d5c",
   "metadata": {},
   "source": [
    "# Cycle 4 n_estimators 증가"
   ]
  },
  {
   "cell_type": "code",
   "execution_count": null,
   "id": "879c1674-c9e9-4c90-a89e-e0dc2df8a4c0",
   "metadata": {},
   "outputs": [],
   "source": [
    "from lightgbm import LGBMClassifier\n",
    "\n",
    "parameters = {\n",
    "    'n_estimators': [150, 200, 300, 400, 500],\n",
    "    'learning_rate': [0.3, 0.4, 0.5, 0.6]\n",
    "}\n",
    "\n",
    "X_val_train, X_val_test, y_val_train, y_val_test =\\\n",
    "train_test_split(X_train_over, y_train_over, stratify=y_train_over, test_size=0.2, random_state=321)\n",
    "\n",
    "evals= [(X_val_train, y_val_train), (X_val_test, y_val_test)]\n",
    "g_lgbm = GridSearchCV(LGBMClassifier(), param_grid=parameters, cv=3, refit=True, return_train_score=True, n_jobs=-1)"
   ]
  },
  {
   "cell_type": "code",
   "execution_count": null,
   "id": "bc7047dc-030c-4fe4-887e-057ba991752f",
   "metadata": {},
   "outputs": [],
   "source": [
    "g_lgbm.fit(X_train_over, y_train_over, eval_set=evals)"
   ]
  },
  {
   "cell_type": "code",
   "execution_count": null,
   "id": "fdc7f253-0ab8-4694-9d64-ecb944f95bbd",
   "metadata": {},
   "outputs": [],
   "source": [
    "result_df = pd.DataFrame(g_lgbm.cv_results_)[['params', 'mean_test_score', 'rank_test_score']]\n",
    "display(result_df)"
   ]
  },
  {
   "cell_type": "code",
   "execution_count": null,
   "id": "2582ee5b-0f9a-4a42-b2f2-8f57188f2746",
   "metadata": {},
   "outputs": [],
   "source": [
    "lgbm = g_lgbm.best_estimator_\n",
    "prediction = g_lgbm.predict(X_test)"
   ]
  },
  {
   "cell_type": "code",
   "execution_count": null,
   "id": "873f382e-4d55-450e-b5cb-97c8a951e2c3",
   "metadata": {
    "scrolled": true
   },
   "outputs": [],
   "source": [
    "get_evaluation(y_test, prediction, lgbm, X_test)"
   ]
  },
  {
   "cell_type": "markdown",
   "id": "2e3bfb36-122d-4b1c-a25b-0462591142da",
   "metadata": {},
   "source": [
    "### 5 Cycle \n",
    "- 2번 Cycle이 최적의 값을 보이기 때문에 2번 파라미터의 값을 가지고 데이터 추가 전처리 진행"
   ]
  },
  {
   "cell_type": "code",
   "execution_count": null,
   "id": "9e876180-98ea-48f4-adc3-abf7449cf222",
   "metadata": {},
   "outputs": [],
   "source": [
    "target.value_counts()"
   ]
  },
  {
   "cell_type": "code",
   "execution_count": null,
   "id": "6cf20427-dbe7-4909-a406-b1e7b19dff13",
   "metadata": {},
   "outputs": [],
   "source": [
    "from sklearn.preprocessing import MinMaxScaler\n",
    "from sklearn.model_selection import GridSearchCV\n",
    "from lightgbm import LGBMClassifier\n",
    "from sklearn.pipeline import Pipeline\n",
    "\n",
    "parameters = {\n",
    "    'lgbm__n_estimators': [50, 100, 150],\n",
    "    'lgbm__learning_rate': [0.4, 0.5, 0.6, 0.7]\n",
    "}\n",
    "\n",
    "lgbm_pipe = Pipeline([('min_max_scaler', MinMaxScaler()), ('lgbm', LGBMClassifier())])\n",
    "\n",
    "g_lgbm = GridSearchCV(lgbm_pipe, param_grid=parameters, cv=3, n_jobs=-1)\n",
    "g_lgbm.fit(X_train_over, y_train_over)"
   ]
  },
  {
   "cell_type": "code",
   "execution_count": null,
   "id": "f92d9283-16dd-47eb-a64c-6b2dc6f36b9d",
   "metadata": {},
   "outputs": [],
   "source": [
    "result_df = pd.DataFrame(g_lgbm.cv_results_)[['params', 'mean_test_score', 'rank_test_score']]\n",
    "display(result_df)"
   ]
  },
  {
   "cell_type": "code",
   "execution_count": null,
   "id": "95cbff3b-1eef-42cf-8f90-efc63d853d70",
   "metadata": {},
   "outputs": [],
   "source": [
    "lgbm = g_lgbm.best_estimator_\n",
    "prediction = lgbm.predict(X_test)"
   ]
  },
  {
   "cell_type": "code",
   "execution_count": null,
   "id": "3812b1f8-905f-49a2-abf4-c279cb40e3b3",
   "metadata": {},
   "outputs": [],
   "source": [
    "get_evaluation(y_test, prediction, lgbm, X_test)"
   ]
  },
  {
   "cell_type": "markdown",
   "id": "9a725894-dedb-4889-a3f3-f6d92491bf69",
   "metadata": {},
   "source": [
    "# 5번 Cycle에서 조금 성능이 놓아진 부분 ROC 점수가 0.07 % 높아진 부분 확인"
   ]
  },
  {
   "cell_type": "markdown",
   "id": "e4ac6b01-1794-4327-a8bd-9561f5804f70",
   "metadata": {},
   "source": [
    "# Model11. SVC linear\n",
    "- svc linear 를 사용하여 평가 지표 확인\n",
    "- 서포트 벡터 머신 (Support Vector Machine, SVM)\n",
    "장점: 고차원 데이터에 강함, 커널 트릭을 통한 유연성, 마진 최적화 기반의 견고한 분류 경계 형성.\n",
    "적용: SVM은 특히 데이터의 차원이 높고, 샘플 수에 비해 특성 수가 많을 때 잘 작동합니다. 물의 품질 분류와 같이 복잡하거나 불명확한 경계를 가진 데이터셋에 효과적입니다.\n"
   ]
  },
  {
   "cell_type": "code",
   "execution_count": null,
   "id": "f396d0ba-a6bb-4cd5-a29f-f6a31bae3d2c",
   "metadata": {},
   "outputs": [],
   "source": [
    "# 파이프라인에서 LightGBM 모델의 feature_importances_ 접근\n",
    "total_importance = sum(lgbm.named_steps['lgbm'].feature_importances_)\n",
    "\n",
    "# 특성 중요도 백분율 계산 및 출력\n",
    "for name, value in zip(features.columns, lgbm.named_steps['lgbm'].feature_importances_):\n",
    "    percentage = (value / total_importance) * 100\n",
    "    print(f'{name}: {round(percentage, 2)}%')"
   ]
  },
  {
   "cell_type": "code",
   "execution_count": null,
   "id": "28b9f64b-66d0-496d-805a-264f2efd9621",
   "metadata": {},
   "outputs": [],
   "source": [
    "from sklearn.svm import LinearSVC\n",
    "\n",
    "# LinearSVC 모델 생성 및 학습\n",
    "\n",
    "parameters = {\n",
    "    'C': [0.1, 1, 10],\n",
    "}\n",
    "\n",
    "l_svc = LinearSVC(random_state=321)\n",
    "\n",
    "g_l_svc = GridSearchCV(l_svc, param_grid=parameters, cv=3, refit=True, return_train_score=True)\n",
    "g_l_svc.fit(X_train_over, y_train_over)"
   ]
  },
  {
   "cell_type": "code",
   "execution_count": null,
   "id": "044e5842-e9eb-434f-9d23-a2c61c3ee686",
   "metadata": {},
   "outputs": [],
   "source": [
    "result_df = pd.DataFrame(g_l_svc.cv_results_)[['params', 'mean_test_score', 'rank_test_score']]\n",
    "display(result_df)"
   ]
  },
  {
   "cell_type": "code",
   "execution_count": null,
   "id": "14518bc2-3b44-4638-aa8b-4c750991bf9e",
   "metadata": {},
   "outputs": [],
   "source": [
    "svc = g_l_svc.best_estimator_\n",
    "prediction = svc.predict(X_test)"
   ]
  },
  {
   "cell_type": "code",
   "execution_count": null,
   "id": "0abcfe05-6e36-40e6-98d9-6c551746fb0c",
   "metadata": {},
   "outputs": [],
   "source": [
    "get_evaluation(y_test, prediction, svc, X_test)"
   ]
  },
  {
   "cell_type": "markdown",
   "id": "5ec66cb9-1417-49a1-ae05-6a437ac685fe",
   "metadata": {},
   "source": [
    "# M11_Cycle 2. svc linear"
   ]
  },
  {
   "cell_type": "code",
   "execution_count": null,
   "id": "633e1232-98a6-4fe8-ac94-d47eebe00a8d",
   "metadata": {},
   "outputs": [],
   "source": [
    "from sklearn.svm import LinearSVC\n",
    "\n",
    "# LinearSVC 모델 생성 및 학습\n",
    "\n",
    "parameters = {\n",
    "    'C': [0.1, 1, 10, 100, 1000],\n",
    "}\n",
    "\n",
    "l_svc = LinearSVC(random_state=321)\n",
    "\n",
    "g_l_svc = GridSearchCV(l_svc, param_grid=parameters, cv=3, refit=True, return_train_score=True)\n",
    "g_l_svc.fit(X_train_over, y_train_over)"
   ]
  },
  {
   "cell_type": "code",
   "execution_count": null,
   "id": "ebac9237-13a1-4dad-a843-9faa41942eb2",
   "metadata": {},
   "outputs": [],
   "source": [
    "result_df = pd.DataFrame(g_l_svc.cv_results_)[['params', 'mean_test_score', 'rank_test_score']]\n",
    "display(result_df)"
   ]
  },
  {
   "cell_type": "code",
   "execution_count": null,
   "id": "0b430e24-e273-48b4-876e-ea0caddee40f",
   "metadata": {},
   "outputs": [],
   "source": [
    "svc = g_l_svc.best_estimator_\n",
    "prediction = svc.predict(X_test)"
   ]
  },
  {
   "cell_type": "code",
   "execution_count": null,
   "id": "2620a77f-0372-4457-941e-222481eac4ba",
   "metadata": {},
   "outputs": [],
   "source": [
    "get_evaluation(y_test, prediction, svc, X_test)"
   ]
  },
  {
   "cell_type": "markdown",
   "id": "240f0de5-f561-4221-8ac5-0aa5fb98c05f",
   "metadata": {},
   "source": [
    "# 8 MinMax Scaler log, pipe LGBM, 위로 두번 올라가야함"
   ]
  },
  {
   "cell_type": "code",
   "execution_count": null,
   "id": "a4400e6b-cdcf-4efc-9259-e88d465663d8",
   "metadata": {
    "scrolled": true
   },
   "outputs": [],
   "source": [
    "import numpy as np\n",
    "from sklearn.preprocessing import FunctionTransformer, MinMaxScaler\n",
    "\n",
    "# 로그 변환 함수 정의 (로그(x+1)을 사용)\n",
    "def log_transform(x):\n",
    "    return np.log1p(x)  # log1p는 log(1 + x)와 동일\n",
    "\n",
    "# FunctionTransformer를 통해 로그 변환 적용\n",
    "log_transformer = FunctionTransformer(log_transform)\n",
    "\n",
    "# 파이프라인 구성: 로그 변환 -> 스케일링 -> 분류기\n",
    "lgbm_pipe = Pipeline([('log_transformer', log_transformer),('min_max_scaler', MinMaxScaler()),('lgbm', LGBMClassifier())])\n",
    "\n",
    "# 파라미터 그리드 설정\n",
    "parameters = {\n",
    "    'lgbm__n_estimators': [50, 100, 150],\n",
    "    'lgbm__learning_rate': [0.4, 0.5, 0.6, 0.7, 0.8]\n",
    "}\n",
    "\n",
    "# GridSearchCV 설정\n",
    "g_lgbm = GridSearchCV(lgbm_pipe, param_grid=parameters, cv=3, n_jobs=-1)\n",
    "\n",
    "# 데이터 준비 및 모델 학습 (X_train_over, y_train_over)\n",
    "g_lgbm.fit(X_train_over, y_train_over)"
   ]
  },
  {
   "cell_type": "code",
   "execution_count": null,
   "id": "7d2beb73-b620-4701-8600-af76d218ad05",
   "metadata": {},
   "outputs": [],
   "source": [
    "result_df = pd.DataFrame(g_lgbm.cv_results_)[['params', 'mean_test_score', 'rank_test_score']]\n",
    "display(result_df)"
   ]
  },
  {
   "cell_type": "code",
   "execution_count": null,
   "id": "39c4fcbc-5416-4df6-99f7-429a756b16f1",
   "metadata": {},
   "outputs": [],
   "source": [
    "lgbm = g_lgbm.best_estimator_\n",
    "prediction = lgbm.predict(X_test)"
   ]
  },
  {
   "cell_type": "code",
   "execution_count": null,
   "id": "808125a1-6d3c-4191-8b67-b6e334f63806",
   "metadata": {},
   "outputs": [],
   "source": [
    "get_evaluation(y_test, prediction, svc, X_test)"
   ]
  },
  {
   "cell_type": "code",
   "execution_count": null,
   "id": "243f56ef-0293-44b9-8ec9-e69c2db3d360",
   "metadata": {},
   "outputs": [],
   "source": [
    "w_df"
   ]
  },
  {
   "cell_type": "markdown",
   "id": "0075d28f-7aaa-4402-aa00-b9275526e8be",
   "metadata": {},
   "source": [
    "# Cycle 9 log LGBM smote를 적용하지 않은 모델로 lgbm 훈련 진행, 위로 두번 올라가야함"
   ]
  },
  {
   "cell_type": "code",
   "execution_count": null,
   "id": "11663ecb-c79d-4caf-a58c-892b31a4e717",
   "metadata": {},
   "outputs": [],
   "source": [
    "parameters = {\n",
    "    'lgbm__n_estimators': [50, 100, 150],\n",
    "    'lgbm__learning_rate': [0.4, 0.5, 0.6, 0.7]\n",
    "}\n",
    "\n",
    "lgbm_pipe = Pipeline([('min_max_scaler', MinMaxScaler()), ('lgbm', LGBMClassifier())])\n",
    "\n",
    "g_lgbm = GridSearchCV(lgbm_pipe, param_grid=parameters, cv=3, n_jobs=-1)\n",
    "g_lgbm.fit(X_train, y_train)"
   ]
  },
  {
   "cell_type": "code",
   "execution_count": null,
   "id": "e7299634-740b-4eac-8391-5ad07af01f41",
   "metadata": {},
   "outputs": [],
   "source": [
    "result_df = pd.DataFrame(g_lgbm.cv_results_)[['params', 'mean_test_score', 'rank_test_score']]\n",
    "display(result_df)"
   ]
  },
  {
   "cell_type": "code",
   "execution_count": null,
   "id": "8816845c-5113-4df5-a139-34427f0e54a9",
   "metadata": {},
   "outputs": [],
   "source": [
    "lgbm = g_lgbm.best_estimator_\n",
    "prediction = lgbm.predict(X_test)"
   ]
  },
  {
   "cell_type": "code",
   "execution_count": null,
   "id": "3cdabc36-e116-472e-b0c2-1b43f67e68c9",
   "metadata": {
    "scrolled": true
   },
   "outputs": [],
   "source": [
    "get_evaluation(y_test, prediction, lgbm, X_test)"
   ]
  },
  {
   "attachments": {},
   "cell_type": "markdown",
   "id": "d8ea877b-f82e-41fb-a442-431110dae781",
   "metadata": {},
   "source": [
    "# ROC Curve 시각화"
   ]
  },
  {
   "cell_type": "code",
   "execution_count": null,
   "id": "053bf5bd-043e-4d1b-b6a2-e04ebb2301c1",
   "metadata": {},
   "outputs": [],
   "source": [
    "proba = lgbm.predict_proba(X_test)\n",
    "prediction = lgbm.predict(X_test)\n",
    "\n",
    "for proba, predict in zip(proba.tolist(), prediction.tolist()):\n",
    "    print(proba, predict)"
   ]
  },
  {
   "cell_type": "code",
   "execution_count": null,
   "id": "30b5e33d-a28e-4d1c-964f-97d2dae8af8d",
   "metadata": {},
   "outputs": [],
   "source": [
    "# thresholds 를 판단하기 위해 precision_recall_curve 을 사용\n",
    "from sklearn.metrics import precision_recall_curve\n",
    "\n",
    "def precision_recall_curve_plot(y_test , proba):\n",
    "\n",
    "    precisions, recalls, thresholds = precision_recall_curve(y_test, proba)\n",
    "    \n",
    "    # X축: threshold\n",
    "    # Y축: 정밀도, 재현율 \n",
    "    # 정밀도는 점선으로 표시\n",
    "    plt.figure(figsize=(8,6))\n",
    "    threshold_boundary = thresholds.shape[0]\n",
    "    plt.plot(thresholds, precisions[0:threshold_boundary], linestyle='--', label='precision')\n",
    "    plt.plot(thresholds, recalls[0:threshold_boundary],label='recall')\n",
    "    \n",
    "    # X축(threshold)의 Scale을 0 ~ 1 단위로 변경\n",
    "    start, end = plt.xlim()\n",
    "    plt.xticks(np.round(np.arange(start, end, 0.1),2))\n",
    "    \n",
    "    plt.xlabel('Threshold value'); plt.ylabel('Precision and Recall value')\n",
    "    plt.legend()\n",
    "    plt.grid()\n",
    "    plt.show()\n",
    "\n",
    "precision_recall_curve_plot(y_test, dtc.predict_proba(X_test)[:, 1].reshape(-1, 1))\n",
    "\n",
    "# thresholds 를 판단하기 위해 precision_recall_curve (정밀도 예측 커브를 사용하여 threshold의 값을 확인합니다."
   ]
  },
  {
   "cell_type": "code",
   "execution_count": null,
   "id": "47dca864-af52-40d8-aec6-7997b43281a9",
   "metadata": {},
   "outputs": [],
   "source": [
    "from sklearn.metrics import roc_curve\n",
    "\n",
    "def roc_curve_plot(y_test , proba):\n",
    "#     임계값에 따른 FPR, TPR 값\n",
    "    fprs, tprs, thresholds = roc_curve(y_test, proba)\n",
    "\n",
    "#     ROC Curve를 plot 곡선으로 그림. \n",
    "    plt.plot(fprs , tprs, label='ROC')\n",
    "#     가운데 대각선 직선을 그림. \n",
    "#     TPR과 FPR이 동일한 비율로 떨어진다는 것은 모델이 양성과 음성을 구별하지 못한다는 것을 의미한다.\n",
    "#     다른 분류기를 판단하기 위한 기준선으로 사용되며, \n",
    "#     대각선에 가까울 수록 예측에 사용하기 힘든 모델이라는 뜻이다.\n",
    "    plt.plot([0, 1], [0, 1], 'k--', label='Standard')\n",
    "    \n",
    "    # X축(FPR)의 Scale을 0.1 단위로 변경\n",
    "    start, end = plt.xlim()\n",
    "    plt.xticks(np.round(np.arange(start, end, 0.1),2))\n",
    "    plt.xlim(0,1); plt.ylim(0,1)\n",
    "    plt.xlabel('FPR( 1 - Sensitivity )'); plt.ylabel('TPR( Recall )')\n",
    "    plt.legend()\n",
    "    plt.show()\n",
    "    \n",
    "roc_curve_plot(y_test, dtc.predict_proba(X_test)[:, 1].reshape(-1, 1))\n",
    "# 현재 상태의 ROC Curve 곡선의 형태를 나타냅니다."
   ]
  },
  {
   "cell_type": "code",
   "execution_count": null,
   "id": "2b072d35-8689-4a6f-b2ec-ae68f413996d",
   "metadata": {},
   "outputs": [],
   "source": [
    "# threshold 수치 확인\n",
    "proba_class1 = dtc.predict_proba(X_test)[:, 1].reshape(-1, 1)\n",
    "_, _, thresholds = precision_recall_curve(y_test, proba_class1)\n",
    "thresholds"
   ]
  },
  {
   "cell_type": "code",
   "execution_count": null,
   "id": "6364b481-0d7b-4d9a-9b84-b352d9943601",
   "metadata": {},
   "outputs": [],
   "source": [
    "from sklearn.preprocessing import Binarizer\n",
    "\n",
    "def get_evaluation_by_thresholds(y_test, proba_class1, thresholds):\n",
    "    for threshold in thresholds:\n",
    "        print(threshold)\n",
    "        binarizer = Binarizer(threshold=threshold).fit(proba_class1)\n",
    "        custom_prediction = binarizer.transform(proba_class1)\n",
    "        get_evaluation(y_test, custom_prediction)"
   ]
  },
  {
   "cell_type": "code",
   "execution_count": null,
   "id": "6b761d95-e806-4ebd-b308-7961be839ea2",
   "metadata": {},
   "outputs": [],
   "source": [
    "# threshold 값에 따른 정밀도, 재현율 값 확인\n",
    "get_evaluation_by_thresholds(y_test,proba_class1, thresholds)"
   ]
  },
  {
   "cell_type": "code",
   "execution_count": null,
   "id": "b85a8705-2fb7-4c17-970e-5a75c4f35aaa",
   "metadata": {},
   "outputs": [],
   "source": [
    "# threshold 수치 값 변경 # 재현율 높이기 f1 올리기\n",
    "# 재현율을 높이고 정밀도는 떨어지고 f1 스코어도 떨어짐\n",
    "threshold = 0.35240963855421686\n",
    "\n",
    "custom_proba = proba_class1\n",
    "binarizer = Binarizer(threshold=threshold).fit(custom_proba)\n",
    "custom_prediction = binarizer.transform(custom_proba)\n",
    "\n",
    "get_evaluation(y_test, custom_prediction)\n",
    "# threshold 수치 값을 확인하여 재현율을 높였을 떄 정밀도는 떨어지지만 f1 score가 높아지며 roc-curve 곡선의 값도 0.7 이상인\n",
    "# threshold 선택완료"
   ]
  },
  {
   "cell_type": "code",
   "execution_count": null,
   "id": "9a9acccf-098d-411f-a78d-3555e107dbbb",
   "metadata": {},
   "outputs": [],
   "source": [
    "from sklearn.metrics import accuracy_score, precision_score, recall_score, f1_score, roc_auc_score, confusion_matrix, ConfusionMatrixDisplay\n",
    "\n",
    "# 타겟 데이터와 예측 객체를 전달받는다.\n",
    "def get_evaluation_by_custom_proba(y_test, prediction, visualize=False):\n",
    "#     오차 행렬\n",
    "    confusion = confusion_matrix(y_test, prediction)\n",
    "#     정확도\n",
    "    accuracy = accuracy_score(y_test , prediction)\n",
    "#     정밀도\n",
    "    precision = precision_score(y_test , prediction)\n",
    "#     재현율\n",
    "    recall = recall_score(y_test , prediction)\n",
    "#     F1 score\n",
    "    f1 = f1_score(y_test, prediction)\n",
    "#     ROC-AUC\n",
    "    roc_auc = roc_auc_score(y_test, prediction)\n",
    "    \n",
    "    print('오차 행렬')\n",
    "    print(confusion)\n",
    "    print('정확도: {0:.4f}, 정밀도: {1:.4f}, 재현율: {2:.4f}, F1: {3:.4f}, ROC-AUC: {4:.4f}'.format(accuracy, precision, recall, f1, roc_auc))\n",
    "    print(\"#\" * 80)\n",
    "    \n",
    "    if visualize:\n",
    "        fig, axes = plt.subplots(nrows=1, ncols=2, figsize=(8,4))\n",
    "        titles_options = [(\"Confusion matrix\", None), (\"Normalized confusion matrix\", \"true\")]\n",
    "\n",
    "        for (title, normalize), ax in zip(titles_options, axes.flatten()):\n",
    "            disp = ConfusionMatrixDisplay.from_predictions(y_test, prediction, ax=ax, cmap=plt.cm.Blues, normalize=normalize)\n",
    "            disp.ax_.set_title(title)\n",
    "        plt.show()"
   ]
  },
  {
   "cell_type": "code",
   "execution_count": null,
   "id": "f9d0d5ef-6371-4c84-8706-aa68308c512e",
   "metadata": {},
   "outputs": [],
   "source": [
    "from sklearn.metrics import roc_curve\n",
    "\n",
    "def roc_curve_plot(y_test , custom_proba):\n",
    "#     임계값에 따른 FPR, TPR 값\n",
    "    fprs, tprs, thresholds = roc_curve(y_test, custom_proba)\n",
    "\n",
    "#     ROC Curve를 plot 곡선으로 그림. \n",
    "    plt.plot(fprs , tprs, label='ROC')\n",
    "#     가운데 대각선 직선을 그림. \n",
    "#     TPR과 FPR이 동일한 비율로 떨어진다는 것은 모델이 양성과 음성을 구별하지 못한다는 것을 의미한다.\n",
    "#     다른 분류기를 판단하기 위한 기준선으로 사용되며, \n",
    "#     대각선에 가까울 수록 예측에 사용하기 힘든 모델이라는 뜻이다.\n",
    "    plt.plot([0, 1], [0, 1], 'k--', label='Standard')\n",
    "    \n",
    "    # X축(FPR)의 Scale을 0.1 단위로 변경\n",
    "    start, end = plt.xlim()\n",
    "    plt.xticks(np.round(np.arange(start, end, 0.1),2))\n",
    "    plt.xlim(0,1); plt.ylim(0,1)\n",
    "    plt.xlabel('FPR( 1 - Sensitivity )'); plt.ylabel('TPR( Recall )')\n",
    "    plt.legend()\n",
    "    plt.show()\n",
    "    \n",
    "roc_curve_plot(y_test, custom_prediction)\n",
    "# roc_curve 의 곡선의 형태도 변한 것을 확인 할 수 있습니다."
   ]
  },
  {
   "cell_type": "markdown",
   "id": "49be360b-69f6-473b-bbf0-2b1c1121bbf1",
   "metadata": {},
   "source": [
    "### Cycle final. 위에서 적용한 모델 중 재현율보다는 정밀도가 높으며 roc 점수가 가장 높은 모델에 대하여 파라미터 값을 변경하여 마지막 훈련 진행하기"
   ]
  }
 ],
 "metadata": {
  "kernelspec": {
   "display_name": "Python 3 (ipykernel)",
   "language": "python",
   "name": "python3"
  },
  "language_info": {
   "codemirror_mode": {
    "name": "ipython",
    "version": 3
   },
   "file_extension": ".py",
   "mimetype": "text/x-python",
   "name": "python",
   "nbconvert_exporter": "python",
   "pygments_lexer": "ipython3",
   "version": "3.11.7"
  }
 },
 "nbformat": 4,
 "nbformat_minor": 5
}
