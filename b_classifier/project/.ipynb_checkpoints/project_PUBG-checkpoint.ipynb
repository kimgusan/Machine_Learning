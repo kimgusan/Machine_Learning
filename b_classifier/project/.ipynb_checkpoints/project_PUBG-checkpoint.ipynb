{
 "cells": [
  {
   "cell_type": "markdown",
   "id": "7e531ce2-fc6e-4056-aaac-ccb23eb75dc8",
   "metadata": {},
   "source": [
    "## 🎇 주제 \n",
    "- PUBG (BattleGround) 마무리 승리 예측"
   ]
  },
  {
   "cell_type": "markdown",
   "id": "1fd531ac-0375-49d0-a9ee-97184674faad",
   "metadata": {},
   "source": [
    "### 컬럼 설명\n"
   ]
  },
  {
   "cell_type": "code",
   "execution_count": null,
   "id": "c1e71986-2a74-4524-9a10-1e7b2d6729c5",
   "metadata": {},
   "outputs": [],
   "source": []
  },
  {
   "cell_type": "code",
   "execution_count": null,
   "id": "3cca22ce-b9e9-4904-953b-0b398f13563b",
   "metadata": {},
   "outputs": [],
   "source": []
  },
  {
   "cell_type": "code",
   "execution_count": null,
   "id": "720d2406-666f-4456-bb03-444cf52726ee",
   "metadata": {},
   "outputs": [],
   "source": []
  },
  {
   "cell_type": "code",
   "execution_count": null,
   "id": "e69c374a-04ea-42ca-9db6-543bba3a4a82",
   "metadata": {},
   "outputs": [],
   "source": []
  },
  {
   "cell_type": "code",
   "execution_count": null,
   "id": "356269e6-b331-452d-81a3-37c1377685d9",
   "metadata": {},
   "outputs": [],
   "source": []
  }
 ],
 "metadata": {
  "kernelspec": {
   "display_name": "Python 3 (ipykernel)",
   "language": "python",
   "name": "python3"
  },
  "language_info": {
   "codemirror_mode": {
    "name": "ipython",
    "version": 3
   },
   "file_extension": ".py",
   "mimetype": "text/x-python",
   "name": "python",
   "nbconvert_exporter": "python",
   "pygments_lexer": "ipython3",
   "version": "3.11.8"
  }
 },
 "nbformat": 4,
 "nbformat_minor": 5
}
