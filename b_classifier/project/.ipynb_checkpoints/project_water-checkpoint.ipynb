{
 "cells": [
  {
   "cell_type": "markdown",
   "id": "aec6fe99-c2e8-403b-8c1d-f48902f38e5b",
   "metadata": {},
   "source": [
    "### 🎇 주제 \n",
    "- The quality of freshwater (담수의 품질)"
   ]
  },
  {
   "cell_type": "markdown",
   "id": "6ca8c77a-7eaf-4830-aad6-e93df87086a9",
   "metadata": {},
   "source": [
    "### 컬럼 설명\n"
   ]
  },
  {
   "cell_type": "code",
   "execution_count": null,
   "id": "3f3ca501-6836-4ac4-8879-ddd8a1ddbf47",
   "metadata": {},
   "outputs": [],
   "source": []
  },
  {
   "cell_type": "code",
   "execution_count": null,
   "id": "d5025a92-790f-426b-a71a-858ae21770e0",
   "metadata": {},
   "outputs": [],
   "source": []
  },
  {
   "cell_type": "code",
   "execution_count": null,
   "id": "d954c0e1-8e71-4d17-8bdf-c089837c085b",
   "metadata": {},
   "outputs": [],
   "source": []
  },
  {
   "cell_type": "code",
   "execution_count": null,
   "id": "1f5b672d-75c1-40ab-bd52-e1097a159510",
   "metadata": {},
   "outputs": [],
   "source": []
  },
  {
   "cell_type": "code",
   "execution_count": null,
   "id": "3e2169e0-d81e-4f4f-8752-50a4129499b7",
   "metadata": {},
   "outputs": [],
   "source": []
  },
  {
   "cell_type": "code",
   "execution_count": null,
   "id": "8e053571-1d3b-45ee-a7b0-93142b36d3f3",
   "metadata": {},
   "outputs": [],
   "source": []
  }
 ],
 "metadata": {
  "kernelspec": {
   "display_name": "Python 3 (ipykernel)",
   "language": "python",
   "name": "python3"
  },
  "language_info": {
   "codemirror_mode": {
    "name": "ipython",
    "version": 3
   },
   "file_extension": ".py",
   "mimetype": "text/x-python",
   "name": "python",
   "nbconvert_exporter": "python",
   "pygments_lexer": "ipython3",
   "version": "3.11.8"
  }
 },
 "nbformat": 4,
 "nbformat_minor": 5
}
