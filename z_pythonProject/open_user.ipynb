{
 "cells": [
  {
   "cell_type": "code",
   "execution_count": 2,
   "id": "f45ecd31-6ed8-4b12-8b7d-b3cb910cbf65",
   "metadata": {},
   "outputs": [],
   "source": [
    "import pandas as pd\n",
    "\n",
    "v_df = pd.read_csv('./view_teenplay_ai.csv')"
   ]
  },
  {
   "cell_type": "code",
   "execution_count": 4,
   "id": "df1885f6-8c4f-4eba-a047-a60fea2b3335",
   "metadata": {},
   "outputs": [
    {
     "data": {
      "text/plain": [
       "Index(['member_id', 'member_like_random_category', 'wishlist_category',\n",
       "       'teenplay_like_most_category', 'mfc_updated_date', 'wl_updated_date',\n",
       "       'tlmc_updated_date'],\n",
       "      dtype='object')"
      ]
     },
     "execution_count": 4,
     "metadata": {},
     "output_type": "execute_result"
    }
   ],
   "source": [
    "v_df.columns"
   ]
  },
  {
   "cell_type": "code",
   "execution_count": 10,
   "id": "6f0e79b1-1e3c-40d1-b64f-38da8ca31cbe",
   "metadata": {},
   "outputs": [
    {
     "data": {
      "text/plain": [
       "member_like_random_category        0\n",
       "wishlist_category                  2\n",
       "teenplay_like_most_category    20017\n",
       "dtype: int64"
      ]
     },
     "execution_count": 10,
     "metadata": {},
     "output_type": "execute_result"
    }
   ],
   "source": [
    "pre_v_df = v_df.drop(labels = ['member_id','mfc_updated_date', 'wl_updated_date','tlmc_updated_date'], axis =1 )\n",
    "pre_v_df.isna().sum()"
   ]
  },
  {
   "cell_type": "code",
   "execution_count": 12,
   "id": "dd18877b-3fa2-4d54-858a-3c170112d44a",
   "metadata": {},
   "outputs": [
    {
     "data": {
      "text/plain": [
       "member_like_random_category    0\n",
       "wishlist_category              0\n",
       "teenplay_like_most_category    0\n",
       "dtype: int64"
      ]
     },
     "execution_count": 12,
     "metadata": {},
     "output_type": "execute_result"
    }
   ],
   "source": [
    "pre_v_df['teenplay_like_most_category'] = pre_v_df['teenplay_like_most_category'].fillna(pre_v_df['member_like_random_category'])\n",
    "pre_v_df['wishlist_category'] = pre_v_df['wishlist_category'].fillna(pre_v_df['member_like_random_category'])\n",
    "pre_v_df.isna().sum()"
   ]
  },
  {
   "cell_type": "code",
   "execution_count": 15,
   "id": "ca98dee2-f726-4280-8c66-addae06785a0",
   "metadata": {},
   "outputs": [
    {
     "data": {
      "text/plain": [
       "19849"
      ]
     },
     "execution_count": 15,
     "metadata": {},
     "output_type": "execute_result"
    }
   ],
   "source": [
    "pre_v_df.duplicated().sum()"
   ]
  },
  {
   "cell_type": "code",
   "execution_count": null,
   "id": "bd39ada1-a709-4f07-8c99-92cb3c76b1a8",
   "metadata": {},
   "outputs": [],
   "source": []
  },
  {
   "cell_type": "code",
   "execution_count": null,
   "id": "8248a3b5-e75e-4ba3-b151-09aafddee39b",
   "metadata": {},
   "outputs": [],
   "source": []
  }
 ],
 "metadata": {
  "kernelspec": {
   "display_name": "Python 3 (ipykernel)",
   "language": "python",
   "name": "python3"
  },
  "language_info": {
   "codemirror_mode": {
    "name": "ipython",
    "version": 3
   },
   "file_extension": ".py",
   "mimetype": "text/x-python",
   "name": "python",
   "nbconvert_exporter": "python",
   "pygments_lexer": "ipython3",
   "version": "3.11.7"
  }
 },
 "nbformat": 4,
 "nbformat_minor": 5
}
