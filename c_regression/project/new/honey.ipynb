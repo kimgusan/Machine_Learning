{
 "cells": [
  {
   "cell_type": "markdown",
   "id": "c2806a2e-9e0b-4128-8c6c-0057c5c1e61f",
   "metadata": {},
   "source": [
    "# 꿀가격 예측\n"
   ]
  },
  {
   "cell_type": "code",
   "execution_count": 1,
   "id": "48fc347c-6fbb-4f3e-b7b7-c75552b21af1",
   "metadata": {},
   "outputs": [
    {
     "data": {
      "text/html": [
       "<div>\n",
       "<style scoped>\n",
       "    .dataframe tbody tr th:only-of-type {\n",
       "        vertical-align: middle;\n",
       "    }\n",
       "\n",
       "    .dataframe tbody tr th {\n",
       "        vertical-align: top;\n",
       "    }\n",
       "\n",
       "    .dataframe thead th {\n",
       "        text-align: right;\n",
       "    }\n",
       "</style>\n",
       "<table border=\"1\" class=\"dataframe\">\n",
       "  <thead>\n",
       "    <tr style=\"text-align: right;\">\n",
       "      <th></th>\n",
       "      <th>CS</th>\n",
       "      <th>Density</th>\n",
       "      <th>WC</th>\n",
       "      <th>pH</th>\n",
       "      <th>EC</th>\n",
       "      <th>F</th>\n",
       "      <th>G</th>\n",
       "      <th>Pollen_analysis</th>\n",
       "      <th>Viscosity</th>\n",
       "      <th>Purity</th>\n",
       "      <th>Price</th>\n",
       "    </tr>\n",
       "  </thead>\n",
       "  <tbody>\n",
       "    <tr>\n",
       "      <th>0</th>\n",
       "      <td>2.81</td>\n",
       "      <td>1.75</td>\n",
       "      <td>23.04</td>\n",
       "      <td>6.29</td>\n",
       "      <td>0.76</td>\n",
       "      <td>39.02</td>\n",
       "      <td>33.63</td>\n",
       "      <td>Blueberry</td>\n",
       "      <td>4844.50</td>\n",
       "      <td>0.68</td>\n",
       "      <td>645.24</td>\n",
       "    </tr>\n",
       "    <tr>\n",
       "      <th>1</th>\n",
       "      <td>9.47</td>\n",
       "      <td>1.82</td>\n",
       "      <td>17.50</td>\n",
       "      <td>7.20</td>\n",
       "      <td>0.71</td>\n",
       "      <td>38.15</td>\n",
       "      <td>34.41</td>\n",
       "      <td>Alfalfa</td>\n",
       "      <td>6689.02</td>\n",
       "      <td>0.89</td>\n",
       "      <td>385.85</td>\n",
       "    </tr>\n",
       "    <tr>\n",
       "      <th>2</th>\n",
       "      <td>4.61</td>\n",
       "      <td>1.84</td>\n",
       "      <td>23.72</td>\n",
       "      <td>7.31</td>\n",
       "      <td>0.80</td>\n",
       "      <td>27.47</td>\n",
       "      <td>34.36</td>\n",
       "      <td>Chestnut</td>\n",
       "      <td>6883.60</td>\n",
       "      <td>0.66</td>\n",
       "      <td>639.64</td>\n",
       "    </tr>\n",
       "    <tr>\n",
       "      <th>3</th>\n",
       "      <td>1.77</td>\n",
       "      <td>1.40</td>\n",
       "      <td>16.61</td>\n",
       "      <td>4.01</td>\n",
       "      <td>0.78</td>\n",
       "      <td>31.52</td>\n",
       "      <td>28.15</td>\n",
       "      <td>Blueberry</td>\n",
       "      <td>7167.56</td>\n",
       "      <td>1.00</td>\n",
       "      <td>946.46</td>\n",
       "    </tr>\n",
       "    <tr>\n",
       "      <th>4</th>\n",
       "      <td>6.11</td>\n",
       "      <td>1.25</td>\n",
       "      <td>19.63</td>\n",
       "      <td>4.82</td>\n",
       "      <td>0.90</td>\n",
       "      <td>29.65</td>\n",
       "      <td>42.52</td>\n",
       "      <td>Alfalfa</td>\n",
       "      <td>5125.44</td>\n",
       "      <td>1.00</td>\n",
       "      <td>432.62</td>\n",
       "    </tr>\n",
       "    <tr>\n",
       "      <th>...</th>\n",
       "      <td>...</td>\n",
       "      <td>...</td>\n",
       "      <td>...</td>\n",
       "      <td>...</td>\n",
       "      <td>...</td>\n",
       "      <td>...</td>\n",
       "      <td>...</td>\n",
       "      <td>...</td>\n",
       "      <td>...</td>\n",
       "      <td>...</td>\n",
       "      <td>...</td>\n",
       "    </tr>\n",
       "    <tr>\n",
       "      <th>247898</th>\n",
       "      <td>1.98</td>\n",
       "      <td>1.29</td>\n",
       "      <td>17.90</td>\n",
       "      <td>4.82</td>\n",
       "      <td>0.89</td>\n",
       "      <td>36.10</td>\n",
       "      <td>34.69</td>\n",
       "      <td>Rosemary</td>\n",
       "      <td>8261.63</td>\n",
       "      <td>1.00</td>\n",
       "      <td>754.98</td>\n",
       "    </tr>\n",
       "    <tr>\n",
       "      <th>247899</th>\n",
       "      <td>6.18</td>\n",
       "      <td>1.67</td>\n",
       "      <td>19.54</td>\n",
       "      <td>4.91</td>\n",
       "      <td>0.85</td>\n",
       "      <td>31.15</td>\n",
       "      <td>20.82</td>\n",
       "      <td>Acacia</td>\n",
       "      <td>6939.39</td>\n",
       "      <td>1.00</td>\n",
       "      <td>543.41</td>\n",
       "    </tr>\n",
       "    <tr>\n",
       "      <th>247900</th>\n",
       "      <td>7.78</td>\n",
       "      <td>1.49</td>\n",
       "      <td>15.78</td>\n",
       "      <td>5.69</td>\n",
       "      <td>0.73</td>\n",
       "      <td>44.60</td>\n",
       "      <td>44.07</td>\n",
       "      <td>Chestnut</td>\n",
       "      <td>4139.79</td>\n",
       "      <td>0.64</td>\n",
       "      <td>615.46</td>\n",
       "    </tr>\n",
       "    <tr>\n",
       "      <th>247901</th>\n",
       "      <td>5.78</td>\n",
       "      <td>1.74</td>\n",
       "      <td>14.96</td>\n",
       "      <td>6.81</td>\n",
       "      <td>0.83</td>\n",
       "      <td>47.19</td>\n",
       "      <td>37.79</td>\n",
       "      <td>Avocado</td>\n",
       "      <td>4417.74</td>\n",
       "      <td>0.97</td>\n",
       "      <td>949.32</td>\n",
       "    </tr>\n",
       "    <tr>\n",
       "      <th>247902</th>\n",
       "      <td>8.96</td>\n",
       "      <td>1.86</td>\n",
       "      <td>18.62</td>\n",
       "      <td>6.89</td>\n",
       "      <td>0.86</td>\n",
       "      <td>25.94</td>\n",
       "      <td>42.88</td>\n",
       "      <td>Lavender</td>\n",
       "      <td>8119.62</td>\n",
       "      <td>0.64</td>\n",
       "      <td>384.48</td>\n",
       "    </tr>\n",
       "  </tbody>\n",
       "</table>\n",
       "<p>247903 rows × 11 columns</p>\n",
       "</div>"
      ],
      "text/plain": [
       "          CS  Density     WC    pH    EC      F      G Pollen_analysis  \\\n",
       "0       2.81     1.75  23.04  6.29  0.76  39.02  33.63       Blueberry   \n",
       "1       9.47     1.82  17.50  7.20  0.71  38.15  34.41         Alfalfa   \n",
       "2       4.61     1.84  23.72  7.31  0.80  27.47  34.36        Chestnut   \n",
       "3       1.77     1.40  16.61  4.01  0.78  31.52  28.15       Blueberry   \n",
       "4       6.11     1.25  19.63  4.82  0.90  29.65  42.52         Alfalfa   \n",
       "...      ...      ...    ...   ...   ...    ...    ...             ...   \n",
       "247898  1.98     1.29  17.90  4.82  0.89  36.10  34.69        Rosemary   \n",
       "247899  6.18     1.67  19.54  4.91  0.85  31.15  20.82          Acacia   \n",
       "247900  7.78     1.49  15.78  5.69  0.73  44.60  44.07        Chestnut   \n",
       "247901  5.78     1.74  14.96  6.81  0.83  47.19  37.79         Avocado   \n",
       "247902  8.96     1.86  18.62  6.89  0.86  25.94  42.88        Lavender   \n",
       "\n",
       "        Viscosity  Purity   Price  \n",
       "0         4844.50    0.68  645.24  \n",
       "1         6689.02    0.89  385.85  \n",
       "2         6883.60    0.66  639.64  \n",
       "3         7167.56    1.00  946.46  \n",
       "4         5125.44    1.00  432.62  \n",
       "...           ...     ...     ...  \n",
       "247898    8261.63    1.00  754.98  \n",
       "247899    6939.39    1.00  543.41  \n",
       "247900    4139.79    0.64  615.46  \n",
       "247901    4417.74    0.97  949.32  \n",
       "247902    8119.62    0.64  384.48  \n",
       "\n",
       "[247903 rows x 11 columns]"
      ]
     },
     "execution_count": 1,
     "metadata": {},
     "output_type": "execute_result"
    }
   ],
   "source": [
    "import pandas as pd\n",
    "\n",
    "h_df = pd.read_csv('../new/honey_purity_dataset.csv')\n",
    "h_df"
   ]
  },
  {
   "cell_type": "code",
   "execution_count": 2,
   "id": "f69deed0-b6c6-4263-846d-c443a9edbb6f",
   "metadata": {},
   "outputs": [
    {
     "name": "stdout",
     "output_type": "stream",
     "text": [
      "<class 'pandas.core.frame.DataFrame'>\n",
      "RangeIndex: 247903 entries, 0 to 247902\n",
      "Data columns (total 11 columns):\n",
      " #   Column           Non-Null Count   Dtype  \n",
      "---  ------           --------------   -----  \n",
      " 0   CS               247903 non-null  float64\n",
      " 1   Density          247903 non-null  float64\n",
      " 2   WC               247903 non-null  float64\n",
      " 3   pH               247903 non-null  float64\n",
      " 4   EC               247903 non-null  float64\n",
      " 5   F                247903 non-null  float64\n",
      " 6   G                247903 non-null  float64\n",
      " 7   Pollen_analysis  247903 non-null  object \n",
      " 8   Viscosity        247903 non-null  float64\n",
      " 9   Purity           247903 non-null  float64\n",
      " 10  Price            247903 non-null  float64\n",
      "dtypes: float64(10), object(1)\n",
      "memory usage: 20.8+ MB\n"
     ]
    }
   ],
   "source": [
    "h_df.info()"
   ]
  },
  {
   "cell_type": "code",
   "execution_count": 5,
   "id": "44f6755f-abd9-4ae7-9dc3-68c93f41a51e",
   "metadata": {},
   "outputs": [],
   "source": [
    "pre_h_df = h_df.copy()"
   ]
  },
  {
   "cell_type": "code",
   "execution_count": 12,
   "id": "f6ff30c5-5de2-441f-ae64-45dabfed29de",
   "metadata": {},
   "outputs": [
    {
     "data": {
      "text/plain": [
       "CS           0\n",
       "Density      0\n",
       "WC           0\n",
       "pH           0\n",
       "EC           0\n",
       "F            0\n",
       "G            0\n",
       "Viscosity    0\n",
       "Purity       0\n",
       "Price        0\n",
       "dtype: int64"
      ]
     },
     "execution_count": 12,
     "metadata": {},
     "output_type": "execute_result"
    }
   ],
   "source": [
    "pre_h_df.isna().sum()"
   ]
  },
  {
   "cell_type": "code",
   "execution_count": 13,
   "id": "c7a4bf6a-a65b-4100-8dbb-26508c9fbdca",
   "metadata": {},
   "outputs": [
    {
     "data": {
      "text/plain": [
       "0"
      ]
     },
     "execution_count": 13,
     "metadata": {},
     "output_type": "execute_result"
    }
   ],
   "source": [
    "pre_h_df.duplicated().sum()"
   ]
  },
  {
   "cell_type": "code",
   "execution_count": 7,
   "id": "27b4e8cf-c93e-40cf-9ce4-49aa55028e66",
   "metadata": {},
   "outputs": [
    {
     "data": {
      "text/html": [
       "<div>\n",
       "<style scoped>\n",
       "    .dataframe tbody tr th:only-of-type {\n",
       "        vertical-align: middle;\n",
       "    }\n",
       "\n",
       "    .dataframe tbody tr th {\n",
       "        vertical-align: top;\n",
       "    }\n",
       "\n",
       "    .dataframe thead th {\n",
       "        text-align: right;\n",
       "    }\n",
       "</style>\n",
       "<table border=\"1\" class=\"dataframe\">\n",
       "  <thead>\n",
       "    <tr style=\"text-align: right;\">\n",
       "      <th></th>\n",
       "      <th>CS</th>\n",
       "      <th>Density</th>\n",
       "      <th>WC</th>\n",
       "      <th>pH</th>\n",
       "      <th>EC</th>\n",
       "      <th>F</th>\n",
       "      <th>G</th>\n",
       "      <th>Viscosity</th>\n",
       "      <th>Purity</th>\n",
       "      <th>Price</th>\n",
       "    </tr>\n",
       "  </thead>\n",
       "  <tbody>\n",
       "    <tr>\n",
       "      <th>0</th>\n",
       "      <td>2.81</td>\n",
       "      <td>1.75</td>\n",
       "      <td>23.04</td>\n",
       "      <td>6.29</td>\n",
       "      <td>0.76</td>\n",
       "      <td>39.02</td>\n",
       "      <td>33.63</td>\n",
       "      <td>4844.50</td>\n",
       "      <td>0.68</td>\n",
       "      <td>645.24</td>\n",
       "    </tr>\n",
       "    <tr>\n",
       "      <th>1</th>\n",
       "      <td>9.47</td>\n",
       "      <td>1.82</td>\n",
       "      <td>17.50</td>\n",
       "      <td>7.20</td>\n",
       "      <td>0.71</td>\n",
       "      <td>38.15</td>\n",
       "      <td>34.41</td>\n",
       "      <td>6689.02</td>\n",
       "      <td>0.89</td>\n",
       "      <td>385.85</td>\n",
       "    </tr>\n",
       "    <tr>\n",
       "      <th>2</th>\n",
       "      <td>4.61</td>\n",
       "      <td>1.84</td>\n",
       "      <td>23.72</td>\n",
       "      <td>7.31</td>\n",
       "      <td>0.80</td>\n",
       "      <td>27.47</td>\n",
       "      <td>34.36</td>\n",
       "      <td>6883.60</td>\n",
       "      <td>0.66</td>\n",
       "      <td>639.64</td>\n",
       "    </tr>\n",
       "    <tr>\n",
       "      <th>3</th>\n",
       "      <td>1.77</td>\n",
       "      <td>1.40</td>\n",
       "      <td>16.61</td>\n",
       "      <td>4.01</td>\n",
       "      <td>0.78</td>\n",
       "      <td>31.52</td>\n",
       "      <td>28.15</td>\n",
       "      <td>7167.56</td>\n",
       "      <td>1.00</td>\n",
       "      <td>946.46</td>\n",
       "    </tr>\n",
       "    <tr>\n",
       "      <th>4</th>\n",
       "      <td>6.11</td>\n",
       "      <td>1.25</td>\n",
       "      <td>19.63</td>\n",
       "      <td>4.82</td>\n",
       "      <td>0.90</td>\n",
       "      <td>29.65</td>\n",
       "      <td>42.52</td>\n",
       "      <td>5125.44</td>\n",
       "      <td>1.00</td>\n",
       "      <td>432.62</td>\n",
       "    </tr>\n",
       "    <tr>\n",
       "      <th>...</th>\n",
       "      <td>...</td>\n",
       "      <td>...</td>\n",
       "      <td>...</td>\n",
       "      <td>...</td>\n",
       "      <td>...</td>\n",
       "      <td>...</td>\n",
       "      <td>...</td>\n",
       "      <td>...</td>\n",
       "      <td>...</td>\n",
       "      <td>...</td>\n",
       "    </tr>\n",
       "    <tr>\n",
       "      <th>247898</th>\n",
       "      <td>1.98</td>\n",
       "      <td>1.29</td>\n",
       "      <td>17.90</td>\n",
       "      <td>4.82</td>\n",
       "      <td>0.89</td>\n",
       "      <td>36.10</td>\n",
       "      <td>34.69</td>\n",
       "      <td>8261.63</td>\n",
       "      <td>1.00</td>\n",
       "      <td>754.98</td>\n",
       "    </tr>\n",
       "    <tr>\n",
       "      <th>247899</th>\n",
       "      <td>6.18</td>\n",
       "      <td>1.67</td>\n",
       "      <td>19.54</td>\n",
       "      <td>4.91</td>\n",
       "      <td>0.85</td>\n",
       "      <td>31.15</td>\n",
       "      <td>20.82</td>\n",
       "      <td>6939.39</td>\n",
       "      <td>1.00</td>\n",
       "      <td>543.41</td>\n",
       "    </tr>\n",
       "    <tr>\n",
       "      <th>247900</th>\n",
       "      <td>7.78</td>\n",
       "      <td>1.49</td>\n",
       "      <td>15.78</td>\n",
       "      <td>5.69</td>\n",
       "      <td>0.73</td>\n",
       "      <td>44.60</td>\n",
       "      <td>44.07</td>\n",
       "      <td>4139.79</td>\n",
       "      <td>0.64</td>\n",
       "      <td>615.46</td>\n",
       "    </tr>\n",
       "    <tr>\n",
       "      <th>247901</th>\n",
       "      <td>5.78</td>\n",
       "      <td>1.74</td>\n",
       "      <td>14.96</td>\n",
       "      <td>6.81</td>\n",
       "      <td>0.83</td>\n",
       "      <td>47.19</td>\n",
       "      <td>37.79</td>\n",
       "      <td>4417.74</td>\n",
       "      <td>0.97</td>\n",
       "      <td>949.32</td>\n",
       "    </tr>\n",
       "    <tr>\n",
       "      <th>247902</th>\n",
       "      <td>8.96</td>\n",
       "      <td>1.86</td>\n",
       "      <td>18.62</td>\n",
       "      <td>6.89</td>\n",
       "      <td>0.86</td>\n",
       "      <td>25.94</td>\n",
       "      <td>42.88</td>\n",
       "      <td>8119.62</td>\n",
       "      <td>0.64</td>\n",
       "      <td>384.48</td>\n",
       "    </tr>\n",
       "  </tbody>\n",
       "</table>\n",
       "<p>247903 rows × 10 columns</p>\n",
       "</div>"
      ],
      "text/plain": [
       "          CS  Density     WC    pH    EC      F      G  Viscosity  Purity  \\\n",
       "0       2.81     1.75  23.04  6.29  0.76  39.02  33.63    4844.50    0.68   \n",
       "1       9.47     1.82  17.50  7.20  0.71  38.15  34.41    6689.02    0.89   \n",
       "2       4.61     1.84  23.72  7.31  0.80  27.47  34.36    6883.60    0.66   \n",
       "3       1.77     1.40  16.61  4.01  0.78  31.52  28.15    7167.56    1.00   \n",
       "4       6.11     1.25  19.63  4.82  0.90  29.65  42.52    5125.44    1.00   \n",
       "...      ...      ...    ...   ...   ...    ...    ...        ...     ...   \n",
       "247898  1.98     1.29  17.90  4.82  0.89  36.10  34.69    8261.63    1.00   \n",
       "247899  6.18     1.67  19.54  4.91  0.85  31.15  20.82    6939.39    1.00   \n",
       "247900  7.78     1.49  15.78  5.69  0.73  44.60  44.07    4139.79    0.64   \n",
       "247901  5.78     1.74  14.96  6.81  0.83  47.19  37.79    4417.74    0.97   \n",
       "247902  8.96     1.86  18.62  6.89  0.86  25.94  42.88    8119.62    0.64   \n",
       "\n",
       "         Price  \n",
       "0       645.24  \n",
       "1       385.85  \n",
       "2       639.64  \n",
       "3       946.46  \n",
       "4       432.62  \n",
       "...        ...  \n",
       "247898  754.98  \n",
       "247899  543.41  \n",
       "247900  615.46  \n",
       "247901  949.32  \n",
       "247902  384.48  \n",
       "\n",
       "[247903 rows x 10 columns]"
      ]
     },
     "execution_count": 7,
     "metadata": {},
     "output_type": "execute_result"
    }
   ],
   "source": [
    "# 분류형 데이터 없이 확인 \n",
    "pre_h_df = pre_h_df.drop(labels = ['Pollen_analysis'], axis = 1).reset_index(drop=True)\n",
    "pre_h_df"
   ]
  },
  {
   "cell_type": "code",
   "execution_count": 18,
   "id": "47e4263d-4ea7-4d7e-bbdd-6c008dee4438",
   "metadata": {},
   "outputs": [
    {
     "data": {
      "text/plain": [
       "<Axes: >"
      ]
     },
     "execution_count": 18,
     "metadata": {},
     "output_type": "execute_result"
    },
    {
     "data": {
      "image/png": "[encoded data removed]",
      "text/plain": [
       "<Figure size 640x480 with 1 Axes>"
      ]
     },
     "metadata": {},
     "output_type": "display_data"
    }
   ],
   "source": [
    "pre_h_df['Price'].hist()"
   ]
  },
  {
   "cell_type": "markdown",
   "id": "2ca3e8de-892e-4ed4-b7b9-00c33a63fa0f",
   "metadata": {},
   "source": [
    "# Cycle01\n",
    "- 기본 전처리 이후 상관관계를 신경쓰지 않고 훈련 진행"
   ]
  },
  {
   "cell_type": "code",
   "execution_count": 20,
   "id": "f7850f82-88e2-4535-9b6b-e8ecb5e01371",
   "metadata": {},
   "outputs": [
    {
     "data": {
      "text/plain": [
       "Purity       0.432581\n",
       "CS           0.035166\n",
       "Viscosity    0.009632\n",
       "EC          -0.000571\n",
       "F           -0.002041\n",
       "G           -0.004815\n",
       "WC          -0.014381\n",
       "Density     -0.050518\n",
       "pH          -0.100714\n",
       "Name: Price, dtype: float64"
      ]
     },
     "execution_count": 20,
     "metadata": {},
     "output_type": "execute_result"
    }
   ],
   "source": [
    "pre_h_df.corr()['Price'].sort_values(ascending=False)[1:]"
   ]
  },
  {
   "cell_type": "code",
   "execution_count": 21,
   "id": "bd0b8b87-744e-4fbc-bfd7-a4d29ba57f4f",
   "metadata": {},
   "outputs": [
    {
     "data": {
      "text/plain": [
       "<Axes: >"
      ]
     },
     "execution_count": 21,
     "metadata": {},
     "output_type": "execute_result"
    },
    {
     "data": {
      "image/png": "[encoded data removed]",
      "text/plain": [
       "<Figure size 640x480 with 2 Axes>"
      ]
     },
     "metadata": {},
     "output_type": "display_data"
    }
   ],
   "source": [
    "import seaborn as sns\n",
    "\n",
    "corr = pre_h_df.corr()\n",
    "sns.heatmap(corr, cmap= 'Oranges')"
   ]
  },
  {
   "cell_type": "code",
   "execution_count": 22,
   "id": "39c4c9f2-7cfb-440a-89ff-6d85cdc8498d",
   "metadata": {},
   "outputs": [],
   "source": [
    "from statsmodels.stats.outliers_influence import variance_inflation_factor\n",
    "\n",
    "def get_vif(features):\n",
    "    vif = pd.DataFrame()\n",
    "    vif['vif_score'] = [variance_inflation_factor(features.values, i) for i in range(features.shape[1])]\n",
    "    vif['feature'] = features.columns\n",
    "    return vif"
   ]
  },
  {
   "cell_type": "code",
   "execution_count": 23,
   "id": "b3c64a19-1f5a-41df-a563-d9ab12117549",
   "metadata": {},
   "outputs": [
    {
     "data": {
      "text/html": [
       "<div>\n",
       "<style scoped>\n",
       "    .dataframe tbody tr th:only-of-type {\n",
       "        vertical-align: middle;\n",
       "    }\n",
       "\n",
       "    .dataframe tbody tr th {\n",
       "        vertical-align: top;\n",
       "    }\n",
       "\n",
       "    .dataframe thead th {\n",
       "        text-align: right;\n",
       "    }\n",
       "</style>\n",
       "<table border=\"1\" class=\"dataframe\">\n",
       "  <thead>\n",
       "    <tr style=\"text-align: right;\">\n",
       "      <th></th>\n",
       "      <th>vif_score</th>\n",
       "      <th>feature</th>\n",
       "    </tr>\n",
       "  </thead>\n",
       "  <tbody>\n",
       "    <tr>\n",
       "      <th>0</th>\n",
       "      <td>5.503986</td>\n",
       "      <td>CS</td>\n",
       "    </tr>\n",
       "    <tr>\n",
       "      <th>1</th>\n",
       "      <td>54.791703</td>\n",
       "      <td>Density</td>\n",
       "    </tr>\n",
       "    <tr>\n",
       "      <th>2</th>\n",
       "      <td>23.729870</td>\n",
       "      <td>WC</td>\n",
       "    </tr>\n",
       "    <tr>\n",
       "      <th>3</th>\n",
       "      <td>12.799314</td>\n",
       "      <td>pH</td>\n",
       "    </tr>\n",
       "    <tr>\n",
       "      <th>4</th>\n",
       "      <td>100.463958</td>\n",
       "      <td>EC</td>\n",
       "    </tr>\n",
       "    <tr>\n",
       "      <th>5</th>\n",
       "      <td>16.612934</td>\n",
       "      <td>F</td>\n",
       "    </tr>\n",
       "    <tr>\n",
       "      <th>6</th>\n",
       "      <td>20.167077</td>\n",
       "      <td>G</td>\n",
       "    </tr>\n",
       "    <tr>\n",
       "      <th>7</th>\n",
       "      <td>6.403328</td>\n",
       "      <td>Viscosity</td>\n",
       "    </tr>\n",
       "    <tr>\n",
       "      <th>8</th>\n",
       "      <td>32.882128</td>\n",
       "      <td>Purity</td>\n",
       "    </tr>\n",
       "  </tbody>\n",
       "</table>\n",
       "</div>"
      ],
      "text/plain": [
       "    vif_score    feature\n",
       "0    5.503986         CS\n",
       "1   54.791703    Density\n",
       "2   23.729870         WC\n",
       "3   12.799314         pH\n",
       "4  100.463958         EC\n",
       "5   16.612934          F\n",
       "6   20.167077          G\n",
       "7    6.403328  Viscosity\n",
       "8   32.882128     Purity"
      ]
     },
     "execution_count": 23,
     "metadata": {},
     "output_type": "execute_result"
    }
   ],
   "source": [
    "get_vif(pre_h_df.iloc[:,:-1])"
   ]
  },
  {
   "cell_type": "code",
   "execution_count": 25,
   "id": "7554b823-4361-4a71-aa96-c6802c8eb4ce",
   "metadata": {},
   "outputs": [
    {
     "name": "stdout",
     "output_type": "stream",
     "text": [
      "                                 OLS Regression Results                                \n",
      "=======================================================================================\n",
      "Dep. Variable:                  Price   R-squared (uncentered):                   0.891\n",
      "Model:                            OLS   Adj. R-squared (uncentered):              0.891\n",
      "Method:                 Least Squares   F-statistic:                          2.260e+05\n",
      "Date:                Sat, 11 May 2024   Prob (F-statistic):                        0.00\n",
      "Time:                        01:06:55   Log-Likelihood:                     -1.6781e+06\n",
      "No. Observations:              247903   AIC:                                  3.356e+06\n",
      "Df Residuals:                  247894   BIC:                                  3.356e+06\n",
      "Df Model:                           9                                                  \n",
      "Covariance Type:            nonrobust                                                  \n",
      "==============================================================================\n",
      "                 coef    std err          t      P>|t|      [0.025      0.975]\n",
      "------------------------------------------------------------------------------\n",
      "CS             0.0846      0.163      0.518      0.604      -0.235       0.404\n",
      "Density       -2.6837      2.024     -1.326      0.185      -6.651       1.284\n",
      "WC            -0.0701      0.109     -0.642      0.521      -0.284       0.144\n",
      "pH            -0.0370      0.291     -0.127      0.899      -0.607       0.533\n",
      "EC             5.5870      5.287      1.057      0.291      -4.775      15.949\n",
      "F             -0.0255      0.048     -0.532      0.595      -0.119       0.068\n",
      "G             -0.1348      0.057     -2.363      0.018      -0.247      -0.023\n",
      "Viscosity      0.0004      0.000      2.517      0.012    9.54e-05       0.001\n",
      "Purity       725.5994      2.901    250.107      0.000     719.913     731.286\n",
      "==============================================================================\n",
      "Omnibus:                    25599.880   Durbin-Watson:                   1.997\n",
      "Prob(Omnibus):                  0.000   Jarque-Bera (JB):            28930.324\n",
      "Skew:                          -0.797   Prob(JB):                         0.00\n",
      "Kurtosis:                       2.490   Cond. No.                     8.18e+04\n",
      "==============================================================================\n",
      "\n",
      "Notes:\n",
      "[1] R² is computed without centering (uncentered) since the model does not contain a constant.\n",
      "[2] Standard Errors assume that the covariance matrix of the errors is correctly specified.\n",
      "[3] The condition number is large, 8.18e+04. This might indicate that there are\n",
      "strong multicollinearity or other numerical problems.\n"
     ]
    }
   ],
   "source": [
    "from statsmodels.api import OLS\n",
    "\n",
    "features, target = pre_h_df.iloc[:, :-1], pre_h_df.iloc[:, -1]\n",
    "\n",
    "model = OLS(targets, features)\n",
    "print(model.fit().summary())"
   ]
  },
  {
   "cell_type": "code",
   "execution_count": 26,
   "id": "4ce90e77-7fae-41e1-ae20-22056e75718d",
   "metadata": {},
   "outputs": [
    {
     "data": {
      "text/html": [
       "<style>#sk-container-id-4 {color: black;background-color: white;}#sk-container-id-4 pre{padding: 0;}#sk-container-id-4 div.sk-toggleable {background-color: white;}#sk-container-id-4 label.sk-toggleable__label {cursor: pointer;display: block;width: 100%;margin-bottom: 0;padding: 0.3em;box-sizing: border-box;text-align: center;}#sk-container-id-4 label.sk-toggleable__label-arrow:before {content: \"▸\";float: left;margin-right: 0.25em;color: #696969;}#sk-container-id-4 label.sk-toggleable__label-arrow:hover:before {color: black;}#sk-container-id-4 div.sk-estimator:hover label.sk-toggleable__label-arrow:before {color: black;}#sk-container-id-4 div.sk-toggleable__content {max-height: 0;max-width: 0;overflow: hidden;text-align: left;background-color: #f0f8ff;}#sk-container-id-4 div.sk-toggleable__content pre {margin: 0.2em;color: black;border-radius: 0.25em;background-color: #f0f8ff;}#sk-container-id-4 input.sk-toggleable__control:checked~div.sk-toggleable__content {max-height: 200px;max-width: 100%;overflow: auto;}#sk-container-id-4 input.sk-toggleable__control:checked~label.sk-toggleable__label-arrow:before {content: \"▾\";}#sk-container-id-4 div.sk-estimator input.sk-toggleable__control:checked~label.sk-toggleable__label {background-color: #d4ebff;}#sk-container-id-4 div.sk-label input.sk-toggleable__control:checked~label.sk-toggleable__label {background-color: #d4ebff;}#sk-container-id-4 input.sk-hidden--visually {border: 0;clip: rect(1px 1px 1px 1px);clip: rect(1px, 1px, 1px, 1px);height: 1px;margin: -1px;overflow: hidden;padding: 0;position: absolute;width: 1px;}#sk-container-id-4 div.sk-estimator {font-family: monospace;background-color: #f0f8ff;border: 1px dotted black;border-radius: 0.25em;box-sizing: border-box;margin-bottom: 0.5em;}#sk-container-id-4 div.sk-estimator:hover {background-color: #d4ebff;}#sk-container-id-4 div.sk-parallel-item::after {content: \"\";width: 100%;border-bottom: 1px solid gray;flex-grow: 1;}#sk-container-id-4 div.sk-label:hover label.sk-toggleable__label {background-color: #d4ebff;}#sk-container-id-4 div.sk-serial::before {content: \"\";position: absolute;border-left: 1px solid gray;box-sizing: border-box;top: 0;bottom: 0;left: 50%;z-index: 0;}#sk-container-id-4 div.sk-serial {display: flex;flex-direction: column;align-items: center;background-color: white;padding-right: 0.2em;padding-left: 0.2em;position: relative;}#sk-container-id-4 div.sk-item {position: relative;z-index: 1;}#sk-container-id-4 div.sk-parallel {display: flex;align-items: stretch;justify-content: center;background-color: white;position: relative;}#sk-container-id-4 div.sk-item::before, #sk-container-id-4 div.sk-parallel-item::before {content: \"\";position: absolute;border-left: 1px solid gray;box-sizing: border-box;top: 0;bottom: 0;left: 50%;z-index: -1;}#sk-container-id-4 div.sk-parallel-item {display: flex;flex-direction: column;z-index: 1;position: relative;background-color: white;}#sk-container-id-4 div.sk-parallel-item:first-child::after {align-self: flex-end;width: 50%;}#sk-container-id-4 div.sk-parallel-item:last-child::after {align-self: flex-start;width: 50%;}#sk-container-id-4 div.sk-parallel-item:only-child::after {width: 0;}#sk-container-id-4 div.sk-dashed-wrapped {border: 1px dashed gray;margin: 0 0.4em 0.5em 0.4em;box-sizing: border-box;padding-bottom: 0.4em;background-color: white;}#sk-container-id-4 div.sk-label label {font-family: monospace;font-weight: bold;display: inline-block;line-height: 1.2em;}#sk-container-id-4 div.sk-label-container {text-align: center;}#sk-container-id-4 div.sk-container {/* jupyter's `normalize.less` sets `[hidden] { display: none; }` but bootstrap.min.css set `[hidden] { display: none !important; }` so we also need the `!important` here to be able to override the default hidden behavior on the sphinx rendered scikit-learn.org. See: https://github.com/scikit-learn/scikit-learn/issues/21755 */display: inline-block !important;position: relative;}#sk-container-id-4 div.sk-text-repr-fallback {display: none;}</style><div id=\"sk-container-id-4\" class=\"sk-top-container\"><div class=\"sk-text-repr-fallback\"><pre>LinearRegression()</pre><b>In a Jupyter environment, please rerun this cell to show the HTML representation or trust the notebook. <br />On GitHub, the HTML representation is unable to render, please try loading this page with nbviewer.org.</b></div><div class=\"sk-container\" hidden><div class=\"sk-item\"><div class=\"sk-estimator sk-toggleable\"><input class=\"sk-toggleable__control sk-hidden--visually\" id=\"sk-estimator-id-4\" type=\"checkbox\" checked><label for=\"sk-estimator-id-4\" class=\"sk-toggleable__label sk-toggleable__label-arrow\">LinearRegression</label><div class=\"sk-toggleable__content\"><pre>LinearRegression()</pre></div></div></div></div></div>"
      ],
      "text/plain": [
       "LinearRegression()"
      ]
     },
     "execution_count": 26,
     "metadata": {},
     "output_type": "execute_result"
    }
   ],
   "source": [
    "from sklearn.linear_model import LinearRegression\n",
    "from sklearn.model_selection import train_test_split\n",
    "\n",
    "features, targets = pre_h_df.iloc[:, :-1], pre_h_df.iloc[:, -1]\n",
    "\n",
    "X_train, X_test, y_train, y_test = \\\n",
    "train_test_split(features, targets, test_size=0.2, random_state=321)\n",
    "\n",
    "l_r = LinearRegression()\n",
    "l_r.fit(X_train, y_train)\n"
   ]
  },
  {
   "cell_type": "code",
   "execution_count": 27,
   "id": "124b446e-889f-4442-82c2-6174e60f3a7f",
   "metadata": {},
   "outputs": [],
   "source": [
    "import numpy as np\n",
    "from sklearn.metrics import mean_squared_log_error, mean_squared_error, r2_score\n",
    "\n",
    "def get_evaluation(y_test, prediction):\n",
    "    MSE = mean_squared_error(y_test, prediction)\n",
    "    RMSE = np.sqrt(MSE)\n",
    "    MSLE = mean_squared_log_error(y_test, prediction)\n",
    "    RMSLE = np.sqrt(mean_squared_log_error(y_test, prediction))\n",
    "    R2 = r2_score(y_test, prediction)\n",
    "    print('MSE: {:.4f}, RMSE: {:.4f}, MSLE: {:.4f}, RMSLE: {:.4f}, R2: {:.4f}'\\\n",
    "          .format(MSE, RMSE, MSLE, RMSLE, R2))\n"
   ]
  },
  {
   "cell_type": "code",
   "execution_count": 28,
   "id": "3e952efe-8255-4ff6-a17b-3947e71613df",
   "metadata": {},
   "outputs": [
    {
     "name": "stdout",
     "output_type": "stream",
     "text": [
      "MSE: 44212.2630, RMSE: 210.2671, MSLE: 0.2226, RMSLE: 0.4718, R2: 0.1865\n"
     ]
    }
   ],
   "source": [
    "prediction = l_r.predict(X_test)\n",
    "get_evaluation(y_test, prediction)"
   ]
  },
  {
   "cell_type": "code",
   "execution_count": 16,
   "id": "aa1bb9f7-a273-4c3b-8fed-dd870ab4b3fe",
   "metadata": {},
   "outputs": [
    {
     "data": {
      "text/html": [
       "<style>#sk-container-id-3 {color: black;background-color: white;}#sk-container-id-3 pre{padding: 0;}#sk-container-id-3 div.sk-toggleable {background-color: white;}#sk-container-id-3 label.sk-toggleable__label {cursor: pointer;display: block;width: 100%;margin-bottom: 0;padding: 0.3em;box-sizing: border-box;text-align: center;}#sk-container-id-3 label.sk-toggleable__label-arrow:before {content: \"▸\";float: left;margin-right: 0.25em;color: #696969;}#sk-container-id-3 label.sk-toggleable__label-arrow:hover:before {color: black;}#sk-container-id-3 div.sk-estimator:hover label.sk-toggleable__label-arrow:before {color: black;}#sk-container-id-3 div.sk-toggleable__content {max-height: 0;max-width: 0;overflow: hidden;text-align: left;background-color: #f0f8ff;}#sk-container-id-3 div.sk-toggleable__content pre {margin: 0.2em;color: black;border-radius: 0.25em;background-color: #f0f8ff;}#sk-container-id-3 input.sk-toggleable__control:checked~div.sk-toggleable__content {max-height: 200px;max-width: 100%;overflow: auto;}#sk-container-id-3 input.sk-toggleable__control:checked~label.sk-toggleable__label-arrow:before {content: \"▾\";}#sk-container-id-3 div.sk-estimator input.sk-toggleable__control:checked~label.sk-toggleable__label {background-color: #d4ebff;}#sk-container-id-3 div.sk-label input.sk-toggleable__control:checked~label.sk-toggleable__label {background-color: #d4ebff;}#sk-container-id-3 input.sk-hidden--visually {border: 0;clip: rect(1px 1px 1px 1px);clip: rect(1px, 1px, 1px, 1px);height: 1px;margin: -1px;overflow: hidden;padding: 0;position: absolute;width: 1px;}#sk-container-id-3 div.sk-estimator {font-family: monospace;background-color: #f0f8ff;border: 1px dotted black;border-radius: 0.25em;box-sizing: border-box;margin-bottom: 0.5em;}#sk-container-id-3 div.sk-estimator:hover {background-color: #d4ebff;}#sk-container-id-3 div.sk-parallel-item::after {content: \"\";width: 100%;border-bottom: 1px solid gray;flex-grow: 1;}#sk-container-id-3 div.sk-label:hover label.sk-toggleable__label {background-color: #d4ebff;}#sk-container-id-3 div.sk-serial::before {content: \"\";position: absolute;border-left: 1px solid gray;box-sizing: border-box;top: 0;bottom: 0;left: 50%;z-index: 0;}#sk-container-id-3 div.sk-serial {display: flex;flex-direction: column;align-items: center;background-color: white;padding-right: 0.2em;padding-left: 0.2em;position: relative;}#sk-container-id-3 div.sk-item {position: relative;z-index: 1;}#sk-container-id-3 div.sk-parallel {display: flex;align-items: stretch;justify-content: center;background-color: white;position: relative;}#sk-container-id-3 div.sk-item::before, #sk-container-id-3 div.sk-parallel-item::before {content: \"\";position: absolute;border-left: 1px solid gray;box-sizing: border-box;top: 0;bottom: 0;left: 50%;z-index: -1;}#sk-container-id-3 div.sk-parallel-item {display: flex;flex-direction: column;z-index: 1;position: relative;background-color: white;}#sk-container-id-3 div.sk-parallel-item:first-child::after {align-self: flex-end;width: 50%;}#sk-container-id-3 div.sk-parallel-item:last-child::after {align-self: flex-start;width: 50%;}#sk-container-id-3 div.sk-parallel-item:only-child::after {width: 0;}#sk-container-id-3 div.sk-dashed-wrapped {border: 1px dashed gray;margin: 0 0.4em 0.5em 0.4em;box-sizing: border-box;padding-bottom: 0.4em;background-color: white;}#sk-container-id-3 div.sk-label label {font-family: monospace;font-weight: bold;display: inline-block;line-height: 1.2em;}#sk-container-id-3 div.sk-label-container {text-align: center;}#sk-container-id-3 div.sk-container {/* jupyter's `normalize.less` sets `[hidden] { display: none; }` but bootstrap.min.css set `[hidden] { display: none !important; }` so we also need the `!important` here to be able to override the default hidden behavior on the sphinx rendered scikit-learn.org. See: https://github.com/scikit-learn/scikit-learn/issues/21755 */display: inline-block !important;position: relative;}#sk-container-id-3 div.sk-text-repr-fallback {display: none;}</style><div id=\"sk-container-id-3\" class=\"sk-top-container\"><div class=\"sk-text-repr-fallback\"><pre>LinearRegression()</pre><b>In a Jupyter environment, please rerun this cell to show the HTML representation or trust the notebook. <br />On GitHub, the HTML representation is unable to render, please try loading this page with nbviewer.org.</b></div><div class=\"sk-container\" hidden><div class=\"sk-item\"><div class=\"sk-estimator sk-toggleable\"><input class=\"sk-toggleable__control sk-hidden--visually\" id=\"sk-estimator-id-3\" type=\"checkbox\" checked><label for=\"sk-estimator-id-3\" class=\"sk-toggleable__label sk-toggleable__label-arrow\">LinearRegression</label><div class=\"sk-toggleable__content\"><pre>LinearRegression()</pre></div></div></div></div></div>"
      ],
      "text/plain": [
       "LinearRegression()"
      ]
     },
     "execution_count": 16,
     "metadata": {},
     "output_type": "execute_result"
    }
   ],
   "source": [
    "# # 비선형 회귀 모델 확인\n",
    "# from sklearn.preprocessing import PolynomialFeatures\n",
    "\n",
    "# poly_features = PolynomialFeatures(degree=3).fit_transform(features)\n",
    "\n",
    "# X_train, X_test, y_train, y_test = \\\n",
    "# train_test_split(poly_features, targets, test_size=0.2, random_state=321)\n",
    "\n",
    "# l_r = LinearRegression()\n",
    "# l_r.fit(X_train, y_train)"
   ]
  },
  {
   "cell_type": "code",
   "execution_count": 17,
   "id": "2d885d41-549d-4f34-bc0a-326a67196ccb",
   "metadata": {},
   "outputs": [
    {
     "name": "stdout",
     "output_type": "stream",
     "text": [
      "MSE: 44270.6533, RMSE: 210.4059, MSLE: 0.2227, RMSLE: 0.4720, R2: 0.1854\n"
     ]
    }
   ],
   "source": [
    "# prediction = l_r.predict(X_test)\n",
    "# get_evaluation(y_test, prediction)"
   ]
  },
  {
   "cell_type": "code",
   "execution_count": 33,
   "id": "0c3d9d52-8154-48ff-a11e-b0dbde950904",
   "metadata": {},
   "outputs": [
    {
     "name": "stdout",
     "output_type": "stream",
     "text": [
      "DecisionTreeRegressor\n",
      "MSE: 90399.9574, RMSE: 300.6659, MSLE: 0.4443, RMSLE: 0.6666, R2: -0.6634\n",
      "RandomForestRegressor\n",
      "MSE: 45738.2715, RMSE: 213.8651, MSLE: 0.2243, RMSLE: 0.4736, R2: 0.1584\n",
      "GradientBoostingRegressor\n",
      "MSE: 44230.5875, RMSE: 210.3107, MSLE: 0.2226, RMSLE: 0.4718, R2: 0.1861\n",
      "XGBRegressor\n",
      "MSE: 44985.5044, RMSE: 212.0979, MSLE: 0.2247, RMSLE: 0.4741, R2: 0.1722\n",
      "[LightGBM] [Info] Auto-choosing col-wise multi-threading, the overhead of testing was 0.004097 seconds.\n",
      "You can set `force_col_wise=true` to remove the overhead.\n",
      "[LightGBM] [Info] Total Bins 1643\n",
      "[LightGBM] [Info] Number of data points in the train set: 198322, number of used features: 9\n",
      "[LightGBM] [Info] Start training from score 594.787957\n",
      "LGBMRegressor\n",
      "MSE: 44301.4085, RMSE: 210.4790, MSLE: 0.2228, RMSLE: 0.4720, R2: 0.1848\n"
     ]
    }
   ],
   "source": [
    "# from sklearn.tree import DecisionTreeRegressor\n",
    "# from sklearn.ensemble import RandomForestRegressor, GradientBoostingRegressor\n",
    "# from xgboost import XGBRegressor\n",
    "# from lightgbm import LGBMRegressor\n",
    "\n",
    "# features, targets = pre_h_df.iloc[:, :-1], pre_h_df.iloc[:, -1]\n",
    "\n",
    "# X_train, X_test, y_train, y_test =\\\n",
    "# train_test_split(features, targets, test_size=0.2, random_state=321)\n",
    "\n",
    "# dt_r = DecisionTreeRegressor(random_state=321)\n",
    "# rd_r = RandomForestRegressor(random_state=321)\n",
    "# gb_r = GradientBoostingRegressor(random_state=321)\n",
    "# xgb_r = XGBRegressor(random_state=321)\n",
    "# lgb_r = LGBMRegressor(random_state=321)\n",
    "\n",
    "# models = [dt_r, rd_r, gb_r, xgb_r, lgb_r]\n",
    "\n",
    "# for model in models:\n",
    "#     model.fit(X_train, y_train)\n",
    "#     prediction = model.predict(X_test)\n",
    "#     print(model.__class__.__name__)\n",
    "#     get_evaluation(y_test, prediction)"
   ]
  },
  {
   "cell_type": "markdown",
   "id": "89b4be40-2541-48ad-9f8b-a1ef5a6ff52d",
   "metadata": {},
   "source": [
    "### C01\n",
    "- 비선형모델을 사용했을 때 R2 Score가 낮아진 부분을 확인하여 선형 모델로 확인"
   ]
  },
  {
   "cell_type": "markdown",
   "id": "0817322d-e9ac-46cf-8bb8-f6ee894c8879",
   "metadata": {},
   "source": [
    "# Cycle02\n",
    "- 기존 범주형 데이터를 추가하여 추가 훈련"
   ]
  },
  {
   "cell_type": "code",
   "execution_count": 75,
   "id": "cd51a6c1-1233-4e2d-a87a-3da110d35e85",
   "metadata": {},
   "outputs": [
    {
     "data": {
      "text/html": [
       "<div>\n",
       "<style scoped>\n",
       "    .dataframe tbody tr th:only-of-type {\n",
       "        vertical-align: middle;\n",
       "    }\n",
       "\n",
       "    .dataframe tbody tr th {\n",
       "        vertical-align: top;\n",
       "    }\n",
       "\n",
       "    .dataframe thead th {\n",
       "        text-align: right;\n",
       "    }\n",
       "</style>\n",
       "<table border=\"1\" class=\"dataframe\">\n",
       "  <thead>\n",
       "    <tr style=\"text-align: right;\">\n",
       "      <th></th>\n",
       "      <th>CS</th>\n",
       "      <th>Density</th>\n",
       "      <th>WC</th>\n",
       "      <th>pH</th>\n",
       "      <th>EC</th>\n",
       "      <th>F</th>\n",
       "      <th>G</th>\n",
       "      <th>Pollen_analysis</th>\n",
       "      <th>Viscosity</th>\n",
       "      <th>Purity</th>\n",
       "      <th>Price</th>\n",
       "    </tr>\n",
       "  </thead>\n",
       "  <tbody>\n",
       "    <tr>\n",
       "      <th>0</th>\n",
       "      <td>2.81</td>\n",
       "      <td>1.75</td>\n",
       "      <td>23.04</td>\n",
       "      <td>6.29</td>\n",
       "      <td>0.76</td>\n",
       "      <td>39.02</td>\n",
       "      <td>33.63</td>\n",
       "      <td>3</td>\n",
       "      <td>4844.50</td>\n",
       "      <td>0.68</td>\n",
       "      <td>645.24</td>\n",
       "    </tr>\n",
       "    <tr>\n",
       "      <th>1</th>\n",
       "      <td>9.47</td>\n",
       "      <td>1.82</td>\n",
       "      <td>17.50</td>\n",
       "      <td>7.20</td>\n",
       "      <td>0.71</td>\n",
       "      <td>38.15</td>\n",
       "      <td>34.41</td>\n",
       "      <td>1</td>\n",
       "      <td>6689.02</td>\n",
       "      <td>0.89</td>\n",
       "      <td>385.85</td>\n",
       "    </tr>\n",
       "    <tr>\n",
       "      <th>2</th>\n",
       "      <td>4.61</td>\n",
       "      <td>1.84</td>\n",
       "      <td>23.72</td>\n",
       "      <td>7.31</td>\n",
       "      <td>0.80</td>\n",
       "      <td>27.47</td>\n",
       "      <td>34.36</td>\n",
       "      <td>6</td>\n",
       "      <td>6883.60</td>\n",
       "      <td>0.66</td>\n",
       "      <td>639.64</td>\n",
       "    </tr>\n",
       "    <tr>\n",
       "      <th>3</th>\n",
       "      <td>1.77</td>\n",
       "      <td>1.40</td>\n",
       "      <td>16.61</td>\n",
       "      <td>4.01</td>\n",
       "      <td>0.78</td>\n",
       "      <td>31.52</td>\n",
       "      <td>28.15</td>\n",
       "      <td>3</td>\n",
       "      <td>7167.56</td>\n",
       "      <td>1.00</td>\n",
       "      <td>946.46</td>\n",
       "    </tr>\n",
       "    <tr>\n",
       "      <th>4</th>\n",
       "      <td>6.11</td>\n",
       "      <td>1.25</td>\n",
       "      <td>19.63</td>\n",
       "      <td>4.82</td>\n",
       "      <td>0.90</td>\n",
       "      <td>29.65</td>\n",
       "      <td>42.52</td>\n",
       "      <td>1</td>\n",
       "      <td>5125.44</td>\n",
       "      <td>1.00</td>\n",
       "      <td>432.62</td>\n",
       "    </tr>\n",
       "    <tr>\n",
       "      <th>...</th>\n",
       "      <td>...</td>\n",
       "      <td>...</td>\n",
       "      <td>...</td>\n",
       "      <td>...</td>\n",
       "      <td>...</td>\n",
       "      <td>...</td>\n",
       "      <td>...</td>\n",
       "      <td>...</td>\n",
       "      <td>...</td>\n",
       "      <td>...</td>\n",
       "      <td>...</td>\n",
       "    </tr>\n",
       "    <tr>\n",
       "      <th>247898</th>\n",
       "      <td>1.98</td>\n",
       "      <td>1.29</td>\n",
       "      <td>17.90</td>\n",
       "      <td>4.82</td>\n",
       "      <td>0.89</td>\n",
       "      <td>36.10</td>\n",
       "      <td>34.69</td>\n",
       "      <td>13</td>\n",
       "      <td>8261.63</td>\n",
       "      <td>1.00</td>\n",
       "      <td>754.98</td>\n",
       "    </tr>\n",
       "    <tr>\n",
       "      <th>247899</th>\n",
       "      <td>6.18</td>\n",
       "      <td>1.67</td>\n",
       "      <td>19.54</td>\n",
       "      <td>4.91</td>\n",
       "      <td>0.85</td>\n",
       "      <td>31.15</td>\n",
       "      <td>20.82</td>\n",
       "      <td>0</td>\n",
       "      <td>6939.39</td>\n",
       "      <td>1.00</td>\n",
       "      <td>543.41</td>\n",
       "    </tr>\n",
       "    <tr>\n",
       "      <th>247900</th>\n",
       "      <td>7.78</td>\n",
       "      <td>1.49</td>\n",
       "      <td>15.78</td>\n",
       "      <td>5.69</td>\n",
       "      <td>0.73</td>\n",
       "      <td>44.60</td>\n",
       "      <td>44.07</td>\n",
       "      <td>6</td>\n",
       "      <td>4139.79</td>\n",
       "      <td>0.64</td>\n",
       "      <td>615.46</td>\n",
       "    </tr>\n",
       "    <tr>\n",
       "      <th>247901</th>\n",
       "      <td>5.78</td>\n",
       "      <td>1.74</td>\n",
       "      <td>14.96</td>\n",
       "      <td>6.81</td>\n",
       "      <td>0.83</td>\n",
       "      <td>47.19</td>\n",
       "      <td>37.79</td>\n",
       "      <td>2</td>\n",
       "      <td>4417.74</td>\n",
       "      <td>0.97</td>\n",
       "      <td>949.32</td>\n",
       "    </tr>\n",
       "    <tr>\n",
       "      <th>247902</th>\n",
       "      <td>8.96</td>\n",
       "      <td>1.86</td>\n",
       "      <td>18.62</td>\n",
       "      <td>6.89</td>\n",
       "      <td>0.86</td>\n",
       "      <td>25.94</td>\n",
       "      <td>42.88</td>\n",
       "      <td>10</td>\n",
       "      <td>8119.62</td>\n",
       "      <td>0.64</td>\n",
       "      <td>384.48</td>\n",
       "    </tr>\n",
       "  </tbody>\n",
       "</table>\n",
       "<p>247903 rows × 11 columns</p>\n",
       "</div>"
      ],
      "text/plain": [
       "          CS  Density     WC    pH    EC      F      G  Pollen_analysis  \\\n",
       "0       2.81     1.75  23.04  6.29  0.76  39.02  33.63                3   \n",
       "1       9.47     1.82  17.50  7.20  0.71  38.15  34.41                1   \n",
       "2       4.61     1.84  23.72  7.31  0.80  27.47  34.36                6   \n",
       "3       1.77     1.40  16.61  4.01  0.78  31.52  28.15                3   \n",
       "4       6.11     1.25  19.63  4.82  0.90  29.65  42.52                1   \n",
       "...      ...      ...    ...   ...   ...    ...    ...              ...   \n",
       "247898  1.98     1.29  17.90  4.82  0.89  36.10  34.69               13   \n",
       "247899  6.18     1.67  19.54  4.91  0.85  31.15  20.82                0   \n",
       "247900  7.78     1.49  15.78  5.69  0.73  44.60  44.07                6   \n",
       "247901  5.78     1.74  14.96  6.81  0.83  47.19  37.79                2   \n",
       "247902  8.96     1.86  18.62  6.89  0.86  25.94  42.88               10   \n",
       "\n",
       "        Viscosity  Purity   Price  \n",
       "0         4844.50    0.68  645.24  \n",
       "1         6689.02    0.89  385.85  \n",
       "2         6883.60    0.66  639.64  \n",
       "3         7167.56    1.00  946.46  \n",
       "4         5125.44    1.00  432.62  \n",
       "...           ...     ...     ...  \n",
       "247898    8261.63    1.00  754.98  \n",
       "247899    6939.39    1.00  543.41  \n",
       "247900    4139.79    0.64  615.46  \n",
       "247901    4417.74    0.97  949.32  \n",
       "247902    8119.62    0.64  384.48  \n",
       "\n",
       "[247903 rows x 11 columns]"
      ]
     },
     "execution_count": 75,
     "metadata": {},
     "output_type": "execute_result"
    }
   ],
   "source": [
    "from sklearn.preprocessing import LabelEncoder\n",
    "\n",
    "pre_h_df = h_df.copy()\n",
    "encoder = LabelEncoder()\n",
    "result = encoder.fit_transform(h_df['Pollen_analysis'])\n",
    "pre_h_df['Pollen_analysis'] = result\n",
    "pre_h_df"
   ]
  },
  {
   "cell_type": "code",
   "execution_count": 64,
   "id": "b15c7ae6-fb33-4fac-bc86-a4f669dde357",
   "metadata": {},
   "outputs": [
    {
     "data": {
      "text/plain": [
       "Purity             0.432581\n",
       "Pollen_analysis    0.058498\n",
       "CS                 0.035166\n",
       "Viscosity          0.009632\n",
       "EC                -0.000571\n",
       "F                 -0.002041\n",
       "G                 -0.004815\n",
       "WC                -0.014381\n",
       "Density           -0.050518\n",
       "pH                -0.100714\n",
       "Name: Price, dtype: float64"
      ]
     },
     "execution_count": 64,
     "metadata": {},
     "output_type": "execute_result"
    }
   ],
   "source": [
    "pre_h_df.corr()['Price'].sort_values(ascending=False)[1:]"
   ]
  },
  {
   "cell_type": "code",
   "execution_count": 65,
   "id": "cefce67b-96d1-4dc2-b374-76016243064f",
   "metadata": {},
   "outputs": [
    {
     "name": "stdout",
     "output_type": "stream",
     "text": [
      "                                 OLS Regression Results                                \n",
      "=======================================================================================\n",
      "Dep. Variable:                  Price   R-squared (uncentered):                   0.892\n",
      "Model:                            OLS   Adj. R-squared (uncentered):              0.892\n",
      "Method:                 Least Squares   F-statistic:                          2.043e+05\n",
      "Date:                Sat, 11 May 2024   Prob (F-statistic):                        0.00\n",
      "Time:                        01:27:47   Log-Likelihood:                     -1.6776e+06\n",
      "No. Observations:              247903   AIC:                                  3.355e+06\n",
      "Df Residuals:                  247893   BIC:                                  3.355e+06\n",
      "Df Model:                          10                                                  \n",
      "Covariance Type:            nonrobust                                                  \n",
      "===================================================================================\n",
      "                      coef    std err          t      P>|t|      [0.025      0.975]\n",
      "-----------------------------------------------------------------------------------\n",
      "CS                  0.0701      0.163      0.430      0.667      -0.249       0.389\n",
      "Density            -5.2781      2.022     -2.610      0.009      -9.241      -1.315\n",
      "WC                 -0.1458      0.109     -1.338      0.181      -0.359       0.068\n",
      "pH                 -0.2241      0.291     -0.771      0.440      -0.793       0.345\n",
      "EC                 -7.7271      5.293     -1.460      0.144     -18.101       2.647\n",
      "F                  -0.0456      0.048     -0.955      0.340      -0.139       0.048\n",
      "G                  -0.1658      0.057     -2.910      0.004      -0.277      -0.054\n",
      "Pollen_analysis     2.4306      0.077     31.612      0.000       2.280       2.581\n",
      "Viscosity           0.0004      0.000      2.287      0.022    5.59e-05       0.001\n",
      "Purity            722.1833      2.897    249.257      0.000     716.505     727.862\n",
      "==============================================================================\n",
      "Omnibus:                    24528.390   Durbin-Watson:                   1.996\n",
      "Prob(Omnibus):                  0.000   Jarque-Bera (JB):            29861.218\n",
      "Skew:                          -0.825   Prob(JB):                         0.00\n",
      "Kurtosis:                       2.593   Cond. No.                     8.20e+04\n",
      "==============================================================================\n",
      "\n",
      "Notes:\n",
      "[1] R² is computed without centering (uncentered) since the model does not contain a constant.\n",
      "[2] Standard Errors assume that the covariance matrix of the errors is correctly specified.\n",
      "[3] The condition number is large, 8.2e+04. This might indicate that there are\n",
      "strong multicollinearity or other numerical problems.\n"
     ]
    }
   ],
   "source": [
    "from statsmodels.api import OLS\n",
    "\n",
    "features, target = pre_h_df.iloc[:, :-1], pre_h_df.iloc[:, -1]\n",
    "\n",
    "model = OLS(targets, features)\n",
    "print(model.fit().summary())"
   ]
  },
  {
   "cell_type": "code",
   "execution_count": 66,
   "id": "10919d0d-c807-439a-85a8-3b6d92754fce",
   "metadata": {},
   "outputs": [
    {
     "data": {
      "text/html": [
       "<style>#sk-container-id-9 {color: black;background-color: white;}#sk-container-id-9 pre{padding: 0;}#sk-container-id-9 div.sk-toggleable {background-color: white;}#sk-container-id-9 label.sk-toggleable__label {cursor: pointer;display: block;width: 100%;margin-bottom: 0;padding: 0.3em;box-sizing: border-box;text-align: center;}#sk-container-id-9 label.sk-toggleable__label-arrow:before {content: \"▸\";float: left;margin-right: 0.25em;color: #696969;}#sk-container-id-9 label.sk-toggleable__label-arrow:hover:before {color: black;}#sk-container-id-9 div.sk-estimator:hover label.sk-toggleable__label-arrow:before {color: black;}#sk-container-id-9 div.sk-toggleable__content {max-height: 0;max-width: 0;overflow: hidden;text-align: left;background-color: #f0f8ff;}#sk-container-id-9 div.sk-toggleable__content pre {margin: 0.2em;color: black;border-radius: 0.25em;background-color: #f0f8ff;}#sk-container-id-9 input.sk-toggleable__control:checked~div.sk-toggleable__content {max-height: 200px;max-width: 100%;overflow: auto;}#sk-container-id-9 input.sk-toggleable__control:checked~label.sk-toggleable__label-arrow:before {content: \"▾\";}#sk-container-id-9 div.sk-estimator input.sk-toggleable__control:checked~label.sk-toggleable__label {background-color: #d4ebff;}#sk-container-id-9 div.sk-label input.sk-toggleable__control:checked~label.sk-toggleable__label {background-color: #d4ebff;}#sk-container-id-9 input.sk-hidden--visually {border: 0;clip: rect(1px 1px 1px 1px);clip: rect(1px, 1px, 1px, 1px);height: 1px;margin: -1px;overflow: hidden;padding: 0;position: absolute;width: 1px;}#sk-container-id-9 div.sk-estimator {font-family: monospace;background-color: #f0f8ff;border: 1px dotted black;border-radius: 0.25em;box-sizing: border-box;margin-bottom: 0.5em;}#sk-container-id-9 div.sk-estimator:hover {background-color: #d4ebff;}#sk-container-id-9 div.sk-parallel-item::after {content: \"\";width: 100%;border-bottom: 1px solid gray;flex-grow: 1;}#sk-container-id-9 div.sk-label:hover label.sk-toggleable__label {background-color: #d4ebff;}#sk-container-id-9 div.sk-serial::before {content: \"\";position: absolute;border-left: 1px solid gray;box-sizing: border-box;top: 0;bottom: 0;left: 50%;z-index: 0;}#sk-container-id-9 div.sk-serial {display: flex;flex-direction: column;align-items: center;background-color: white;padding-right: 0.2em;padding-left: 0.2em;position: relative;}#sk-container-id-9 div.sk-item {position: relative;z-index: 1;}#sk-container-id-9 div.sk-parallel {display: flex;align-items: stretch;justify-content: center;background-color: white;position: relative;}#sk-container-id-9 div.sk-item::before, #sk-container-id-9 div.sk-parallel-item::before {content: \"\";position: absolute;border-left: 1px solid gray;box-sizing: border-box;top: 0;bottom: 0;left: 50%;z-index: -1;}#sk-container-id-9 div.sk-parallel-item {display: flex;flex-direction: column;z-index: 1;position: relative;background-color: white;}#sk-container-id-9 div.sk-parallel-item:first-child::after {align-self: flex-end;width: 50%;}#sk-container-id-9 div.sk-parallel-item:last-child::after {align-self: flex-start;width: 50%;}#sk-container-id-9 div.sk-parallel-item:only-child::after {width: 0;}#sk-container-id-9 div.sk-dashed-wrapped {border: 1px dashed gray;margin: 0 0.4em 0.5em 0.4em;box-sizing: border-box;padding-bottom: 0.4em;background-color: white;}#sk-container-id-9 div.sk-label label {font-family: monospace;font-weight: bold;display: inline-block;line-height: 1.2em;}#sk-container-id-9 div.sk-label-container {text-align: center;}#sk-container-id-9 div.sk-container {/* jupyter's `normalize.less` sets `[hidden] { display: none; }` but bootstrap.min.css set `[hidden] { display: none !important; }` so we also need the `!important` here to be able to override the default hidden behavior on the sphinx rendered scikit-learn.org. See: https://github.com/scikit-learn/scikit-learn/issues/21755 */display: inline-block !important;position: relative;}#sk-container-id-9 div.sk-text-repr-fallback {display: none;}</style><div id=\"sk-container-id-9\" class=\"sk-top-container\"><div class=\"sk-text-repr-fallback\"><pre>LinearRegression()</pre><b>In a Jupyter environment, please rerun this cell to show the HTML representation or trust the notebook. <br />On GitHub, the HTML representation is unable to render, please try loading this page with nbviewer.org.</b></div><div class=\"sk-container\" hidden><div class=\"sk-item\"><div class=\"sk-estimator sk-toggleable\"><input class=\"sk-toggleable__control sk-hidden--visually\" id=\"sk-estimator-id-9\" type=\"checkbox\" checked><label for=\"sk-estimator-id-9\" class=\"sk-toggleable__label sk-toggleable__label-arrow\">LinearRegression</label><div class=\"sk-toggleable__content\"><pre>LinearRegression()</pre></div></div></div></div></div>"
      ],
      "text/plain": [
       "LinearRegression()"
      ]
     },
     "execution_count": 66,
     "metadata": {},
     "output_type": "execute_result"
    }
   ],
   "source": [
    "from sklearn.linear_model import LinearRegression\n",
    "from sklearn.model_selection import train_test_split\n",
    "\n",
    "features, targets = pre_h_df.iloc[:, :-1], pre_h_df.iloc[:, -1]\n",
    "\n",
    "X_train, X_test, y_train, y_test = \\\n",
    "train_test_split(features, targets, test_size=0.2, random_state=321)\n",
    "\n",
    "l_r = LinearRegression()\n",
    "l_r.fit(X_train, y_train)\n"
   ]
  },
  {
   "cell_type": "code",
   "execution_count": 67,
   "id": "6e9525a3-6995-46ef-ba8c-5a81f0cf5947",
   "metadata": {},
   "outputs": [
    {
     "name": "stdout",
     "output_type": "stream",
     "text": [
      "MSE: 44070.0273, RMSE: 209.9286, MSLE: 0.2228, RMSLE: 0.4720, R2: 0.1891\n"
     ]
    }
   ],
   "source": [
    "prediction = l_r.predict(X_test)\n",
    "get_evaluation(y_test, prediction)"
   ]
  },
  {
   "cell_type": "markdown",
   "id": "5c67c6b3-3562-4a45-9fb7-6ea62a0da526",
   "metadata": {},
   "source": [
    "# C02\n",
    "- 범주형 feature를 추가하여도 큰 R2 Score에 큰 변화가 없음"
   ]
  },
  {
   "cell_type": "markdown",
   "id": "05aebca8-c828-4508-a7c0-a94cb6169e73",
   "metadata": {},
   "source": [
    "# Cycle03\n",
    "- 다중공선성, 상관관계를 확인하여 feature 제거 후 확인"
   ]
  },
  {
   "cell_type": "code",
   "execution_count": 68,
   "id": "80ec81e0-c7c3-4e85-847a-3462d73e2044",
   "metadata": {},
   "outputs": [
    {
     "data": {
      "text/html": [
       "<div>\n",
       "<style scoped>\n",
       "    .dataframe tbody tr th:only-of-type {\n",
       "        vertical-align: middle;\n",
       "    }\n",
       "\n",
       "    .dataframe tbody tr th {\n",
       "        vertical-align: top;\n",
       "    }\n",
       "\n",
       "    .dataframe thead th {\n",
       "        text-align: right;\n",
       "    }\n",
       "</style>\n",
       "<table border=\"1\" class=\"dataframe\">\n",
       "  <thead>\n",
       "    <tr style=\"text-align: right;\">\n",
       "      <th></th>\n",
       "      <th>Pollen_analysis</th>\n",
       "      <th>Purity</th>\n",
       "      <th>Price</th>\n",
       "    </tr>\n",
       "  </thead>\n",
       "  <tbody>\n",
       "    <tr>\n",
       "      <th>0</th>\n",
       "      <td>3</td>\n",
       "      <td>0.68</td>\n",
       "      <td>645.24</td>\n",
       "    </tr>\n",
       "    <tr>\n",
       "      <th>1</th>\n",
       "      <td>1</td>\n",
       "      <td>0.89</td>\n",
       "      <td>385.85</td>\n",
       "    </tr>\n",
       "    <tr>\n",
       "      <th>2</th>\n",
       "      <td>6</td>\n",
       "      <td>0.66</td>\n",
       "      <td>639.64</td>\n",
       "    </tr>\n",
       "    <tr>\n",
       "      <th>3</th>\n",
       "      <td>3</td>\n",
       "      <td>1.00</td>\n",
       "      <td>946.46</td>\n",
       "    </tr>\n",
       "    <tr>\n",
       "      <th>4</th>\n",
       "      <td>1</td>\n",
       "      <td>1.00</td>\n",
       "      <td>432.62</td>\n",
       "    </tr>\n",
       "    <tr>\n",
       "      <th>...</th>\n",
       "      <td>...</td>\n",
       "      <td>...</td>\n",
       "      <td>...</td>\n",
       "    </tr>\n",
       "    <tr>\n",
       "      <th>247898</th>\n",
       "      <td>13</td>\n",
       "      <td>1.00</td>\n",
       "      <td>754.98</td>\n",
       "    </tr>\n",
       "    <tr>\n",
       "      <th>247899</th>\n",
       "      <td>0</td>\n",
       "      <td>1.00</td>\n",
       "      <td>543.41</td>\n",
       "    </tr>\n",
       "    <tr>\n",
       "      <th>247900</th>\n",
       "      <td>6</td>\n",
       "      <td>0.64</td>\n",
       "      <td>615.46</td>\n",
       "    </tr>\n",
       "    <tr>\n",
       "      <th>247901</th>\n",
       "      <td>2</td>\n",
       "      <td>0.97</td>\n",
       "      <td>949.32</td>\n",
       "    </tr>\n",
       "    <tr>\n",
       "      <th>247902</th>\n",
       "      <td>10</td>\n",
       "      <td>0.64</td>\n",
       "      <td>384.48</td>\n",
       "    </tr>\n",
       "  </tbody>\n",
       "</table>\n",
       "<p>247903 rows × 3 columns</p>\n",
       "</div>"
      ],
      "text/plain": [
       "        Pollen_analysis  Purity   Price\n",
       "0                     3    0.68  645.24\n",
       "1                     1    0.89  385.85\n",
       "2                     6    0.66  639.64\n",
       "3                     3    1.00  946.46\n",
       "4                     1    1.00  432.62\n",
       "...                 ...     ...     ...\n",
       "247898               13    1.00  754.98\n",
       "247899                0    1.00  543.41\n",
       "247900                6    0.64  615.46\n",
       "247901                2    0.97  949.32\n",
       "247902               10    0.64  384.48\n",
       "\n",
       "[247903 rows x 3 columns]"
      ]
     },
     "execution_count": 68,
     "metadata": {},
     "output_type": "execute_result"
    }
   ],
   "source": [
    "columns = ['CS', 'Density', 'WC', 'pH', 'EC', 'F', 'G','Viscosity']\n",
    "pre_h_df = pre_h_df.drop(labels = columns, axis = 1)\n",
    "pre_h_df"
   ]
  },
  {
   "cell_type": "code",
   "execution_count": 69,
   "id": "ed4be7a2-55ca-4a70-96d4-60cbcfbab1d1",
   "metadata": {},
   "outputs": [
    {
     "name": "stdout",
     "output_type": "stream",
     "text": [
      "                                 OLS Regression Results                                \n",
      "=======================================================================================\n",
      "Dep. Variable:                  Price   R-squared (uncentered):                   0.892\n",
      "Model:                            OLS   Adj. R-squared (uncentered):              0.892\n",
      "Method:                 Least Squares   F-statistic:                          1.021e+06\n",
      "Date:                Sat, 11 May 2024   Prob (F-statistic):                        0.00\n",
      "Time:                        01:27:48   Log-Likelihood:                     -1.6776e+06\n",
      "No. Observations:              247903   AIC:                                  3.355e+06\n",
      "Df Residuals:                  247901   BIC:                                  3.355e+06\n",
      "Df Model:                           2                                                  \n",
      "Covariance Type:            nonrobust                                                  \n",
      "===================================================================================\n",
      "                      coef    std err          t      P>|t|      [0.025      0.975]\n",
      "-----------------------------------------------------------------------------------\n",
      "Pollen_analysis     2.2476      0.074     30.182      0.000       2.102       2.394\n",
      "Purity            697.6933      0.938    744.099      0.000     695.856     699.531\n",
      "==============================================================================\n",
      "Omnibus:                    24371.349   Durbin-Watson:                   1.996\n",
      "Prob(Omnibus):                  0.000   Jarque-Bera (JB):            28867.666\n",
      "Skew:                          -0.806   Prob(JB):                         0.00\n",
      "Kurtosis:                       2.558   Cond. No.                         23.5\n",
      "==============================================================================\n",
      "\n",
      "Notes:\n",
      "[1] R² is computed without centering (uncentered) since the model does not contain a constant.\n",
      "[2] Standard Errors assume that the covariance matrix of the errors is correctly specified.\n"
     ]
    }
   ],
   "source": [
    "from statsmodels.api import OLS\n",
    "\n",
    "features, target = pre_h_df.iloc[:, :-1], pre_h_df.iloc[:, -1]\n",
    "\n",
    "model = OLS(targets, features)\n",
    "print(model.fit().summary())"
   ]
  },
  {
   "cell_type": "code",
   "execution_count": 70,
   "id": "efa66818-ad24-4111-9fb1-b5569249b5de",
   "metadata": {},
   "outputs": [
    {
     "data": {
      "text/html": [
       "<style>#sk-container-id-10 {color: black;background-color: white;}#sk-container-id-10 pre{padding: 0;}#sk-container-id-10 div.sk-toggleable {background-color: white;}#sk-container-id-10 label.sk-toggleable__label {cursor: pointer;display: block;width: 100%;margin-bottom: 0;padding: 0.3em;box-sizing: border-box;text-align: center;}#sk-container-id-10 label.sk-toggleable__label-arrow:before {content: \"▸\";float: left;margin-right: 0.25em;color: #696969;}#sk-container-id-10 label.sk-toggleable__label-arrow:hover:before {color: black;}#sk-container-id-10 div.sk-estimator:hover label.sk-toggleable__label-arrow:before {color: black;}#sk-container-id-10 div.sk-toggleable__content {max-height: 0;max-width: 0;overflow: hidden;text-align: left;background-color: #f0f8ff;}#sk-container-id-10 div.sk-toggleable__content pre {margin: 0.2em;color: black;border-radius: 0.25em;background-color: #f0f8ff;}#sk-container-id-10 input.sk-toggleable__control:checked~div.sk-toggleable__content {max-height: 200px;max-width: 100%;overflow: auto;}#sk-container-id-10 input.sk-toggleable__control:checked~label.sk-toggleable__label-arrow:before {content: \"▾\";}#sk-container-id-10 div.sk-estimator input.sk-toggleable__control:checked~label.sk-toggleable__label {background-color: #d4ebff;}#sk-container-id-10 div.sk-label input.sk-toggleable__control:checked~label.sk-toggleable__label {background-color: #d4ebff;}#sk-container-id-10 input.sk-hidden--visually {border: 0;clip: rect(1px 1px 1px 1px);clip: rect(1px, 1px, 1px, 1px);height: 1px;margin: -1px;overflow: hidden;padding: 0;position: absolute;width: 1px;}#sk-container-id-10 div.sk-estimator {font-family: monospace;background-color: #f0f8ff;border: 1px dotted black;border-radius: 0.25em;box-sizing: border-box;margin-bottom: 0.5em;}#sk-container-id-10 div.sk-estimator:hover {background-color: #d4ebff;}#sk-container-id-10 div.sk-parallel-item::after {content: \"\";width: 100%;border-bottom: 1px solid gray;flex-grow: 1;}#sk-container-id-10 div.sk-label:hover label.sk-toggleable__label {background-color: #d4ebff;}#sk-container-id-10 div.sk-serial::before {content: \"\";position: absolute;border-left: 1px solid gray;box-sizing: border-box;top: 0;bottom: 0;left: 50%;z-index: 0;}#sk-container-id-10 div.sk-serial {display: flex;flex-direction: column;align-items: center;background-color: white;padding-right: 0.2em;padding-left: 0.2em;position: relative;}#sk-container-id-10 div.sk-item {position: relative;z-index: 1;}#sk-container-id-10 div.sk-parallel {display: flex;align-items: stretch;justify-content: center;background-color: white;position: relative;}#sk-container-id-10 div.sk-item::before, #sk-container-id-10 div.sk-parallel-item::before {content: \"\";position: absolute;border-left: 1px solid gray;box-sizing: border-box;top: 0;bottom: 0;left: 50%;z-index: -1;}#sk-container-id-10 div.sk-parallel-item {display: flex;flex-direction: column;z-index: 1;position: relative;background-color: white;}#sk-container-id-10 div.sk-parallel-item:first-child::after {align-self: flex-end;width: 50%;}#sk-container-id-10 div.sk-parallel-item:last-child::after {align-self: flex-start;width: 50%;}#sk-container-id-10 div.sk-parallel-item:only-child::after {width: 0;}#sk-container-id-10 div.sk-dashed-wrapped {border: 1px dashed gray;margin: 0 0.4em 0.5em 0.4em;box-sizing: border-box;padding-bottom: 0.4em;background-color: white;}#sk-container-id-10 div.sk-label label {font-family: monospace;font-weight: bold;display: inline-block;line-height: 1.2em;}#sk-container-id-10 div.sk-label-container {text-align: center;}#sk-container-id-10 div.sk-container {/* jupyter's `normalize.less` sets `[hidden] { display: none; }` but bootstrap.min.css set `[hidden] { display: none !important; }` so we also need the `!important` here to be able to override the default hidden behavior on the sphinx rendered scikit-learn.org. See: https://github.com/scikit-learn/scikit-learn/issues/21755 */display: inline-block !important;position: relative;}#sk-container-id-10 div.sk-text-repr-fallback {display: none;}</style><div id=\"sk-container-id-10\" class=\"sk-top-container\"><div class=\"sk-text-repr-fallback\"><pre>LinearRegression()</pre><b>In a Jupyter environment, please rerun this cell to show the HTML representation or trust the notebook. <br />On GitHub, the HTML representation is unable to render, please try loading this page with nbviewer.org.</b></div><div class=\"sk-container\" hidden><div class=\"sk-item\"><div class=\"sk-estimator sk-toggleable\"><input class=\"sk-toggleable__control sk-hidden--visually\" id=\"sk-estimator-id-10\" type=\"checkbox\" checked><label for=\"sk-estimator-id-10\" class=\"sk-toggleable__label sk-toggleable__label-arrow\">LinearRegression</label><div class=\"sk-toggleable__content\"><pre>LinearRegression()</pre></div></div></div></div></div>"
      ],
      "text/plain": [
       "LinearRegression()"
      ]
     },
     "execution_count": 70,
     "metadata": {},
     "output_type": "execute_result"
    }
   ],
   "source": [
    "from sklearn.linear_model import LinearRegression\n",
    "from sklearn.model_selection import train_test_split\n",
    "\n",
    "features, targets = pre_h_df.iloc[:, :-1], pre_h_df.iloc[:, -1]\n",
    "\n",
    "X_train, X_test, y_train, y_test = \\\n",
    "train_test_split(features, targets, test_size=0.2, random_state=321)\n",
    "\n",
    "l_r = LinearRegression()\n",
    "l_r.fit(X_train, y_train)\n"
   ]
  },
  {
   "cell_type": "code",
   "execution_count": 71,
   "id": "3a653566-f511-4446-9cba-823db1ef6059",
   "metadata": {},
   "outputs": [
    {
     "name": "stdout",
     "output_type": "stream",
     "text": [
      "MSE: 44062.0407, RMSE: 209.9096, MSLE: 0.2228, RMSLE: 0.4720, R2: 0.1892\n"
     ]
    }
   ],
   "source": [
    "prediction = l_r.predict(X_test)\n",
    "get_evaluation(y_test, prediction)"
   ]
  },
  {
   "cell_type": "markdown",
   "id": "7bacbafb-8cdc-42c2-845d-cc45a480afe4",
   "metadata": {},
   "source": [
    "## 큰 변화를 확인할 수 없음"
   ]
  },
  {
   "cell_type": "markdown",
   "id": "81ea8ea3-2c85-4937-91ac-70511e7513a0",
   "metadata": {},
   "source": [
    "# 차원 축소 진행\n"
   ]
  },
  {
   "cell_type": "code",
   "execution_count": null,
   "id": "b0e06675-4cc5-4178-ac76-e84ba3407b8c",
   "metadata": {},
   "outputs": [],
   "source": []
  },
  {
   "cell_type": "code",
   "execution_count": null,
   "id": "5db968d5-1d64-4113-9813-b8d664e6cf50",
   "metadata": {},
   "outputs": [],
   "source": []
  },
  {
   "cell_type": "code",
   "execution_count": 77,
   "id": "d35209fe-176b-4585-b9f1-e5c24abc076e",
   "metadata": {},
   "outputs": [
    {
     "name": "stdout",
     "output_type": "stream",
     "text": [
      "0.9999701486398526 0\n",
      "0.9999825723206381 1\n",
      "0.9999912310679377 2\n",
      "0.9999961989139851 3\n",
      "0.9999985289410077 4\n",
      "0.999999644624684 5\n",
      "0.9999999905686128 6\n"
     ]
    }
   ],
   "source": [
    "from sklearn.model_selection import train_test_split\n",
    "from sklearn.decomposition import PCA\n",
    "\n",
    "features, target = pre_h_df.iloc[:, :-1], pre_h_df.iloc[:, -1]\n",
    "\n",
    "for i in range(7):\n",
    "    pca = PCA(n_components=(i+1))\n",
    "\n",
    "    pca_train = pca.fit_transform(features)\n",
    "\n",
    "    print(pca.explained_variance_ratio_.sum(), i)"
   ]
  },
  {
   "cell_type": "code",
   "execution_count": 78,
   "id": "85605d10-26ea-45be-97d4-4822d27113ac",
   "metadata": {},
   "outputs": [
    {
     "name": "stdout",
     "output_type": "stream",
     "text": [
      "[9.99970149e-01 1.24236808e-05 8.65874730e-06 4.96784605e-06\n",
      " 2.33002702e-06 1.11568368e-06 3.45943929e-07]\n",
      "0.9999999905686128\n"
     ]
    }
   ],
   "source": [
    "# 보존률\n",
    "print(pca.explained_variance_ratio_)\n",
    "print(pca.explained_variance_ratio_.sum()) "
   ]
  },
  {
   "cell_type": "code",
   "execution_count": 101,
   "id": "c90f16ae-9e5e-4042-8ffd-1211bf8da7ec",
   "metadata": {},
   "outputs": [
    {
     "data": {
      "text/html": [
       "<style>#sk-container-id-19 {color: black;background-color: white;}#sk-container-id-19 pre{padding: 0;}#sk-container-id-19 div.sk-toggleable {background-color: white;}#sk-container-id-19 label.sk-toggleable__label {cursor: pointer;display: block;width: 100%;margin-bottom: 0;padding: 0.3em;box-sizing: border-box;text-align: center;}#sk-container-id-19 label.sk-toggleable__label-arrow:before {content: \"▸\";float: left;margin-right: 0.25em;color: #696969;}#sk-container-id-19 label.sk-toggleable__label-arrow:hover:before {color: black;}#sk-container-id-19 div.sk-estimator:hover label.sk-toggleable__label-arrow:before {color: black;}#sk-container-id-19 div.sk-toggleable__content {max-height: 0;max-width: 0;overflow: hidden;text-align: left;background-color: #f0f8ff;}#sk-container-id-19 div.sk-toggleable__content pre {margin: 0.2em;color: black;border-radius: 0.25em;background-color: #f0f8ff;}#sk-container-id-19 input.sk-toggleable__control:checked~div.sk-toggleable__content {max-height: 200px;max-width: 100%;overflow: auto;}#sk-container-id-19 input.sk-toggleable__control:checked~label.sk-toggleable__label-arrow:before {content: \"▾\";}#sk-container-id-19 div.sk-estimator input.sk-toggleable__control:checked~label.sk-toggleable__label {background-color: #d4ebff;}#sk-container-id-19 div.sk-label input.sk-toggleable__control:checked~label.sk-toggleable__label {background-color: #d4ebff;}#sk-container-id-19 input.sk-hidden--visually {border: 0;clip: rect(1px 1px 1px 1px);clip: rect(1px, 1px, 1px, 1px);height: 1px;margin: -1px;overflow: hidden;padding: 0;position: absolute;width: 1px;}#sk-container-id-19 div.sk-estimator {font-family: monospace;background-color: #f0f8ff;border: 1px dotted black;border-radius: 0.25em;box-sizing: border-box;margin-bottom: 0.5em;}#sk-container-id-19 div.sk-estimator:hover {background-color: #d4ebff;}#sk-container-id-19 div.sk-parallel-item::after {content: \"\";width: 100%;border-bottom: 1px solid gray;flex-grow: 1;}#sk-container-id-19 div.sk-label:hover label.sk-toggleable__label {background-color: #d4ebff;}#sk-container-id-19 div.sk-serial::before {content: \"\";position: absolute;border-left: 1px solid gray;box-sizing: border-box;top: 0;bottom: 0;left: 50%;z-index: 0;}#sk-container-id-19 div.sk-serial {display: flex;flex-direction: column;align-items: center;background-color: white;padding-right: 0.2em;padding-left: 0.2em;position: relative;}#sk-container-id-19 div.sk-item {position: relative;z-index: 1;}#sk-container-id-19 div.sk-parallel {display: flex;align-items: stretch;justify-content: center;background-color: white;position: relative;}#sk-container-id-19 div.sk-item::before, #sk-container-id-19 div.sk-parallel-item::before {content: \"\";position: absolute;border-left: 1px solid gray;box-sizing: border-box;top: 0;bottom: 0;left: 50%;z-index: -1;}#sk-container-id-19 div.sk-parallel-item {display: flex;flex-direction: column;z-index: 1;position: relative;background-color: white;}#sk-container-id-19 div.sk-parallel-item:first-child::after {align-self: flex-end;width: 50%;}#sk-container-id-19 div.sk-parallel-item:last-child::after {align-self: flex-start;width: 50%;}#sk-container-id-19 div.sk-parallel-item:only-child::after {width: 0;}#sk-container-id-19 div.sk-dashed-wrapped {border: 1px dashed gray;margin: 0 0.4em 0.5em 0.4em;box-sizing: border-box;padding-bottom: 0.4em;background-color: white;}#sk-container-id-19 div.sk-label label {font-family: monospace;font-weight: bold;display: inline-block;line-height: 1.2em;}#sk-container-id-19 div.sk-label-container {text-align: center;}#sk-container-id-19 div.sk-container {/* jupyter's `normalize.less` sets `[hidden] { display: none; }` but bootstrap.min.css set `[hidden] { display: none !important; }` so we also need the `!important` here to be able to override the default hidden behavior on the sphinx rendered scikit-learn.org. See: https://github.com/scikit-learn/scikit-learn/issues/21755 */display: inline-block !important;position: relative;}#sk-container-id-19 div.sk-text-repr-fallback {display: none;}</style><div id=\"sk-container-id-19\" class=\"sk-top-container\"><div class=\"sk-text-repr-fallback\"><pre>Pipeline(steps=[(&#x27;min_max&#x27;, MinMaxScaler()), (&#x27;l_r&#x27;, LinearRegression())])</pre><b>In a Jupyter environment, please rerun this cell to show the HTML representation or trust the notebook. <br />On GitHub, the HTML representation is unable to render, please try loading this page with nbviewer.org.</b></div><div class=\"sk-container\" hidden><div class=\"sk-item sk-dashed-wrapped\"><div class=\"sk-label-container\"><div class=\"sk-label sk-toggleable\"><input class=\"sk-toggleable__control sk-hidden--visually\" id=\"sk-estimator-id-39\" type=\"checkbox\" ><label for=\"sk-estimator-id-39\" class=\"sk-toggleable__label sk-toggleable__label-arrow\">Pipeline</label><div class=\"sk-toggleable__content\"><pre>Pipeline(steps=[(&#x27;min_max&#x27;, MinMaxScaler()), (&#x27;l_r&#x27;, LinearRegression())])</pre></div></div></div><div class=\"sk-serial\"><div class=\"sk-item\"><div class=\"sk-estimator sk-toggleable\"><input class=\"sk-toggleable__control sk-hidden--visually\" id=\"sk-estimator-id-40\" type=\"checkbox\" ><label for=\"sk-estimator-id-40\" class=\"sk-toggleable__label sk-toggleable__label-arrow\">MinMaxScaler</label><div class=\"sk-toggleable__content\"><pre>MinMaxScaler()</pre></div></div></div><div class=\"sk-item\"><div class=\"sk-estimator sk-toggleable\"><input class=\"sk-toggleable__control sk-hidden--visually\" id=\"sk-estimator-id-41\" type=\"checkbox\" ><label for=\"sk-estimator-id-41\" class=\"sk-toggleable__label sk-toggleable__label-arrow\">LinearRegression</label><div class=\"sk-toggleable__content\"><pre>LinearRegression()</pre></div></div></div></div></div></div></div>"
      ],
      "text/plain": [
       "Pipeline(steps=[('min_max', MinMaxScaler()), ('l_r', LinearRegression())])"
      ]
     },
     "execution_count": 101,
     "metadata": {},
     "output_type": "execute_result"
    }
   ],
   "source": [
    "# 파이프라인 구축 후 차원 축소 후 선형 회귀 분석\n",
    "from sklearn.linear_model import LinearRegression\n",
    "from sklearn.model_selection import train_test_split\n",
    "from sklearn.pipeline import Pipeline\n",
    "from sklearn.preprocessing import StandardScaler, MinMaxScaler\n",
    "\n",
    "features, target = pre_h_df.iloc[:, :-1], pre_h_df.iloc[:, -1]\n",
    "\n",
    "X_train, X_test, y_train, y_test = \\\n",
    "train_test_split(features,targets, test_size=0.2, random_state=321)\n",
    "\n",
    "pipe = Pipeline(\n",
    "    [\n",
    "        ('min_max', MinMaxScaler()),\n",
    "        ('l_r',LinearRegression())\n",
    "    ]\n",
    ")\n",
    "\n",
    "pipe.fit(X_train, y_train)"
   ]
  },
  {
   "cell_type": "code",
   "execution_count": 102,
   "id": "c21a0579-2726-4f35-8889-05c599728931",
   "metadata": {},
   "outputs": [
    {
     "name": "stdout",
     "output_type": "stream",
     "text": [
      "MSE: 44070.0273, RMSE: 209.9286, MSLE: 0.2228, RMSLE: 0.4720, R2: 0.1891\n"
     ]
    }
   ],
   "source": [
    "prediction = pipe.predict(X_test)\n",
    "get_evaluation(y_test, prediction)"
   ]
  },
  {
   "cell_type": "code",
   "execution_count": 103,
   "id": "5950f065-f914-4173-a01a-f888ae25be7d",
   "metadata": {},
   "outputs": [
    {
     "data": {
      "text/html": [
       "<style>#sk-container-id-20 {color: black;background-color: white;}#sk-container-id-20 pre{padding: 0;}#sk-container-id-20 div.sk-toggleable {background-color: white;}#sk-container-id-20 label.sk-toggleable__label {cursor: pointer;display: block;width: 100%;margin-bottom: 0;padding: 0.3em;box-sizing: border-box;text-align: center;}#sk-container-id-20 label.sk-toggleable__label-arrow:before {content: \"▸\";float: left;margin-right: 0.25em;color: #696969;}#sk-container-id-20 label.sk-toggleable__label-arrow:hover:before {color: black;}#sk-container-id-20 div.sk-estimator:hover label.sk-toggleable__label-arrow:before {color: black;}#sk-container-id-20 div.sk-toggleable__content {max-height: 0;max-width: 0;overflow: hidden;text-align: left;background-color: #f0f8ff;}#sk-container-id-20 div.sk-toggleable__content pre {margin: 0.2em;color: black;border-radius: 0.25em;background-color: #f0f8ff;}#sk-container-id-20 input.sk-toggleable__control:checked~div.sk-toggleable__content {max-height: 200px;max-width: 100%;overflow: auto;}#sk-container-id-20 input.sk-toggleable__control:checked~label.sk-toggleable__label-arrow:before {content: \"▾\";}#sk-container-id-20 div.sk-estimator input.sk-toggleable__control:checked~label.sk-toggleable__label {background-color: #d4ebff;}#sk-container-id-20 div.sk-label input.sk-toggleable__control:checked~label.sk-toggleable__label {background-color: #d4ebff;}#sk-container-id-20 input.sk-hidden--visually {border: 0;clip: rect(1px 1px 1px 1px);clip: rect(1px, 1px, 1px, 1px);height: 1px;margin: -1px;overflow: hidden;padding: 0;position: absolute;width: 1px;}#sk-container-id-20 div.sk-estimator {font-family: monospace;background-color: #f0f8ff;border: 1px dotted black;border-radius: 0.25em;box-sizing: border-box;margin-bottom: 0.5em;}#sk-container-id-20 div.sk-estimator:hover {background-color: #d4ebff;}#sk-container-id-20 div.sk-parallel-item::after {content: \"\";width: 100%;border-bottom: 1px solid gray;flex-grow: 1;}#sk-container-id-20 div.sk-label:hover label.sk-toggleable__label {background-color: #d4ebff;}#sk-container-id-20 div.sk-serial::before {content: \"\";position: absolute;border-left: 1px solid gray;box-sizing: border-box;top: 0;bottom: 0;left: 50%;z-index: 0;}#sk-container-id-20 div.sk-serial {display: flex;flex-direction: column;align-items: center;background-color: white;padding-right: 0.2em;padding-left: 0.2em;position: relative;}#sk-container-id-20 div.sk-item {position: relative;z-index: 1;}#sk-container-id-20 div.sk-parallel {display: flex;align-items: stretch;justify-content: center;background-color: white;position: relative;}#sk-container-id-20 div.sk-item::before, #sk-container-id-20 div.sk-parallel-item::before {content: \"\";position: absolute;border-left: 1px solid gray;box-sizing: border-box;top: 0;bottom: 0;left: 50%;z-index: -1;}#sk-container-id-20 div.sk-parallel-item {display: flex;flex-direction: column;z-index: 1;position: relative;background-color: white;}#sk-container-id-20 div.sk-parallel-item:first-child::after {align-self: flex-end;width: 50%;}#sk-container-id-20 div.sk-parallel-item:last-child::after {align-self: flex-start;width: 50%;}#sk-container-id-20 div.sk-parallel-item:only-child::after {width: 0;}#sk-container-id-20 div.sk-dashed-wrapped {border: 1px dashed gray;margin: 0 0.4em 0.5em 0.4em;box-sizing: border-box;padding-bottom: 0.4em;background-color: white;}#sk-container-id-20 div.sk-label label {font-family: monospace;font-weight: bold;display: inline-block;line-height: 1.2em;}#sk-container-id-20 div.sk-label-container {text-align: center;}#sk-container-id-20 div.sk-container {/* jupyter's `normalize.less` sets `[hidden] { display: none; }` but bootstrap.min.css set `[hidden] { display: none !important; }` so we also need the `!important` here to be able to override the default hidden behavior on the sphinx rendered scikit-learn.org. See: https://github.com/scikit-learn/scikit-learn/issues/21755 */display: inline-block !important;position: relative;}#sk-container-id-20 div.sk-text-repr-fallback {display: none;}</style><div id=\"sk-container-id-20\" class=\"sk-top-container\"><div class=\"sk-text-repr-fallback\"><pre>Pipeline(steps=[(&#x27;pca&#x27;, PCA(n_components=2)),\n",
       "                (&#x27;lasso&#x27;, Lasso(alpha=10, max_iter=10000))])</pre><b>In a Jupyter environment, please rerun this cell to show the HTML representation or trust the notebook. <br />On GitHub, the HTML representation is unable to render, please try loading this page with nbviewer.org.</b></div><div class=\"sk-container\" hidden><div class=\"sk-item sk-dashed-wrapped\"><div class=\"sk-label-container\"><div class=\"sk-label sk-toggleable\"><input class=\"sk-toggleable__control sk-hidden--visually\" id=\"sk-estimator-id-42\" type=\"checkbox\" ><label for=\"sk-estimator-id-42\" class=\"sk-toggleable__label sk-toggleable__label-arrow\">Pipeline</label><div class=\"sk-toggleable__content\"><pre>Pipeline(steps=[(&#x27;pca&#x27;, PCA(n_components=2)),\n",
       "                (&#x27;lasso&#x27;, Lasso(alpha=10, max_iter=10000))])</pre></div></div></div><div class=\"sk-serial\"><div class=\"sk-item\"><div class=\"sk-estimator sk-toggleable\"><input class=\"sk-toggleable__control sk-hidden--visually\" id=\"sk-estimator-id-43\" type=\"checkbox\" ><label for=\"sk-estimator-id-43\" class=\"sk-toggleable__label sk-toggleable__label-arrow\">PCA</label><div class=\"sk-toggleable__content\"><pre>PCA(n_components=2)</pre></div></div></div><div class=\"sk-item\"><div class=\"sk-estimator sk-toggleable\"><input class=\"sk-toggleable__control sk-hidden--visually\" id=\"sk-estimator-id-44\" type=\"checkbox\" ><label for=\"sk-estimator-id-44\" class=\"sk-toggleable__label sk-toggleable__label-arrow\">Lasso</label><div class=\"sk-toggleable__content\"><pre>Lasso(alpha=10, max_iter=10000)</pre></div></div></div></div></div></div></div>"
      ],
      "text/plain": [
       "Pipeline(steps=[('pca', PCA(n_components=2)),\n",
       "                ('lasso', Lasso(alpha=10, max_iter=10000))])"
      ]
     },
     "execution_count": 103,
     "metadata": {},
     "output_type": "execute_result"
    }
   ],
   "source": [
    "from sklearn.linear_model import Lasso\n",
    "from sklearn.linear_model import LinearRegression\n",
    "from sklearn.model_selection import train_test_split\n",
    "from sklearn.pipeline import Pipeline\n",
    "\n",
    "features, target = pre_h_df.iloc[:, :-1], pre_h_df.iloc[:, -1]\n",
    "\n",
    "X_train, X_test, y_train, y_test = \\\n",
    "train_test_split(features,targets, test_size=0.2, random_state=321)\n",
    "\n",
    "pipe = Pipeline(\n",
    "    [\n",
    "        ('pca', PCA(n_components=2)),\n",
    "        ('lasso', Lasso(alpha=10, max_iter=10000))\n",
    "    ]\n",
    ")\n",
    "pipe.fit(X_train, y_train)"
   ]
  },
  {
   "cell_type": "code",
   "execution_count": 104,
   "id": "e5a336ff-3d5f-418f-9e72-9c54b4ef378a",
   "metadata": {},
   "outputs": [
    {
     "name": "stdout",
     "output_type": "stream",
     "text": [
      "MSE: 54354.1548, RMSE: 233.1398, MSLE: 0.2555, RMSLE: 0.5055, R2: -0.0002\n"
     ]
    }
   ],
   "source": [
    "prediction = pipe.predict(X_test)\n",
    "get_evaluation(y_test, prediction)"
   ]
  },
  {
   "cell_type": "code",
   "execution_count": 105,
   "id": "89cbdff4-43eb-4ce9-b861-eedc8afd7d3b",
   "metadata": {},
   "outputs": [
    {
     "data": {
      "text/html": [
       "<div>\n",
       "<style scoped>\n",
       "    .dataframe tbody tr th:only-of-type {\n",
       "        vertical-align: middle;\n",
       "    }\n",
       "\n",
       "    .dataframe tbody tr th {\n",
       "        vertical-align: top;\n",
       "    }\n",
       "\n",
       "    .dataframe thead th {\n",
       "        text-align: right;\n",
       "    }\n",
       "</style>\n",
       "<table border=\"1\" class=\"dataframe\">\n",
       "  <thead>\n",
       "    <tr style=\"text-align: right;\">\n",
       "      <th></th>\n",
       "      <th>CS</th>\n",
       "      <th>Density</th>\n",
       "      <th>WC</th>\n",
       "      <th>pH</th>\n",
       "      <th>EC</th>\n",
       "      <th>F</th>\n",
       "      <th>G</th>\n",
       "      <th>Pollen_analysis</th>\n",
       "      <th>Viscosity</th>\n",
       "      <th>Purity</th>\n",
       "      <th>Price</th>\n",
       "    </tr>\n",
       "  </thead>\n",
       "  <tbody>\n",
       "    <tr>\n",
       "      <th>0</th>\n",
       "      <td>2.81</td>\n",
       "      <td>1.75</td>\n",
       "      <td>23.04</td>\n",
       "      <td>6.29</td>\n",
       "      <td>0.76</td>\n",
       "      <td>39.02</td>\n",
       "      <td>33.63</td>\n",
       "      <td>3</td>\n",
       "      <td>4844.50</td>\n",
       "      <td>0.68</td>\n",
       "      <td>6.471171</td>\n",
       "    </tr>\n",
       "    <tr>\n",
       "      <th>1</th>\n",
       "      <td>9.47</td>\n",
       "      <td>1.82</td>\n",
       "      <td>17.50</td>\n",
       "      <td>7.20</td>\n",
       "      <td>0.71</td>\n",
       "      <td>38.15</td>\n",
       "      <td>34.41</td>\n",
       "      <td>1</td>\n",
       "      <td>6689.02</td>\n",
       "      <td>0.89</td>\n",
       "      <td>5.958037</td>\n",
       "    </tr>\n",
       "    <tr>\n",
       "      <th>2</th>\n",
       "      <td>4.61</td>\n",
       "      <td>1.84</td>\n",
       "      <td>23.72</td>\n",
       "      <td>7.31</td>\n",
       "      <td>0.80</td>\n",
       "      <td>27.47</td>\n",
       "      <td>34.36</td>\n",
       "      <td>6</td>\n",
       "      <td>6883.60</td>\n",
       "      <td>0.66</td>\n",
       "      <td>6.462468</td>\n",
       "    </tr>\n",
       "    <tr>\n",
       "      <th>3</th>\n",
       "      <td>1.77</td>\n",
       "      <td>1.40</td>\n",
       "      <td>16.61</td>\n",
       "      <td>4.01</td>\n",
       "      <td>0.78</td>\n",
       "      <td>31.52</td>\n",
       "      <td>28.15</td>\n",
       "      <td>3</td>\n",
       "      <td>7167.56</td>\n",
       "      <td>1.00</td>\n",
       "      <td>6.853785</td>\n",
       "    </tr>\n",
       "    <tr>\n",
       "      <th>4</th>\n",
       "      <td>6.11</td>\n",
       "      <td>1.25</td>\n",
       "      <td>19.63</td>\n",
       "      <td>4.82</td>\n",
       "      <td>0.90</td>\n",
       "      <td>29.65</td>\n",
       "      <td>42.52</td>\n",
       "      <td>1</td>\n",
       "      <td>5125.44</td>\n",
       "      <td>1.00</td>\n",
       "      <td>6.072169</td>\n",
       "    </tr>\n",
       "    <tr>\n",
       "      <th>...</th>\n",
       "      <td>...</td>\n",
       "      <td>...</td>\n",
       "      <td>...</td>\n",
       "      <td>...</td>\n",
       "      <td>...</td>\n",
       "      <td>...</td>\n",
       "      <td>...</td>\n",
       "      <td>...</td>\n",
       "      <td>...</td>\n",
       "      <td>...</td>\n",
       "      <td>...</td>\n",
       "    </tr>\n",
       "    <tr>\n",
       "      <th>247898</th>\n",
       "      <td>1.98</td>\n",
       "      <td>1.29</td>\n",
       "      <td>17.90</td>\n",
       "      <td>4.82</td>\n",
       "      <td>0.89</td>\n",
       "      <td>36.10</td>\n",
       "      <td>34.69</td>\n",
       "      <td>13</td>\n",
       "      <td>8261.63</td>\n",
       "      <td>1.00</td>\n",
       "      <td>6.628015</td>\n",
       "    </tr>\n",
       "    <tr>\n",
       "      <th>247899</th>\n",
       "      <td>6.18</td>\n",
       "      <td>1.67</td>\n",
       "      <td>19.54</td>\n",
       "      <td>4.91</td>\n",
       "      <td>0.85</td>\n",
       "      <td>31.15</td>\n",
       "      <td>20.82</td>\n",
       "      <td>0</td>\n",
       "      <td>6939.39</td>\n",
       "      <td>1.00</td>\n",
       "      <td>6.299703</td>\n",
       "    </tr>\n",
       "    <tr>\n",
       "      <th>247900</th>\n",
       "      <td>7.78</td>\n",
       "      <td>1.49</td>\n",
       "      <td>15.78</td>\n",
       "      <td>5.69</td>\n",
       "      <td>0.73</td>\n",
       "      <td>44.60</td>\n",
       "      <td>44.07</td>\n",
       "      <td>6</td>\n",
       "      <td>4139.79</td>\n",
       "      <td>0.64</td>\n",
       "      <td>6.423993</td>\n",
       "    </tr>\n",
       "    <tr>\n",
       "      <th>247901</th>\n",
       "      <td>5.78</td>\n",
       "      <td>1.74</td>\n",
       "      <td>14.96</td>\n",
       "      <td>6.81</td>\n",
       "      <td>0.83</td>\n",
       "      <td>47.19</td>\n",
       "      <td>37.79</td>\n",
       "      <td>2</td>\n",
       "      <td>4417.74</td>\n",
       "      <td>0.97</td>\n",
       "      <td>6.856799</td>\n",
       "    </tr>\n",
       "    <tr>\n",
       "      <th>247902</th>\n",
       "      <td>8.96</td>\n",
       "      <td>1.86</td>\n",
       "      <td>18.62</td>\n",
       "      <td>6.89</td>\n",
       "      <td>0.86</td>\n",
       "      <td>25.94</td>\n",
       "      <td>42.88</td>\n",
       "      <td>10</td>\n",
       "      <td>8119.62</td>\n",
       "      <td>0.64</td>\n",
       "      <td>5.954489</td>\n",
       "    </tr>\n",
       "  </tbody>\n",
       "</table>\n",
       "<p>247903 rows × 11 columns</p>\n",
       "</div>"
      ],
      "text/plain": [
       "          CS  Density     WC    pH    EC      F      G  Pollen_analysis  \\\n",
       "0       2.81     1.75  23.04  6.29  0.76  39.02  33.63                3   \n",
       "1       9.47     1.82  17.50  7.20  0.71  38.15  34.41                1   \n",
       "2       4.61     1.84  23.72  7.31  0.80  27.47  34.36                6   \n",
       "3       1.77     1.40  16.61  4.01  0.78  31.52  28.15                3   \n",
       "4       6.11     1.25  19.63  4.82  0.90  29.65  42.52                1   \n",
       "...      ...      ...    ...   ...   ...    ...    ...              ...   \n",
       "247898  1.98     1.29  17.90  4.82  0.89  36.10  34.69               13   \n",
       "247899  6.18     1.67  19.54  4.91  0.85  31.15  20.82                0   \n",
       "247900  7.78     1.49  15.78  5.69  0.73  44.60  44.07                6   \n",
       "247901  5.78     1.74  14.96  6.81  0.83  47.19  37.79                2   \n",
       "247902  8.96     1.86  18.62  6.89  0.86  25.94  42.88               10   \n",
       "\n",
       "        Viscosity  Purity     Price  \n",
       "0         4844.50    0.68  6.471171  \n",
       "1         6689.02    0.89  5.958037  \n",
       "2         6883.60    0.66  6.462468  \n",
       "3         7167.56    1.00  6.853785  \n",
       "4         5125.44    1.00  6.072169  \n",
       "...           ...     ...       ...  \n",
       "247898    8261.63    1.00  6.628015  \n",
       "247899    6939.39    1.00  6.299703  \n",
       "247900    4139.79    0.64  6.423993  \n",
       "247901    4417.74    0.97  6.856799  \n",
       "247902    8119.62    0.64  5.954489  \n",
       "\n",
       "[247903 rows x 11 columns]"
      ]
     },
     "execution_count": 105,
     "metadata": {},
     "output_type": "execute_result"
    }
   ],
   "source": [
    "pre_h_df['Price'] = np.log1p(pre_h_df['Price'])\n",
    "pre_h_df"
   ]
  },
  {
   "cell_type": "code",
   "execution_count": 107,
   "id": "6dd1c6d2-f63b-41e5-a4b6-87b25c3444ef",
   "metadata": {},
   "outputs": [
    {
     "data": {
      "text/html": [
       "<style>#sk-container-id-21 {color: black;background-color: white;}#sk-container-id-21 pre{padding: 0;}#sk-container-id-21 div.sk-toggleable {background-color: white;}#sk-container-id-21 label.sk-toggleable__label {cursor: pointer;display: block;width: 100%;margin-bottom: 0;padding: 0.3em;box-sizing: border-box;text-align: center;}#sk-container-id-21 label.sk-toggleable__label-arrow:before {content: \"▸\";float: left;margin-right: 0.25em;color: #696969;}#sk-container-id-21 label.sk-toggleable__label-arrow:hover:before {color: black;}#sk-container-id-21 div.sk-estimator:hover label.sk-toggleable__label-arrow:before {color: black;}#sk-container-id-21 div.sk-toggleable__content {max-height: 0;max-width: 0;overflow: hidden;text-align: left;background-color: #f0f8ff;}#sk-container-id-21 div.sk-toggleable__content pre {margin: 0.2em;color: black;border-radius: 0.25em;background-color: #f0f8ff;}#sk-container-id-21 input.sk-toggleable__control:checked~div.sk-toggleable__content {max-height: 200px;max-width: 100%;overflow: auto;}#sk-container-id-21 input.sk-toggleable__control:checked~label.sk-toggleable__label-arrow:before {content: \"▾\";}#sk-container-id-21 div.sk-estimator input.sk-toggleable__control:checked~label.sk-toggleable__label {background-color: #d4ebff;}#sk-container-id-21 div.sk-label input.sk-toggleable__control:checked~label.sk-toggleable__label {background-color: #d4ebff;}#sk-container-id-21 input.sk-hidden--visually {border: 0;clip: rect(1px 1px 1px 1px);clip: rect(1px, 1px, 1px, 1px);height: 1px;margin: -1px;overflow: hidden;padding: 0;position: absolute;width: 1px;}#sk-container-id-21 div.sk-estimator {font-family: monospace;background-color: #f0f8ff;border: 1px dotted black;border-radius: 0.25em;box-sizing: border-box;margin-bottom: 0.5em;}#sk-container-id-21 div.sk-estimator:hover {background-color: #d4ebff;}#sk-container-id-21 div.sk-parallel-item::after {content: \"\";width: 100%;border-bottom: 1px solid gray;flex-grow: 1;}#sk-container-id-21 div.sk-label:hover label.sk-toggleable__label {background-color: #d4ebff;}#sk-container-id-21 div.sk-serial::before {content: \"\";position: absolute;border-left: 1px solid gray;box-sizing: border-box;top: 0;bottom: 0;left: 50%;z-index: 0;}#sk-container-id-21 div.sk-serial {display: flex;flex-direction: column;align-items: center;background-color: white;padding-right: 0.2em;padding-left: 0.2em;position: relative;}#sk-container-id-21 div.sk-item {position: relative;z-index: 1;}#sk-container-id-21 div.sk-parallel {display: flex;align-items: stretch;justify-content: center;background-color: white;position: relative;}#sk-container-id-21 div.sk-item::before, #sk-container-id-21 div.sk-parallel-item::before {content: \"\";position: absolute;border-left: 1px solid gray;box-sizing: border-box;top: 0;bottom: 0;left: 50%;z-index: -1;}#sk-container-id-21 div.sk-parallel-item {display: flex;flex-direction: column;z-index: 1;position: relative;background-color: white;}#sk-container-id-21 div.sk-parallel-item:first-child::after {align-self: flex-end;width: 50%;}#sk-container-id-21 div.sk-parallel-item:last-child::after {align-self: flex-start;width: 50%;}#sk-container-id-21 div.sk-parallel-item:only-child::after {width: 0;}#sk-container-id-21 div.sk-dashed-wrapped {border: 1px dashed gray;margin: 0 0.4em 0.5em 0.4em;box-sizing: border-box;padding-bottom: 0.4em;background-color: white;}#sk-container-id-21 div.sk-label label {font-family: monospace;font-weight: bold;display: inline-block;line-height: 1.2em;}#sk-container-id-21 div.sk-label-container {text-align: center;}#sk-container-id-21 div.sk-container {/* jupyter's `normalize.less` sets `[hidden] { display: none; }` but bootstrap.min.css set `[hidden] { display: none !important; }` so we also need the `!important` here to be able to override the default hidden behavior on the sphinx rendered scikit-learn.org. See: https://github.com/scikit-learn/scikit-learn/issues/21755 */display: inline-block !important;position: relative;}#sk-container-id-21 div.sk-text-repr-fallback {display: none;}</style><div id=\"sk-container-id-21\" class=\"sk-top-container\"><div class=\"sk-text-repr-fallback\"><pre>LinearRegression()</pre><b>In a Jupyter environment, please rerun this cell to show the HTML representation or trust the notebook. <br />On GitHub, the HTML representation is unable to render, please try loading this page with nbviewer.org.</b></div><div class=\"sk-container\" hidden><div class=\"sk-item\"><div class=\"sk-estimator sk-toggleable\"><input class=\"sk-toggleable__control sk-hidden--visually\" id=\"sk-estimator-id-45\" type=\"checkbox\" checked><label for=\"sk-estimator-id-45\" class=\"sk-toggleable__label sk-toggleable__label-arrow\">LinearRegression</label><div class=\"sk-toggleable__content\"><pre>LinearRegression()</pre></div></div></div></div></div>"
      ],
      "text/plain": [
       "LinearRegression()"
      ]
     },
     "execution_count": 107,
     "metadata": {},
     "output_type": "execute_result"
    }
   ],
   "source": [
    "from sklearn.linear_model import LinearRegression\n",
    "from sklearn.model_selection import train_test_split\n",
    "\n",
    "features, targets = pre_h_df.iloc[:, :-1], pre_h_df.iloc[:, -1]\n",
    "\n",
    "X_train, X_test, y_train, y_test = \\\n",
    "train_test_split(features, targets, test_size=0.2, random_state=321)\n",
    "\n",
    "l_r = LinearRegression()\n",
    "l_r.fit(X_train, y_train)\n"
   ]
  },
  {
   "cell_type": "code",
   "execution_count": 108,
   "id": "174ba4fa-b9aa-4d16-893f-c6a79762cc1a",
   "metadata": {},
   "outputs": [
    {
     "name": "stdout",
     "output_type": "stream",
     "text": [
      "MSE: 0.2151, RMSE: 0.4638, MSLE: 0.0044, RMSLE: 0.0666, R2: 0.1220\n"
     ]
    }
   ],
   "source": [
    "prediction = l_r.predict(X_test)\n",
    "get_evaluation(y_test, prediction)"
   ]
  },
  {
   "cell_type": "markdown",
   "id": "e1d14168-b531-46be-8209-2a760542b971",
   "metadata": {},
   "source": [
    "# R2 Score가 점점 떨어지는 이유를 모르겠음"
   ]
  },
  {
   "cell_type": "code",
   "execution_count": null,
   "id": "b63a5143-a6a9-4ab4-a50f-724b869b8bb9",
   "metadata": {},
   "outputs": [],
   "source": []
  },
  {
   "cell_type": "code",
   "execution_count": null,
   "id": "34e9304d-fc23-4a21-b9c4-4bf3902db42f",
   "metadata": {},
   "outputs": [],
   "source": []
  },
  {
   "cell_type": "code",
   "execution_count": null,
   "id": "c7b0b523-48e1-497d-be9c-ebd8078df74e",
   "metadata": {},
   "outputs": [],
   "source": []
  },
  {
   "cell_type": "code",
   "execution_count": null,
   "id": "50c9581a-704b-4e87-8fb5-7946a2b7eb31",
   "metadata": {},
   "outputs": [],
   "source": []
  },
  {
   "cell_type": "code",
   "execution_count": null,
   "id": "9ba29e65-b714-46c2-a611-c7b4b52acc4d",
   "metadata": {},
   "outputs": [],
   "source": []
  },
  {
   "cell_type": "code",
   "execution_count": null,
   "id": "813a9457-425e-427b-a67b-2ccefb11e7e5",
   "metadata": {},
   "outputs": [],
   "source": []
  },
  {
   "cell_type": "code",
   "execution_count": null,
   "id": "8a587a62-c213-423e-a1e6-e5dbd83f4068",
   "metadata": {},
   "outputs": [],
   "source": []
  },
  {
   "cell_type": "code",
   "execution_count": null,
   "id": "88837a83-e273-40e4-a409-3d6b7bae20f5",
   "metadata": {},
   "outputs": [],
   "source": []
  },
  {
   "cell_type": "code",
   "execution_count": null,
   "id": "b3b1fdb4-7242-4af6-9621-7f5edfe6c844",
   "metadata": {},
   "outputs": [],
   "source": []
  },
  {
   "cell_type": "code",
   "execution_count": null,
   "id": "647bde51-faa4-4530-8071-bdfb873164f0",
   "metadata": {},
   "outputs": [],
   "source": []
  },
  {
   "cell_type": "code",
   "execution_count": null,
   "id": "fe7aeb5d-b027-4c43-9057-13bae71eb876",
   "metadata": {},
   "outputs": [],
   "source": []
  }
 ],
 "metadata": {
  "kernelspec": {
   "display_name": "Python 3 (ipykernel)",
   "language": "python",
   "name": "python3"
  },
  "language_info": {
   "codemirror_mode": {
    "name": "ipython",
    "version": 3
   },
   "file_extension": ".py",
   "mimetype": "text/x-python",
   "name": "python",
   "nbconvert_exporter": "python",
   "pygments_lexer": "ipython3",
   "version": "3.11.7"
  }
 },
 "nbformat": 4,
 "nbformat_minor": 5
}
